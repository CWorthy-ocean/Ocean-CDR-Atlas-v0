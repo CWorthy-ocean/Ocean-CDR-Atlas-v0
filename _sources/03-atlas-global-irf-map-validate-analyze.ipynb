{
 "cells": [
  {
   "cell_type": "markdown",
   "id": "c109ad0d-4cab-422e-8e68-7e2c924ae156",
   "metadata": {},
   "source": [
    "# Global IRF Efficiency Map\n",
    "\n",
    "Generate global map of CDR efficiency using IRF forcing."
   ]
  },
  {
   "cell_type": "code",
   "execution_count": 1,
   "id": "6496a28d-c37b-4764-ac76-2d3feb1164da",
   "metadata": {
    "tags": []
   },
   "outputs": [],
   "source": [
    "%load_ext autoreload\n",
    "%autoreload 2"
   ]
  },
  {
   "cell_type": "code",
   "execution_count": 2,
   "id": "0d784c2f-87bb-4e4c-9465-535c267b07ed",
   "metadata": {
    "tags": []
   },
   "outputs": [],
   "source": [
    "import xarray as xr\n",
    "import matplotlib.pyplot as plt\n",
    "\n",
    "import atlas"
   ]
  },
  {
   "cell_type": "markdown",
   "id": "b629571f-dee0-47d1-82fd-91aade101e2b",
   "metadata": {},
   "source": [
    "## Define experiment and phase\n",
    "\n"
   ]
  },
  {
   "cell_type": "code",
   "execution_count": 3,
   "id": "93e67af1-9485-4ac9-b6fd-3851b82af757",
   "metadata": {
    "tags": [
     "parameters"
    ]
   },
   "outputs": [],
   "source": [
    "cdr_forcing = \"DOR\"\n",
    "vintage = \"001\"\n",
    "phase = \"deploy\"\n",
    "clobber = False"
   ]
  },
  {
   "cell_type": "code",
   "execution_count": 4,
   "id": "a37826ce-7b72-467a-a4c6-d4f88968fada",
   "metadata": {
    "tags": []
   },
   "outputs": [],
   "source": [
    "calc = atlas.global_irf_map(cdr_forcing, vintage)"
   ]
  },
  {
   "cell_type": "markdown",
   "id": "853ae906-9dec-4b25-82ea-bf0be14f7a1f",
   "metadata": {},
   "source": [
    "## Table of experiments"
   ]
  },
  {
   "cell_type": "code",
   "execution_count": 5,
   "id": "aa518170-6b87-4f0d-a783-5278495aed4a",
   "metadata": {
    "tags": []
   },
   "outputs": [
    {
     "data": {
      "text/html": [
       "<div>\n",
       "<style scoped>\n",
       "    .dataframe tbody tr th:only-of-type {\n",
       "        vertical-align: middle;\n",
       "    }\n",
       "\n",
       "    .dataframe tbody tr th {\n",
       "        vertical-align: top;\n",
       "    }\n",
       "\n",
       "    .dataframe thead th {\n",
       "        text-align: right;\n",
       "    }\n",
       "</style>\n",
       "<table border=\"1\" class=\"dataframe\">\n",
       "  <thead>\n",
       "    <tr style=\"text-align: right;\">\n",
       "      <th></th>\n",
       "      <th>blueprint</th>\n",
       "      <th>polygon</th>\n",
       "      <th>basin</th>\n",
       "      <th>start_date</th>\n",
       "      <th>cdr_forcing</th>\n",
       "      <th>cdr_forcing_file</th>\n",
       "      <th>simulation_key</th>\n",
       "      <th>refdate</th>\n",
       "      <th>stop_n</th>\n",
       "      <th>wallclock</th>\n",
       "      <th>curtail_output</th>\n",
       "    </tr>\n",
       "    <tr>\n",
       "      <th>case</th>\n",
       "      <th></th>\n",
       "      <th></th>\n",
       "      <th></th>\n",
       "      <th></th>\n",
       "      <th></th>\n",
       "      <th></th>\n",
       "      <th></th>\n",
       "      <th></th>\n",
       "      <th></th>\n",
       "      <th></th>\n",
       "      <th></th>\n",
       "    </tr>\n",
       "  </thead>\n",
       "  <tbody>\n",
       "    <tr>\n",
       "      <th>smyle.cdr-atlas-v0.control.001</th>\n",
       "      <td>smyle</td>\n",
       "      <td>NaN</td>\n",
       "      <td>None</td>\n",
       "      <td>1999-01</td>\n",
       "      <td>None</td>\n",
       "      <td>None</td>\n",
       "      <td>baseline</td>\n",
       "      <td>0347-01-01</td>\n",
       "      <td>16</td>\n",
       "      <td>12:00:00</td>\n",
       "      <td>False</td>\n",
       "    </tr>\n",
       "    <tr>\n",
       "      <th>smyle.cdr-atlas-v0.glb-dor_North_Atlantic_basin_000_1999-01-01_00000.001</th>\n",
       "      <td>smyle</td>\n",
       "      <td>0.0</td>\n",
       "      <td>North_Atlantic_basin</td>\n",
       "      <td>1999-01</td>\n",
       "      <td>DOR</td>\n",
       "      <td>/global/cfs/projectdirs/m4746/Projects/OAE-Eff...</td>\n",
       "      <td>glb-dor_North_Atlantic_basin_000_1999-01-01_00000</td>\n",
       "      <td>0347-01-01</td>\n",
       "      <td>15</td>\n",
       "      <td>10:00:00</td>\n",
       "      <td>True</td>\n",
       "    </tr>\n",
       "    <tr>\n",
       "      <th>smyle.cdr-atlas-v0.glb-dor_North_Atlantic_basin_000_1999-04-01_00001.001</th>\n",
       "      <td>smyle</td>\n",
       "      <td>0.0</td>\n",
       "      <td>North_Atlantic_basin</td>\n",
       "      <td>1999-04</td>\n",
       "      <td>DOR</td>\n",
       "      <td>/global/cfs/projectdirs/m4746/Projects/OAE-Eff...</td>\n",
       "      <td>glb-dor_North_Atlantic_basin_000_1999-04-01_00001</td>\n",
       "      <td>0347-04-01</td>\n",
       "      <td>15</td>\n",
       "      <td>10:00:00</td>\n",
       "      <td>True</td>\n",
       "    </tr>\n",
       "    <tr>\n",
       "      <th>smyle.cdr-atlas-v0.glb-dor_North_Atlantic_basin_000_1999-07-01_00002.001</th>\n",
       "      <td>smyle</td>\n",
       "      <td>0.0</td>\n",
       "      <td>North_Atlantic_basin</td>\n",
       "      <td>1999-07</td>\n",
       "      <td>DOR</td>\n",
       "      <td>/global/cfs/projectdirs/m4746/Projects/OAE-Eff...</td>\n",
       "      <td>glb-dor_North_Atlantic_basin_000_1999-07-01_00002</td>\n",
       "      <td>0347-07-01</td>\n",
       "      <td>15</td>\n",
       "      <td>10:00:00</td>\n",
       "      <td>True</td>\n",
       "    </tr>\n",
       "    <tr>\n",
       "      <th>smyle.cdr-atlas-v0.glb-dor_North_Atlantic_basin_000_1999-10-01_00003.001</th>\n",
       "      <td>smyle</td>\n",
       "      <td>0.0</td>\n",
       "      <td>North_Atlantic_basin</td>\n",
       "      <td>1999-10</td>\n",
       "      <td>DOR</td>\n",
       "      <td>/global/cfs/projectdirs/m4746/Projects/OAE-Eff...</td>\n",
       "      <td>glb-dor_North_Atlantic_basin_000_1999-10-01_00003</td>\n",
       "      <td>0347-10-01</td>\n",
       "      <td>15</td>\n",
       "      <td>10:00:00</td>\n",
       "      <td>True</td>\n",
       "    </tr>\n",
       "    <tr>\n",
       "      <th>...</th>\n",
       "      <td>...</td>\n",
       "      <td>...</td>\n",
       "      <td>...</td>\n",
       "      <td>...</td>\n",
       "      <td>...</td>\n",
       "      <td>...</td>\n",
       "      <td>...</td>\n",
       "      <td>...</td>\n",
       "      <td>...</td>\n",
       "      <td>...</td>\n",
       "      <td>...</td>\n",
       "    </tr>\n",
       "    <tr>\n",
       "      <th>smyle.cdr-atlas-v0.glb-dor_Southern_Ocean_038_1999-10-01_02755.001</th>\n",
       "      <td>smyle</td>\n",
       "      <td>38.0</td>\n",
       "      <td>Southern_Ocean</td>\n",
       "      <td>1999-10</td>\n",
       "      <td>DOR</td>\n",
       "      <td>/global/cfs/projectdirs/m4746/Projects/OAE-Eff...</td>\n",
       "      <td>glb-dor_Southern_Ocean_038_1999-10-01_02755</td>\n",
       "      <td>0347-10-01</td>\n",
       "      <td>15</td>\n",
       "      <td>10:00:00</td>\n",
       "      <td>True</td>\n",
       "    </tr>\n",
       "    <tr>\n",
       "      <th>smyle.cdr-atlas-v0.glb-dor_Southern_Ocean_039_1999-01-01_02756.001</th>\n",
       "      <td>smyle</td>\n",
       "      <td>39.0</td>\n",
       "      <td>Southern_Ocean</td>\n",
       "      <td>1999-01</td>\n",
       "      <td>DOR</td>\n",
       "      <td>/global/cfs/projectdirs/m4746/Projects/OAE-Eff...</td>\n",
       "      <td>glb-dor_Southern_Ocean_039_1999-01-01_02756</td>\n",
       "      <td>0347-01-01</td>\n",
       "      <td>15</td>\n",
       "      <td>10:00:00</td>\n",
       "      <td>True</td>\n",
       "    </tr>\n",
       "    <tr>\n",
       "      <th>smyle.cdr-atlas-v0.glb-dor_Southern_Ocean_039_1999-04-01_02757.001</th>\n",
       "      <td>smyle</td>\n",
       "      <td>39.0</td>\n",
       "      <td>Southern_Ocean</td>\n",
       "      <td>1999-04</td>\n",
       "      <td>DOR</td>\n",
       "      <td>/global/cfs/projectdirs/m4746/Projects/OAE-Eff...</td>\n",
       "      <td>glb-dor_Southern_Ocean_039_1999-04-01_02757</td>\n",
       "      <td>0347-04-01</td>\n",
       "      <td>15</td>\n",
       "      <td>10:00:00</td>\n",
       "      <td>True</td>\n",
       "    </tr>\n",
       "    <tr>\n",
       "      <th>smyle.cdr-atlas-v0.glb-dor_Southern_Ocean_039_1999-07-01_02758.001</th>\n",
       "      <td>smyle</td>\n",
       "      <td>39.0</td>\n",
       "      <td>Southern_Ocean</td>\n",
       "      <td>1999-07</td>\n",
       "      <td>DOR</td>\n",
       "      <td>/global/cfs/projectdirs/m4746/Projects/OAE-Eff...</td>\n",
       "      <td>glb-dor_Southern_Ocean_039_1999-07-01_02758</td>\n",
       "      <td>0347-07-01</td>\n",
       "      <td>15</td>\n",
       "      <td>10:00:00</td>\n",
       "      <td>True</td>\n",
       "    </tr>\n",
       "    <tr>\n",
       "      <th>smyle.cdr-atlas-v0.glb-dor_Southern_Ocean_039_1999-10-01_02759.001</th>\n",
       "      <td>smyle</td>\n",
       "      <td>39.0</td>\n",
       "      <td>Southern_Ocean</td>\n",
       "      <td>1999-10</td>\n",
       "      <td>DOR</td>\n",
       "      <td>/global/cfs/projectdirs/m4746/Projects/OAE-Eff...</td>\n",
       "      <td>glb-dor_Southern_Ocean_039_1999-10-01_02759</td>\n",
       "      <td>0347-10-01</td>\n",
       "      <td>15</td>\n",
       "      <td>10:00:00</td>\n",
       "      <td>True</td>\n",
       "    </tr>\n",
       "  </tbody>\n",
       "</table>\n",
       "<p>2761 rows × 11 columns</p>\n",
       "</div>"
      ],
      "text/plain": [
       "                                                   blueprint  polygon  \\\n",
       "case                                                                    \n",
       "smyle.cdr-atlas-v0.control.001                         smyle      NaN   \n",
       "smyle.cdr-atlas-v0.glb-dor_North_Atlantic_basin...     smyle      0.0   \n",
       "smyle.cdr-atlas-v0.glb-dor_North_Atlantic_basin...     smyle      0.0   \n",
       "smyle.cdr-atlas-v0.glb-dor_North_Atlantic_basin...     smyle      0.0   \n",
       "smyle.cdr-atlas-v0.glb-dor_North_Atlantic_basin...     smyle      0.0   \n",
       "...                                                      ...      ...   \n",
       "smyle.cdr-atlas-v0.glb-dor_Southern_Ocean_038_1...     smyle     38.0   \n",
       "smyle.cdr-atlas-v0.glb-dor_Southern_Ocean_039_1...     smyle     39.0   \n",
       "smyle.cdr-atlas-v0.glb-dor_Southern_Ocean_039_1...     smyle     39.0   \n",
       "smyle.cdr-atlas-v0.glb-dor_Southern_Ocean_039_1...     smyle     39.0   \n",
       "smyle.cdr-atlas-v0.glb-dor_Southern_Ocean_039_1...     smyle     39.0   \n",
       "\n",
       "                                                                   basin  \\\n",
       "case                                                                       \n",
       "smyle.cdr-atlas-v0.control.001                                      None   \n",
       "smyle.cdr-atlas-v0.glb-dor_North_Atlantic_basin...  North_Atlantic_basin   \n",
       "smyle.cdr-atlas-v0.glb-dor_North_Atlantic_basin...  North_Atlantic_basin   \n",
       "smyle.cdr-atlas-v0.glb-dor_North_Atlantic_basin...  North_Atlantic_basin   \n",
       "smyle.cdr-atlas-v0.glb-dor_North_Atlantic_basin...  North_Atlantic_basin   \n",
       "...                                                                  ...   \n",
       "smyle.cdr-atlas-v0.glb-dor_Southern_Ocean_038_1...        Southern_Ocean   \n",
       "smyle.cdr-atlas-v0.glb-dor_Southern_Ocean_039_1...        Southern_Ocean   \n",
       "smyle.cdr-atlas-v0.glb-dor_Southern_Ocean_039_1...        Southern_Ocean   \n",
       "smyle.cdr-atlas-v0.glb-dor_Southern_Ocean_039_1...        Southern_Ocean   \n",
       "smyle.cdr-atlas-v0.glb-dor_Southern_Ocean_039_1...        Southern_Ocean   \n",
       "\n",
       "                                                   start_date cdr_forcing  \\\n",
       "case                                                                        \n",
       "smyle.cdr-atlas-v0.control.001                        1999-01        None   \n",
       "smyle.cdr-atlas-v0.glb-dor_North_Atlantic_basin...    1999-01         DOR   \n",
       "smyle.cdr-atlas-v0.glb-dor_North_Atlantic_basin...    1999-04         DOR   \n",
       "smyle.cdr-atlas-v0.glb-dor_North_Atlantic_basin...    1999-07         DOR   \n",
       "smyle.cdr-atlas-v0.glb-dor_North_Atlantic_basin...    1999-10         DOR   \n",
       "...                                                       ...         ...   \n",
       "smyle.cdr-atlas-v0.glb-dor_Southern_Ocean_038_1...    1999-10         DOR   \n",
       "smyle.cdr-atlas-v0.glb-dor_Southern_Ocean_039_1...    1999-01         DOR   \n",
       "smyle.cdr-atlas-v0.glb-dor_Southern_Ocean_039_1...    1999-04         DOR   \n",
       "smyle.cdr-atlas-v0.glb-dor_Southern_Ocean_039_1...    1999-07         DOR   \n",
       "smyle.cdr-atlas-v0.glb-dor_Southern_Ocean_039_1...    1999-10         DOR   \n",
       "\n",
       "                                                                                     cdr_forcing_file  \\\n",
       "case                                                                                                    \n",
       "smyle.cdr-atlas-v0.control.001                                                                   None   \n",
       "smyle.cdr-atlas-v0.glb-dor_North_Atlantic_basin...  /global/cfs/projectdirs/m4746/Projects/OAE-Eff...   \n",
       "smyle.cdr-atlas-v0.glb-dor_North_Atlantic_basin...  /global/cfs/projectdirs/m4746/Projects/OAE-Eff...   \n",
       "smyle.cdr-atlas-v0.glb-dor_North_Atlantic_basin...  /global/cfs/projectdirs/m4746/Projects/OAE-Eff...   \n",
       "smyle.cdr-atlas-v0.glb-dor_North_Atlantic_basin...  /global/cfs/projectdirs/m4746/Projects/OAE-Eff...   \n",
       "...                                                                                               ...   \n",
       "smyle.cdr-atlas-v0.glb-dor_Southern_Ocean_038_1...  /global/cfs/projectdirs/m4746/Projects/OAE-Eff...   \n",
       "smyle.cdr-atlas-v0.glb-dor_Southern_Ocean_039_1...  /global/cfs/projectdirs/m4746/Projects/OAE-Eff...   \n",
       "smyle.cdr-atlas-v0.glb-dor_Southern_Ocean_039_1...  /global/cfs/projectdirs/m4746/Projects/OAE-Eff...   \n",
       "smyle.cdr-atlas-v0.glb-dor_Southern_Ocean_039_1...  /global/cfs/projectdirs/m4746/Projects/OAE-Eff...   \n",
       "smyle.cdr-atlas-v0.glb-dor_Southern_Ocean_039_1...  /global/cfs/projectdirs/m4746/Projects/OAE-Eff...   \n",
       "\n",
       "                                                                                       simulation_key  \\\n",
       "case                                                                                                    \n",
       "smyle.cdr-atlas-v0.control.001                                                               baseline   \n",
       "smyle.cdr-atlas-v0.glb-dor_North_Atlantic_basin...  glb-dor_North_Atlantic_basin_000_1999-01-01_00000   \n",
       "smyle.cdr-atlas-v0.glb-dor_North_Atlantic_basin...  glb-dor_North_Atlantic_basin_000_1999-04-01_00001   \n",
       "smyle.cdr-atlas-v0.glb-dor_North_Atlantic_basin...  glb-dor_North_Atlantic_basin_000_1999-07-01_00002   \n",
       "smyle.cdr-atlas-v0.glb-dor_North_Atlantic_basin...  glb-dor_North_Atlantic_basin_000_1999-10-01_00003   \n",
       "...                                                                                               ...   \n",
       "smyle.cdr-atlas-v0.glb-dor_Southern_Ocean_038_1...        glb-dor_Southern_Ocean_038_1999-10-01_02755   \n",
       "smyle.cdr-atlas-v0.glb-dor_Southern_Ocean_039_1...        glb-dor_Southern_Ocean_039_1999-01-01_02756   \n",
       "smyle.cdr-atlas-v0.glb-dor_Southern_Ocean_039_1...        glb-dor_Southern_Ocean_039_1999-04-01_02757   \n",
       "smyle.cdr-atlas-v0.glb-dor_Southern_Ocean_039_1...        glb-dor_Southern_Ocean_039_1999-07-01_02758   \n",
       "smyle.cdr-atlas-v0.glb-dor_Southern_Ocean_039_1...        glb-dor_Southern_Ocean_039_1999-10-01_02759   \n",
       "\n",
       "                                                       refdate  stop_n  \\\n",
       "case                                                                     \n",
       "smyle.cdr-atlas-v0.control.001                      0347-01-01      16   \n",
       "smyle.cdr-atlas-v0.glb-dor_North_Atlantic_basin...  0347-01-01      15   \n",
       "smyle.cdr-atlas-v0.glb-dor_North_Atlantic_basin...  0347-04-01      15   \n",
       "smyle.cdr-atlas-v0.glb-dor_North_Atlantic_basin...  0347-07-01      15   \n",
       "smyle.cdr-atlas-v0.glb-dor_North_Atlantic_basin...  0347-10-01      15   \n",
       "...                                                        ...     ...   \n",
       "smyle.cdr-atlas-v0.glb-dor_Southern_Ocean_038_1...  0347-10-01      15   \n",
       "smyle.cdr-atlas-v0.glb-dor_Southern_Ocean_039_1...  0347-01-01      15   \n",
       "smyle.cdr-atlas-v0.glb-dor_Southern_Ocean_039_1...  0347-04-01      15   \n",
       "smyle.cdr-atlas-v0.glb-dor_Southern_Ocean_039_1...  0347-07-01      15   \n",
       "smyle.cdr-atlas-v0.glb-dor_Southern_Ocean_039_1...  0347-10-01      15   \n",
       "\n",
       "                                                   wallclock  curtail_output  \n",
       "case                                                                          \n",
       "smyle.cdr-atlas-v0.control.001                      12:00:00           False  \n",
       "smyle.cdr-atlas-v0.glb-dor_North_Atlantic_basin...  10:00:00            True  \n",
       "smyle.cdr-atlas-v0.glb-dor_North_Atlantic_basin...  10:00:00            True  \n",
       "smyle.cdr-atlas-v0.glb-dor_North_Atlantic_basin...  10:00:00            True  \n",
       "smyle.cdr-atlas-v0.glb-dor_North_Atlantic_basin...  10:00:00            True  \n",
       "...                                                      ...             ...  \n",
       "smyle.cdr-atlas-v0.glb-dor_Southern_Ocean_038_1...  10:00:00            True  \n",
       "smyle.cdr-atlas-v0.glb-dor_Southern_Ocean_039_1...  10:00:00            True  \n",
       "smyle.cdr-atlas-v0.glb-dor_Southern_Ocean_039_1...  10:00:00            True  \n",
       "smyle.cdr-atlas-v0.glb-dor_Southern_Ocean_039_1...  10:00:00            True  \n",
       "smyle.cdr-atlas-v0.glb-dor_Southern_Ocean_039_1...  10:00:00            True  \n",
       "\n",
       "[2761 rows x 11 columns]"
      ]
     },
     "execution_count": 5,
     "metadata": {},
     "output_type": "execute_result"
    }
   ],
   "source": [
    "calc.df"
   ]
  },
  {
   "cell_type": "markdown",
   "id": "7cc46060-26e6-4a6a-97c0-c1ae02bb3693",
   "metadata": {},
   "source": [
    "## Validate the integrations"
   ]
  },
  {
   "cell_type": "code",
   "execution_count": 6,
   "id": "5e814839-f49c-4666-a08f-cac9be974813",
   "metadata": {
    "tags": []
   },
   "outputs": [
    {
     "name": "stdout",
     "output_type": "stream",
     "text": [
      "spinning up dask cluster with scheduler:\n",
      "  /pscratch/sd/m/mattlong/Ocean-CDR-Atlas-v0/dask/dask_scheduler_file.v0ic4zpp.json\n",
      "cluster running...\n",
      "Dashboard:\n",
      " https://jupyter.nersc.gov//user/mattlong/perlmutter-login-node-base/proxy/10.249.1.206:8787/status\n",
      "================================================================================\n",
      "smyle.cdr-atlas-v0.control.001\n",
      "================================================================================\n",
      "smyle.cdr-atlas-v0.glb-dor_North_Atlantic_basin_000_1999-01-01_00000.001\n",
      "================================================================================\n",
      "smyle.cdr-atlas-v0.glb-dor_North_Atlantic_basin_000_1999-04-01_00001.001\n",
      "================================================================================\n",
      "smyle.cdr-atlas-v0.glb-dor_North_Atlantic_basin_000_1999-07-01_00002.001\n",
      "================================================================================\n",
      "smyle.cdr-atlas-v0.glb-dor_North_Atlantic_basin_000_1999-10-01_00003.001\n",
      "================================================================================\n",
      "smyle.cdr-atlas-v0.glb-dor_North_Atlantic_basin_001_1999-01-01_00004.001\n",
      "================================================================================\n",
      "smyle.cdr-atlas-v0.glb-dor_North_Atlantic_basin_001_1999-04-01_00005.001\n",
      "================================================================================\n",
      "smyle.cdr-atlas-v0.glb-dor_North_Atlantic_basin_001_1999-07-01_00006.001\n",
      "================================================================================\n",
      "smyle.cdr-atlas-v0.glb-dor_North_Atlantic_basin_002_1999-01-01_00008.001\n",
      "================================================================================\n",
      "smyle.cdr-atlas-v0.glb-dor_North_Atlantic_basin_002_1999-04-01_00009.001\n",
      "================================================================================\n",
      "smyle.cdr-atlas-v0.glb-dor_North_Atlantic_basin_002_1999-07-01_00010.001\n",
      "================================================================================\n",
      "smyle.cdr-atlas-v0.glb-dor_North_Atlantic_basin_002_1999-10-01_00011.001\n",
      "================================================================================\n",
      "smyle.cdr-atlas-v0.glb-dor_North_Atlantic_basin_003_1999-01-01_00012.001\n",
      "================================================================================\n",
      "smyle.cdr-atlas-v0.glb-dor_North_Atlantic_basin_003_1999-04-01_00013.001\n",
      "================================================================================\n",
      "smyle.cdr-atlas-v0.glb-dor_North_Atlantic_basin_003_1999-10-01_00015.001\n",
      "================================================================================\n",
      "smyle.cdr-atlas-v0.glb-dor_North_Atlantic_basin_004_1999-01-01_00016.001\n",
      "================================================================================\n",
      "smyle.cdr-atlas-v0.glb-dor_North_Atlantic_basin_004_1999-04-01_00017.001\n",
      "================================================================================\n",
      "smyle.cdr-atlas-v0.glb-dor_North_Atlantic_basin_004_1999-07-01_00018.001\n",
      "================================================================================\n",
      "smyle.cdr-atlas-v0.glb-dor_North_Atlantic_basin_004_1999-10-01_00019.001\n",
      "================================================================================\n",
      "smyle.cdr-atlas-v0.glb-dor_North_Atlantic_basin_005_1999-01-01_00020.001\n",
      "================================================================================\n",
      "smyle.cdr-atlas-v0.glb-dor_North_Atlantic_basin_005_1999-04-01_00021.001\n",
      "================================================================================\n",
      "smyle.cdr-atlas-v0.glb-dor_North_Atlantic_basin_005_1999-07-01_00022.001\n",
      "================================================================================\n",
      "smyle.cdr-atlas-v0.glb-dor_North_Atlantic_basin_005_1999-10-01_00023.001\n",
      "================================================================================\n",
      "smyle.cdr-atlas-v0.glb-dor_North_Atlantic_basin_006_1999-01-01_00024.001\n",
      "================================================================================\n",
      "smyle.cdr-atlas-v0.glb-dor_North_Atlantic_basin_006_1999-04-01_00025.001\n",
      "================================================================================\n",
      "smyle.cdr-atlas-v0.glb-dor_North_Atlantic_basin_006_1999-10-01_00027.001\n",
      "================================================================================\n",
      "smyle.cdr-atlas-v0.glb-dor_North_Atlantic_basin_007_1999-01-01_00028.001\n",
      "================================================================================\n",
      "smyle.cdr-atlas-v0.glb-dor_North_Atlantic_basin_007_1999-04-01_00029.001\n",
      "================================================================================\n",
      "smyle.cdr-atlas-v0.glb-dor_North_Atlantic_basin_007_1999-07-01_00030.001\n",
      "================================================================================\n",
      "smyle.cdr-atlas-v0.glb-dor_North_Atlantic_basin_008_1999-01-01_00032.001\n",
      "================================================================================\n",
      "smyle.cdr-atlas-v0.glb-dor_North_Atlantic_basin_008_1999-04-01_00033.001\n",
      "================================================================================\n",
      "smyle.cdr-atlas-v0.glb-dor_North_Atlantic_basin_008_1999-10-01_00035.001\n",
      "================================================================================\n",
      "smyle.cdr-atlas-v0.glb-dor_North_Atlantic_basin_009_1999-01-01_00036.001\n",
      "================================================================================\n",
      "smyle.cdr-atlas-v0.glb-dor_North_Atlantic_basin_009_1999-04-01_00037.001\n",
      "================================================================================\n",
      "smyle.cdr-atlas-v0.glb-dor_North_Atlantic_basin_009_1999-07-01_00038.001\n",
      "================================================================================\n",
      "smyle.cdr-atlas-v0.glb-dor_North_Atlantic_basin_009_1999-10-01_00039.001\n",
      "================================================================================\n",
      "smyle.cdr-atlas-v0.glb-dor_North_Atlantic_basin_010_1999-01-01_00040.001\n",
      "================================================================================\n",
      "smyle.cdr-atlas-v0.glb-dor_North_Atlantic_basin_010_1999-04-01_00041.001\n",
      "================================================================================\n",
      "smyle.cdr-atlas-v0.glb-dor_North_Atlantic_basin_010_1999-07-01_00042.001\n",
      "================================================================================\n",
      "smyle.cdr-atlas-v0.glb-dor_North_Atlantic_basin_010_1999-10-01_00043.001\n",
      "================================================================================\n",
      "smyle.cdr-atlas-v0.glb-dor_North_Atlantic_basin_011_1999-01-01_00044.001\n",
      "================================================================================\n",
      "smyle.cdr-atlas-v0.glb-dor_North_Atlantic_basin_011_1999-04-01_00045.001\n",
      "================================================================================\n",
      "smyle.cdr-atlas-v0.glb-dor_North_Atlantic_basin_011_1999-07-01_00046.001\n",
      "================================================================================\n",
      "smyle.cdr-atlas-v0.glb-dor_North_Atlantic_basin_011_1999-10-01_00047.001\n",
      "================================================================================\n",
      "smyle.cdr-atlas-v0.glb-dor_North_Atlantic_basin_012_1999-01-01_00048.001\n",
      "================================================================================\n",
      "smyle.cdr-atlas-v0.glb-dor_North_Atlantic_basin_012_1999-04-01_00049.001\n",
      "================================================================================\n",
      "smyle.cdr-atlas-v0.glb-dor_North_Atlantic_basin_012_1999-07-01_00050.001\n",
      "================================================================================\n",
      "smyle.cdr-atlas-v0.glb-dor_North_Atlantic_basin_012_1999-10-01_00051.001\n",
      "================================================================================\n",
      "smyle.cdr-atlas-v0.glb-dor_North_Atlantic_basin_013_1999-01-01_00052.001\n",
      "================================================================================\n",
      "smyle.cdr-atlas-v0.glb-dor_North_Atlantic_basin_013_1999-04-01_00053.001\n",
      "================================================================================\n",
      "smyle.cdr-atlas-v0.glb-dor_North_Atlantic_basin_013_1999-07-01_00054.001\n",
      "================================================================================\n",
      "smyle.cdr-atlas-v0.glb-dor_North_Atlantic_basin_013_1999-10-01_00055.001\n",
      "================================================================================\n",
      "smyle.cdr-atlas-v0.glb-dor_North_Atlantic_basin_014_1999-01-01_00056.001\n",
      "================================================================================\n",
      "smyle.cdr-atlas-v0.glb-dor_North_Atlantic_basin_014_1999-04-01_00057.001\n",
      "================================================================================\n",
      "smyle.cdr-atlas-v0.glb-dor_North_Atlantic_basin_014_1999-07-01_00058.001\n",
      "================================================================================\n",
      "smyle.cdr-atlas-v0.glb-dor_North_Atlantic_basin_014_1999-10-01_00059.001\n",
      "================================================================================\n",
      "smyle.cdr-atlas-v0.glb-dor_North_Atlantic_basin_015_1999-01-01_00060.001\n",
      "================================================================================\n",
      "smyle.cdr-atlas-v0.glb-dor_North_Atlantic_basin_015_1999-04-01_00061.001\n",
      "================================================================================\n",
      "smyle.cdr-atlas-v0.glb-dor_North_Atlantic_basin_015_1999-07-01_00062.001\n",
      "================================================================================\n",
      "smyle.cdr-atlas-v0.glb-dor_North_Atlantic_basin_015_1999-10-01_00063.001\n",
      "================================================================================\n",
      "smyle.cdr-atlas-v0.glb-dor_North_Atlantic_basin_016_1999-01-01_00064.001\n",
      "================================================================================\n",
      "smyle.cdr-atlas-v0.glb-dor_North_Atlantic_basin_016_1999-04-01_00065.001\n",
      "================================================================================\n",
      "smyle.cdr-atlas-v0.glb-dor_North_Atlantic_basin_017_1999-01-01_00068.001\n",
      "================================================================================\n",
      "smyle.cdr-atlas-v0.glb-dor_North_Atlantic_basin_017_1999-04-01_00069.001\n",
      "================================================================================\n",
      "smyle.cdr-atlas-v0.glb-dor_North_Atlantic_basin_017_1999-07-01_00070.001\n",
      "================================================================================\n",
      "smyle.cdr-atlas-v0.glb-dor_North_Atlantic_basin_017_1999-10-01_00071.001\n",
      "================================================================================\n",
      "smyle.cdr-atlas-v0.glb-dor_North_Atlantic_basin_018_1999-01-01_00072.001\n",
      "================================================================================\n",
      "smyle.cdr-atlas-v0.glb-dor_North_Atlantic_basin_018_1999-04-01_00073.001\n",
      "================================================================================\n",
      "smyle.cdr-atlas-v0.glb-dor_North_Atlantic_basin_018_1999-07-01_00074.001\n",
      "================================================================================\n",
      "smyle.cdr-atlas-v0.glb-dor_North_Atlantic_basin_018_1999-10-01_00075.001\n",
      "================================================================================\n",
      "smyle.cdr-atlas-v0.glb-dor_North_Atlantic_basin_019_1999-01-01_00076.001\n",
      "================================================================================\n",
      "smyle.cdr-atlas-v0.glb-dor_North_Atlantic_basin_019_1999-07-01_00078.001\n",
      "================================================================================\n",
      "smyle.cdr-atlas-v0.glb-dor_North_Atlantic_basin_019_1999-10-01_00079.001\n",
      "================================================================================\n",
      "smyle.cdr-atlas-v0.glb-dor_North_Atlantic_basin_020_1999-01-01_00080.001\n",
      "================================================================================\n",
      "smyle.cdr-atlas-v0.glb-dor_North_Atlantic_basin_020_1999-04-01_00081.001\n",
      "================================================================================\n",
      "smyle.cdr-atlas-v0.glb-dor_North_Atlantic_basin_020_1999-07-01_00082.001\n",
      "================================================================================\n",
      "smyle.cdr-atlas-v0.glb-dor_North_Atlantic_basin_020_1999-10-01_00083.001\n",
      "================================================================================\n",
      "smyle.cdr-atlas-v0.glb-dor_North_Atlantic_basin_021_1999-01-01_00084.001\n",
      "================================================================================\n",
      "smyle.cdr-atlas-v0.glb-dor_North_Atlantic_basin_021_1999-07-01_00086.001\n",
      "================================================================================\n",
      "smyle.cdr-atlas-v0.glb-dor_North_Atlantic_basin_021_1999-10-01_00087.001\n",
      "================================================================================\n",
      "smyle.cdr-atlas-v0.glb-dor_North_Atlantic_basin_022_1999-01-01_00088.001\n",
      "================================================================================\n",
      "smyle.cdr-atlas-v0.glb-dor_North_Atlantic_basin_022_1999-04-01_00089.001\n",
      "================================================================================\n",
      "smyle.cdr-atlas-v0.glb-dor_North_Atlantic_basin_022_1999-07-01_00090.001\n",
      "================================================================================\n",
      "smyle.cdr-atlas-v0.glb-dor_North_Atlantic_basin_022_1999-10-01_00091.001\n",
      "================================================================================\n",
      "smyle.cdr-atlas-v0.glb-dor_North_Atlantic_basin_023_1999-01-01_00092.001\n",
      "================================================================================\n",
      "smyle.cdr-atlas-v0.glb-dor_North_Atlantic_basin_023_1999-04-01_00093.001\n",
      "================================================================================\n",
      "smyle.cdr-atlas-v0.glb-dor_North_Atlantic_basin_023_1999-07-01_00094.001\n",
      "================================================================================\n",
      "smyle.cdr-atlas-v0.glb-dor_North_Atlantic_basin_023_1999-10-01_00095.001\n",
      "================================================================================\n",
      "smyle.cdr-atlas-v0.glb-dor_North_Atlantic_basin_024_1999-01-01_00096.001\n",
      "================================================================================\n",
      "smyle.cdr-atlas-v0.glb-dor_North_Atlantic_basin_024_1999-04-01_00097.001\n",
      "================================================================================\n",
      "smyle.cdr-atlas-v0.glb-dor_North_Atlantic_basin_024_1999-07-01_00098.001\n",
      "================================================================================\n",
      "smyle.cdr-atlas-v0.glb-dor_North_Atlantic_basin_024_1999-10-01_00099.001\n",
      "================================================================================\n",
      "smyle.cdr-atlas-v0.glb-dor_North_Atlantic_basin_025_1999-01-01_00100.001\n",
      "================================================================================\n",
      "smyle.cdr-atlas-v0.glb-dor_North_Atlantic_basin_025_1999-04-01_00101.001\n",
      "================================================================================\n",
      "smyle.cdr-atlas-v0.glb-dor_North_Atlantic_basin_025_1999-07-01_00102.001\n",
      "================================================================================\n",
      "smyle.cdr-atlas-v0.glb-dor_North_Atlantic_basin_025_1999-10-01_00103.001\n",
      "================================================================================\n",
      "smyle.cdr-atlas-v0.glb-dor_North_Atlantic_basin_026_1999-04-01_00105.001\n",
      "================================================================================\n",
      "smyle.cdr-atlas-v0.glb-dor_North_Atlantic_basin_026_1999-07-01_00106.001\n",
      "================================================================================\n",
      "smyle.cdr-atlas-v0.glb-dor_North_Atlantic_basin_026_1999-10-01_00107.001\n",
      "================================================================================\n",
      "smyle.cdr-atlas-v0.glb-dor_North_Atlantic_basin_027_1999-01-01_00108.001\n",
      "================================================================================\n",
      "smyle.cdr-atlas-v0.glb-dor_North_Atlantic_basin_028_1999-04-01_00113.001\n",
      "================================================================================\n",
      "smyle.cdr-atlas-v0.glb-dor_North_Atlantic_basin_028_1999-07-01_00114.001\n",
      "================================================================================\n",
      "smyle.cdr-atlas-v0.glb-dor_North_Atlantic_basin_028_1999-10-01_00115.001\n",
      "================================================================================\n",
      "smyle.cdr-atlas-v0.glb-dor_North_Atlantic_basin_029_1999-01-01_00116.001\n",
      "================================================================================\n",
      "smyle.cdr-atlas-v0.glb-dor_North_Atlantic_basin_029_1999-07-01_00118.001\n",
      "================================================================================\n",
      "smyle.cdr-atlas-v0.glb-dor_North_Atlantic_basin_029_1999-10-01_00119.001\n",
      "================================================================================\n",
      "smyle.cdr-atlas-v0.glb-dor_North_Atlantic_basin_030_1999-01-01_00120.001\n",
      "================================================================================\n",
      "smyle.cdr-atlas-v0.glb-dor_North_Atlantic_basin_030_1999-04-01_00121.001\n",
      "================================================================================\n",
      "smyle.cdr-atlas-v0.glb-dor_North_Atlantic_basin_030_1999-07-01_00122.001\n",
      "================================================================================\n",
      "smyle.cdr-atlas-v0.glb-dor_North_Atlantic_basin_030_1999-10-01_00123.001\n",
      "================================================================================\n",
      "smyle.cdr-atlas-v0.glb-dor_North_Atlantic_basin_031_1999-01-01_00124.001\n",
      "================================================================================\n",
      "smyle.cdr-atlas-v0.glb-dor_North_Atlantic_basin_031_1999-04-01_00125.001\n",
      "================================================================================\n",
      "smyle.cdr-atlas-v0.glb-dor_North_Atlantic_basin_031_1999-07-01_00126.001\n",
      "================================================================================\n",
      "smyle.cdr-atlas-v0.glb-dor_North_Atlantic_basin_031_1999-10-01_00127.001\n",
      "================================================================================\n",
      "smyle.cdr-atlas-v0.glb-dor_North_Atlantic_basin_032_1999-01-01_00128.001\n",
      "================================================================================\n",
      "smyle.cdr-atlas-v0.glb-dor_North_Atlantic_basin_032_1999-04-01_00129.001\n",
      "================================================================================\n",
      "smyle.cdr-atlas-v0.glb-dor_North_Atlantic_basin_032_1999-10-01_00131.001\n",
      "================================================================================\n",
      "smyle.cdr-atlas-v0.glb-dor_North_Atlantic_basin_033_1999-01-01_00132.001\n",
      "================================================================================\n",
      "smyle.cdr-atlas-v0.glb-dor_North_Atlantic_basin_033_1999-04-01_00133.001\n",
      "DIC_ALT_CO2, ALK_ALT_CO2, ECOSYS_IFRAC, FG_ALT_CO2, \n",
      "computing /global/cfs/projectdirs/m4746/Projects/Ocean-CDR-Atlas-v0/data/validation/smyle.cdr-atlas-v0.glb-dor_North_Atlantic_basin_120_1999-04-01_00481.001.validation.zarr\n",
      "writing /global/cfs/projectdirs/m4746/Projects/Ocean-CDR-Atlas-v0/data/validation/smyle.cdr-atlas-v0.glb-dor_North_Atlantic_basin_120_1999-04-01_00481.001.validation.zarr\n",
      "CPU times: user 20.3 s, sys: 2.72 s, total: 23 s\n",
      "Wall time: 14min 59s\n"
     ]
    }
   ],
   "source": [
    "%%time\n",
    "calc.validate(clobber=clobber, n=445)"
   ]
  },
  {
   "cell_type": "code",
   "execution_count": 7,
   "id": "00107fbc-414d-4b5b-bd44-4de16d9fe07e",
   "metadata": {
    "tags": []
   },
   "outputs": [
    {
     "data": {
      "text/html": [
       "<div>\n",
       "<style scoped>\n",
       "    .dataframe tbody tr th:only-of-type {\n",
       "        vertical-align: middle;\n",
       "    }\n",
       "\n",
       "    .dataframe tbody tr th {\n",
       "        vertical-align: top;\n",
       "    }\n",
       "\n",
       "    .dataframe thead th {\n",
       "        text-align: right;\n",
       "    }\n",
       "</style>\n",
       "<table border=\"1\" class=\"dataframe\">\n",
       "  <thead>\n",
       "    <tr style=\"text-align: right;\">\n",
       "      <th></th>\n",
       "      <th>is_cdr_run</th>\n",
       "      <th>ALK_ALT_CO2_rmse</th>\n",
       "      <th>ALK_rmse</th>\n",
       "      <th>DIC_ALT_CO2_rmse</th>\n",
       "      <th>DIC_rmse</th>\n",
       "      <th>DOC_rmse</th>\n",
       "      <th>DOCr_rmse</th>\n",
       "      <th>DON_rmse</th>\n",
       "      <th>DONr_rmse</th>\n",
       "      <th>DOP_rmse</th>\n",
       "      <th>...</th>\n",
       "      <th>diazC_rmse</th>\n",
       "      <th>diazChl_rmse</th>\n",
       "      <th>diazFe_rmse</th>\n",
       "      <th>diazP_rmse</th>\n",
       "      <th>spC_rmse</th>\n",
       "      <th>spCaCO3_rmse</th>\n",
       "      <th>spChl_rmse</th>\n",
       "      <th>spFe_rmse</th>\n",
       "      <th>spP_rmse</th>\n",
       "      <th>zooC_rmse</th>\n",
       "    </tr>\n",
       "    <tr>\n",
       "      <th>case</th>\n",
       "      <th></th>\n",
       "      <th></th>\n",
       "      <th></th>\n",
       "      <th></th>\n",
       "      <th></th>\n",
       "      <th></th>\n",
       "      <th></th>\n",
       "      <th></th>\n",
       "      <th></th>\n",
       "      <th></th>\n",
       "      <th></th>\n",
       "      <th></th>\n",
       "      <th></th>\n",
       "      <th></th>\n",
       "      <th></th>\n",
       "      <th></th>\n",
       "      <th></th>\n",
       "      <th></th>\n",
       "      <th></th>\n",
       "      <th></th>\n",
       "      <th></th>\n",
       "    </tr>\n",
       "  </thead>\n",
       "  <tbody>\n",
       "    <tr>\n",
       "      <th>smyle.cdr-atlas-v0.control.001</th>\n",
       "      <td>False</td>\n",
       "      <td>0.224847</td>\n",
       "      <td>0.224846</td>\n",
       "      <td>0.325688</td>\n",
       "      <td>0.304365</td>\n",
       "      <td>0.045923</td>\n",
       "      <td>0.011091</td>\n",
       "      <td>0.004066</td>\n",
       "      <td>0.000207</td>\n",
       "      <td>0.000238</td>\n",
       "      <td>...</td>\n",
       "      <td>0.000601</td>\n",
       "      <td>0.000147</td>\n",
       "      <td>4.014262e-08</td>\n",
       "      <td>0.000005</td>\n",
       "      <td>0.025289</td>\n",
       "      <td>0.005248</td>\n",
       "      <td>0.003786</td>\n",
       "      <td>6.857399e-07</td>\n",
       "      <td>0.000216</td>\n",
       "      <td>0.010324</td>\n",
       "    </tr>\n",
       "    <tr>\n",
       "      <th>smyle.cdr-atlas-v0.glb-dor_North_Atlantic_basin_000_1999-01-01_00000.001</th>\n",
       "      <td>True</td>\n",
       "      <td>0.230523</td>\n",
       "      <td>NaN</td>\n",
       "      <td>0.336078</td>\n",
       "      <td>NaN</td>\n",
       "      <td>NaN</td>\n",
       "      <td>NaN</td>\n",
       "      <td>NaN</td>\n",
       "      <td>NaN</td>\n",
       "      <td>NaN</td>\n",
       "      <td>...</td>\n",
       "      <td>NaN</td>\n",
       "      <td>NaN</td>\n",
       "      <td>NaN</td>\n",
       "      <td>NaN</td>\n",
       "      <td>NaN</td>\n",
       "      <td>NaN</td>\n",
       "      <td>NaN</td>\n",
       "      <td>NaN</td>\n",
       "      <td>NaN</td>\n",
       "      <td>NaN</td>\n",
       "    </tr>\n",
       "    <tr>\n",
       "      <th>smyle.cdr-atlas-v0.glb-dor_North_Atlantic_basin_000_1999-04-01_00001.001</th>\n",
       "      <td>True</td>\n",
       "      <td>0.270639</td>\n",
       "      <td>NaN</td>\n",
       "      <td>0.315976</td>\n",
       "      <td>NaN</td>\n",
       "      <td>NaN</td>\n",
       "      <td>NaN</td>\n",
       "      <td>NaN</td>\n",
       "      <td>NaN</td>\n",
       "      <td>NaN</td>\n",
       "      <td>...</td>\n",
       "      <td>NaN</td>\n",
       "      <td>NaN</td>\n",
       "      <td>NaN</td>\n",
       "      <td>NaN</td>\n",
       "      <td>NaN</td>\n",
       "      <td>NaN</td>\n",
       "      <td>NaN</td>\n",
       "      <td>NaN</td>\n",
       "      <td>NaN</td>\n",
       "      <td>NaN</td>\n",
       "    </tr>\n",
       "    <tr>\n",
       "      <th>smyle.cdr-atlas-v0.glb-dor_North_Atlantic_basin_000_1999-07-01_00002.001</th>\n",
       "      <td>True</td>\n",
       "      <td>0.225976</td>\n",
       "      <td>NaN</td>\n",
       "      <td>0.302304</td>\n",
       "      <td>NaN</td>\n",
       "      <td>NaN</td>\n",
       "      <td>NaN</td>\n",
       "      <td>NaN</td>\n",
       "      <td>NaN</td>\n",
       "      <td>NaN</td>\n",
       "      <td>...</td>\n",
       "      <td>NaN</td>\n",
       "      <td>NaN</td>\n",
       "      <td>NaN</td>\n",
       "      <td>NaN</td>\n",
       "      <td>NaN</td>\n",
       "      <td>NaN</td>\n",
       "      <td>NaN</td>\n",
       "      <td>NaN</td>\n",
       "      <td>NaN</td>\n",
       "      <td>NaN</td>\n",
       "    </tr>\n",
       "    <tr>\n",
       "      <th>smyle.cdr-atlas-v0.glb-dor_North_Atlantic_basin_000_1999-10-01_00003.001</th>\n",
       "      <td>True</td>\n",
       "      <td>0.288906</td>\n",
       "      <td>NaN</td>\n",
       "      <td>0.368662</td>\n",
       "      <td>NaN</td>\n",
       "      <td>NaN</td>\n",
       "      <td>NaN</td>\n",
       "      <td>NaN</td>\n",
       "      <td>NaN</td>\n",
       "      <td>NaN</td>\n",
       "      <td>...</td>\n",
       "      <td>NaN</td>\n",
       "      <td>NaN</td>\n",
       "      <td>NaN</td>\n",
       "      <td>NaN</td>\n",
       "      <td>NaN</td>\n",
       "      <td>NaN</td>\n",
       "      <td>NaN</td>\n",
       "      <td>NaN</td>\n",
       "      <td>NaN</td>\n",
       "      <td>NaN</td>\n",
       "    </tr>\n",
       "    <tr>\n",
       "      <th>...</th>\n",
       "      <td>...</td>\n",
       "      <td>...</td>\n",
       "      <td>...</td>\n",
       "      <td>...</td>\n",
       "      <td>...</td>\n",
       "      <td>...</td>\n",
       "      <td>...</td>\n",
       "      <td>...</td>\n",
       "      <td>...</td>\n",
       "      <td>...</td>\n",
       "      <td>...</td>\n",
       "      <td>...</td>\n",
       "      <td>...</td>\n",
       "      <td>...</td>\n",
       "      <td>...</td>\n",
       "      <td>...</td>\n",
       "      <td>...</td>\n",
       "      <td>...</td>\n",
       "      <td>...</td>\n",
       "      <td>...</td>\n",
       "      <td>...</td>\n",
       "    </tr>\n",
       "    <tr>\n",
       "      <th>smyle.cdr-atlas-v0.glb-dor_North_Atlantic_basin_118_1999-07-01_00474.001</th>\n",
       "      <td>True</td>\n",
       "      <td>0.284362</td>\n",
       "      <td>NaN</td>\n",
       "      <td>0.360639</td>\n",
       "      <td>NaN</td>\n",
       "      <td>NaN</td>\n",
       "      <td>NaN</td>\n",
       "      <td>NaN</td>\n",
       "      <td>NaN</td>\n",
       "      <td>NaN</td>\n",
       "      <td>...</td>\n",
       "      <td>NaN</td>\n",
       "      <td>NaN</td>\n",
       "      <td>NaN</td>\n",
       "      <td>NaN</td>\n",
       "      <td>NaN</td>\n",
       "      <td>NaN</td>\n",
       "      <td>NaN</td>\n",
       "      <td>NaN</td>\n",
       "      <td>NaN</td>\n",
       "      <td>NaN</td>\n",
       "    </tr>\n",
       "    <tr>\n",
       "      <th>smyle.cdr-atlas-v0.glb-dor_North_Atlantic_basin_118_1999-10-01_00475.001</th>\n",
       "      <td>True</td>\n",
       "      <td>0.258725</td>\n",
       "      <td>NaN</td>\n",
       "      <td>0.309153</td>\n",
       "      <td>NaN</td>\n",
       "      <td>NaN</td>\n",
       "      <td>NaN</td>\n",
       "      <td>NaN</td>\n",
       "      <td>NaN</td>\n",
       "      <td>NaN</td>\n",
       "      <td>...</td>\n",
       "      <td>NaN</td>\n",
       "      <td>NaN</td>\n",
       "      <td>NaN</td>\n",
       "      <td>NaN</td>\n",
       "      <td>NaN</td>\n",
       "      <td>NaN</td>\n",
       "      <td>NaN</td>\n",
       "      <td>NaN</td>\n",
       "      <td>NaN</td>\n",
       "      <td>NaN</td>\n",
       "    </tr>\n",
       "    <tr>\n",
       "      <th>smyle.cdr-atlas-v0.glb-dor_North_Atlantic_basin_119_1999-01-01_00476.001</th>\n",
       "      <td>True</td>\n",
       "      <td>0.257183</td>\n",
       "      <td>NaN</td>\n",
       "      <td>0.295834</td>\n",
       "      <td>NaN</td>\n",
       "      <td>NaN</td>\n",
       "      <td>NaN</td>\n",
       "      <td>NaN</td>\n",
       "      <td>NaN</td>\n",
       "      <td>NaN</td>\n",
       "      <td>...</td>\n",
       "      <td>NaN</td>\n",
       "      <td>NaN</td>\n",
       "      <td>NaN</td>\n",
       "      <td>NaN</td>\n",
       "      <td>NaN</td>\n",
       "      <td>NaN</td>\n",
       "      <td>NaN</td>\n",
       "      <td>NaN</td>\n",
       "      <td>NaN</td>\n",
       "      <td>NaN</td>\n",
       "    </tr>\n",
       "    <tr>\n",
       "      <th>smyle.cdr-atlas-v0.glb-dor_North_Atlantic_basin_119_1999-07-01_00478.001</th>\n",
       "      <td>True</td>\n",
       "      <td>0.260268</td>\n",
       "      <td>NaN</td>\n",
       "      <td>0.283873</td>\n",
       "      <td>NaN</td>\n",
       "      <td>NaN</td>\n",
       "      <td>NaN</td>\n",
       "      <td>NaN</td>\n",
       "      <td>NaN</td>\n",
       "      <td>NaN</td>\n",
       "      <td>...</td>\n",
       "      <td>NaN</td>\n",
       "      <td>NaN</td>\n",
       "      <td>NaN</td>\n",
       "      <td>NaN</td>\n",
       "      <td>NaN</td>\n",
       "      <td>NaN</td>\n",
       "      <td>NaN</td>\n",
       "      <td>NaN</td>\n",
       "      <td>NaN</td>\n",
       "      <td>NaN</td>\n",
       "    </tr>\n",
       "    <tr>\n",
       "      <th>smyle.cdr-atlas-v0.glb-dor_North_Atlantic_basin_120_1999-04-01_00481.001</th>\n",
       "      <td>True</td>\n",
       "      <td>0.273242</td>\n",
       "      <td>NaN</td>\n",
       "      <td>0.257210</td>\n",
       "      <td>NaN</td>\n",
       "      <td>NaN</td>\n",
       "      <td>NaN</td>\n",
       "      <td>NaN</td>\n",
       "      <td>NaN</td>\n",
       "      <td>NaN</td>\n",
       "      <td>...</td>\n",
       "      <td>NaN</td>\n",
       "      <td>NaN</td>\n",
       "      <td>NaN</td>\n",
       "      <td>NaN</td>\n",
       "      <td>NaN</td>\n",
       "      <td>NaN</td>\n",
       "      <td>NaN</td>\n",
       "      <td>NaN</td>\n",
       "      <td>NaN</td>\n",
       "      <td>NaN</td>\n",
       "    </tr>\n",
       "  </tbody>\n",
       "</table>\n",
       "<p>445 rows × 40 columns</p>\n",
       "</div>"
      ],
      "text/plain": [
       "                                                    is_cdr_run  \\\n",
       "case                                                             \n",
       "smyle.cdr-atlas-v0.control.001                           False   \n",
       "smyle.cdr-atlas-v0.glb-dor_North_Atlantic_basin...        True   \n",
       "smyle.cdr-atlas-v0.glb-dor_North_Atlantic_basin...        True   \n",
       "smyle.cdr-atlas-v0.glb-dor_North_Atlantic_basin...        True   \n",
       "smyle.cdr-atlas-v0.glb-dor_North_Atlantic_basin...        True   \n",
       "...                                                        ...   \n",
       "smyle.cdr-atlas-v0.glb-dor_North_Atlantic_basin...        True   \n",
       "smyle.cdr-atlas-v0.glb-dor_North_Atlantic_basin...        True   \n",
       "smyle.cdr-atlas-v0.glb-dor_North_Atlantic_basin...        True   \n",
       "smyle.cdr-atlas-v0.glb-dor_North_Atlantic_basin...        True   \n",
       "smyle.cdr-atlas-v0.glb-dor_North_Atlantic_basin...        True   \n",
       "\n",
       "                                                    ALK_ALT_CO2_rmse  \\\n",
       "case                                                                   \n",
       "smyle.cdr-atlas-v0.control.001                              0.224847   \n",
       "smyle.cdr-atlas-v0.glb-dor_North_Atlantic_basin...          0.230523   \n",
       "smyle.cdr-atlas-v0.glb-dor_North_Atlantic_basin...          0.270639   \n",
       "smyle.cdr-atlas-v0.glb-dor_North_Atlantic_basin...          0.225976   \n",
       "smyle.cdr-atlas-v0.glb-dor_North_Atlantic_basin...          0.288906   \n",
       "...                                                              ...   \n",
       "smyle.cdr-atlas-v0.glb-dor_North_Atlantic_basin...          0.284362   \n",
       "smyle.cdr-atlas-v0.glb-dor_North_Atlantic_basin...          0.258725   \n",
       "smyle.cdr-atlas-v0.glb-dor_North_Atlantic_basin...          0.257183   \n",
       "smyle.cdr-atlas-v0.glb-dor_North_Atlantic_basin...          0.260268   \n",
       "smyle.cdr-atlas-v0.glb-dor_North_Atlantic_basin...          0.273242   \n",
       "\n",
       "                                                    ALK_rmse  \\\n",
       "case                                                           \n",
       "smyle.cdr-atlas-v0.control.001                      0.224846   \n",
       "smyle.cdr-atlas-v0.glb-dor_North_Atlantic_basin...       NaN   \n",
       "smyle.cdr-atlas-v0.glb-dor_North_Atlantic_basin...       NaN   \n",
       "smyle.cdr-atlas-v0.glb-dor_North_Atlantic_basin...       NaN   \n",
       "smyle.cdr-atlas-v0.glb-dor_North_Atlantic_basin...       NaN   \n",
       "...                                                      ...   \n",
       "smyle.cdr-atlas-v0.glb-dor_North_Atlantic_basin...       NaN   \n",
       "smyle.cdr-atlas-v0.glb-dor_North_Atlantic_basin...       NaN   \n",
       "smyle.cdr-atlas-v0.glb-dor_North_Atlantic_basin...       NaN   \n",
       "smyle.cdr-atlas-v0.glb-dor_North_Atlantic_basin...       NaN   \n",
       "smyle.cdr-atlas-v0.glb-dor_North_Atlantic_basin...       NaN   \n",
       "\n",
       "                                                    DIC_ALT_CO2_rmse  \\\n",
       "case                                                                   \n",
       "smyle.cdr-atlas-v0.control.001                              0.325688   \n",
       "smyle.cdr-atlas-v0.glb-dor_North_Atlantic_basin...          0.336078   \n",
       "smyle.cdr-atlas-v0.glb-dor_North_Atlantic_basin...          0.315976   \n",
       "smyle.cdr-atlas-v0.glb-dor_North_Atlantic_basin...          0.302304   \n",
       "smyle.cdr-atlas-v0.glb-dor_North_Atlantic_basin...          0.368662   \n",
       "...                                                              ...   \n",
       "smyle.cdr-atlas-v0.glb-dor_North_Atlantic_basin...          0.360639   \n",
       "smyle.cdr-atlas-v0.glb-dor_North_Atlantic_basin...          0.309153   \n",
       "smyle.cdr-atlas-v0.glb-dor_North_Atlantic_basin...          0.295834   \n",
       "smyle.cdr-atlas-v0.glb-dor_North_Atlantic_basin...          0.283873   \n",
       "smyle.cdr-atlas-v0.glb-dor_North_Atlantic_basin...          0.257210   \n",
       "\n",
       "                                                    DIC_rmse  DOC_rmse  \\\n",
       "case                                                                     \n",
       "smyle.cdr-atlas-v0.control.001                      0.304365  0.045923   \n",
       "smyle.cdr-atlas-v0.glb-dor_North_Atlantic_basin...       NaN       NaN   \n",
       "smyle.cdr-atlas-v0.glb-dor_North_Atlantic_basin...       NaN       NaN   \n",
       "smyle.cdr-atlas-v0.glb-dor_North_Atlantic_basin...       NaN       NaN   \n",
       "smyle.cdr-atlas-v0.glb-dor_North_Atlantic_basin...       NaN       NaN   \n",
       "...                                                      ...       ...   \n",
       "smyle.cdr-atlas-v0.glb-dor_North_Atlantic_basin...       NaN       NaN   \n",
       "smyle.cdr-atlas-v0.glb-dor_North_Atlantic_basin...       NaN       NaN   \n",
       "smyle.cdr-atlas-v0.glb-dor_North_Atlantic_basin...       NaN       NaN   \n",
       "smyle.cdr-atlas-v0.glb-dor_North_Atlantic_basin...       NaN       NaN   \n",
       "smyle.cdr-atlas-v0.glb-dor_North_Atlantic_basin...       NaN       NaN   \n",
       "\n",
       "                                                    DOCr_rmse  DON_rmse  \\\n",
       "case                                                                      \n",
       "smyle.cdr-atlas-v0.control.001                       0.011091  0.004066   \n",
       "smyle.cdr-atlas-v0.glb-dor_North_Atlantic_basin...        NaN       NaN   \n",
       "smyle.cdr-atlas-v0.glb-dor_North_Atlantic_basin...        NaN       NaN   \n",
       "smyle.cdr-atlas-v0.glb-dor_North_Atlantic_basin...        NaN       NaN   \n",
       "smyle.cdr-atlas-v0.glb-dor_North_Atlantic_basin...        NaN       NaN   \n",
       "...                                                       ...       ...   \n",
       "smyle.cdr-atlas-v0.glb-dor_North_Atlantic_basin...        NaN       NaN   \n",
       "smyle.cdr-atlas-v0.glb-dor_North_Atlantic_basin...        NaN       NaN   \n",
       "smyle.cdr-atlas-v0.glb-dor_North_Atlantic_basin...        NaN       NaN   \n",
       "smyle.cdr-atlas-v0.glb-dor_North_Atlantic_basin...        NaN       NaN   \n",
       "smyle.cdr-atlas-v0.glb-dor_North_Atlantic_basin...        NaN       NaN   \n",
       "\n",
       "                                                    DONr_rmse  DOP_rmse  ...  \\\n",
       "case                                                                     ...   \n",
       "smyle.cdr-atlas-v0.control.001                       0.000207  0.000238  ...   \n",
       "smyle.cdr-atlas-v0.glb-dor_North_Atlantic_basin...        NaN       NaN  ...   \n",
       "smyle.cdr-atlas-v0.glb-dor_North_Atlantic_basin...        NaN       NaN  ...   \n",
       "smyle.cdr-atlas-v0.glb-dor_North_Atlantic_basin...        NaN       NaN  ...   \n",
       "smyle.cdr-atlas-v0.glb-dor_North_Atlantic_basin...        NaN       NaN  ...   \n",
       "...                                                       ...       ...  ...   \n",
       "smyle.cdr-atlas-v0.glb-dor_North_Atlantic_basin...        NaN       NaN  ...   \n",
       "smyle.cdr-atlas-v0.glb-dor_North_Atlantic_basin...        NaN       NaN  ...   \n",
       "smyle.cdr-atlas-v0.glb-dor_North_Atlantic_basin...        NaN       NaN  ...   \n",
       "smyle.cdr-atlas-v0.glb-dor_North_Atlantic_basin...        NaN       NaN  ...   \n",
       "smyle.cdr-atlas-v0.glb-dor_North_Atlantic_basin...        NaN       NaN  ...   \n",
       "\n",
       "                                                    diazC_rmse  diazChl_rmse  \\\n",
       "case                                                                           \n",
       "smyle.cdr-atlas-v0.control.001                        0.000601      0.000147   \n",
       "smyle.cdr-atlas-v0.glb-dor_North_Atlantic_basin...         NaN           NaN   \n",
       "smyle.cdr-atlas-v0.glb-dor_North_Atlantic_basin...         NaN           NaN   \n",
       "smyle.cdr-atlas-v0.glb-dor_North_Atlantic_basin...         NaN           NaN   \n",
       "smyle.cdr-atlas-v0.glb-dor_North_Atlantic_basin...         NaN           NaN   \n",
       "...                                                        ...           ...   \n",
       "smyle.cdr-atlas-v0.glb-dor_North_Atlantic_basin...         NaN           NaN   \n",
       "smyle.cdr-atlas-v0.glb-dor_North_Atlantic_basin...         NaN           NaN   \n",
       "smyle.cdr-atlas-v0.glb-dor_North_Atlantic_basin...         NaN           NaN   \n",
       "smyle.cdr-atlas-v0.glb-dor_North_Atlantic_basin...         NaN           NaN   \n",
       "smyle.cdr-atlas-v0.glb-dor_North_Atlantic_basin...         NaN           NaN   \n",
       "\n",
       "                                                     diazFe_rmse  diazP_rmse  \\\n",
       "case                                                                           \n",
       "smyle.cdr-atlas-v0.control.001                      4.014262e-08    0.000005   \n",
       "smyle.cdr-atlas-v0.glb-dor_North_Atlantic_basin...           NaN         NaN   \n",
       "smyle.cdr-atlas-v0.glb-dor_North_Atlantic_basin...           NaN         NaN   \n",
       "smyle.cdr-atlas-v0.glb-dor_North_Atlantic_basin...           NaN         NaN   \n",
       "smyle.cdr-atlas-v0.glb-dor_North_Atlantic_basin...           NaN         NaN   \n",
       "...                                                          ...         ...   \n",
       "smyle.cdr-atlas-v0.glb-dor_North_Atlantic_basin...           NaN         NaN   \n",
       "smyle.cdr-atlas-v0.glb-dor_North_Atlantic_basin...           NaN         NaN   \n",
       "smyle.cdr-atlas-v0.glb-dor_North_Atlantic_basin...           NaN         NaN   \n",
       "smyle.cdr-atlas-v0.glb-dor_North_Atlantic_basin...           NaN         NaN   \n",
       "smyle.cdr-atlas-v0.glb-dor_North_Atlantic_basin...           NaN         NaN   \n",
       "\n",
       "                                                    spC_rmse  spCaCO3_rmse  \\\n",
       "case                                                                         \n",
       "smyle.cdr-atlas-v0.control.001                      0.025289      0.005248   \n",
       "smyle.cdr-atlas-v0.glb-dor_North_Atlantic_basin...       NaN           NaN   \n",
       "smyle.cdr-atlas-v0.glb-dor_North_Atlantic_basin...       NaN           NaN   \n",
       "smyle.cdr-atlas-v0.glb-dor_North_Atlantic_basin...       NaN           NaN   \n",
       "smyle.cdr-atlas-v0.glb-dor_North_Atlantic_basin...       NaN           NaN   \n",
       "...                                                      ...           ...   \n",
       "smyle.cdr-atlas-v0.glb-dor_North_Atlantic_basin...       NaN           NaN   \n",
       "smyle.cdr-atlas-v0.glb-dor_North_Atlantic_basin...       NaN           NaN   \n",
       "smyle.cdr-atlas-v0.glb-dor_North_Atlantic_basin...       NaN           NaN   \n",
       "smyle.cdr-atlas-v0.glb-dor_North_Atlantic_basin...       NaN           NaN   \n",
       "smyle.cdr-atlas-v0.glb-dor_North_Atlantic_basin...       NaN           NaN   \n",
       "\n",
       "                                                    spChl_rmse     spFe_rmse  \\\n",
       "case                                                                           \n",
       "smyle.cdr-atlas-v0.control.001                        0.003786  6.857399e-07   \n",
       "smyle.cdr-atlas-v0.glb-dor_North_Atlantic_basin...         NaN           NaN   \n",
       "smyle.cdr-atlas-v0.glb-dor_North_Atlantic_basin...         NaN           NaN   \n",
       "smyle.cdr-atlas-v0.glb-dor_North_Atlantic_basin...         NaN           NaN   \n",
       "smyle.cdr-atlas-v0.glb-dor_North_Atlantic_basin...         NaN           NaN   \n",
       "...                                                        ...           ...   \n",
       "smyle.cdr-atlas-v0.glb-dor_North_Atlantic_basin...         NaN           NaN   \n",
       "smyle.cdr-atlas-v0.glb-dor_North_Atlantic_basin...         NaN           NaN   \n",
       "smyle.cdr-atlas-v0.glb-dor_North_Atlantic_basin...         NaN           NaN   \n",
       "smyle.cdr-atlas-v0.glb-dor_North_Atlantic_basin...         NaN           NaN   \n",
       "smyle.cdr-atlas-v0.glb-dor_North_Atlantic_basin...         NaN           NaN   \n",
       "\n",
       "                                                    spP_rmse  zooC_rmse  \n",
       "case                                                                     \n",
       "smyle.cdr-atlas-v0.control.001                      0.000216   0.010324  \n",
       "smyle.cdr-atlas-v0.glb-dor_North_Atlantic_basin...       NaN        NaN  \n",
       "smyle.cdr-atlas-v0.glb-dor_North_Atlantic_basin...       NaN        NaN  \n",
       "smyle.cdr-atlas-v0.glb-dor_North_Atlantic_basin...       NaN        NaN  \n",
       "smyle.cdr-atlas-v0.glb-dor_North_Atlantic_basin...       NaN        NaN  \n",
       "...                                                      ...        ...  \n",
       "smyle.cdr-atlas-v0.glb-dor_North_Atlantic_basin...       NaN        NaN  \n",
       "smyle.cdr-atlas-v0.glb-dor_North_Atlantic_basin...       NaN        NaN  \n",
       "smyle.cdr-atlas-v0.glb-dor_North_Atlantic_basin...       NaN        NaN  \n",
       "smyle.cdr-atlas-v0.glb-dor_North_Atlantic_basin...       NaN        NaN  \n",
       "smyle.cdr-atlas-v0.glb-dor_North_Atlantic_basin...       NaN        NaN  \n",
       "\n",
       "[445 rows x 40 columns]"
      ]
     },
     "execution_count": 7,
     "metadata": {},
     "output_type": "execute_result"
    }
   ],
   "source": [
    "df = calc.df_validation\n",
    "df"
   ]
  },
  {
   "cell_type": "code",
   "execution_count": 8,
   "id": "3e57dbb8-5051-486f-acb2-80d3543ab768",
   "metadata": {
    "tags": []
   },
   "outputs": [
    {
     "data": {
      "text/plain": [
       "<Axes: ylabel='Frequency'>"
      ]
     },
     "execution_count": 8,
     "metadata": {},
     "output_type": "execute_result"
    },
    {
     "data": {
      "image/png": "[encoded data removed]",
      "text/plain": [
       "<Figure size 640x480 with 1 Axes>"
      ]
     },
     "metadata": {},
     "output_type": "display_data"
    }
   ],
   "source": [
    "df.ALK_ALT_CO2_rmse.plot.hist(bins=20)"
   ]
  },
  {
   "cell_type": "code",
   "execution_count": 9,
   "id": "51d7d9e8-924c-4fd1-9f9e-6180b7ae5adc",
   "metadata": {
    "tags": []
   },
   "outputs": [
    {
     "data": {
      "text/plain": [
       "<Axes: ylabel='Frequency'>"
      ]
     },
     "execution_count": 9,
     "metadata": {},
     "output_type": "execute_result"
    },
    {
     "data": {
      "image/png": "[encoded data removed]",
      "text/plain": [
       "<Figure size 640x480 with 1 Axes>"
      ]
     },
     "metadata": {},
     "output_type": "display_data"
    }
   ],
   "source": [
    "df.DIC_ALT_CO2_rmse.plot.hist(bins=20)"
   ]
  },
  {
   "cell_type": "code",
   "execution_count": 10,
   "id": "63b76673-bed4-44cd-be5b-16a4b3d30e1c",
   "metadata": {
    "tags": []
   },
   "outputs": [
    {
     "data": {
      "text/plain": [
       "<Axes: ylabel='Frequency'>"
      ]
     },
     "execution_count": 10,
     "metadata": {},
     "output_type": "execute_result"
    },
    {
     "data": {
      "image/png": "[encoded data removed]",
      "text/plain": [
       "<Figure size 640x480 with 1 Axes>"
      ]
     },
     "metadata": {},
     "output_type": "display_data"
    }
   ],
   "source": [
    "df.FG_ALT_CO2_rmse.plot.hist(bins=20)"
   ]
  },
  {
   "cell_type": "markdown",
   "id": "8a845ca3-350d-44f5-857e-897a32c797b7",
   "metadata": {
    "tags": []
   },
   "source": [
    "## Analysis"
   ]
  },
  {
   "cell_type": "code",
   "execution_count": 11,
   "id": "054ed425-2eb1-4bec-930c-0e3fcc9c6151",
   "metadata": {},
   "outputs": [
    {
     "name": "stdout",
     "output_type": "stream",
     "text": [
      "spinning up dask cluster with scheduler:\n",
      "  /pscratch/sd/m/mattlong/Ocean-CDR-Atlas-v0/dask/dask_scheduler_file.th8i8t8o.json\n",
      "cluster running...\n",
      "Dashboard:\n",
      " https://jupyter.nersc.gov//user/mattlong/perlmutter-login-node-base/proxy/10.249.7.41:8787/status\n",
      "================================================================================\n",
      "smyle.cdr-atlas-v0.glb-dor_North_Atlantic_basin_000_1999-01-01_00000.001\n",
      "computing /global/cfs/projectdirs/m4746/Projects/Ocean-CDR-Atlas-v0/data/analysis/smyle.cdr-atlas-v0.glb-dor_North_Atlantic_basin_000_1999-01-01_00000.001.analysis.zarr\n",
      "writing /global/cfs/projectdirs/m4746/Projects/Ocean-CDR-Atlas-v0/data/analysis/smyle.cdr-atlas-v0.glb-dor_North_Atlantic_basin_000_1999-01-01_00000.001.analysis.zarr\n",
      "================================================================================\n",
      "smyle.cdr-atlas-v0.glb-dor_North_Atlantic_basin_000_1999-04-01_00001.001\n",
      "computing /global/cfs/projectdirs/m4746/Projects/Ocean-CDR-Atlas-v0/data/analysis/smyle.cdr-atlas-v0.glb-dor_North_Atlantic_basin_000_1999-04-01_00001.001.analysis.zarr\n",
      "writing /global/cfs/projectdirs/m4746/Projects/Ocean-CDR-Atlas-v0/data/analysis/smyle.cdr-atlas-v0.glb-dor_North_Atlantic_basin_000_1999-04-01_00001.001.analysis.zarr\n",
      "================================================================================\n",
      "smyle.cdr-atlas-v0.glb-dor_North_Atlantic_basin_000_1999-07-01_00002.001\n",
      "computing /global/cfs/projectdirs/m4746/Projects/Ocean-CDR-Atlas-v0/data/analysis/smyle.cdr-atlas-v0.glb-dor_North_Atlantic_basin_000_1999-07-01_00002.001.analysis.zarr\n"
     ]
    },
    {
     "ename": "RuntimeError",
     "evalue": "NetCDF: Not a valid ID",
     "output_type": "error",
     "traceback": [
      "\u001b[0;31m---------------------------------------------------------------------------\u001b[0m",
      "\u001b[0;31mKeyError\u001b[0m                                  Traceback (most recent call last)",
      "File \u001b[0;32m~/.conda/envs/cworthy/lib/python3.12/site-packages/xarray/backends/file_manager.py:211\u001b[0m, in \u001b[0;36m_acquire_with_cache_info\u001b[0;34m()\u001b[0m\n\u001b[1;32m    210\u001b[0m \u001b[38;5;28;01mtry\u001b[39;00m:\n\u001b[0;32m--> 211\u001b[0m     file \u001b[38;5;241m=\u001b[39m \u001b[38;5;28mself\u001b[39m\u001b[38;5;241m.\u001b[39m_cache[\u001b[38;5;28mself\u001b[39m\u001b[38;5;241m.\u001b[39m_key]\n\u001b[1;32m    212\u001b[0m \u001b[38;5;28;01mexcept\u001b[39;00m \u001b[38;5;167;01mKeyError\u001b[39;00m:\n",
      "File \u001b[0;32m~/.conda/envs/cworthy/lib/python3.12/site-packages/xarray/backends/lru_cache.py:56\u001b[0m, in \u001b[0;36m__getitem__\u001b[0;34m()\u001b[0m\n\u001b[1;32m     55\u001b[0m \u001b[38;5;28;01mwith\u001b[39;00m \u001b[38;5;28mself\u001b[39m\u001b[38;5;241m.\u001b[39m_lock:\n\u001b[0;32m---> 56\u001b[0m     value \u001b[38;5;241m=\u001b[39m \u001b[38;5;28mself\u001b[39m\u001b[38;5;241m.\u001b[39m_cache[key]\n\u001b[1;32m     57\u001b[0m     \u001b[38;5;28mself\u001b[39m\u001b[38;5;241m.\u001b[39m_cache\u001b[38;5;241m.\u001b[39mmove_to_end(key)\n",
      "\u001b[0;31mKeyError\u001b[0m: [<class 'netCDF4._netCDF4.Dataset'>, ('/global/cfs/projectdirs/m4746/Projects/Ocean-CDR-Atlas-v0/data/archive/smyle.cdr-atlas-v0.glb-dor_North_Atlantic_basin_000_1999-07-01_00002.001/ocn/hist/smyle.cdr-atlas-v0.glb-dor_North_Atlantic_basin_000_1999-07-01_00002.001.pop.h.0361-09.nc',), 'r', (('clobber', True), ('diskless', False), ('format', 'NETCDF4'), ('persist', False)), 'bf4cafb3-d69c-46d9-a8a6-2728006a657e']",
      "\nDuring handling of the above exception, another exception occurred:\n",
      "\u001b[0;31mRuntimeError\u001b[0m                              Traceback (most recent call last)",
      "Cell \u001b[0;32mIn[11], line 1\u001b[0m\n\u001b[0;32m----> 1\u001b[0m paths \u001b[38;5;241m=\u001b[39m \u001b[43mcalc\u001b[49m\u001b[38;5;241;43m.\u001b[39;49m\u001b[43manalyze\u001b[49m\u001b[43m(\u001b[49m\u001b[43mclobber\u001b[49m\u001b[38;5;241;43m=\u001b[39;49m\u001b[43mclobber\u001b[49m\u001b[43m,\u001b[49m\u001b[43m \u001b[49m\u001b[43mn\u001b[49m\u001b[38;5;241;43m=\u001b[39;49m\u001b[38;5;241;43m445\u001b[39;49m\u001b[43m)\u001b[49m\n\u001b[1;32m      2\u001b[0m paths\n",
      "File \u001b[0;32m/global/u2/m/mattlong/codes/Ocean-CDR-Atlas-v0/workflows/atlas.py:475\u001b[0m, in \u001b[0;36mglobal_irf_map.analyze\u001b[0;34m(self, clobber, n)\u001b[0m\n\u001b[1;32m    473\u001b[0m     \u001b[38;5;28mprint\u001b[39m(\u001b[38;5;124m\"\u001b[39m\u001b[38;5;124m=\u001b[39m\u001b[38;5;124m\"\u001b[39m \u001b[38;5;241m*\u001b[39m \u001b[38;5;241m80\u001b[39m)\n\u001b[1;32m    474\u001b[0m     \u001b[38;5;28mprint\u001b[39m(case, end\u001b[38;5;241m=\u001b[39m\u001b[38;5;124m\"\u001b[39m\u001b[38;5;130;01m\\n\u001b[39;00m\u001b[38;5;124m\"\u001b[39m)\n\u001b[0;32m--> 475\u001b[0m     paths\u001b[38;5;241m.\u001b[39mappend(\u001b[38;5;28;43mself\u001b[39;49m\u001b[38;5;241;43m.\u001b[39;49m\u001b[43m_analyze_case\u001b[49m\u001b[43m(\u001b[49m\u001b[43mcase\u001b[49m\u001b[43m,\u001b[49m\u001b[43m \u001b[49m\u001b[43mclobber\u001b[49m\u001b[43m)\u001b[49m)\n\u001b[1;32m    477\u001b[0m \u001b[38;5;28;01mif\u001b[39;00m \u001b[38;5;28mself\u001b[39m\u001b[38;5;241m.\u001b[39mdask_cluster \u001b[38;5;129;01mis\u001b[39;00m \u001b[38;5;129;01mnot\u001b[39;00m \u001b[38;5;28;01mNone\u001b[39;00m:\n\u001b[1;32m    478\u001b[0m     \u001b[38;5;28mself\u001b[39m\u001b[38;5;241m.\u001b[39mdask_cluster\u001b[38;5;241m.\u001b[39mshutdown()\n",
      "File \u001b[0;32m/global/u2/m/mattlong/codes/Ocean-CDR-Atlas-v0/workflows/atlas.py:717\u001b[0m, in \u001b[0;36mglobal_irf_map._analyze_case\u001b[0;34m(self, case, clobber)\u001b[0m\n\u001b[1;32m    714\u001b[0m ds \u001b[38;5;241m=\u001b[39m analysis\u001b[38;5;241m.\u001b[39mopen_gx1v7_dataset(case, stream\u001b[38;5;241m=\u001b[39m\u001b[38;5;124m\"\u001b[39m\u001b[38;5;124mpop.h\u001b[39m\u001b[38;5;124m\"\u001b[39m)\n\u001b[1;32m    716\u001b[0m \u001b[38;5;28mprint\u001b[39m(\u001b[38;5;124mf\u001b[39m\u001b[38;5;124m\"\u001b[39m\u001b[38;5;124mcomputing \u001b[39m\u001b[38;5;132;01m{\u001b[39;00mzarr_store\u001b[38;5;132;01m}\u001b[39;00m\u001b[38;5;124m\"\u001b[39m)\n\u001b[0;32m--> 717\u001b[0m ds_out \u001b[38;5;241m=\u001b[39m \u001b[43manalysis\u001b[49m\u001b[38;5;241;43m.\u001b[39;49m\u001b[43mreduction\u001b[49m\u001b[43m(\u001b[49m\u001b[43mds\u001b[49m\u001b[43m)\u001b[49m\u001b[38;5;241;43m.\u001b[39;49m\u001b[43mcompute\u001b[49m\u001b[43m(\u001b[49m\u001b[43m)\u001b[49m\n\u001b[1;32m    719\u001b[0m \u001b[38;5;28mprint\u001b[39m(\u001b[38;5;124mf\u001b[39m\u001b[38;5;124m\"\u001b[39m\u001b[38;5;124mwriting \u001b[39m\u001b[38;5;132;01m{\u001b[39;00mzarr_store\u001b[38;5;132;01m}\u001b[39;00m\u001b[38;5;124m\"\u001b[39m)\n\u001b[1;32m    720\u001b[0m ds_out\u001b[38;5;241m.\u001b[39mto_zarr(\n\u001b[1;32m    721\u001b[0m     zarr_store,\n\u001b[1;32m    722\u001b[0m     mode\u001b[38;5;241m=\u001b[39m\u001b[38;5;124m\"\u001b[39m\u001b[38;5;124mw\u001b[39m\u001b[38;5;124m\"\u001b[39m,\n\u001b[1;32m    723\u001b[0m     consolidated\u001b[38;5;241m=\u001b[39m\u001b[38;5;28;01mTrue\u001b[39;00m,\n\u001b[1;32m    724\u001b[0m )\n",
      "File \u001b[0;32m~/.conda/envs/cworthy/lib/python3.12/site-packages/xarray/core/dataset.py:1043\u001b[0m, in \u001b[0;36mDataset.compute\u001b[0;34m(self, **kwargs)\u001b[0m\n\u001b[1;32m   1019\u001b[0m \u001b[38;5;250m\u001b[39m\u001b[38;5;124;03m\"\"\"Manually trigger loading and/or computation of this dataset's data\u001b[39;00m\n\u001b[1;32m   1020\u001b[0m \u001b[38;5;124;03mfrom disk or a remote source into memory and return a new dataset.\u001b[39;00m\n\u001b[1;32m   1021\u001b[0m \u001b[38;5;124;03mUnlike load, the original dataset is left unaltered.\u001b[39;00m\n\u001b[0;32m   (...)\u001b[0m\n\u001b[1;32m   1040\u001b[0m \u001b[38;5;124;03mdask.compute\u001b[39;00m\n\u001b[1;32m   1041\u001b[0m \u001b[38;5;124;03m\"\"\"\u001b[39;00m\n\u001b[1;32m   1042\u001b[0m new \u001b[38;5;241m=\u001b[39m \u001b[38;5;28mself\u001b[39m\u001b[38;5;241m.\u001b[39mcopy(deep\u001b[38;5;241m=\u001b[39m\u001b[38;5;28;01mFalse\u001b[39;00m)\n\u001b[0;32m-> 1043\u001b[0m \u001b[38;5;28;01mreturn\u001b[39;00m \u001b[43mnew\u001b[49m\u001b[38;5;241;43m.\u001b[39;49m\u001b[43mload\u001b[49m\u001b[43m(\u001b[49m\u001b[38;5;241;43m*\u001b[39;49m\u001b[38;5;241;43m*\u001b[39;49m\u001b[43mkwargs\u001b[49m\u001b[43m)\u001b[49m\n",
      "File \u001b[0;32m~/.conda/envs/cworthy/lib/python3.12/site-packages/xarray/core/dataset.py:870\u001b[0m, in \u001b[0;36mDataset.load\u001b[0;34m(self, **kwargs)\u001b[0m\n\u001b[1;32m    867\u001b[0m chunkmanager \u001b[38;5;241m=\u001b[39m get_chunked_array_type(\u001b[38;5;241m*\u001b[39mlazy_data\u001b[38;5;241m.\u001b[39mvalues())\n\u001b[1;32m    869\u001b[0m \u001b[38;5;66;03m# evaluate all the chunked arrays simultaneously\u001b[39;00m\n\u001b[0;32m--> 870\u001b[0m evaluated_data: \u001b[38;5;28mtuple\u001b[39m[np\u001b[38;5;241m.\u001b[39mndarray[Any, Any], \u001b[38;5;241m.\u001b[39m\u001b[38;5;241m.\u001b[39m\u001b[38;5;241m.\u001b[39m] \u001b[38;5;241m=\u001b[39m \u001b[43mchunkmanager\u001b[49m\u001b[38;5;241;43m.\u001b[39;49m\u001b[43mcompute\u001b[49m\u001b[43m(\u001b[49m\n\u001b[1;32m    871\u001b[0m \u001b[43m    \u001b[49m\u001b[38;5;241;43m*\u001b[39;49m\u001b[43mlazy_data\u001b[49m\u001b[38;5;241;43m.\u001b[39;49m\u001b[43mvalues\u001b[49m\u001b[43m(\u001b[49m\u001b[43m)\u001b[49m\u001b[43m,\u001b[49m\u001b[43m \u001b[49m\u001b[38;5;241;43m*\u001b[39;49m\u001b[38;5;241;43m*\u001b[39;49m\u001b[43mkwargs\u001b[49m\n\u001b[1;32m    872\u001b[0m \u001b[43m\u001b[49m\u001b[43m)\u001b[49m\n\u001b[1;32m    874\u001b[0m \u001b[38;5;28;01mfor\u001b[39;00m k, data \u001b[38;5;129;01min\u001b[39;00m \u001b[38;5;28mzip\u001b[39m(lazy_data, evaluated_data, strict\u001b[38;5;241m=\u001b[39m\u001b[38;5;28;01mFalse\u001b[39;00m):\n\u001b[1;32m    875\u001b[0m     \u001b[38;5;28mself\u001b[39m\u001b[38;5;241m.\u001b[39mvariables[k]\u001b[38;5;241m.\u001b[39mdata \u001b[38;5;241m=\u001b[39m data\n",
      "File \u001b[0;32m~/.conda/envs/cworthy/lib/python3.12/site-packages/xarray/namedarray/daskmanager.py:86\u001b[0m, in \u001b[0;36mDaskManager.compute\u001b[0;34m(self, *data, **kwargs)\u001b[0m\n\u001b[1;32m     81\u001b[0m \u001b[38;5;28;01mdef\u001b[39;00m \u001b[38;5;21mcompute\u001b[39m(\n\u001b[1;32m     82\u001b[0m     \u001b[38;5;28mself\u001b[39m, \u001b[38;5;241m*\u001b[39mdata: Any, \u001b[38;5;241m*\u001b[39m\u001b[38;5;241m*\u001b[39mkwargs: Any\n\u001b[1;32m     83\u001b[0m ) \u001b[38;5;241m-\u001b[39m\u001b[38;5;241m>\u001b[39m \u001b[38;5;28mtuple\u001b[39m[np\u001b[38;5;241m.\u001b[39mndarray[Any, _DType_co], \u001b[38;5;241m.\u001b[39m\u001b[38;5;241m.\u001b[39m\u001b[38;5;241m.\u001b[39m]:\n\u001b[1;32m     84\u001b[0m     \u001b[38;5;28;01mfrom\u001b[39;00m \u001b[38;5;21;01mdask\u001b[39;00m\u001b[38;5;21;01m.\u001b[39;00m\u001b[38;5;21;01marray\u001b[39;00m \u001b[38;5;28;01mimport\u001b[39;00m compute\n\u001b[0;32m---> 86\u001b[0m     \u001b[38;5;28;01mreturn\u001b[39;00m \u001b[43mcompute\u001b[49m\u001b[43m(\u001b[49m\u001b[38;5;241;43m*\u001b[39;49m\u001b[43mdata\u001b[49m\u001b[43m,\u001b[49m\u001b[43m \u001b[49m\u001b[38;5;241;43m*\u001b[39;49m\u001b[38;5;241;43m*\u001b[39;49m\u001b[43mkwargs\u001b[49m\u001b[43m)\u001b[49m\n",
      "File \u001b[0;32m~/.conda/envs/cworthy/lib/python3.12/site-packages/dask/base.py:660\u001b[0m, in \u001b[0;36mcompute\u001b[0;34m(traverse, optimize_graph, scheduler, get, *args, **kwargs)\u001b[0m\n\u001b[1;32m    657\u001b[0m     postcomputes\u001b[38;5;241m.\u001b[39mappend(x\u001b[38;5;241m.\u001b[39m__dask_postcompute__())\n\u001b[1;32m    659\u001b[0m \u001b[38;5;28;01mwith\u001b[39;00m shorten_traceback():\n\u001b[0;32m--> 660\u001b[0m     results \u001b[38;5;241m=\u001b[39m \u001b[43mschedule\u001b[49m\u001b[43m(\u001b[49m\u001b[43mdsk\u001b[49m\u001b[43m,\u001b[49m\u001b[43m \u001b[49m\u001b[43mkeys\u001b[49m\u001b[43m,\u001b[49m\u001b[43m \u001b[49m\u001b[38;5;241;43m*\u001b[39;49m\u001b[38;5;241;43m*\u001b[39;49m\u001b[43mkwargs\u001b[49m\u001b[43m)\u001b[49m\n\u001b[1;32m    662\u001b[0m \u001b[38;5;28;01mreturn\u001b[39;00m repack([f(r, \u001b[38;5;241m*\u001b[39ma) \u001b[38;5;28;01mfor\u001b[39;00m r, (f, a) \u001b[38;5;129;01min\u001b[39;00m \u001b[38;5;28mzip\u001b[39m(results, postcomputes)])\n",
      "File \u001b[0;32m~/.conda/envs/cworthy/lib/python3.12/site-packages/xarray/core/indexing.py:574\u001b[0m, in \u001b[0;36m__array__\u001b[0;34m()\u001b[0m\n\u001b[1;32m    573\u001b[0m \u001b[38;5;28;01mdef\u001b[39;00m \u001b[38;5;21m__array__\u001b[39m(\u001b[38;5;28mself\u001b[39m, dtype: np\u001b[38;5;241m.\u001b[39mtyping\u001b[38;5;241m.\u001b[39mDTypeLike \u001b[38;5;241m=\u001b[39m \u001b[38;5;28;01mNone\u001b[39;00m) \u001b[38;5;241m-\u001b[39m\u001b[38;5;241m>\u001b[39m np\u001b[38;5;241m.\u001b[39mndarray:\n\u001b[0;32m--> 574\u001b[0m     \u001b[38;5;28;01mreturn\u001b[39;00m np\u001b[38;5;241m.\u001b[39masarray(\u001b[38;5;28mself\u001b[39m\u001b[38;5;241m.\u001b[39mget_duck_array(), dtype\u001b[38;5;241m=\u001b[39mdtype)\n",
      "File \u001b[0;32m~/.conda/envs/cworthy/lib/python3.12/site-packages/xarray/core/indexing.py:577\u001b[0m, in \u001b[0;36mget_duck_array\u001b[0;34m()\u001b[0m\n\u001b[1;32m    576\u001b[0m \u001b[38;5;28;01mdef\u001b[39;00m \u001b[38;5;21mget_duck_array\u001b[39m(\u001b[38;5;28mself\u001b[39m):\n\u001b[0;32m--> 577\u001b[0m     \u001b[38;5;28;01mreturn\u001b[39;00m \u001b[38;5;28mself\u001b[39m\u001b[38;5;241m.\u001b[39marray\u001b[38;5;241m.\u001b[39mget_duck_array()\n",
      "File \u001b[0;32m~/.conda/envs/cworthy/lib/python3.12/site-packages/xarray/core/indexing.py:788\u001b[0m, in \u001b[0;36mget_duck_array\u001b[0;34m()\u001b[0m\n\u001b[1;32m    787\u001b[0m \u001b[38;5;28;01mdef\u001b[39;00m \u001b[38;5;21mget_duck_array\u001b[39m(\u001b[38;5;28mself\u001b[39m):\n\u001b[0;32m--> 788\u001b[0m     \u001b[38;5;28;01mreturn\u001b[39;00m \u001b[38;5;28mself\u001b[39m\u001b[38;5;241m.\u001b[39marray\u001b[38;5;241m.\u001b[39mget_duck_array()\n",
      "File \u001b[0;32m~/.conda/envs/cworthy/lib/python3.12/site-packages/xarray/core/indexing.py:658\u001b[0m, in \u001b[0;36mget_duck_array\u001b[0;34m()\u001b[0m\n\u001b[1;32m    653\u001b[0m \u001b[38;5;66;03m# self.array[self.key] is now a numpy array when\u001b[39;00m\n\u001b[1;32m    654\u001b[0m \u001b[38;5;66;03m# self.array is a BackendArray subclass\u001b[39;00m\n\u001b[1;32m    655\u001b[0m \u001b[38;5;66;03m# and self.key is BasicIndexer((slice(None, None, None),))\u001b[39;00m\n\u001b[1;32m    656\u001b[0m \u001b[38;5;66;03m# so we need the explicit check for ExplicitlyIndexed\u001b[39;00m\n\u001b[1;32m    657\u001b[0m \u001b[38;5;28;01mif\u001b[39;00m \u001b[38;5;28misinstance\u001b[39m(array, ExplicitlyIndexed):\n\u001b[0;32m--> 658\u001b[0m     array \u001b[38;5;241m=\u001b[39m array\u001b[38;5;241m.\u001b[39mget_duck_array()\n\u001b[1;32m    659\u001b[0m \u001b[38;5;28;01mreturn\u001b[39;00m _wrap_numpy_scalars(array)\n",
      "File \u001b[0;32m~/.conda/envs/cworthy/lib/python3.12/site-packages/xarray/coding/variables.py:81\u001b[0m, in \u001b[0;36mget_duck_array\u001b[0;34m()\u001b[0m\n\u001b[1;32m     80\u001b[0m \u001b[38;5;28;01mdef\u001b[39;00m \u001b[38;5;21mget_duck_array\u001b[39m(\u001b[38;5;28mself\u001b[39m):\n\u001b[0;32m---> 81\u001b[0m     \u001b[38;5;28;01mreturn\u001b[39;00m \u001b[38;5;28mself\u001b[39m\u001b[38;5;241m.\u001b[39mfunc(\u001b[38;5;28mself\u001b[39m\u001b[38;5;241m.\u001b[39marray\u001b[38;5;241m.\u001b[39mget_duck_array())\n",
      "File \u001b[0;32m~/.conda/envs/cworthy/lib/python3.12/site-packages/xarray/core/indexing.py:651\u001b[0m, in \u001b[0;36mget_duck_array\u001b[0;34m()\u001b[0m\n\u001b[1;32m    647\u001b[0m     array \u001b[38;5;241m=\u001b[39m apply_indexer(\u001b[38;5;28mself\u001b[39m\u001b[38;5;241m.\u001b[39marray, \u001b[38;5;28mself\u001b[39m\u001b[38;5;241m.\u001b[39mkey)\n\u001b[1;32m    648\u001b[0m \u001b[38;5;28;01melse\u001b[39;00m:\n\u001b[1;32m    649\u001b[0m     \u001b[38;5;66;03m# If the array is not an ExplicitlyIndexedNDArrayMixin,\u001b[39;00m\n\u001b[1;32m    650\u001b[0m     \u001b[38;5;66;03m# it may wrap a BackendArray so use its __getitem__\u001b[39;00m\n\u001b[0;32m--> 651\u001b[0m     array \u001b[38;5;241m=\u001b[39m \u001b[38;5;28mself\u001b[39m\u001b[38;5;241m.\u001b[39marray[\u001b[38;5;28mself\u001b[39m\u001b[38;5;241m.\u001b[39mkey]\n\u001b[1;32m    653\u001b[0m \u001b[38;5;66;03m# self.array[self.key] is now a numpy array when\u001b[39;00m\n\u001b[1;32m    654\u001b[0m \u001b[38;5;66;03m# self.array is a BackendArray subclass\u001b[39;00m\n\u001b[1;32m    655\u001b[0m \u001b[38;5;66;03m# and self.key is BasicIndexer((slice(None, None, None),))\u001b[39;00m\n\u001b[1;32m    656\u001b[0m \u001b[38;5;66;03m# so we need the explicit check for ExplicitlyIndexed\u001b[39;00m\n\u001b[1;32m    657\u001b[0m \u001b[38;5;28;01mif\u001b[39;00m \u001b[38;5;28misinstance\u001b[39m(array, ExplicitlyIndexed):\n",
      "File \u001b[0;32m~/.conda/envs/cworthy/lib/python3.12/site-packages/xarray/backends/netCDF4_.py:100\u001b[0m, in \u001b[0;36m__getitem__\u001b[0;34m()\u001b[0m\n\u001b[1;32m     99\u001b[0m \u001b[38;5;28;01mdef\u001b[39;00m \u001b[38;5;21m__getitem__\u001b[39m(\u001b[38;5;28mself\u001b[39m, key):\n\u001b[0;32m--> 100\u001b[0m     \u001b[38;5;28;01mreturn\u001b[39;00m indexing\u001b[38;5;241m.\u001b[39mexplicit_indexing_adapter(\n\u001b[1;32m    101\u001b[0m         key, \u001b[38;5;28mself\u001b[39m\u001b[38;5;241m.\u001b[39mshape, indexing\u001b[38;5;241m.\u001b[39mIndexingSupport\u001b[38;5;241m.\u001b[39mOUTER, \u001b[38;5;28mself\u001b[39m\u001b[38;5;241m.\u001b[39m_getitem\n\u001b[1;32m    102\u001b[0m     )\n",
      "File \u001b[0;32m~/.conda/envs/cworthy/lib/python3.12/site-packages/xarray/core/indexing.py:1015\u001b[0m, in \u001b[0;36mexplicit_indexing_adapter\u001b[0;34m()\u001b[0m\n\u001b[1;32m    993\u001b[0m \u001b[38;5;250m\u001b[39m\u001b[38;5;124;03m\"\"\"Support explicit indexing by delegating to a raw indexing method.\u001b[39;00m\n\u001b[1;32m    994\u001b[0m \n\u001b[1;32m    995\u001b[0m \u001b[38;5;124;03mOuter and/or vectorized indexers are supported by indexing a second time\u001b[39;00m\n\u001b[0;32m   (...)\u001b[0m\n\u001b[1;32m   1012\u001b[0m \u001b[38;5;124;03mIndexing result, in the form of a duck numpy-array.\u001b[39;00m\n\u001b[1;32m   1013\u001b[0m \u001b[38;5;124;03m\"\"\"\u001b[39;00m\n\u001b[1;32m   1014\u001b[0m raw_key, numpy_indices \u001b[38;5;241m=\u001b[39m decompose_indexer(key, shape, indexing_support)\n\u001b[0;32m-> 1015\u001b[0m result \u001b[38;5;241m=\u001b[39m raw_indexing_method(raw_key\u001b[38;5;241m.\u001b[39mtuple)\n\u001b[1;32m   1016\u001b[0m \u001b[38;5;28;01mif\u001b[39;00m numpy_indices\u001b[38;5;241m.\u001b[39mtuple:\n\u001b[1;32m   1017\u001b[0m     \u001b[38;5;66;03m# index the loaded np.ndarray\u001b[39;00m\n\u001b[1;32m   1018\u001b[0m     indexable \u001b[38;5;241m=\u001b[39m NumpyIndexingAdapter(result)\n",
      "File \u001b[0;32m~/.conda/envs/cworthy/lib/python3.12/site-packages/xarray/backends/netCDF4_.py:112\u001b[0m, in \u001b[0;36m_getitem\u001b[0;34m()\u001b[0m\n\u001b[1;32m    110\u001b[0m \u001b[38;5;28;01mtry\u001b[39;00m:\n\u001b[1;32m    111\u001b[0m     \u001b[38;5;28;01mwith\u001b[39;00m \u001b[38;5;28mself\u001b[39m\u001b[38;5;241m.\u001b[39mdatastore\u001b[38;5;241m.\u001b[39mlock:\n\u001b[0;32m--> 112\u001b[0m         original_array \u001b[38;5;241m=\u001b[39m \u001b[38;5;28mself\u001b[39m\u001b[38;5;241m.\u001b[39mget_array(needs_lock\u001b[38;5;241m=\u001b[39m\u001b[38;5;28;01mFalse\u001b[39;00m)\n\u001b[1;32m    113\u001b[0m         array \u001b[38;5;241m=\u001b[39m getitem(original_array, key)\n\u001b[1;32m    114\u001b[0m \u001b[38;5;28;01mexcept\u001b[39;00m \u001b[38;5;167;01mIndexError\u001b[39;00m:\n\u001b[1;32m    115\u001b[0m     \u001b[38;5;66;03m# Catch IndexError in netCDF4 and return a more informative\u001b[39;00m\n\u001b[1;32m    116\u001b[0m     \u001b[38;5;66;03m# error message.  This is most often called when an unsorted\u001b[39;00m\n\u001b[1;32m    117\u001b[0m     \u001b[38;5;66;03m# indexer is used before the data is loaded from disk.\u001b[39;00m\n",
      "File \u001b[0;32m~/.conda/envs/cworthy/lib/python3.12/site-packages/xarray/backends/netCDF4_.py:91\u001b[0m, in \u001b[0;36mget_array\u001b[0;34m()\u001b[0m\n\u001b[1;32m     90\u001b[0m \u001b[38;5;28;01mdef\u001b[39;00m \u001b[38;5;21mget_array\u001b[39m(\u001b[38;5;28mself\u001b[39m, needs_lock\u001b[38;5;241m=\u001b[39m\u001b[38;5;28;01mTrue\u001b[39;00m):\n\u001b[0;32m---> 91\u001b[0m     ds \u001b[38;5;241m=\u001b[39m \u001b[38;5;28mself\u001b[39m\u001b[38;5;241m.\u001b[39mdatastore\u001b[38;5;241m.\u001b[39m_acquire(needs_lock)\n\u001b[1;32m     92\u001b[0m     variable \u001b[38;5;241m=\u001b[39m ds\u001b[38;5;241m.\u001b[39mvariables[\u001b[38;5;28mself\u001b[39m\u001b[38;5;241m.\u001b[39mvariable_name]\n\u001b[1;32m     93\u001b[0m     variable\u001b[38;5;241m.\u001b[39mset_auto_maskandscale(\u001b[38;5;28;01mFalse\u001b[39;00m)\n",
      "File \u001b[0;32m~/.conda/envs/cworthy/lib/python3.12/site-packages/xarray/backends/netCDF4_.py:413\u001b[0m, in \u001b[0;36m_acquire\u001b[0;34m()\u001b[0m\n\u001b[1;32m    412\u001b[0m \u001b[38;5;28;01mdef\u001b[39;00m \u001b[38;5;21m_acquire\u001b[39m(\u001b[38;5;28mself\u001b[39m, needs_lock\u001b[38;5;241m=\u001b[39m\u001b[38;5;28;01mTrue\u001b[39;00m):\n\u001b[0;32m--> 413\u001b[0m     \u001b[38;5;28;01mwith\u001b[39;00m \u001b[38;5;28mself\u001b[39m\u001b[38;5;241m.\u001b[39m_manager\u001b[38;5;241m.\u001b[39macquire_context(needs_lock) \u001b[38;5;28;01mas\u001b[39;00m root:\n\u001b[1;32m    414\u001b[0m         ds \u001b[38;5;241m=\u001b[39m _nc4_require_group(root, \u001b[38;5;28mself\u001b[39m\u001b[38;5;241m.\u001b[39m_group, \u001b[38;5;28mself\u001b[39m\u001b[38;5;241m.\u001b[39m_mode)\n\u001b[1;32m    415\u001b[0m     \u001b[38;5;28;01mreturn\u001b[39;00m ds\n",
      "File \u001b[0;32m~/.conda/envs/cworthy/lib/python3.12/contextlib.py:137\u001b[0m, in \u001b[0;36m__enter__\u001b[0;34m()\u001b[0m\n\u001b[1;32m    135\u001b[0m \u001b[38;5;28;01mdel\u001b[39;00m \u001b[38;5;28mself\u001b[39m\u001b[38;5;241m.\u001b[39margs, \u001b[38;5;28mself\u001b[39m\u001b[38;5;241m.\u001b[39mkwds, \u001b[38;5;28mself\u001b[39m\u001b[38;5;241m.\u001b[39mfunc\n\u001b[1;32m    136\u001b[0m \u001b[38;5;28;01mtry\u001b[39;00m:\n\u001b[0;32m--> 137\u001b[0m     \u001b[38;5;28;01mreturn\u001b[39;00m \u001b[38;5;28mnext\u001b[39m(\u001b[38;5;28mself\u001b[39m\u001b[38;5;241m.\u001b[39mgen)\n\u001b[1;32m    138\u001b[0m \u001b[38;5;28;01mexcept\u001b[39;00m \u001b[38;5;167;01mStopIteration\u001b[39;00m:\n\u001b[1;32m    139\u001b[0m     \u001b[38;5;28;01mraise\u001b[39;00m \u001b[38;5;167;01mRuntimeError\u001b[39;00m(\u001b[38;5;124m\"\u001b[39m\u001b[38;5;124mgenerator didn\u001b[39m\u001b[38;5;124m'\u001b[39m\u001b[38;5;124mt yield\u001b[39m\u001b[38;5;124m\"\u001b[39m) \u001b[38;5;28;01mfrom\u001b[39;00m \u001b[38;5;28;01mNone\u001b[39;00m\n",
      "File \u001b[0;32m~/.conda/envs/cworthy/lib/python3.12/site-packages/xarray/backends/file_manager.py:199\u001b[0m, in \u001b[0;36macquire_context\u001b[0;34m()\u001b[0m\n\u001b[1;32m    196\u001b[0m \u001b[38;5;129m@contextlib\u001b[39m\u001b[38;5;241m.\u001b[39mcontextmanager\n\u001b[1;32m    197\u001b[0m \u001b[38;5;28;01mdef\u001b[39;00m \u001b[38;5;21macquire_context\u001b[39m(\u001b[38;5;28mself\u001b[39m, needs_lock\u001b[38;5;241m=\u001b[39m\u001b[38;5;28;01mTrue\u001b[39;00m):\n\u001b[1;32m    198\u001b[0m \u001b[38;5;250m    \u001b[39m\u001b[38;5;124;03m\"\"\"Context manager for acquiring a file.\"\"\"\u001b[39;00m\n\u001b[0;32m--> 199\u001b[0m     file, cached \u001b[38;5;241m=\u001b[39m \u001b[38;5;28mself\u001b[39m\u001b[38;5;241m.\u001b[39m_acquire_with_cache_info(needs_lock)\n\u001b[1;32m    200\u001b[0m     \u001b[38;5;28;01mtry\u001b[39;00m:\n\u001b[1;32m    201\u001b[0m         \u001b[38;5;28;01myield\u001b[39;00m file\n",
      "File \u001b[0;32m~/.conda/envs/cworthy/lib/python3.12/site-packages/xarray/backends/file_manager.py:217\u001b[0m, in \u001b[0;36m_acquire_with_cache_info\u001b[0;34m()\u001b[0m\n\u001b[1;32m    215\u001b[0m     kwargs \u001b[38;5;241m=\u001b[39m kwargs\u001b[38;5;241m.\u001b[39mcopy()\n\u001b[1;32m    216\u001b[0m     kwargs[\u001b[38;5;124m\"\u001b[39m\u001b[38;5;124mmode\u001b[39m\u001b[38;5;124m\"\u001b[39m] \u001b[38;5;241m=\u001b[39m \u001b[38;5;28mself\u001b[39m\u001b[38;5;241m.\u001b[39m_mode\n\u001b[0;32m--> 217\u001b[0m file \u001b[38;5;241m=\u001b[39m \u001b[38;5;28mself\u001b[39m\u001b[38;5;241m.\u001b[39m_opener(\u001b[38;5;241m*\u001b[39m\u001b[38;5;28mself\u001b[39m\u001b[38;5;241m.\u001b[39m_args, \u001b[38;5;241m*\u001b[39m\u001b[38;5;241m*\u001b[39mkwargs)\n\u001b[1;32m    218\u001b[0m \u001b[38;5;28;01mif\u001b[39;00m \u001b[38;5;28mself\u001b[39m\u001b[38;5;241m.\u001b[39m_mode \u001b[38;5;241m==\u001b[39m \u001b[38;5;124m\"\u001b[39m\u001b[38;5;124mw\u001b[39m\u001b[38;5;124m\"\u001b[39m:\n\u001b[1;32m    219\u001b[0m     \u001b[38;5;66;03m# ensure file doesn't get overridden when opened again\u001b[39;00m\n\u001b[1;32m    220\u001b[0m     \u001b[38;5;28mself\u001b[39m\u001b[38;5;241m.\u001b[39m_mode \u001b[38;5;241m=\u001b[39m \u001b[38;5;124m\"\u001b[39m\u001b[38;5;124ma\u001b[39m\u001b[38;5;124m\"\u001b[39m\n",
      "File \u001b[0;32msrc/netCDF4/_netCDF4.pyx:2473\u001b[0m, in \u001b[0;36mnetCDF4._netCDF4.Dataset.__init__\u001b[0;34m()\u001b[0m\n",
      "File \u001b[0;32msrc/netCDF4/_netCDF4.pyx:1700\u001b[0m, in \u001b[0;36mnetCDF4._netCDF4._get_format\u001b[0;34m()\u001b[0m\n",
      "File \u001b[0;32msrc/netCDF4/_netCDF4.pyx:2113\u001b[0m, in \u001b[0;36mnetCDF4._netCDF4._ensure_nc_success\u001b[0;34m()\u001b[0m\n",
      "\u001b[0;31mRuntimeError\u001b[0m: NetCDF: Not a valid ID"
     ]
    },
    {
     "name": "stderr",
     "output_type": "stream",
     "text": [
      "2025-01-07 20:08:18,628 - distributed.client - ERROR - Failed to reconnect to scheduler after 30.00 seconds, closing client\n"
     ]
    }
   ],
   "source": [
    "paths = calc.analyze(clobber=clobber, n=445)\n",
    "paths"
   ]
  },
  {
   "cell_type": "code",
   "execution_count": null,
   "id": "6a64bd05-f72e-4422-beb6-effcc19445c8",
   "metadata": {
    "tags": []
   },
   "outputs": [],
   "source": [
    "fig, ax = plt.subplots(1, 1, figsize=(6, 4))\n",
    "for p in paths:\n",
    "    da = xr.open_zarr(p)[\"DIC_ADD_TOTAL\"]\n",
    "    da.plot(ax=ax)"
   ]
  },
  {
   "cell_type": "markdown",
   "id": "4878faa5-0a6f-4205-a384-121fff76d3ed",
   "metadata": {},
   "source": [
    "## Visualization"
   ]
  },
  {
   "cell_type": "code",
   "execution_count": null,
   "id": "459c0c95-4d87-45d2-a379-16b3525ba6d4",
   "metadata": {
    "tags": []
   },
   "outputs": [
    {
     "name": "stdout",
     "output_type": "stream",
     "text": [
      "executing: /global/u2/m/mattlong/codes/Ocean-CDR-Atlas-v0/workflows/output/validation/smyle.cdr-atlas-v0.control.001.ipynb\n"
     ]
    },
    {
     "data": {
      "application/vnd.jupyter.widget-view+json": {
       "model_id": "56203b02177f49bf83704cad0e85eb6a",
       "version_major": 2,
       "version_minor": 0
      },
      "text/plain": [
       "Executing:   0%|          | 0/7 [00:00<?, ?cell/s]"
      ]
     },
     "metadata": {},
     "output_type": "display_data"
    },
    {
     "name": "stdout",
     "output_type": "stream",
     "text": [
      "executing: /global/u2/m/mattlong/codes/Ocean-CDR-Atlas-v0/workflows/output/validation/smyle.cdr-atlas-v0.glb-dor_North_Atlantic_basin_000_1999-01-01_00000.001.ipynb\n"
     ]
    },
    {
     "data": {
      "application/vnd.jupyter.widget-view+json": {
       "model_id": "65318fafbcd84f3caf8b92eaca3f9a95",
       "version_major": 2,
       "version_minor": 0
      },
      "text/plain": [
       "Executing:   0%|          | 0/7 [00:00<?, ?cell/s]"
      ]
     },
     "metadata": {},
     "output_type": "display_data"
    },
    {
     "name": "stdout",
     "output_type": "stream",
     "text": [
      "executing: /global/u2/m/mattlong/codes/Ocean-CDR-Atlas-v0/workflows/output/analysis/smyle.cdr-atlas-v0.glb-dor_North_Atlantic_basin_000_1999-01-01_00000.001.ipynb\n"
     ]
    },
    {
     "data": {
      "application/vnd.jupyter.widget-view+json": {
       "model_id": "8e9cfcd2a0744a09b5d30901795dfa27",
       "version_major": 2,
       "version_minor": 0
      },
      "text/plain": [
       "Executing:   0%|          | 0/15 [00:00<?, ?cell/s]"
      ]
     },
     "metadata": {},
     "output_type": "display_data"
    },
    {
     "name": "stdout",
     "output_type": "stream",
     "text": [
      "executing: /global/u2/m/mattlong/codes/Ocean-CDR-Atlas-v0/workflows/output/validation/smyle.cdr-atlas-v0.glb-dor_North_Atlantic_basin_000_1999-04-01_00001.001.ipynb\n"
     ]
    },
    {
     "data": {
      "application/vnd.jupyter.widget-view+json": {
       "model_id": "a7119de3caca40d9bef10e18128ba55f",
       "version_major": 2,
       "version_minor": 0
      },
      "text/plain": [
       "Executing:   0%|          | 0/7 [00:00<?, ?cell/s]"
      ]
     },
     "metadata": {},
     "output_type": "display_data"
    },
    {
     "name": "stdout",
     "output_type": "stream",
     "text": [
      "executing: /global/u2/m/mattlong/codes/Ocean-CDR-Atlas-v0/workflows/output/analysis/smyle.cdr-atlas-v0.glb-dor_North_Atlantic_basin_000_1999-04-01_00001.001.ipynb\n"
     ]
    },
    {
     "data": {
      "application/vnd.jupyter.widget-view+json": {
       "model_id": "2c630ccf68e74a798864bcf4b88b43ab",
       "version_major": 2,
       "version_minor": 0
      },
      "text/plain": [
       "Executing:   0%|          | 0/15 [00:00<?, ?cell/s]"
      ]
     },
     "metadata": {},
     "output_type": "display_data"
    },
    {
     "name": "stdout",
     "output_type": "stream",
     "text": [
      "executing: /global/u2/m/mattlong/codes/Ocean-CDR-Atlas-v0/workflows/output/validation/smyle.cdr-atlas-v0.glb-dor_North_Atlantic_basin_000_1999-07-01_00002.001.ipynb\n"
     ]
    },
    {
     "data": {
      "application/vnd.jupyter.widget-view+json": {
       "model_id": "52e3c12b4a184dc585f0022cc119616a",
       "version_major": 2,
       "version_minor": 0
      },
      "text/plain": [
       "Executing:   0%|          | 0/7 [00:00<?, ?cell/s]"
      ]
     },
     "metadata": {},
     "output_type": "display_data"
    },
    {
     "name": "stdout",
     "output_type": "stream",
     "text": [
      "executing: /global/u2/m/mattlong/codes/Ocean-CDR-Atlas-v0/workflows/output/validation/smyle.cdr-atlas-v0.glb-dor_North_Atlantic_basin_000_1999-10-01_00003.001.ipynb\n"
     ]
    },
    {
     "data": {
      "application/vnd.jupyter.widget-view+json": {
       "model_id": "057b1c33c9a548869e00429504d9c31b",
       "version_major": 2,
       "version_minor": 0
      },
      "text/plain": [
       "Executing:   0%|          | 0/7 [00:00<?, ?cell/s]"
      ]
     },
     "metadata": {},
     "output_type": "display_data"
    },
    {
     "name": "stdout",
     "output_type": "stream",
     "text": [
      "executing: /global/u2/m/mattlong/codes/Ocean-CDR-Atlas-v0/workflows/output/validation/smyle.cdr-atlas-v0.glb-dor_North_Atlantic_basin_001_1999-01-01_00004.001.ipynb\n"
     ]
    },
    {
     "data": {
      "application/vnd.jupyter.widget-view+json": {
       "model_id": "28552be26685466dbbd6a16264b67b91",
       "version_major": 2,
       "version_minor": 0
      },
      "text/plain": [
       "Executing:   0%|          | 0/7 [00:00<?, ?cell/s]"
      ]
     },
     "metadata": {},
     "output_type": "display_data"
    },
    {
     "name": "stdout",
     "output_type": "stream",
     "text": [
      "executing: /global/u2/m/mattlong/codes/Ocean-CDR-Atlas-v0/workflows/output/validation/smyle.cdr-atlas-v0.glb-dor_North_Atlantic_basin_001_1999-04-01_00005.001.ipynb\n"
     ]
    },
    {
     "data": {
      "application/vnd.jupyter.widget-view+json": {
       "model_id": "9b9a54071c0644bea09034249912ca30",
       "version_major": 2,
       "version_minor": 0
      },
      "text/plain": [
       "Executing:   0%|          | 0/7 [00:00<?, ?cell/s]"
      ]
     },
     "metadata": {},
     "output_type": "display_data"
    },
    {
     "name": "stdout",
     "output_type": "stream",
     "text": [
      "executing: /global/u2/m/mattlong/codes/Ocean-CDR-Atlas-v0/workflows/output/validation/smyle.cdr-atlas-v0.glb-dor_North_Atlantic_basin_001_1999-07-01_00006.001.ipynb\n"
     ]
    },
    {
     "data": {
      "application/vnd.jupyter.widget-view+json": {
       "model_id": "0104f552ec4141ca8b55eba01aefc3fc",
       "version_major": 2,
       "version_minor": 0
      },
      "text/plain": [
       "Executing:   0%|          | 0/7 [00:00<?, ?cell/s]"
      ]
     },
     "metadata": {},
     "output_type": "display_data"
    },
    {
     "name": "stdout",
     "output_type": "stream",
     "text": [
      "executing: /global/u2/m/mattlong/codes/Ocean-CDR-Atlas-v0/workflows/output/validation/smyle.cdr-atlas-v0.glb-dor_North_Atlantic_basin_002_1999-01-01_00008.001.ipynb\n"
     ]
    },
    {
     "data": {
      "application/vnd.jupyter.widget-view+json": {
       "model_id": "f6295de8e7654629a40a3f53e7e6f0d1",
       "version_major": 2,
       "version_minor": 0
      },
      "text/plain": [
       "Executing:   0%|          | 0/7 [00:00<?, ?cell/s]"
      ]
     },
     "metadata": {},
     "output_type": "display_data"
    },
    {
     "name": "stdout",
     "output_type": "stream",
     "text": [
      "executing: /global/u2/m/mattlong/codes/Ocean-CDR-Atlas-v0/workflows/output/validation/smyle.cdr-atlas-v0.glb-dor_North_Atlantic_basin_002_1999-04-01_00009.001.ipynb\n"
     ]
    },
    {
     "data": {
      "application/vnd.jupyter.widget-view+json": {
       "model_id": "6066a3dbe65d434d80307d89ae3d08f6",
       "version_major": 2,
       "version_minor": 0
      },
      "text/plain": [
       "Executing:   0%|          | 0/7 [00:00<?, ?cell/s]"
      ]
     },
     "metadata": {},
     "output_type": "display_data"
    },
    {
     "name": "stdout",
     "output_type": "stream",
     "text": [
      "executing: /global/u2/m/mattlong/codes/Ocean-CDR-Atlas-v0/workflows/output/validation/smyle.cdr-atlas-v0.glb-dor_North_Atlantic_basin_002_1999-07-01_00010.001.ipynb\n"
     ]
    },
    {
     "data": {
      "application/vnd.jupyter.widget-view+json": {
       "model_id": "f6f5a2ed97654f25b2bf3a32977fe5c1",
       "version_major": 2,
       "version_minor": 0
      },
      "text/plain": [
       "Executing:   0%|          | 0/7 [00:00<?, ?cell/s]"
      ]
     },
     "metadata": {},
     "output_type": "display_data"
    },
    {
     "name": "stdout",
     "output_type": "stream",
     "text": [
      "executing: /global/u2/m/mattlong/codes/Ocean-CDR-Atlas-v0/workflows/output/validation/smyle.cdr-atlas-v0.glb-dor_North_Atlantic_basin_002_1999-10-01_00011.001.ipynb\n"
     ]
    },
    {
     "data": {
      "application/vnd.jupyter.widget-view+json": {
       "model_id": "74bdf9d3e02e4e14b17367dfa911d957",
       "version_major": 2,
       "version_minor": 0
      },
      "text/plain": [
       "Executing:   0%|          | 0/7 [00:00<?, ?cell/s]"
      ]
     },
     "metadata": {},
     "output_type": "display_data"
    },
    {
     "name": "stdout",
     "output_type": "stream",
     "text": [
      "executing: /global/u2/m/mattlong/codes/Ocean-CDR-Atlas-v0/workflows/output/validation/smyle.cdr-atlas-v0.glb-dor_North_Atlantic_basin_003_1999-01-01_00012.001.ipynb\n"
     ]
    },
    {
     "data": {
      "application/vnd.jupyter.widget-view+json": {
       "model_id": "b49d7de071f94e849017a174d8f89d9b",
       "version_major": 2,
       "version_minor": 0
      },
      "text/plain": [
       "Executing:   0%|          | 0/7 [00:00<?, ?cell/s]"
      ]
     },
     "metadata": {},
     "output_type": "display_data"
    },
    {
     "name": "stdout",
     "output_type": "stream",
     "text": [
      "executing: /global/u2/m/mattlong/codes/Ocean-CDR-Atlas-v0/workflows/output/validation/smyle.cdr-atlas-v0.glb-dor_North_Atlantic_basin_003_1999-04-01_00013.001.ipynb\n"
     ]
    },
    {
     "data": {
      "application/vnd.jupyter.widget-view+json": {
       "model_id": "3a620a58b65640c5b96de2435ec28d4e",
       "version_major": 2,
       "version_minor": 0
      },
      "text/plain": [
       "Executing:   0%|          | 0/7 [00:00<?, ?cell/s]"
      ]
     },
     "metadata": {},
     "output_type": "display_data"
    },
    {
     "name": "stdout",
     "output_type": "stream",
     "text": [
      "executing: /global/u2/m/mattlong/codes/Ocean-CDR-Atlas-v0/workflows/output/validation/smyle.cdr-atlas-v0.glb-dor_North_Atlantic_basin_003_1999-10-01_00015.001.ipynb\n"
     ]
    },
    {
     "data": {
      "application/vnd.jupyter.widget-view+json": {
       "model_id": "f0808308f911442e8bc62622126bd697",
       "version_major": 2,
       "version_minor": 0
      },
      "text/plain": [
       "Executing:   0%|          | 0/7 [00:00<?, ?cell/s]"
      ]
     },
     "metadata": {},
     "output_type": "display_data"
    },
    {
     "name": "stdout",
     "output_type": "stream",
     "text": [
      "executing: /global/u2/m/mattlong/codes/Ocean-CDR-Atlas-v0/workflows/output/validation/smyle.cdr-atlas-v0.glb-dor_North_Atlantic_basin_004_1999-01-01_00016.001.ipynb\n"
     ]
    },
    {
     "data": {
      "application/vnd.jupyter.widget-view+json": {
       "model_id": "212717cf69964d63bc0e417fc2fd210a",
       "version_major": 2,
       "version_minor": 0
      },
      "text/plain": [
       "Executing:   0%|          | 0/7 [00:00<?, ?cell/s]"
      ]
     },
     "metadata": {},
     "output_type": "display_data"
    },
    {
     "name": "stdout",
     "output_type": "stream",
     "text": [
      "executing: /global/u2/m/mattlong/codes/Ocean-CDR-Atlas-v0/workflows/output/validation/smyle.cdr-atlas-v0.glb-dor_North_Atlantic_basin_004_1999-04-01_00017.001.ipynb\n"
     ]
    },
    {
     "data": {
      "application/vnd.jupyter.widget-view+json": {
       "model_id": "471f6836bdb445a2bbb484bd8f5c9c5a",
       "version_major": 2,
       "version_minor": 0
      },
      "text/plain": [
       "Executing:   0%|          | 0/7 [00:00<?, ?cell/s]"
      ]
     },
     "metadata": {},
     "output_type": "display_data"
    },
    {
     "name": "stdout",
     "output_type": "stream",
     "text": [
      "executing: /global/u2/m/mattlong/codes/Ocean-CDR-Atlas-v0/workflows/output/validation/smyle.cdr-atlas-v0.glb-dor_North_Atlantic_basin_004_1999-07-01_00018.001.ipynb\n"
     ]
    },
    {
     "data": {
      "application/vnd.jupyter.widget-view+json": {
       "model_id": "258f216450d6479eab327424ba3dd418",
       "version_major": 2,
       "version_minor": 0
      },
      "text/plain": [
       "Executing:   0%|          | 0/7 [00:00<?, ?cell/s]"
      ]
     },
     "metadata": {},
     "output_type": "display_data"
    },
    {
     "name": "stdout",
     "output_type": "stream",
     "text": [
      "executing: /global/u2/m/mattlong/codes/Ocean-CDR-Atlas-v0/workflows/output/validation/smyle.cdr-atlas-v0.glb-dor_North_Atlantic_basin_004_1999-10-01_00019.001.ipynb\n"
     ]
    },
    {
     "data": {
      "application/vnd.jupyter.widget-view+json": {
       "model_id": "b72ec678de2d4e3e9f00e542ad90d37e",
       "version_major": 2,
       "version_minor": 0
      },
      "text/plain": [
       "Executing:   0%|          | 0/7 [00:00<?, ?cell/s]"
      ]
     },
     "metadata": {},
     "output_type": "display_data"
    },
    {
     "name": "stdout",
     "output_type": "stream",
     "text": [
      "executing: /global/u2/m/mattlong/codes/Ocean-CDR-Atlas-v0/workflows/output/validation/smyle.cdr-atlas-v0.glb-dor_North_Atlantic_basin_005_1999-01-01_00020.001.ipynb\n"
     ]
    },
    {
     "data": {
      "application/vnd.jupyter.widget-view+json": {
       "model_id": "8d65366166104a8dbc088593b0188dde",
       "version_major": 2,
       "version_minor": 0
      },
      "text/plain": [
       "Executing:   0%|          | 0/7 [00:00<?, ?cell/s]"
      ]
     },
     "metadata": {},
     "output_type": "display_data"
    },
    {
     "name": "stdout",
     "output_type": "stream",
     "text": [
      "executing: /global/u2/m/mattlong/codes/Ocean-CDR-Atlas-v0/workflows/output/validation/smyle.cdr-atlas-v0.glb-dor_North_Atlantic_basin_005_1999-04-01_00021.001.ipynb\n"
     ]
    },
    {
     "data": {
      "application/vnd.jupyter.widget-view+json": {
       "model_id": "938a959414694bb5b688e6b3f5ee3a7a",
       "version_major": 2,
       "version_minor": 0
      },
      "text/plain": [
       "Executing:   0%|          | 0/7 [00:00<?, ?cell/s]"
      ]
     },
     "metadata": {},
     "output_type": "display_data"
    },
    {
     "name": "stdout",
     "output_type": "stream",
     "text": [
      "executing: /global/u2/m/mattlong/codes/Ocean-CDR-Atlas-v0/workflows/output/validation/smyle.cdr-atlas-v0.glb-dor_North_Atlantic_basin_005_1999-07-01_00022.001.ipynb\n"
     ]
    },
    {
     "data": {
      "application/vnd.jupyter.widget-view+json": {
       "model_id": "927770ff44f94524b777283115870bd4",
       "version_major": 2,
       "version_minor": 0
      },
      "text/plain": [
       "Executing:   0%|          | 0/7 [00:00<?, ?cell/s]"
      ]
     },
     "metadata": {},
     "output_type": "display_data"
    },
    {
     "name": "stdout",
     "output_type": "stream",
     "text": [
      "executing: /global/u2/m/mattlong/codes/Ocean-CDR-Atlas-v0/workflows/output/validation/smyle.cdr-atlas-v0.glb-dor_North_Atlantic_basin_005_1999-10-01_00023.001.ipynb\n"
     ]
    },
    {
     "data": {
      "application/vnd.jupyter.widget-view+json": {
       "model_id": "0196d69706ba4433b42f8901874fbcd3",
       "version_major": 2,
       "version_minor": 0
      },
      "text/plain": [
       "Executing:   0%|          | 0/7 [00:00<?, ?cell/s]"
      ]
     },
     "metadata": {},
     "output_type": "display_data"
    },
    {
     "name": "stdout",
     "output_type": "stream",
     "text": [
      "executing: /global/u2/m/mattlong/codes/Ocean-CDR-Atlas-v0/workflows/output/validation/smyle.cdr-atlas-v0.glb-dor_North_Atlantic_basin_006_1999-01-01_00024.001.ipynb\n"
     ]
    },
    {
     "data": {
      "application/vnd.jupyter.widget-view+json": {
       "model_id": "63d8743ddac5406b941f89bb56243a82",
       "version_major": 2,
       "version_minor": 0
      },
      "text/plain": [
       "Executing:   0%|          | 0/7 [00:00<?, ?cell/s]"
      ]
     },
     "metadata": {},
     "output_type": "display_data"
    },
    {
     "name": "stdout",
     "output_type": "stream",
     "text": [
      "executing: /global/u2/m/mattlong/codes/Ocean-CDR-Atlas-v0/workflows/output/validation/smyle.cdr-atlas-v0.glb-dor_North_Atlantic_basin_006_1999-04-01_00025.001.ipynb\n"
     ]
    },
    {
     "data": {
      "application/vnd.jupyter.widget-view+json": {
       "model_id": "dbd0cdababb344c2a406ace631f63491",
       "version_major": 2,
       "version_minor": 0
      },
      "text/plain": [
       "Executing:   0%|          | 0/7 [00:00<?, ?cell/s]"
      ]
     },
     "metadata": {},
     "output_type": "display_data"
    },
    {
     "name": "stdout",
     "output_type": "stream",
     "text": [
      "executing: /global/u2/m/mattlong/codes/Ocean-CDR-Atlas-v0/workflows/output/validation/smyle.cdr-atlas-v0.glb-dor_North_Atlantic_basin_006_1999-10-01_00027.001.ipynb\n"
     ]
    },
    {
     "data": {
      "application/vnd.jupyter.widget-view+json": {
       "model_id": "abc09445df52437d86d6a2258e6a9927",
       "version_major": 2,
       "version_minor": 0
      },
      "text/plain": [
       "Executing:   0%|          | 0/7 [00:00<?, ?cell/s]"
      ]
     },
     "metadata": {},
     "output_type": "display_data"
    },
    {
     "name": "stdout",
     "output_type": "stream",
     "text": [
      "executing: /global/u2/m/mattlong/codes/Ocean-CDR-Atlas-v0/workflows/output/validation/smyle.cdr-atlas-v0.glb-dor_North_Atlantic_basin_007_1999-01-01_00028.001.ipynb\n"
     ]
    },
    {
     "data": {
      "application/vnd.jupyter.widget-view+json": {
       "model_id": "3c356d21500e462e99a7414d4adabcc2",
       "version_major": 2,
       "version_minor": 0
      },
      "text/plain": [
       "Executing:   0%|          | 0/7 [00:00<?, ?cell/s]"
      ]
     },
     "metadata": {},
     "output_type": "display_data"
    },
    {
     "name": "stdout",
     "output_type": "stream",
     "text": [
      "executing: /global/u2/m/mattlong/codes/Ocean-CDR-Atlas-v0/workflows/output/validation/smyle.cdr-atlas-v0.glb-dor_North_Atlantic_basin_007_1999-04-01_00029.001.ipynb\n"
     ]
    },
    {
     "data": {
      "application/vnd.jupyter.widget-view+json": {
       "model_id": "32328e8ba1f54755b0872660587e0652",
       "version_major": 2,
       "version_minor": 0
      },
      "text/plain": [
       "Executing:   0%|          | 0/7 [00:00<?, ?cell/s]"
      ]
     },
     "metadata": {},
     "output_type": "display_data"
    },
    {
     "name": "stdout",
     "output_type": "stream",
     "text": [
      "executing: /global/u2/m/mattlong/codes/Ocean-CDR-Atlas-v0/workflows/output/validation/smyle.cdr-atlas-v0.glb-dor_North_Atlantic_basin_007_1999-07-01_00030.001.ipynb\n"
     ]
    },
    {
     "data": {
      "application/vnd.jupyter.widget-view+json": {
       "model_id": "6076f2cb1560440eae4623fdda168861",
       "version_major": 2,
       "version_minor": 0
      },
      "text/plain": [
       "Executing:   0%|          | 0/7 [00:00<?, ?cell/s]"
      ]
     },
     "metadata": {},
     "output_type": "display_data"
    },
    {
     "name": "stdout",
     "output_type": "stream",
     "text": [
      "executing: /global/u2/m/mattlong/codes/Ocean-CDR-Atlas-v0/workflows/output/validation/smyle.cdr-atlas-v0.glb-dor_North_Atlantic_basin_008_1999-01-01_00032.001.ipynb\n"
     ]
    },
    {
     "data": {
      "application/vnd.jupyter.widget-view+json": {
       "model_id": "f868d367b5cc476e81000c97f1d48811",
       "version_major": 2,
       "version_minor": 0
      },
      "text/plain": [
       "Executing:   0%|          | 0/7 [00:00<?, ?cell/s]"
      ]
     },
     "metadata": {},
     "output_type": "display_data"
    },
    {
     "name": "stdout",
     "output_type": "stream",
     "text": [
      "executing: /global/u2/m/mattlong/codes/Ocean-CDR-Atlas-v0/workflows/output/validation/smyle.cdr-atlas-v0.glb-dor_North_Atlantic_basin_008_1999-04-01_00033.001.ipynb\n"
     ]
    },
    {
     "data": {
      "application/vnd.jupyter.widget-view+json": {
       "model_id": "1169af7058e048a39b1a9d8bd1828100",
       "version_major": 2,
       "version_minor": 0
      },
      "text/plain": [
       "Executing:   0%|          | 0/7 [00:00<?, ?cell/s]"
      ]
     },
     "metadata": {},
     "output_type": "display_data"
    },
    {
     "name": "stdout",
     "output_type": "stream",
     "text": [
      "executing: /global/u2/m/mattlong/codes/Ocean-CDR-Atlas-v0/workflows/output/validation/smyle.cdr-atlas-v0.glb-dor_North_Atlantic_basin_008_1999-10-01_00035.001.ipynb\n"
     ]
    },
    {
     "data": {
      "application/vnd.jupyter.widget-view+json": {
       "model_id": "3e58dad80e6c46ebaf915d96cb2dda2c",
       "version_major": 2,
       "version_minor": 0
      },
      "text/plain": [
       "Executing:   0%|          | 0/7 [00:00<?, ?cell/s]"
      ]
     },
     "metadata": {},
     "output_type": "display_data"
    },
    {
     "name": "stdout",
     "output_type": "stream",
     "text": [
      "executing: /global/u2/m/mattlong/codes/Ocean-CDR-Atlas-v0/workflows/output/validation/smyle.cdr-atlas-v0.glb-dor_North_Atlantic_basin_009_1999-01-01_00036.001.ipynb\n"
     ]
    },
    {
     "data": {
      "application/vnd.jupyter.widget-view+json": {
       "model_id": "03f573f1ef704d339aeec4aec338cae0",
       "version_major": 2,
       "version_minor": 0
      },
      "text/plain": [
       "Executing:   0%|          | 0/7 [00:00<?, ?cell/s]"
      ]
     },
     "metadata": {},
     "output_type": "display_data"
    },
    {
     "name": "stdout",
     "output_type": "stream",
     "text": [
      "executing: /global/u2/m/mattlong/codes/Ocean-CDR-Atlas-v0/workflows/output/validation/smyle.cdr-atlas-v0.glb-dor_North_Atlantic_basin_009_1999-04-01_00037.001.ipynb\n"
     ]
    },
    {
     "data": {
      "application/vnd.jupyter.widget-view+json": {
       "model_id": "457e3bc0150a4246a61ad4d075759dda",
       "version_major": 2,
       "version_minor": 0
      },
      "text/plain": [
       "Executing:   0%|          | 0/7 [00:00<?, ?cell/s]"
      ]
     },
     "metadata": {},
     "output_type": "display_data"
    },
    {
     "name": "stdout",
     "output_type": "stream",
     "text": [
      "executing: /global/u2/m/mattlong/codes/Ocean-CDR-Atlas-v0/workflows/output/validation/smyle.cdr-atlas-v0.glb-dor_North_Atlantic_basin_009_1999-07-01_00038.001.ipynb\n"
     ]
    },
    {
     "data": {
      "application/vnd.jupyter.widget-view+json": {
       "model_id": "dd427d3a45a944399dac854d138a6c37",
       "version_major": 2,
       "version_minor": 0
      },
      "text/plain": [
       "Executing:   0%|          | 0/7 [00:00<?, ?cell/s]"
      ]
     },
     "metadata": {},
     "output_type": "display_data"
    },
    {
     "name": "stdout",
     "output_type": "stream",
     "text": [
      "executing: /global/u2/m/mattlong/codes/Ocean-CDR-Atlas-v0/workflows/output/validation/smyle.cdr-atlas-v0.glb-dor_North_Atlantic_basin_009_1999-10-01_00039.001.ipynb\n"
     ]
    },
    {
     "data": {
      "application/vnd.jupyter.widget-view+json": {
       "model_id": "13e956f8312c4f88b50276228decb2f1",
       "version_major": 2,
       "version_minor": 0
      },
      "text/plain": [
       "Executing:   0%|          | 0/7 [00:00<?, ?cell/s]"
      ]
     },
     "metadata": {},
     "output_type": "display_data"
    },
    {
     "name": "stdout",
     "output_type": "stream",
     "text": [
      "executing: /global/u2/m/mattlong/codes/Ocean-CDR-Atlas-v0/workflows/output/validation/smyle.cdr-atlas-v0.glb-dor_North_Atlantic_basin_010_1999-01-01_00040.001.ipynb\n"
     ]
    },
    {
     "data": {
      "application/vnd.jupyter.widget-view+json": {
       "model_id": "589efe5681da4e8ab8c69f87e5026913",
       "version_major": 2,
       "version_minor": 0
      },
      "text/plain": [
       "Executing:   0%|          | 0/7 [00:00<?, ?cell/s]"
      ]
     },
     "metadata": {},
     "output_type": "display_data"
    },
    {
     "name": "stdout",
     "output_type": "stream",
     "text": [
      "executing: /global/u2/m/mattlong/codes/Ocean-CDR-Atlas-v0/workflows/output/validation/smyle.cdr-atlas-v0.glb-dor_North_Atlantic_basin_010_1999-04-01_00041.001.ipynb\n"
     ]
    },
    {
     "data": {
      "application/vnd.jupyter.widget-view+json": {
       "model_id": "09dd2730742e4d709769b6d75a581b19",
       "version_major": 2,
       "version_minor": 0
      },
      "text/plain": [
       "Executing:   0%|          | 0/7 [00:00<?, ?cell/s]"
      ]
     },
     "metadata": {},
     "output_type": "display_data"
    },
    {
     "name": "stdout",
     "output_type": "stream",
     "text": [
      "executing: /global/u2/m/mattlong/codes/Ocean-CDR-Atlas-v0/workflows/output/validation/smyle.cdr-atlas-v0.glb-dor_North_Atlantic_basin_010_1999-07-01_00042.001.ipynb\n"
     ]
    },
    {
     "data": {
      "application/vnd.jupyter.widget-view+json": {
       "model_id": "0baf7cea74d542dc8e0029fd739cf81e",
       "version_major": 2,
       "version_minor": 0
      },
      "text/plain": [
       "Executing:   0%|          | 0/7 [00:00<?, ?cell/s]"
      ]
     },
     "metadata": {},
     "output_type": "display_data"
    },
    {
     "name": "stdout",
     "output_type": "stream",
     "text": [
      "executing: /global/u2/m/mattlong/codes/Ocean-CDR-Atlas-v0/workflows/output/validation/smyle.cdr-atlas-v0.glb-dor_North_Atlantic_basin_010_1999-10-01_00043.001.ipynb\n"
     ]
    },
    {
     "data": {
      "application/vnd.jupyter.widget-view+json": {
       "model_id": "4e8a8c46482d4660b2b211a0b8ac2e25",
       "version_major": 2,
       "version_minor": 0
      },
      "text/plain": [
       "Executing:   0%|          | 0/7 [00:00<?, ?cell/s]"
      ]
     },
     "metadata": {},
     "output_type": "display_data"
    },
    {
     "name": "stdout",
     "output_type": "stream",
     "text": [
      "executing: /global/u2/m/mattlong/codes/Ocean-CDR-Atlas-v0/workflows/output/validation/smyle.cdr-atlas-v0.glb-dor_North_Atlantic_basin_011_1999-01-01_00044.001.ipynb\n"
     ]
    },
    {
     "data": {
      "application/vnd.jupyter.widget-view+json": {
       "model_id": "d54eb3d2178a47539af5344effc0288b",
       "version_major": 2,
       "version_minor": 0
      },
      "text/plain": [
       "Executing:   0%|          | 0/7 [00:00<?, ?cell/s]"
      ]
     },
     "metadata": {},
     "output_type": "display_data"
    },
    {
     "name": "stdout",
     "output_type": "stream",
     "text": [
      "executing: /global/u2/m/mattlong/codes/Ocean-CDR-Atlas-v0/workflows/output/validation/smyle.cdr-atlas-v0.glb-dor_North_Atlantic_basin_011_1999-04-01_00045.001.ipynb\n"
     ]
    },
    {
     "data": {
      "application/vnd.jupyter.widget-view+json": {
       "model_id": "a6147e6e4bcc4657ba737e236cc169e9",
       "version_major": 2,
       "version_minor": 0
      },
      "text/plain": [
       "Executing:   0%|          | 0/7 [00:00<?, ?cell/s]"
      ]
     },
     "metadata": {},
     "output_type": "display_data"
    },
    {
     "name": "stdout",
     "output_type": "stream",
     "text": [
      "executing: /global/u2/m/mattlong/codes/Ocean-CDR-Atlas-v0/workflows/output/validation/smyle.cdr-atlas-v0.glb-dor_North_Atlantic_basin_011_1999-07-01_00046.001.ipynb\n"
     ]
    },
    {
     "data": {
      "application/vnd.jupyter.widget-view+json": {
       "model_id": "aeb2ed57721548f795afec26ba850259",
       "version_major": 2,
       "version_minor": 0
      },
      "text/plain": [
       "Executing:   0%|          | 0/7 [00:00<?, ?cell/s]"
      ]
     },
     "metadata": {},
     "output_type": "display_data"
    },
    {
     "name": "stdout",
     "output_type": "stream",
     "text": [
      "executing: /global/u2/m/mattlong/codes/Ocean-CDR-Atlas-v0/workflows/output/validation/smyle.cdr-atlas-v0.glb-dor_North_Atlantic_basin_011_1999-10-01_00047.001.ipynb\n"
     ]
    },
    {
     "data": {
      "application/vnd.jupyter.widget-view+json": {
       "model_id": "b7ec136696d74aeb9800196c70a255d3",
       "version_major": 2,
       "version_minor": 0
      },
      "text/plain": [
       "Executing:   0%|          | 0/7 [00:00<?, ?cell/s]"
      ]
     },
     "metadata": {},
     "output_type": "display_data"
    },
    {
     "name": "stdout",
     "output_type": "stream",
     "text": [
      "executing: /global/u2/m/mattlong/codes/Ocean-CDR-Atlas-v0/workflows/output/validation/smyle.cdr-atlas-v0.glb-dor_North_Atlantic_basin_012_1999-01-01_00048.001.ipynb\n"
     ]
    },
    {
     "data": {
      "application/vnd.jupyter.widget-view+json": {
       "model_id": "bd8b3976ef314d528dc7d887a16389b4",
       "version_major": 2,
       "version_minor": 0
      },
      "text/plain": [
       "Executing:   0%|          | 0/7 [00:00<?, ?cell/s]"
      ]
     },
     "metadata": {},
     "output_type": "display_data"
    },
    {
     "name": "stdout",
     "output_type": "stream",
     "text": [
      "executing: /global/u2/m/mattlong/codes/Ocean-CDR-Atlas-v0/workflows/output/validation/smyle.cdr-atlas-v0.glb-dor_North_Atlantic_basin_012_1999-04-01_00049.001.ipynb\n"
     ]
    },
    {
     "data": {
      "application/vnd.jupyter.widget-view+json": {
       "model_id": "37b86b75304349f7bdcafbb29705e129",
       "version_major": 2,
       "version_minor": 0
      },
      "text/plain": [
       "Executing:   0%|          | 0/7 [00:00<?, ?cell/s]"
      ]
     },
     "metadata": {},
     "output_type": "display_data"
    },
    {
     "name": "stdout",
     "output_type": "stream",
     "text": [
      "executing: /global/u2/m/mattlong/codes/Ocean-CDR-Atlas-v0/workflows/output/validation/smyle.cdr-atlas-v0.glb-dor_North_Atlantic_basin_012_1999-07-01_00050.001.ipynb\n"
     ]
    },
    {
     "data": {
      "application/vnd.jupyter.widget-view+json": {
       "model_id": "531c41eec10d4703843968beb79f5585",
       "version_major": 2,
       "version_minor": 0
      },
      "text/plain": [
       "Executing:   0%|          | 0/7 [00:00<?, ?cell/s]"
      ]
     },
     "metadata": {},
     "output_type": "display_data"
    },
    {
     "name": "stdout",
     "output_type": "stream",
     "text": [
      "executing: /global/u2/m/mattlong/codes/Ocean-CDR-Atlas-v0/workflows/output/validation/smyle.cdr-atlas-v0.glb-dor_North_Atlantic_basin_012_1999-10-01_00051.001.ipynb\n"
     ]
    },
    {
     "data": {
      "application/vnd.jupyter.widget-view+json": {
       "model_id": "b0a72300b1aa49eaa907e22106f48e46",
       "version_major": 2,
       "version_minor": 0
      },
      "text/plain": [
       "Executing:   0%|          | 0/7 [00:00<?, ?cell/s]"
      ]
     },
     "metadata": {},
     "output_type": "display_data"
    },
    {
     "name": "stdout",
     "output_type": "stream",
     "text": [
      "executing: /global/u2/m/mattlong/codes/Ocean-CDR-Atlas-v0/workflows/output/validation/smyle.cdr-atlas-v0.glb-dor_North_Atlantic_basin_013_1999-01-01_00052.001.ipynb\n"
     ]
    },
    {
     "data": {
      "application/vnd.jupyter.widget-view+json": {
       "model_id": "8fe8aebd91664715a0bd6159541a9ef0",
       "version_major": 2,
       "version_minor": 0
      },
      "text/plain": [
       "Executing:   0%|          | 0/7 [00:00<?, ?cell/s]"
      ]
     },
     "metadata": {},
     "output_type": "display_data"
    },
    {
     "name": "stdout",
     "output_type": "stream",
     "text": [
      "executing: /global/u2/m/mattlong/codes/Ocean-CDR-Atlas-v0/workflows/output/validation/smyle.cdr-atlas-v0.glb-dor_North_Atlantic_basin_013_1999-04-01_00053.001.ipynb\n"
     ]
    },
    {
     "data": {
      "application/vnd.jupyter.widget-view+json": {
       "model_id": "902a74e458e84bd9b2ee744b8485f8fc",
       "version_major": 2,
       "version_minor": 0
      },
      "text/plain": [
       "Executing:   0%|          | 0/7 [00:00<?, ?cell/s]"
      ]
     },
     "metadata": {},
     "output_type": "display_data"
    },
    {
     "name": "stdout",
     "output_type": "stream",
     "text": [
      "executing: /global/u2/m/mattlong/codes/Ocean-CDR-Atlas-v0/workflows/output/validation/smyle.cdr-atlas-v0.glb-dor_North_Atlantic_basin_013_1999-07-01_00054.001.ipynb\n"
     ]
    },
    {
     "data": {
      "application/vnd.jupyter.widget-view+json": {
       "model_id": "51251a31402b437cb830f58c0261e0e0",
       "version_major": 2,
       "version_minor": 0
      },
      "text/plain": [
       "Executing:   0%|          | 0/7 [00:00<?, ?cell/s]"
      ]
     },
     "metadata": {},
     "output_type": "display_data"
    },
    {
     "name": "stdout",
     "output_type": "stream",
     "text": [
      "executing: /global/u2/m/mattlong/codes/Ocean-CDR-Atlas-v0/workflows/output/validation/smyle.cdr-atlas-v0.glb-dor_North_Atlantic_basin_013_1999-10-01_00055.001.ipynb\n"
     ]
    },
    {
     "data": {
      "application/vnd.jupyter.widget-view+json": {
       "model_id": "9afe2381cb484dc5bcc785917ce9b485",
       "version_major": 2,
       "version_minor": 0
      },
      "text/plain": [
       "Executing:   0%|          | 0/7 [00:00<?, ?cell/s]"
      ]
     },
     "metadata": {},
     "output_type": "display_data"
    },
    {
     "name": "stdout",
     "output_type": "stream",
     "text": [
      "executing: /global/u2/m/mattlong/codes/Ocean-CDR-Atlas-v0/workflows/output/validation/smyle.cdr-atlas-v0.glb-dor_North_Atlantic_basin_014_1999-01-01_00056.001.ipynb\n"
     ]
    },
    {
     "data": {
      "application/vnd.jupyter.widget-view+json": {
       "model_id": "5d7a2f2d501c430bb232632bf4094538",
       "version_major": 2,
       "version_minor": 0
      },
      "text/plain": [
       "Executing:   0%|          | 0/7 [00:00<?, ?cell/s]"
      ]
     },
     "metadata": {},
     "output_type": "display_data"
    },
    {
     "name": "stdout",
     "output_type": "stream",
     "text": [
      "executing: /global/u2/m/mattlong/codes/Ocean-CDR-Atlas-v0/workflows/output/validation/smyle.cdr-atlas-v0.glb-dor_North_Atlantic_basin_014_1999-04-01_00057.001.ipynb\n"
     ]
    },
    {
     "data": {
      "application/vnd.jupyter.widget-view+json": {
       "model_id": "06de6f5a5e064049b96f914f09891f30",
       "version_major": 2,
       "version_minor": 0
      },
      "text/plain": [
       "Executing:   0%|          | 0/7 [00:00<?, ?cell/s]"
      ]
     },
     "metadata": {},
     "output_type": "display_data"
    },
    {
     "name": "stdout",
     "output_type": "stream",
     "text": [
      "executing: /global/u2/m/mattlong/codes/Ocean-CDR-Atlas-v0/workflows/output/validation/smyle.cdr-atlas-v0.glb-dor_North_Atlantic_basin_014_1999-07-01_00058.001.ipynb\n"
     ]
    },
    {
     "data": {
      "application/vnd.jupyter.widget-view+json": {
       "model_id": "75279a24cd45431a949263b36dae502f",
       "version_major": 2,
       "version_minor": 0
      },
      "text/plain": [
       "Executing:   0%|          | 0/7 [00:00<?, ?cell/s]"
      ]
     },
     "metadata": {},
     "output_type": "display_data"
    },
    {
     "name": "stdout",
     "output_type": "stream",
     "text": [
      "executing: /global/u2/m/mattlong/codes/Ocean-CDR-Atlas-v0/workflows/output/validation/smyle.cdr-atlas-v0.glb-dor_North_Atlantic_basin_014_1999-10-01_00059.001.ipynb\n"
     ]
    },
    {
     "data": {
      "application/vnd.jupyter.widget-view+json": {
       "model_id": "9b5de22e759f4ae2b4896fa749e59911",
       "version_major": 2,
       "version_minor": 0
      },
      "text/plain": [
       "Executing:   0%|          | 0/7 [00:00<?, ?cell/s]"
      ]
     },
     "metadata": {},
     "output_type": "display_data"
    },
    {
     "name": "stdout",
     "output_type": "stream",
     "text": [
      "executing: /global/u2/m/mattlong/codes/Ocean-CDR-Atlas-v0/workflows/output/validation/smyle.cdr-atlas-v0.glb-dor_North_Atlantic_basin_015_1999-01-01_00060.001.ipynb\n"
     ]
    },
    {
     "data": {
      "application/vnd.jupyter.widget-view+json": {
       "model_id": "ae678f177e2f49e39f4bea9adc1ac619",
       "version_major": 2,
       "version_minor": 0
      },
      "text/plain": [
       "Executing:   0%|          | 0/7 [00:00<?, ?cell/s]"
      ]
     },
     "metadata": {},
     "output_type": "display_data"
    },
    {
     "name": "stdout",
     "output_type": "stream",
     "text": [
      "executing: /global/u2/m/mattlong/codes/Ocean-CDR-Atlas-v0/workflows/output/validation/smyle.cdr-atlas-v0.glb-dor_North_Atlantic_basin_015_1999-04-01_00061.001.ipynb\n"
     ]
    },
    {
     "data": {
      "application/vnd.jupyter.widget-view+json": {
       "model_id": "291569be764642a4b414ce2ada9b5f00",
       "version_major": 2,
       "version_minor": 0
      },
      "text/plain": [
       "Executing:   0%|          | 0/7 [00:00<?, ?cell/s]"
      ]
     },
     "metadata": {},
     "output_type": "display_data"
    },
    {
     "name": "stdout",
     "output_type": "stream",
     "text": [
      "executing: /global/u2/m/mattlong/codes/Ocean-CDR-Atlas-v0/workflows/output/validation/smyle.cdr-atlas-v0.glb-dor_North_Atlantic_basin_015_1999-07-01_00062.001.ipynb\n"
     ]
    },
    {
     "data": {
      "application/vnd.jupyter.widget-view+json": {
       "model_id": "f124e766793b44d48110f489f8983f82",
       "version_major": 2,
       "version_minor": 0
      },
      "text/plain": [
       "Executing:   0%|          | 0/7 [00:00<?, ?cell/s]"
      ]
     },
     "metadata": {},
     "output_type": "display_data"
    },
    {
     "name": "stdout",
     "output_type": "stream",
     "text": [
      "executing: /global/u2/m/mattlong/codes/Ocean-CDR-Atlas-v0/workflows/output/validation/smyle.cdr-atlas-v0.glb-dor_North_Atlantic_basin_015_1999-10-01_00063.001.ipynb\n"
     ]
    },
    {
     "data": {
      "application/vnd.jupyter.widget-view+json": {
       "model_id": "a9f29f1ce3eb4e3ca013a32893529d5b",
       "version_major": 2,
       "version_minor": 0
      },
      "text/plain": [
       "Executing:   0%|          | 0/7 [00:00<?, ?cell/s]"
      ]
     },
     "metadata": {},
     "output_type": "display_data"
    },
    {
     "name": "stdout",
     "output_type": "stream",
     "text": [
      "executing: /global/u2/m/mattlong/codes/Ocean-CDR-Atlas-v0/workflows/output/validation/smyle.cdr-atlas-v0.glb-dor_North_Atlantic_basin_016_1999-01-01_00064.001.ipynb\n"
     ]
    },
    {
     "data": {
      "application/vnd.jupyter.widget-view+json": {
       "model_id": "ceee3df7b4f440a3a6b29ad9ef10cd1e",
       "version_major": 2,
       "version_minor": 0
      },
      "text/plain": [
       "Executing:   0%|          | 0/7 [00:00<?, ?cell/s]"
      ]
     },
     "metadata": {},
     "output_type": "display_data"
    },
    {
     "name": "stdout",
     "output_type": "stream",
     "text": [
      "executing: /global/u2/m/mattlong/codes/Ocean-CDR-Atlas-v0/workflows/output/validation/smyle.cdr-atlas-v0.glb-dor_North_Atlantic_basin_016_1999-04-01_00065.001.ipynb\n"
     ]
    },
    {
     "data": {
      "application/vnd.jupyter.widget-view+json": {
       "model_id": "23f1f1f67c0f4a1b8e35c562454aafe1",
       "version_major": 2,
       "version_minor": 0
      },
      "text/plain": [
       "Executing:   0%|          | 0/7 [00:00<?, ?cell/s]"
      ]
     },
     "metadata": {},
     "output_type": "display_data"
    },
    {
     "name": "stdout",
     "output_type": "stream",
     "text": [
      "executing: /global/u2/m/mattlong/codes/Ocean-CDR-Atlas-v0/workflows/output/validation/smyle.cdr-atlas-v0.glb-dor_North_Atlantic_basin_017_1999-01-01_00068.001.ipynb\n"
     ]
    },
    {
     "data": {
      "application/vnd.jupyter.widget-view+json": {
       "model_id": "780d5cbe8ad34fc29070825010f55e3a",
       "version_major": 2,
       "version_minor": 0
      },
      "text/plain": [
       "Executing:   0%|          | 0/7 [00:00<?, ?cell/s]"
      ]
     },
     "metadata": {},
     "output_type": "display_data"
    },
    {
     "name": "stdout",
     "output_type": "stream",
     "text": [
      "executing: /global/u2/m/mattlong/codes/Ocean-CDR-Atlas-v0/workflows/output/validation/smyle.cdr-atlas-v0.glb-dor_North_Atlantic_basin_017_1999-04-01_00069.001.ipynb\n"
     ]
    },
    {
     "data": {
      "application/vnd.jupyter.widget-view+json": {
       "model_id": "2a09903f2df54d56af02583ab920eab9",
       "version_major": 2,
       "version_minor": 0
      },
      "text/plain": [
       "Executing:   0%|          | 0/7 [00:00<?, ?cell/s]"
      ]
     },
     "metadata": {},
     "output_type": "display_data"
    },
    {
     "name": "stdout",
     "output_type": "stream",
     "text": [
      "executing: /global/u2/m/mattlong/codes/Ocean-CDR-Atlas-v0/workflows/output/validation/smyle.cdr-atlas-v0.glb-dor_North_Atlantic_basin_017_1999-07-01_00070.001.ipynb\n"
     ]
    },
    {
     "data": {
      "application/vnd.jupyter.widget-view+json": {
       "model_id": "a33367d3dd74462f8eab1cace5467053",
       "version_major": 2,
       "version_minor": 0
      },
      "text/plain": [
       "Executing:   0%|          | 0/7 [00:00<?, ?cell/s]"
      ]
     },
     "metadata": {},
     "output_type": "display_data"
    },
    {
     "name": "stdout",
     "output_type": "stream",
     "text": [
      "executing: /global/u2/m/mattlong/codes/Ocean-CDR-Atlas-v0/workflows/output/validation/smyle.cdr-atlas-v0.glb-dor_North_Atlantic_basin_017_1999-10-01_00071.001.ipynb\n"
     ]
    },
    {
     "data": {
      "application/vnd.jupyter.widget-view+json": {
       "model_id": "b60dd8b28d66462c9bc194a9c663237c",
       "version_major": 2,
       "version_minor": 0
      },
      "text/plain": [
       "Executing:   0%|          | 0/7 [00:00<?, ?cell/s]"
      ]
     },
     "metadata": {},
     "output_type": "display_data"
    },
    {
     "name": "stdout",
     "output_type": "stream",
     "text": [
      "executing: /global/u2/m/mattlong/codes/Ocean-CDR-Atlas-v0/workflows/output/validation/smyle.cdr-atlas-v0.glb-dor_North_Atlantic_basin_018_1999-01-01_00072.001.ipynb\n"
     ]
    },
    {
     "data": {
      "application/vnd.jupyter.widget-view+json": {
       "model_id": "48d26075003441138de817ce559155e8",
       "version_major": 2,
       "version_minor": 0
      },
      "text/plain": [
       "Executing:   0%|          | 0/7 [00:00<?, ?cell/s]"
      ]
     },
     "metadata": {},
     "output_type": "display_data"
    },
    {
     "name": "stdout",
     "output_type": "stream",
     "text": [
      "executing: /global/u2/m/mattlong/codes/Ocean-CDR-Atlas-v0/workflows/output/validation/smyle.cdr-atlas-v0.glb-dor_North_Atlantic_basin_018_1999-04-01_00073.001.ipynb\n"
     ]
    },
    {
     "data": {
      "application/vnd.jupyter.widget-view+json": {
       "model_id": "6524ae1ce9224feabe68b2fd65b02758",
       "version_major": 2,
       "version_minor": 0
      },
      "text/plain": [
       "Executing:   0%|          | 0/7 [00:00<?, ?cell/s]"
      ]
     },
     "metadata": {},
     "output_type": "display_data"
    },
    {
     "name": "stdout",
     "output_type": "stream",
     "text": [
      "executing: /global/u2/m/mattlong/codes/Ocean-CDR-Atlas-v0/workflows/output/validation/smyle.cdr-atlas-v0.glb-dor_North_Atlantic_basin_018_1999-07-01_00074.001.ipynb\n"
     ]
    },
    {
     "data": {
      "application/vnd.jupyter.widget-view+json": {
       "model_id": "39e9e9bd0bee462f8f3731a98d1d9027",
       "version_major": 2,
       "version_minor": 0
      },
      "text/plain": [
       "Executing:   0%|          | 0/7 [00:00<?, ?cell/s]"
      ]
     },
     "metadata": {},
     "output_type": "display_data"
    },
    {
     "name": "stdout",
     "output_type": "stream",
     "text": [
      "executing: /global/u2/m/mattlong/codes/Ocean-CDR-Atlas-v0/workflows/output/validation/smyle.cdr-atlas-v0.glb-dor_North_Atlantic_basin_018_1999-10-01_00075.001.ipynb\n"
     ]
    },
    {
     "data": {
      "application/vnd.jupyter.widget-view+json": {
       "model_id": "fb8bae558486485ebfe54cfe1104e7a5",
       "version_major": 2,
       "version_minor": 0
      },
      "text/plain": [
       "Executing:   0%|          | 0/7 [00:00<?, ?cell/s]"
      ]
     },
     "metadata": {},
     "output_type": "display_data"
    },
    {
     "name": "stdout",
     "output_type": "stream",
     "text": [
      "executing: /global/u2/m/mattlong/codes/Ocean-CDR-Atlas-v0/workflows/output/validation/smyle.cdr-atlas-v0.glb-dor_North_Atlantic_basin_019_1999-01-01_00076.001.ipynb\n"
     ]
    },
    {
     "data": {
      "application/vnd.jupyter.widget-view+json": {
       "model_id": "76fa75c306624813b4a17957482d208f",
       "version_major": 2,
       "version_minor": 0
      },
      "text/plain": [
       "Executing:   0%|          | 0/7 [00:00<?, ?cell/s]"
      ]
     },
     "metadata": {},
     "output_type": "display_data"
    },
    {
     "name": "stdout",
     "output_type": "stream",
     "text": [
      "executing: /global/u2/m/mattlong/codes/Ocean-CDR-Atlas-v0/workflows/output/validation/smyle.cdr-atlas-v0.glb-dor_North_Atlantic_basin_019_1999-07-01_00078.001.ipynb\n"
     ]
    },
    {
     "data": {
      "application/vnd.jupyter.widget-view+json": {
       "model_id": "895030c358b8451f9793da16d3b8616b",
       "version_major": 2,
       "version_minor": 0
      },
      "text/plain": [
       "Executing:   0%|          | 0/7 [00:00<?, ?cell/s]"
      ]
     },
     "metadata": {},
     "output_type": "display_data"
    },
    {
     "name": "stdout",
     "output_type": "stream",
     "text": [
      "executing: /global/u2/m/mattlong/codes/Ocean-CDR-Atlas-v0/workflows/output/validation/smyle.cdr-atlas-v0.glb-dor_North_Atlantic_basin_019_1999-10-01_00079.001.ipynb\n"
     ]
    },
    {
     "data": {
      "application/vnd.jupyter.widget-view+json": {
       "model_id": "7dd702aa9b8947b3b0b1cd8876af2e62",
       "version_major": 2,
       "version_minor": 0
      },
      "text/plain": [
       "Executing:   0%|          | 0/7 [00:00<?, ?cell/s]"
      ]
     },
     "metadata": {},
     "output_type": "display_data"
    },
    {
     "name": "stdout",
     "output_type": "stream",
     "text": [
      "executing: /global/u2/m/mattlong/codes/Ocean-CDR-Atlas-v0/workflows/output/validation/smyle.cdr-atlas-v0.glb-dor_North_Atlantic_basin_020_1999-01-01_00080.001.ipynb\n"
     ]
    },
    {
     "data": {
      "application/vnd.jupyter.widget-view+json": {
       "model_id": "d19dc2572df34ece8f67522c6c7ac52d",
       "version_major": 2,
       "version_minor": 0
      },
      "text/plain": [
       "Executing:   0%|          | 0/7 [00:00<?, ?cell/s]"
      ]
     },
     "metadata": {},
     "output_type": "display_data"
    },
    {
     "name": "stdout",
     "output_type": "stream",
     "text": [
      "executing: /global/u2/m/mattlong/codes/Ocean-CDR-Atlas-v0/workflows/output/validation/smyle.cdr-atlas-v0.glb-dor_North_Atlantic_basin_020_1999-04-01_00081.001.ipynb\n"
     ]
    },
    {
     "data": {
      "application/vnd.jupyter.widget-view+json": {
       "model_id": "275c719c85e44b03995068e51120caa5",
       "version_major": 2,
       "version_minor": 0
      },
      "text/plain": [
       "Executing:   0%|          | 0/7 [00:00<?, ?cell/s]"
      ]
     },
     "metadata": {},
     "output_type": "display_data"
    },
    {
     "name": "stdout",
     "output_type": "stream",
     "text": [
      "executing: /global/u2/m/mattlong/codes/Ocean-CDR-Atlas-v0/workflows/output/validation/smyle.cdr-atlas-v0.glb-dor_North_Atlantic_basin_020_1999-07-01_00082.001.ipynb\n"
     ]
    },
    {
     "data": {
      "application/vnd.jupyter.widget-view+json": {
       "model_id": "5813a0ad15424b44896a0e5ebe6f2ad1",
       "version_major": 2,
       "version_minor": 0
      },
      "text/plain": [
       "Executing:   0%|          | 0/7 [00:00<?, ?cell/s]"
      ]
     },
     "metadata": {},
     "output_type": "display_data"
    },
    {
     "name": "stdout",
     "output_type": "stream",
     "text": [
      "executing: /global/u2/m/mattlong/codes/Ocean-CDR-Atlas-v0/workflows/output/validation/smyle.cdr-atlas-v0.glb-dor_North_Atlantic_basin_020_1999-10-01_00083.001.ipynb\n"
     ]
    },
    {
     "data": {
      "application/vnd.jupyter.widget-view+json": {
       "model_id": "d55b990b57c14e26b07ce49c10f18f99",
       "version_major": 2,
       "version_minor": 0
      },
      "text/plain": [
       "Executing:   0%|          | 0/7 [00:00<?, ?cell/s]"
      ]
     },
     "metadata": {},
     "output_type": "display_data"
    },
    {
     "name": "stdout",
     "output_type": "stream",
     "text": [
      "executing: /global/u2/m/mattlong/codes/Ocean-CDR-Atlas-v0/workflows/output/validation/smyle.cdr-atlas-v0.glb-dor_North_Atlantic_basin_021_1999-01-01_00084.001.ipynb\n"
     ]
    },
    {
     "data": {
      "application/vnd.jupyter.widget-view+json": {
       "model_id": "394ff19da48441c4b36a20a31de16558",
       "version_major": 2,
       "version_minor": 0
      },
      "text/plain": [
       "Executing:   0%|          | 0/7 [00:00<?, ?cell/s]"
      ]
     },
     "metadata": {},
     "output_type": "display_data"
    },
    {
     "name": "stdout",
     "output_type": "stream",
     "text": [
      "executing: /global/u2/m/mattlong/codes/Ocean-CDR-Atlas-v0/workflows/output/validation/smyle.cdr-atlas-v0.glb-dor_North_Atlantic_basin_021_1999-07-01_00086.001.ipynb\n"
     ]
    },
    {
     "data": {
      "application/vnd.jupyter.widget-view+json": {
       "model_id": "cdaded9bf82c4c3cb89bfc8436bfcc57",
       "version_major": 2,
       "version_minor": 0
      },
      "text/plain": [
       "Executing:   0%|          | 0/7 [00:00<?, ?cell/s]"
      ]
     },
     "metadata": {},
     "output_type": "display_data"
    },
    {
     "name": "stdout",
     "output_type": "stream",
     "text": [
      "executing: /global/u2/m/mattlong/codes/Ocean-CDR-Atlas-v0/workflows/output/validation/smyle.cdr-atlas-v0.glb-dor_North_Atlantic_basin_021_1999-10-01_00087.001.ipynb\n"
     ]
    },
    {
     "data": {
      "application/vnd.jupyter.widget-view+json": {
       "model_id": "1be2f55f0e9743879908208e179402c6",
       "version_major": 2,
       "version_minor": 0
      },
      "text/plain": [
       "Executing:   0%|          | 0/7 [00:00<?, ?cell/s]"
      ]
     },
     "metadata": {},
     "output_type": "display_data"
    },
    {
     "name": "stdout",
     "output_type": "stream",
     "text": [
      "executing: /global/u2/m/mattlong/codes/Ocean-CDR-Atlas-v0/workflows/output/validation/smyle.cdr-atlas-v0.glb-dor_North_Atlantic_basin_022_1999-01-01_00088.001.ipynb\n"
     ]
    },
    {
     "data": {
      "application/vnd.jupyter.widget-view+json": {
       "model_id": "7ba36dda706d4bce8521fc80362ccab1",
       "version_major": 2,
       "version_minor": 0
      },
      "text/plain": [
       "Executing:   0%|          | 0/7 [00:00<?, ?cell/s]"
      ]
     },
     "metadata": {},
     "output_type": "display_data"
    },
    {
     "name": "stdout",
     "output_type": "stream",
     "text": [
      "executing: /global/u2/m/mattlong/codes/Ocean-CDR-Atlas-v0/workflows/output/validation/smyle.cdr-atlas-v0.glb-dor_North_Atlantic_basin_022_1999-04-01_00089.001.ipynb\n"
     ]
    },
    {
     "data": {
      "application/vnd.jupyter.widget-view+json": {
       "model_id": "498e00c0784f4422a2bdc6a916fd898c",
       "version_major": 2,
       "version_minor": 0
      },
      "text/plain": [
       "Executing:   0%|          | 0/7 [00:00<?, ?cell/s]"
      ]
     },
     "metadata": {},
     "output_type": "display_data"
    },
    {
     "name": "stdout",
     "output_type": "stream",
     "text": [
      "executing: /global/u2/m/mattlong/codes/Ocean-CDR-Atlas-v0/workflows/output/validation/smyle.cdr-atlas-v0.glb-dor_North_Atlantic_basin_022_1999-07-01_00090.001.ipynb\n"
     ]
    },
    {
     "data": {
      "application/vnd.jupyter.widget-view+json": {
       "model_id": "7171fb18d25d4661ad78b4eaa463dc26",
       "version_major": 2,
       "version_minor": 0
      },
      "text/plain": [
       "Executing:   0%|          | 0/7 [00:00<?, ?cell/s]"
      ]
     },
     "metadata": {},
     "output_type": "display_data"
    },
    {
     "name": "stdout",
     "output_type": "stream",
     "text": [
      "executing: /global/u2/m/mattlong/codes/Ocean-CDR-Atlas-v0/workflows/output/validation/smyle.cdr-atlas-v0.glb-dor_North_Atlantic_basin_022_1999-10-01_00091.001.ipynb\n"
     ]
    },
    {
     "data": {
      "application/vnd.jupyter.widget-view+json": {
       "model_id": "0f2508d7eff1421ab2c9a8ee9c422cd5",
       "version_major": 2,
       "version_minor": 0
      },
      "text/plain": [
       "Executing:   0%|          | 0/7 [00:00<?, ?cell/s]"
      ]
     },
     "metadata": {},
     "output_type": "display_data"
    },
    {
     "name": "stdout",
     "output_type": "stream",
     "text": [
      "executing: /global/u2/m/mattlong/codes/Ocean-CDR-Atlas-v0/workflows/output/validation/smyle.cdr-atlas-v0.glb-dor_North_Atlantic_basin_023_1999-01-01_00092.001.ipynb\n"
     ]
    },
    {
     "data": {
      "application/vnd.jupyter.widget-view+json": {
       "model_id": "58fdd980668141f994bda7369034ac12",
       "version_major": 2,
       "version_minor": 0
      },
      "text/plain": [
       "Executing:   0%|          | 0/7 [00:00<?, ?cell/s]"
      ]
     },
     "metadata": {},
     "output_type": "display_data"
    },
    {
     "name": "stdout",
     "output_type": "stream",
     "text": [
      "executing: /global/u2/m/mattlong/codes/Ocean-CDR-Atlas-v0/workflows/output/validation/smyle.cdr-atlas-v0.glb-dor_North_Atlantic_basin_023_1999-04-01_00093.001.ipynb\n"
     ]
    },
    {
     "data": {
      "application/vnd.jupyter.widget-view+json": {
       "model_id": "a99e9554cb8343f18a51b2c8b179179e",
       "version_major": 2,
       "version_minor": 0
      },
      "text/plain": [
       "Executing:   0%|          | 0/7 [00:00<?, ?cell/s]"
      ]
     },
     "metadata": {},
     "output_type": "display_data"
    },
    {
     "name": "stdout",
     "output_type": "stream",
     "text": [
      "executing: /global/u2/m/mattlong/codes/Ocean-CDR-Atlas-v0/workflows/output/validation/smyle.cdr-atlas-v0.glb-dor_North_Atlantic_basin_023_1999-07-01_00094.001.ipynb\n"
     ]
    },
    {
     "data": {
      "application/vnd.jupyter.widget-view+json": {
       "model_id": "67e7f35bf04f4919863a52196045bcf8",
       "version_major": 2,
       "version_minor": 0
      },
      "text/plain": [
       "Executing:   0%|          | 0/7 [00:00<?, ?cell/s]"
      ]
     },
     "metadata": {},
     "output_type": "display_data"
    },
    {
     "name": "stdout",
     "output_type": "stream",
     "text": [
      "executing: /global/u2/m/mattlong/codes/Ocean-CDR-Atlas-v0/workflows/output/validation/smyle.cdr-atlas-v0.glb-dor_North_Atlantic_basin_023_1999-10-01_00095.001.ipynb\n"
     ]
    },
    {
     "data": {
      "application/vnd.jupyter.widget-view+json": {
       "model_id": "a458c8f9e79e4d648770a7ae60a0e827",
       "version_major": 2,
       "version_minor": 0
      },
      "text/plain": [
       "Executing:   0%|          | 0/7 [00:00<?, ?cell/s]"
      ]
     },
     "metadata": {},
     "output_type": "display_data"
    },
    {
     "name": "stdout",
     "output_type": "stream",
     "text": [
      "executing: /global/u2/m/mattlong/codes/Ocean-CDR-Atlas-v0/workflows/output/validation/smyle.cdr-atlas-v0.glb-dor_North_Atlantic_basin_024_1999-01-01_00096.001.ipynb\n"
     ]
    },
    {
     "data": {
      "application/vnd.jupyter.widget-view+json": {
       "model_id": "d0bbdfc110ab41caa3d16ecb3084cbff",
       "version_major": 2,
       "version_minor": 0
      },
      "text/plain": [
       "Executing:   0%|          | 0/7 [00:00<?, ?cell/s]"
      ]
     },
     "metadata": {},
     "output_type": "display_data"
    },
    {
     "name": "stdout",
     "output_type": "stream",
     "text": [
      "executing: /global/u2/m/mattlong/codes/Ocean-CDR-Atlas-v0/workflows/output/validation/smyle.cdr-atlas-v0.glb-dor_North_Atlantic_basin_024_1999-04-01_00097.001.ipynb\n"
     ]
    },
    {
     "data": {
      "application/vnd.jupyter.widget-view+json": {
       "model_id": "f0a69f563ecd49edab4a40a5d5eea616",
       "version_major": 2,
       "version_minor": 0
      },
      "text/plain": [
       "Executing:   0%|          | 0/7 [00:00<?, ?cell/s]"
      ]
     },
     "metadata": {},
     "output_type": "display_data"
    },
    {
     "name": "stdout",
     "output_type": "stream",
     "text": [
      "executing: /global/u2/m/mattlong/codes/Ocean-CDR-Atlas-v0/workflows/output/validation/smyle.cdr-atlas-v0.glb-dor_North_Atlantic_basin_024_1999-07-01_00098.001.ipynb\n"
     ]
    },
    {
     "data": {
      "application/vnd.jupyter.widget-view+json": {
       "model_id": "1033497fcd754ac2801214e0719dc36c",
       "version_major": 2,
       "version_minor": 0
      },
      "text/plain": [
       "Executing:   0%|          | 0/7 [00:00<?, ?cell/s]"
      ]
     },
     "metadata": {},
     "output_type": "display_data"
    },
    {
     "name": "stdout",
     "output_type": "stream",
     "text": [
      "executing: /global/u2/m/mattlong/codes/Ocean-CDR-Atlas-v0/workflows/output/validation/smyle.cdr-atlas-v0.glb-dor_North_Atlantic_basin_024_1999-10-01_00099.001.ipynb\n"
     ]
    },
    {
     "data": {
      "application/vnd.jupyter.widget-view+json": {
       "model_id": "1344c4993a3b45fa84f0eb50c4bc0266",
       "version_major": 2,
       "version_minor": 0
      },
      "text/plain": [
       "Executing:   0%|          | 0/7 [00:00<?, ?cell/s]"
      ]
     },
     "metadata": {},
     "output_type": "display_data"
    },
    {
     "name": "stdout",
     "output_type": "stream",
     "text": [
      "executing: /global/u2/m/mattlong/codes/Ocean-CDR-Atlas-v0/workflows/output/validation/smyle.cdr-atlas-v0.glb-dor_North_Atlantic_basin_025_1999-01-01_00100.001.ipynb\n"
     ]
    },
    {
     "data": {
      "application/vnd.jupyter.widget-view+json": {
       "model_id": "c0475b14bbff4b9f869e7f18c2b1e319",
       "version_major": 2,
       "version_minor": 0
      },
      "text/plain": [
       "Executing:   0%|          | 0/7 [00:00<?, ?cell/s]"
      ]
     },
     "metadata": {},
     "output_type": "display_data"
    },
    {
     "name": "stdout",
     "output_type": "stream",
     "text": [
      "executing: /global/u2/m/mattlong/codes/Ocean-CDR-Atlas-v0/workflows/output/validation/smyle.cdr-atlas-v0.glb-dor_North_Atlantic_basin_025_1999-04-01_00101.001.ipynb\n"
     ]
    },
    {
     "data": {
      "application/vnd.jupyter.widget-view+json": {
       "model_id": "6c3d4df640584720bc3f0a0bd2972d7c",
       "version_major": 2,
       "version_minor": 0
      },
      "text/plain": [
       "Executing:   0%|          | 0/7 [00:00<?, ?cell/s]"
      ]
     },
     "metadata": {},
     "output_type": "display_data"
    },
    {
     "name": "stdout",
     "output_type": "stream",
     "text": [
      "executing: /global/u2/m/mattlong/codes/Ocean-CDR-Atlas-v0/workflows/output/validation/smyle.cdr-atlas-v0.glb-dor_North_Atlantic_basin_025_1999-07-01_00102.001.ipynb\n"
     ]
    },
    {
     "data": {
      "application/vnd.jupyter.widget-view+json": {
       "model_id": "3482ebc930fb42ef807a518e67518ec4",
       "version_major": 2,
       "version_minor": 0
      },
      "text/plain": [
       "Executing:   0%|          | 0/7 [00:00<?, ?cell/s]"
      ]
     },
     "metadata": {},
     "output_type": "display_data"
    },
    {
     "name": "stdout",
     "output_type": "stream",
     "text": [
      "executing: /global/u2/m/mattlong/codes/Ocean-CDR-Atlas-v0/workflows/output/validation/smyle.cdr-atlas-v0.glb-dor_North_Atlantic_basin_025_1999-10-01_00103.001.ipynb\n"
     ]
    },
    {
     "data": {
      "application/vnd.jupyter.widget-view+json": {
       "model_id": "a4c94157b4084b8a8e240e17b4b40776",
       "version_major": 2,
       "version_minor": 0
      },
      "text/plain": [
       "Executing:   0%|          | 0/7 [00:00<?, ?cell/s]"
      ]
     },
     "metadata": {},
     "output_type": "display_data"
    },
    {
     "name": "stdout",
     "output_type": "stream",
     "text": [
      "executing: /global/u2/m/mattlong/codes/Ocean-CDR-Atlas-v0/workflows/output/validation/smyle.cdr-atlas-v0.glb-dor_North_Atlantic_basin_026_1999-04-01_00105.001.ipynb\n"
     ]
    },
    {
     "data": {
      "application/vnd.jupyter.widget-view+json": {
       "model_id": "8b8f3fddbbc1499a956753acfff6b49a",
       "version_major": 2,
       "version_minor": 0
      },
      "text/plain": [
       "Executing:   0%|          | 0/7 [00:00<?, ?cell/s]"
      ]
     },
     "metadata": {},
     "output_type": "display_data"
    },
    {
     "name": "stdout",
     "output_type": "stream",
     "text": [
      "executing: /global/u2/m/mattlong/codes/Ocean-CDR-Atlas-v0/workflows/output/validation/smyle.cdr-atlas-v0.glb-dor_North_Atlantic_basin_026_1999-07-01_00106.001.ipynb\n"
     ]
    },
    {
     "data": {
      "application/vnd.jupyter.widget-view+json": {
       "model_id": "e4acd7ed621f4dad8a35f6d4bd17960c",
       "version_major": 2,
       "version_minor": 0
      },
      "text/plain": [
       "Executing:   0%|          | 0/7 [00:00<?, ?cell/s]"
      ]
     },
     "metadata": {},
     "output_type": "display_data"
    },
    {
     "name": "stdout",
     "output_type": "stream",
     "text": [
      "executing: /global/u2/m/mattlong/codes/Ocean-CDR-Atlas-v0/workflows/output/validation/smyle.cdr-atlas-v0.glb-dor_North_Atlantic_basin_026_1999-10-01_00107.001.ipynb\n"
     ]
    },
    {
     "data": {
      "application/vnd.jupyter.widget-view+json": {
       "model_id": "62986f4abce243dabf668274e6be5668",
       "version_major": 2,
       "version_minor": 0
      },
      "text/plain": [
       "Executing:   0%|          | 0/7 [00:00<?, ?cell/s]"
      ]
     },
     "metadata": {},
     "output_type": "display_data"
    },
    {
     "name": "stdout",
     "output_type": "stream",
     "text": [
      "executing: /global/u2/m/mattlong/codes/Ocean-CDR-Atlas-v0/workflows/output/validation/smyle.cdr-atlas-v0.glb-dor_North_Atlantic_basin_027_1999-01-01_00108.001.ipynb\n"
     ]
    },
    {
     "data": {
      "application/vnd.jupyter.widget-view+json": {
       "model_id": "7cf1c9e609424b6fae5de56f46a18511",
       "version_major": 2,
       "version_minor": 0
      },
      "text/plain": [
       "Executing:   0%|          | 0/7 [00:00<?, ?cell/s]"
      ]
     },
     "metadata": {},
     "output_type": "display_data"
    },
    {
     "name": "stdout",
     "output_type": "stream",
     "text": [
      "executing: /global/u2/m/mattlong/codes/Ocean-CDR-Atlas-v0/workflows/output/validation/smyle.cdr-atlas-v0.glb-dor_North_Atlantic_basin_027_1999-07-01_00110.001.ipynb\n"
     ]
    },
    {
     "data": {
      "application/vnd.jupyter.widget-view+json": {
       "model_id": "87cc007791c24b42827a3be0e9529241",
       "version_major": 2,
       "version_minor": 0
      },
      "text/plain": [
       "Executing:   0%|          | 0/7 [00:00<?, ?cell/s]"
      ]
     },
     "metadata": {},
     "output_type": "display_data"
    },
    {
     "name": "stdout",
     "output_type": "stream",
     "text": [
      "executing: /global/u2/m/mattlong/codes/Ocean-CDR-Atlas-v0/workflows/output/validation/smyle.cdr-atlas-v0.glb-dor_North_Atlantic_basin_028_1999-01-01_00112.001.ipynb\n"
     ]
    },
    {
     "data": {
      "application/vnd.jupyter.widget-view+json": {
       "model_id": "7c55b446768d4c0ba175fa943049ef12",
       "version_major": 2,
       "version_minor": 0
      },
      "text/plain": [
       "Executing:   0%|          | 0/7 [00:00<?, ?cell/s]"
      ]
     },
     "metadata": {},
     "output_type": "display_data"
    },
    {
     "name": "stdout",
     "output_type": "stream",
     "text": [
      "executing: /global/u2/m/mattlong/codes/Ocean-CDR-Atlas-v0/workflows/output/validation/smyle.cdr-atlas-v0.glb-dor_North_Atlantic_basin_028_1999-04-01_00113.001.ipynb\n"
     ]
    },
    {
     "data": {
      "application/vnd.jupyter.widget-view+json": {
       "model_id": "289b39a034814d07abf17f7709fe51a2",
       "version_major": 2,
       "version_minor": 0
      },
      "text/plain": [
       "Executing:   0%|          | 0/7 [00:00<?, ?cell/s]"
      ]
     },
     "metadata": {},
     "output_type": "display_data"
    },
    {
     "name": "stdout",
     "output_type": "stream",
     "text": [
      "executing: /global/u2/m/mattlong/codes/Ocean-CDR-Atlas-v0/workflows/output/validation/smyle.cdr-atlas-v0.glb-dor_North_Atlantic_basin_028_1999-07-01_00114.001.ipynb\n"
     ]
    },
    {
     "data": {
      "application/vnd.jupyter.widget-view+json": {
       "model_id": "3a5fe188bec148f3af5dfa75a7a72f91",
       "version_major": 2,
       "version_minor": 0
      },
      "text/plain": [
       "Executing:   0%|          | 0/7 [00:00<?, ?cell/s]"
      ]
     },
     "metadata": {},
     "output_type": "display_data"
    },
    {
     "name": "stdout",
     "output_type": "stream",
     "text": [
      "executing: /global/u2/m/mattlong/codes/Ocean-CDR-Atlas-v0/workflows/output/validation/smyle.cdr-atlas-v0.glb-dor_North_Atlantic_basin_028_1999-10-01_00115.001.ipynb\n"
     ]
    },
    {
     "data": {
      "application/vnd.jupyter.widget-view+json": {
       "model_id": "395096706f004c3b96232c55a7794332",
       "version_major": 2,
       "version_minor": 0
      },
      "text/plain": [
       "Executing:   0%|          | 0/7 [00:00<?, ?cell/s]"
      ]
     },
     "metadata": {},
     "output_type": "display_data"
    },
    {
     "name": "stdout",
     "output_type": "stream",
     "text": [
      "executing: /global/u2/m/mattlong/codes/Ocean-CDR-Atlas-v0/workflows/output/validation/smyle.cdr-atlas-v0.glb-dor_North_Atlantic_basin_029_1999-01-01_00116.001.ipynb\n"
     ]
    },
    {
     "data": {
      "application/vnd.jupyter.widget-view+json": {
       "model_id": "75d948f132f54d80834ead889738b89c",
       "version_major": 2,
       "version_minor": 0
      },
      "text/plain": [
       "Executing:   0%|          | 0/7 [00:00<?, ?cell/s]"
      ]
     },
     "metadata": {},
     "output_type": "display_data"
    },
    {
     "name": "stdout",
     "output_type": "stream",
     "text": [
      "executing: /global/u2/m/mattlong/codes/Ocean-CDR-Atlas-v0/workflows/output/validation/smyle.cdr-atlas-v0.glb-dor_North_Atlantic_basin_029_1999-07-01_00118.001.ipynb\n"
     ]
    },
    {
     "data": {
      "application/vnd.jupyter.widget-view+json": {
       "model_id": "f644bf4910974d0baf7dea9ccf35eccb",
       "version_major": 2,
       "version_minor": 0
      },
      "text/plain": [
       "Executing:   0%|          | 0/7 [00:00<?, ?cell/s]"
      ]
     },
     "metadata": {},
     "output_type": "display_data"
    },
    {
     "name": "stdout",
     "output_type": "stream",
     "text": [
      "executing: /global/u2/m/mattlong/codes/Ocean-CDR-Atlas-v0/workflows/output/validation/smyle.cdr-atlas-v0.glb-dor_North_Atlantic_basin_029_1999-10-01_00119.001.ipynb\n"
     ]
    },
    {
     "data": {
      "application/vnd.jupyter.widget-view+json": {
       "model_id": "a6b6e74834c74515891ff76155574c71",
       "version_major": 2,
       "version_minor": 0
      },
      "text/plain": [
       "Executing:   0%|          | 0/7 [00:00<?, ?cell/s]"
      ]
     },
     "metadata": {},
     "output_type": "display_data"
    },
    {
     "name": "stdout",
     "output_type": "stream",
     "text": [
      "executing: /global/u2/m/mattlong/codes/Ocean-CDR-Atlas-v0/workflows/output/validation/smyle.cdr-atlas-v0.glb-dor_North_Atlantic_basin_030_1999-01-01_00120.001.ipynb\n"
     ]
    },
    {
     "data": {
      "application/vnd.jupyter.widget-view+json": {
       "model_id": "5de01ad49d7a46cd9de9ffcba2e2f839",
       "version_major": 2,
       "version_minor": 0
      },
      "text/plain": [
       "Executing:   0%|          | 0/7 [00:00<?, ?cell/s]"
      ]
     },
     "metadata": {},
     "output_type": "display_data"
    },
    {
     "name": "stdout",
     "output_type": "stream",
     "text": [
      "executing: /global/u2/m/mattlong/codes/Ocean-CDR-Atlas-v0/workflows/output/validation/smyle.cdr-atlas-v0.glb-dor_North_Atlantic_basin_030_1999-04-01_00121.001.ipynb\n"
     ]
    },
    {
     "data": {
      "application/vnd.jupyter.widget-view+json": {
       "model_id": "b4c0b68885dd46b0bb868601b1a76438",
       "version_major": 2,
       "version_minor": 0
      },
      "text/plain": [
       "Executing:   0%|          | 0/7 [00:00<?, ?cell/s]"
      ]
     },
     "metadata": {},
     "output_type": "display_data"
    },
    {
     "name": "stdout",
     "output_type": "stream",
     "text": [
      "executing: /global/u2/m/mattlong/codes/Ocean-CDR-Atlas-v0/workflows/output/validation/smyle.cdr-atlas-v0.glb-dor_North_Atlantic_basin_030_1999-07-01_00122.001.ipynb\n"
     ]
    },
    {
     "data": {
      "application/vnd.jupyter.widget-view+json": {
       "model_id": "d22e3c00e7344286bda1cb3ea464a334",
       "version_major": 2,
       "version_minor": 0
      },
      "text/plain": [
       "Executing:   0%|          | 0/7 [00:00<?, ?cell/s]"
      ]
     },
     "metadata": {},
     "output_type": "display_data"
    },
    {
     "name": "stdout",
     "output_type": "stream",
     "text": [
      "executing: /global/u2/m/mattlong/codes/Ocean-CDR-Atlas-v0/workflows/output/validation/smyle.cdr-atlas-v0.glb-dor_North_Atlantic_basin_030_1999-10-01_00123.001.ipynb\n"
     ]
    },
    {
     "data": {
      "application/vnd.jupyter.widget-view+json": {
       "model_id": "59c01aa89fc64ef9b21548c27d34bb3d",
       "version_major": 2,
       "version_minor": 0
      },
      "text/plain": [
       "Executing:   0%|          | 0/7 [00:00<?, ?cell/s]"
      ]
     },
     "metadata": {},
     "output_type": "display_data"
    },
    {
     "name": "stdout",
     "output_type": "stream",
     "text": [
      "executing: /global/u2/m/mattlong/codes/Ocean-CDR-Atlas-v0/workflows/output/validation/smyle.cdr-atlas-v0.glb-dor_North_Atlantic_basin_031_1999-01-01_00124.001.ipynb\n"
     ]
    },
    {
     "data": {
      "application/vnd.jupyter.widget-view+json": {
       "model_id": "39379ef591624df084c9c47c17106917",
       "version_major": 2,
       "version_minor": 0
      },
      "text/plain": [
       "Executing:   0%|          | 0/7 [00:00<?, ?cell/s]"
      ]
     },
     "metadata": {},
     "output_type": "display_data"
    },
    {
     "name": "stdout",
     "output_type": "stream",
     "text": [
      "executing: /global/u2/m/mattlong/codes/Ocean-CDR-Atlas-v0/workflows/output/validation/smyle.cdr-atlas-v0.glb-dor_North_Atlantic_basin_031_1999-04-01_00125.001.ipynb\n"
     ]
    },
    {
     "data": {
      "application/vnd.jupyter.widget-view+json": {
       "model_id": "46b1fc90f0d84d4181b4e860407c386c",
       "version_major": 2,
       "version_minor": 0
      },
      "text/plain": [
       "Executing:   0%|          | 0/7 [00:00<?, ?cell/s]"
      ]
     },
     "metadata": {},
     "output_type": "display_data"
    },
    {
     "name": "stdout",
     "output_type": "stream",
     "text": [
      "executing: /global/u2/m/mattlong/codes/Ocean-CDR-Atlas-v0/workflows/output/validation/smyle.cdr-atlas-v0.glb-dor_North_Atlantic_basin_031_1999-07-01_00126.001.ipynb\n"
     ]
    },
    {
     "data": {
      "application/vnd.jupyter.widget-view+json": {
       "model_id": "cb4fb0c7d10c432fa52cd9cc6a97caf0",
       "version_major": 2,
       "version_minor": 0
      },
      "text/plain": [
       "Executing:   0%|          | 0/7 [00:00<?, ?cell/s]"
      ]
     },
     "metadata": {},
     "output_type": "display_data"
    },
    {
     "name": "stdout",
     "output_type": "stream",
     "text": [
      "executing: /global/u2/m/mattlong/codes/Ocean-CDR-Atlas-v0/workflows/output/validation/smyle.cdr-atlas-v0.glb-dor_North_Atlantic_basin_031_1999-10-01_00127.001.ipynb\n"
     ]
    },
    {
     "data": {
      "application/vnd.jupyter.widget-view+json": {
       "model_id": "baa958c64ca547e7973592ef209ee1be",
       "version_major": 2,
       "version_minor": 0
      },
      "text/plain": [
       "Executing:   0%|          | 0/7 [00:00<?, ?cell/s]"
      ]
     },
     "metadata": {},
     "output_type": "display_data"
    },
    {
     "name": "stdout",
     "output_type": "stream",
     "text": [
      "executing: /global/u2/m/mattlong/codes/Ocean-CDR-Atlas-v0/workflows/output/validation/smyle.cdr-atlas-v0.glb-dor_North_Atlantic_basin_032_1999-01-01_00128.001.ipynb\n"
     ]
    },
    {
     "data": {
      "application/vnd.jupyter.widget-view+json": {
       "model_id": "2bc53643d20d452fa0c2a6c5aa725cf5",
       "version_major": 2,
       "version_minor": 0
      },
      "text/plain": [
       "Executing:   0%|          | 0/7 [00:00<?, ?cell/s]"
      ]
     },
     "metadata": {},
     "output_type": "display_data"
    },
    {
     "name": "stdout",
     "output_type": "stream",
     "text": [
      "executing: /global/u2/m/mattlong/codes/Ocean-CDR-Atlas-v0/workflows/output/validation/smyle.cdr-atlas-v0.glb-dor_North_Atlantic_basin_032_1999-04-01_00129.001.ipynb\n"
     ]
    },
    {
     "data": {
      "application/vnd.jupyter.widget-view+json": {
       "model_id": "5879e0ce49864dfa845017e3b87871be",
       "version_major": 2,
       "version_minor": 0
      },
      "text/plain": [
       "Executing:   0%|          | 0/7 [00:00<?, ?cell/s]"
      ]
     },
     "metadata": {},
     "output_type": "display_data"
    },
    {
     "name": "stdout",
     "output_type": "stream",
     "text": [
      "executing: /global/u2/m/mattlong/codes/Ocean-CDR-Atlas-v0/workflows/output/validation/smyle.cdr-atlas-v0.glb-dor_North_Atlantic_basin_032_1999-10-01_00131.001.ipynb\n"
     ]
    },
    {
     "data": {
      "application/vnd.jupyter.widget-view+json": {
       "model_id": "c75c177d7e9846939f993995613cdd5a",
       "version_major": 2,
       "version_minor": 0
      },
      "text/plain": [
       "Executing:   0%|          | 0/7 [00:00<?, ?cell/s]"
      ]
     },
     "metadata": {},
     "output_type": "display_data"
    },
    {
     "name": "stdout",
     "output_type": "stream",
     "text": [
      "executing: /global/u2/m/mattlong/codes/Ocean-CDR-Atlas-v0/workflows/output/validation/smyle.cdr-atlas-v0.glb-dor_North_Atlantic_basin_033_1999-01-01_00132.001.ipynb\n"
     ]
    },
    {
     "data": {
      "application/vnd.jupyter.widget-view+json": {
       "model_id": "ab539bfaf7e747b3abeae48e47e4e08c",
       "version_major": 2,
       "version_minor": 0
      },
      "text/plain": [
       "Executing:   0%|          | 0/7 [00:00<?, ?cell/s]"
      ]
     },
     "metadata": {},
     "output_type": "display_data"
    },
    {
     "name": "stdout",
     "output_type": "stream",
     "text": [
      "executing: /global/u2/m/mattlong/codes/Ocean-CDR-Atlas-v0/workflows/output/validation/smyle.cdr-atlas-v0.glb-dor_North_Atlantic_basin_033_1999-04-01_00133.001.ipynb\n"
     ]
    },
    {
     "data": {
      "application/vnd.jupyter.widget-view+json": {
       "model_id": "a8fe4efa3ece4561b2f9a6d28db13c50",
       "version_major": 2,
       "version_minor": 0
      },
      "text/plain": [
       "Executing:   0%|          | 0/7 [00:00<?, ?cell/s]"
      ]
     },
     "metadata": {},
     "output_type": "display_data"
    },
    {
     "name": "stdout",
     "output_type": "stream",
     "text": [
      "executing: /global/u2/m/mattlong/codes/Ocean-CDR-Atlas-v0/workflows/output/validation/smyle.cdr-atlas-v0.glb-dor_North_Atlantic_basin_033_1999-07-01_00134.001.ipynb\n"
     ]
    },
    {
     "data": {
      "application/vnd.jupyter.widget-view+json": {
       "model_id": "136d92690f5c49ea82292f93c59825ea",
       "version_major": 2,
       "version_minor": 0
      },
      "text/plain": [
       "Executing:   0%|          | 0/7 [00:00<?, ?cell/s]"
      ]
     },
     "metadata": {},
     "output_type": "display_data"
    },
    {
     "name": "stdout",
     "output_type": "stream",
     "text": [
      "executing: /global/u2/m/mattlong/codes/Ocean-CDR-Atlas-v0/workflows/output/validation/smyle.cdr-atlas-v0.glb-dor_North_Atlantic_basin_033_1999-10-01_00135.001.ipynb\n"
     ]
    },
    {
     "data": {
      "application/vnd.jupyter.widget-view+json": {
       "model_id": "32142ba5fd7a48e5a0c97be52a346100",
       "version_major": 2,
       "version_minor": 0
      },
      "text/plain": [
       "Executing:   0%|          | 0/7 [00:00<?, ?cell/s]"
      ]
     },
     "metadata": {},
     "output_type": "display_data"
    },
    {
     "name": "stdout",
     "output_type": "stream",
     "text": [
      "executing: /global/u2/m/mattlong/codes/Ocean-CDR-Atlas-v0/workflows/output/validation/smyle.cdr-atlas-v0.glb-dor_North_Atlantic_basin_034_1999-01-01_00136.001.ipynb\n"
     ]
    },
    {
     "data": {
      "application/vnd.jupyter.widget-view+json": {
       "model_id": "d2dbe5b4c7b84e32af6af57b3e371dbe",
       "version_major": 2,
       "version_minor": 0
      },
      "text/plain": [
       "Executing:   0%|          | 0/7 [00:00<?, ?cell/s]"
      ]
     },
     "metadata": {},
     "output_type": "display_data"
    },
    {
     "name": "stdout",
     "output_type": "stream",
     "text": [
      "executing: /global/u2/m/mattlong/codes/Ocean-CDR-Atlas-v0/workflows/output/validation/smyle.cdr-atlas-v0.glb-dor_North_Atlantic_basin_034_1999-04-01_00137.001.ipynb\n"
     ]
    },
    {
     "data": {
      "application/vnd.jupyter.widget-view+json": {
       "model_id": "afacddd3e1594f1fa05f8b822ffc1e37",
       "version_major": 2,
       "version_minor": 0
      },
      "text/plain": [
       "Executing:   0%|          | 0/7 [00:00<?, ?cell/s]"
      ]
     },
     "metadata": {},
     "output_type": "display_data"
    },
    {
     "name": "stdout",
     "output_type": "stream",
     "text": [
      "executing: /global/u2/m/mattlong/codes/Ocean-CDR-Atlas-v0/workflows/output/validation/smyle.cdr-atlas-v0.glb-dor_North_Atlantic_basin_034_1999-07-01_00138.001.ipynb\n"
     ]
    },
    {
     "data": {
      "application/vnd.jupyter.widget-view+json": {
       "model_id": "33148aad735a4df6b29ad6df10b6cbd1",
       "version_major": 2,
       "version_minor": 0
      },
      "text/plain": [
       "Executing:   0%|          | 0/7 [00:00<?, ?cell/s]"
      ]
     },
     "metadata": {},
     "output_type": "display_data"
    },
    {
     "name": "stdout",
     "output_type": "stream",
     "text": [
      "executing: /global/u2/m/mattlong/codes/Ocean-CDR-Atlas-v0/workflows/output/validation/smyle.cdr-atlas-v0.glb-dor_North_Atlantic_basin_034_1999-10-01_00139.001.ipynb\n"
     ]
    },
    {
     "data": {
      "application/vnd.jupyter.widget-view+json": {
       "model_id": "6904c97e4a9b482aaef3d54e4673f7b9",
       "version_major": 2,
       "version_minor": 0
      },
      "text/plain": [
       "Executing:   0%|          | 0/7 [00:00<?, ?cell/s]"
      ]
     },
     "metadata": {},
     "output_type": "display_data"
    },
    {
     "name": "stdout",
     "output_type": "stream",
     "text": [
      "executing: /global/u2/m/mattlong/codes/Ocean-CDR-Atlas-v0/workflows/output/validation/smyle.cdr-atlas-v0.glb-dor_North_Atlantic_basin_035_1999-04-01_00141.001.ipynb\n"
     ]
    },
    {
     "data": {
      "application/vnd.jupyter.widget-view+json": {
       "model_id": "64a0c4f743da42af9db21905dd73543b",
       "version_major": 2,
       "version_minor": 0
      },
      "text/plain": [
       "Executing:   0%|          | 0/7 [00:00<?, ?cell/s]"
      ]
     },
     "metadata": {},
     "output_type": "display_data"
    },
    {
     "name": "stdout",
     "output_type": "stream",
     "text": [
      "executing: /global/u2/m/mattlong/codes/Ocean-CDR-Atlas-v0/workflows/output/validation/smyle.cdr-atlas-v0.glb-dor_North_Atlantic_basin_035_1999-07-01_00142.001.ipynb\n"
     ]
    },
    {
     "data": {
      "application/vnd.jupyter.widget-view+json": {
       "model_id": "68344f5577a14fe886200d1da2eb92f5",
       "version_major": 2,
       "version_minor": 0
      },
      "text/plain": [
       "Executing:   0%|          | 0/7 [00:00<?, ?cell/s]"
      ]
     },
     "metadata": {},
     "output_type": "display_data"
    },
    {
     "name": "stdout",
     "output_type": "stream",
     "text": [
      "executing: /global/u2/m/mattlong/codes/Ocean-CDR-Atlas-v0/workflows/output/validation/smyle.cdr-atlas-v0.glb-dor_North_Atlantic_basin_035_1999-10-01_00143.001.ipynb\n"
     ]
    },
    {
     "data": {
      "application/vnd.jupyter.widget-view+json": {
       "model_id": "452102ff7ce8419ea66ad167517a0562",
       "version_major": 2,
       "version_minor": 0
      },
      "text/plain": [
       "Executing:   0%|          | 0/7 [00:00<?, ?cell/s]"
      ]
     },
     "metadata": {},
     "output_type": "display_data"
    },
    {
     "name": "stdout",
     "output_type": "stream",
     "text": [
      "executing: /global/u2/m/mattlong/codes/Ocean-CDR-Atlas-v0/workflows/output/validation/smyle.cdr-atlas-v0.glb-dor_North_Atlantic_basin_036_1999-01-01_00144.001.ipynb\n"
     ]
    },
    {
     "data": {
      "application/vnd.jupyter.widget-view+json": {
       "model_id": "abf36f7cdd284d37881cc87927dcee7d",
       "version_major": 2,
       "version_minor": 0
      },
      "text/plain": [
       "Executing:   0%|          | 0/7 [00:00<?, ?cell/s]"
      ]
     },
     "metadata": {},
     "output_type": "display_data"
    },
    {
     "name": "stdout",
     "output_type": "stream",
     "text": [
      "executing: /global/u2/m/mattlong/codes/Ocean-CDR-Atlas-v0/workflows/output/validation/smyle.cdr-atlas-v0.glb-dor_North_Atlantic_basin_036_1999-04-01_00145.001.ipynb\n"
     ]
    },
    {
     "data": {
      "application/vnd.jupyter.widget-view+json": {
       "model_id": "7894e79b3b9f4da1bb0a1211c644cebe",
       "version_major": 2,
       "version_minor": 0
      },
      "text/plain": [
       "Executing:   0%|          | 0/7 [00:00<?, ?cell/s]"
      ]
     },
     "metadata": {},
     "output_type": "display_data"
    },
    {
     "name": "stdout",
     "output_type": "stream",
     "text": [
      "executing: /global/u2/m/mattlong/codes/Ocean-CDR-Atlas-v0/workflows/output/validation/smyle.cdr-atlas-v0.glb-dor_North_Atlantic_basin_036_1999-07-01_00146.001.ipynb\n"
     ]
    },
    {
     "data": {
      "application/vnd.jupyter.widget-view+json": {
       "model_id": "53fd3e706c65497cac22fbfcfd605e5d",
       "version_major": 2,
       "version_minor": 0
      },
      "text/plain": [
       "Executing:   0%|          | 0/7 [00:00<?, ?cell/s]"
      ]
     },
     "metadata": {},
     "output_type": "display_data"
    },
    {
     "name": "stdout",
     "output_type": "stream",
     "text": [
      "executing: /global/u2/m/mattlong/codes/Ocean-CDR-Atlas-v0/workflows/output/validation/smyle.cdr-atlas-v0.glb-dor_North_Atlantic_basin_036_1999-10-01_00147.001.ipynb\n"
     ]
    },
    {
     "data": {
      "application/vnd.jupyter.widget-view+json": {
       "model_id": "dd163a78ee9e4ddb99ead537e903a26f",
       "version_major": 2,
       "version_minor": 0
      },
      "text/plain": [
       "Executing:   0%|          | 0/7 [00:00<?, ?cell/s]"
      ]
     },
     "metadata": {},
     "output_type": "display_data"
    },
    {
     "name": "stdout",
     "output_type": "stream",
     "text": [
      "executing: /global/u2/m/mattlong/codes/Ocean-CDR-Atlas-v0/workflows/output/validation/smyle.cdr-atlas-v0.glb-dor_North_Atlantic_basin_037_1999-01-01_00148.001.ipynb\n"
     ]
    },
    {
     "data": {
      "application/vnd.jupyter.widget-view+json": {
       "model_id": "e0e6a4fb20584fa6be02ca2ad18c03da",
       "version_major": 2,
       "version_minor": 0
      },
      "text/plain": [
       "Executing:   0%|          | 0/7 [00:00<?, ?cell/s]"
      ]
     },
     "metadata": {},
     "output_type": "display_data"
    },
    {
     "name": "stdout",
     "output_type": "stream",
     "text": [
      "executing: /global/u2/m/mattlong/codes/Ocean-CDR-Atlas-v0/workflows/output/validation/smyle.cdr-atlas-v0.glb-dor_North_Atlantic_basin_037_1999-04-01_00149.001.ipynb\n"
     ]
    },
    {
     "data": {
      "application/vnd.jupyter.widget-view+json": {
       "model_id": "2a5ff8b7ab6648ddbde7136cf4f60ea8",
       "version_major": 2,
       "version_minor": 0
      },
      "text/plain": [
       "Executing:   0%|          | 0/7 [00:00<?, ?cell/s]"
      ]
     },
     "metadata": {},
     "output_type": "display_data"
    },
    {
     "name": "stdout",
     "output_type": "stream",
     "text": [
      "executing: /global/u2/m/mattlong/codes/Ocean-CDR-Atlas-v0/workflows/output/validation/smyle.cdr-atlas-v0.glb-dor_North_Atlantic_basin_037_1999-07-01_00150.001.ipynb\n"
     ]
    },
    {
     "data": {
      "application/vnd.jupyter.widget-view+json": {
       "model_id": "e84b4269f7c24dc49cf2b4011a2a7294",
       "version_major": 2,
       "version_minor": 0
      },
      "text/plain": [
       "Executing:   0%|          | 0/7 [00:00<?, ?cell/s]"
      ]
     },
     "metadata": {},
     "output_type": "display_data"
    },
    {
     "name": "stdout",
     "output_type": "stream",
     "text": [
      "executing: /global/u2/m/mattlong/codes/Ocean-CDR-Atlas-v0/workflows/output/validation/smyle.cdr-atlas-v0.glb-dor_North_Atlantic_basin_037_1999-10-01_00151.001.ipynb\n"
     ]
    },
    {
     "data": {
      "application/vnd.jupyter.widget-view+json": {
       "model_id": "dd9d5e6250ae4734bb7a6f6106cab088",
       "version_major": 2,
       "version_minor": 0
      },
      "text/plain": [
       "Executing:   0%|          | 0/7 [00:00<?, ?cell/s]"
      ]
     },
     "metadata": {},
     "output_type": "display_data"
    },
    {
     "name": "stdout",
     "output_type": "stream",
     "text": [
      "executing: /global/u2/m/mattlong/codes/Ocean-CDR-Atlas-v0/workflows/output/validation/smyle.cdr-atlas-v0.glb-dor_North_Atlantic_basin_038_1999-01-01_00152.001.ipynb\n"
     ]
    },
    {
     "data": {
      "application/vnd.jupyter.widget-view+json": {
       "model_id": "98ba7af89cdd41beafc6456e1dd5643d",
       "version_major": 2,
       "version_minor": 0
      },
      "text/plain": [
       "Executing:   0%|          | 0/7 [00:00<?, ?cell/s]"
      ]
     },
     "metadata": {},
     "output_type": "display_data"
    },
    {
     "name": "stdout",
     "output_type": "stream",
     "text": [
      "executing: /global/u2/m/mattlong/codes/Ocean-CDR-Atlas-v0/workflows/output/validation/smyle.cdr-atlas-v0.glb-dor_North_Atlantic_basin_038_1999-04-01_00153.001.ipynb\n"
     ]
    },
    {
     "data": {
      "application/vnd.jupyter.widget-view+json": {
       "model_id": "063b1c74cf39495c8db2a7c619c62b79",
       "version_major": 2,
       "version_minor": 0
      },
      "text/plain": [
       "Executing:   0%|          | 0/7 [00:00<?, ?cell/s]"
      ]
     },
     "metadata": {},
     "output_type": "display_data"
    },
    {
     "name": "stdout",
     "output_type": "stream",
     "text": [
      "executing: /global/u2/m/mattlong/codes/Ocean-CDR-Atlas-v0/workflows/output/validation/smyle.cdr-atlas-v0.glb-dor_North_Atlantic_basin_038_1999-07-01_00154.001.ipynb\n"
     ]
    },
    {
     "data": {
      "application/vnd.jupyter.widget-view+json": {
       "model_id": "c251540bd1df420096972abe8b708221",
       "version_major": 2,
       "version_minor": 0
      },
      "text/plain": [
       "Executing:   0%|          | 0/7 [00:00<?, ?cell/s]"
      ]
     },
     "metadata": {},
     "output_type": "display_data"
    },
    {
     "name": "stdout",
     "output_type": "stream",
     "text": [
      "executing: /global/u2/m/mattlong/codes/Ocean-CDR-Atlas-v0/workflows/output/validation/smyle.cdr-atlas-v0.glb-dor_North_Atlantic_basin_038_1999-10-01_00155.001.ipynb\n"
     ]
    },
    {
     "data": {
      "application/vnd.jupyter.widget-view+json": {
       "model_id": "e0e7dcc563ca49ee9c1f9ba119c51f9e",
       "version_major": 2,
       "version_minor": 0
      },
      "text/plain": [
       "Executing:   0%|          | 0/7 [00:00<?, ?cell/s]"
      ]
     },
     "metadata": {},
     "output_type": "display_data"
    },
    {
     "name": "stdout",
     "output_type": "stream",
     "text": [
      "executing: /global/u2/m/mattlong/codes/Ocean-CDR-Atlas-v0/workflows/output/validation/smyle.cdr-atlas-v0.glb-dor_North_Atlantic_basin_039_1999-01-01_00156.001.ipynb\n"
     ]
    },
    {
     "data": {
      "application/vnd.jupyter.widget-view+json": {
       "model_id": "4ff5b63e6cef42528facc3e92988bf60",
       "version_major": 2,
       "version_minor": 0
      },
      "text/plain": [
       "Executing:   0%|          | 0/7 [00:00<?, ?cell/s]"
      ]
     },
     "metadata": {},
     "output_type": "display_data"
    },
    {
     "name": "stdout",
     "output_type": "stream",
     "text": [
      "executing: /global/u2/m/mattlong/codes/Ocean-CDR-Atlas-v0/workflows/output/validation/smyle.cdr-atlas-v0.glb-dor_North_Atlantic_basin_039_1999-04-01_00157.001.ipynb\n"
     ]
    },
    {
     "data": {
      "application/vnd.jupyter.widget-view+json": {
       "model_id": "2b2e2c0aa42b4269ba4d0a3ffdc2efb9",
       "version_major": 2,
       "version_minor": 0
      },
      "text/plain": [
       "Executing:   0%|          | 0/7 [00:00<?, ?cell/s]"
      ]
     },
     "metadata": {},
     "output_type": "display_data"
    },
    {
     "name": "stdout",
     "output_type": "stream",
     "text": [
      "executing: /global/u2/m/mattlong/codes/Ocean-CDR-Atlas-v0/workflows/output/validation/smyle.cdr-atlas-v0.glb-dor_North_Atlantic_basin_039_1999-07-01_00158.001.ipynb\n"
     ]
    },
    {
     "data": {
      "application/vnd.jupyter.widget-view+json": {
       "model_id": "44909ab53bdb4580990f1d1b550f2fa4",
       "version_major": 2,
       "version_minor": 0
      },
      "text/plain": [
       "Executing:   0%|          | 0/7 [00:00<?, ?cell/s]"
      ]
     },
     "metadata": {},
     "output_type": "display_data"
    },
    {
     "name": "stdout",
     "output_type": "stream",
     "text": [
      "executing: /global/u2/m/mattlong/codes/Ocean-CDR-Atlas-v0/workflows/output/validation/smyle.cdr-atlas-v0.glb-dor_North_Atlantic_basin_039_1999-10-01_00159.001.ipynb\n"
     ]
    },
    {
     "data": {
      "application/vnd.jupyter.widget-view+json": {
       "model_id": "69300be33b94442d9e147f768ecde4ee",
       "version_major": 2,
       "version_minor": 0
      },
      "text/plain": [
       "Executing:   0%|          | 0/7 [00:00<?, ?cell/s]"
      ]
     },
     "metadata": {},
     "output_type": "display_data"
    },
    {
     "name": "stdout",
     "output_type": "stream",
     "text": [
      "executing: /global/u2/m/mattlong/codes/Ocean-CDR-Atlas-v0/workflows/output/validation/smyle.cdr-atlas-v0.glb-dor_North_Atlantic_basin_040_1999-01-01_00160.001.ipynb\n"
     ]
    },
    {
     "data": {
      "application/vnd.jupyter.widget-view+json": {
       "model_id": "4f1e8cb3cecb414baaa82a5332855188",
       "version_major": 2,
       "version_minor": 0
      },
      "text/plain": [
       "Executing:   0%|          | 0/7 [00:00<?, ?cell/s]"
      ]
     },
     "metadata": {},
     "output_type": "display_data"
    },
    {
     "name": "stdout",
     "output_type": "stream",
     "text": [
      "executing: /global/u2/m/mattlong/codes/Ocean-CDR-Atlas-v0/workflows/output/validation/smyle.cdr-atlas-v0.glb-dor_North_Atlantic_basin_040_1999-04-01_00161.001.ipynb\n"
     ]
    },
    {
     "data": {
      "application/vnd.jupyter.widget-view+json": {
       "model_id": "bb59efeb5a614eefb296c3c9b2d48735",
       "version_major": 2,
       "version_minor": 0
      },
      "text/plain": [
       "Executing:   0%|          | 0/7 [00:00<?, ?cell/s]"
      ]
     },
     "metadata": {},
     "output_type": "display_data"
    },
    {
     "name": "stdout",
     "output_type": "stream",
     "text": [
      "executing: /global/u2/m/mattlong/codes/Ocean-CDR-Atlas-v0/workflows/output/validation/smyle.cdr-atlas-v0.glb-dor_North_Atlantic_basin_040_1999-10-01_00163.001.ipynb\n"
     ]
    },
    {
     "data": {
      "application/vnd.jupyter.widget-view+json": {
       "model_id": "7db5869285854fee9778b26e466d904c",
       "version_major": 2,
       "version_minor": 0
      },
      "text/plain": [
       "Executing:   0%|          | 0/7 [00:00<?, ?cell/s]"
      ]
     },
     "metadata": {},
     "output_type": "display_data"
    },
    {
     "name": "stdout",
     "output_type": "stream",
     "text": [
      "executing: /global/u2/m/mattlong/codes/Ocean-CDR-Atlas-v0/workflows/output/validation/smyle.cdr-atlas-v0.glb-dor_North_Atlantic_basin_041_1999-01-01_00164.001.ipynb\n"
     ]
    },
    {
     "data": {
      "application/vnd.jupyter.widget-view+json": {
       "model_id": "9e362379d0174b0faff0af62e988ceb9",
       "version_major": 2,
       "version_minor": 0
      },
      "text/plain": [
       "Executing:   0%|          | 0/7 [00:00<?, ?cell/s]"
      ]
     },
     "metadata": {},
     "output_type": "display_data"
    },
    {
     "name": "stdout",
     "output_type": "stream",
     "text": [
      "executing: /global/u2/m/mattlong/codes/Ocean-CDR-Atlas-v0/workflows/output/validation/smyle.cdr-atlas-v0.glb-dor_North_Atlantic_basin_041_1999-07-01_00166.001.ipynb\n"
     ]
    },
    {
     "data": {
      "application/vnd.jupyter.widget-view+json": {
       "model_id": "9c91626d3ff7452593d456f9cd7017aa",
       "version_major": 2,
       "version_minor": 0
      },
      "text/plain": [
       "Executing:   0%|          | 0/7 [00:00<?, ?cell/s]"
      ]
     },
     "metadata": {},
     "output_type": "display_data"
    },
    {
     "name": "stdout",
     "output_type": "stream",
     "text": [
      "executing: /global/u2/m/mattlong/codes/Ocean-CDR-Atlas-v0/workflows/output/validation/smyle.cdr-atlas-v0.glb-dor_North_Atlantic_basin_041_1999-10-01_00167.001.ipynb\n"
     ]
    },
    {
     "data": {
      "application/vnd.jupyter.widget-view+json": {
       "model_id": "242800d0950a4c5e94adb1dcb713447f",
       "version_major": 2,
       "version_minor": 0
      },
      "text/plain": [
       "Executing:   0%|          | 0/7 [00:00<?, ?cell/s]"
      ]
     },
     "metadata": {},
     "output_type": "display_data"
    },
    {
     "name": "stdout",
     "output_type": "stream",
     "text": [
      "executing: /global/u2/m/mattlong/codes/Ocean-CDR-Atlas-v0/workflows/output/validation/smyle.cdr-atlas-v0.glb-dor_North_Atlantic_basin_042_1999-01-01_00168.001.ipynb\n"
     ]
    },
    {
     "data": {
      "application/vnd.jupyter.widget-view+json": {
       "model_id": "c6aafa0e019b45c9b272cceff8950cf8",
       "version_major": 2,
       "version_minor": 0
      },
      "text/plain": [
       "Executing:   0%|          | 0/7 [00:00<?, ?cell/s]"
      ]
     },
     "metadata": {},
     "output_type": "display_data"
    },
    {
     "name": "stdout",
     "output_type": "stream",
     "text": [
      "executing: /global/u2/m/mattlong/codes/Ocean-CDR-Atlas-v0/workflows/output/validation/smyle.cdr-atlas-v0.glb-dor_North_Atlantic_basin_042_1999-04-01_00169.001.ipynb\n"
     ]
    },
    {
     "data": {
      "application/vnd.jupyter.widget-view+json": {
       "model_id": "3d52dbe07d4b4dab8f87384307324b04",
       "version_major": 2,
       "version_minor": 0
      },
      "text/plain": [
       "Executing:   0%|          | 0/7 [00:00<?, ?cell/s]"
      ]
     },
     "metadata": {},
     "output_type": "display_data"
    },
    {
     "name": "stdout",
     "output_type": "stream",
     "text": [
      "executing: /global/u2/m/mattlong/codes/Ocean-CDR-Atlas-v0/workflows/output/validation/smyle.cdr-atlas-v0.glb-dor_North_Atlantic_basin_042_1999-07-01_00170.001.ipynb\n"
     ]
    },
    {
     "data": {
      "application/vnd.jupyter.widget-view+json": {
       "model_id": "275c7ec9093442c5b5a87f5fecc6b5a1",
       "version_major": 2,
       "version_minor": 0
      },
      "text/plain": [
       "Executing:   0%|          | 0/7 [00:00<?, ?cell/s]"
      ]
     },
     "metadata": {},
     "output_type": "display_data"
    },
    {
     "name": "stdout",
     "output_type": "stream",
     "text": [
      "executing: /global/u2/m/mattlong/codes/Ocean-CDR-Atlas-v0/workflows/output/validation/smyle.cdr-atlas-v0.glb-dor_North_Atlantic_basin_043_1999-01-01_00172.001.ipynb\n"
     ]
    },
    {
     "data": {
      "application/vnd.jupyter.widget-view+json": {
       "model_id": "e6de12aefbcc49dc90db6c22245916cd",
       "version_major": 2,
       "version_minor": 0
      },
      "text/plain": [
       "Executing:   0%|          | 0/7 [00:00<?, ?cell/s]"
      ]
     },
     "metadata": {},
     "output_type": "display_data"
    },
    {
     "name": "stdout",
     "output_type": "stream",
     "text": [
      "executing: /global/u2/m/mattlong/codes/Ocean-CDR-Atlas-v0/workflows/output/validation/smyle.cdr-atlas-v0.glb-dor_North_Atlantic_basin_043_1999-04-01_00173.001.ipynb\n"
     ]
    },
    {
     "data": {
      "application/vnd.jupyter.widget-view+json": {
       "model_id": "cbf9ac9e695f401bad9ea97add53ad6f",
       "version_major": 2,
       "version_minor": 0
      },
      "text/plain": [
       "Executing:   0%|          | 0/7 [00:00<?, ?cell/s]"
      ]
     },
     "metadata": {},
     "output_type": "display_data"
    },
    {
     "name": "stdout",
     "output_type": "stream",
     "text": [
      "executing: /global/u2/m/mattlong/codes/Ocean-CDR-Atlas-v0/workflows/output/validation/smyle.cdr-atlas-v0.glb-dor_North_Atlantic_basin_043_1999-07-01_00174.001.ipynb\n"
     ]
    },
    {
     "data": {
      "application/vnd.jupyter.widget-view+json": {
       "model_id": "7d98ef823acd4e0d9152bb11c5bd7033",
       "version_major": 2,
       "version_minor": 0
      },
      "text/plain": [
       "Executing:   0%|          | 0/7 [00:00<?, ?cell/s]"
      ]
     },
     "metadata": {},
     "output_type": "display_data"
    },
    {
     "name": "stdout",
     "output_type": "stream",
     "text": [
      "executing: /global/u2/m/mattlong/codes/Ocean-CDR-Atlas-v0/workflows/output/validation/smyle.cdr-atlas-v0.glb-dor_North_Atlantic_basin_043_1999-10-01_00175.001.ipynb\n"
     ]
    },
    {
     "data": {
      "application/vnd.jupyter.widget-view+json": {
       "model_id": "a0a3e169eb7742fb8556fcd56980611e",
       "version_major": 2,
       "version_minor": 0
      },
      "text/plain": [
       "Executing:   0%|          | 0/7 [00:00<?, ?cell/s]"
      ]
     },
     "metadata": {},
     "output_type": "display_data"
    },
    {
     "name": "stdout",
     "output_type": "stream",
     "text": [
      "executing: /global/u2/m/mattlong/codes/Ocean-CDR-Atlas-v0/workflows/output/validation/smyle.cdr-atlas-v0.glb-dor_North_Atlantic_basin_044_1999-01-01_00176.001.ipynb\n"
     ]
    },
    {
     "data": {
      "application/vnd.jupyter.widget-view+json": {
       "model_id": "18ca8568e9c343818c9add315b167f42",
       "version_major": 2,
       "version_minor": 0
      },
      "text/plain": [
       "Executing:   0%|          | 0/7 [00:00<?, ?cell/s]"
      ]
     },
     "metadata": {},
     "output_type": "display_data"
    },
    {
     "name": "stdout",
     "output_type": "stream",
     "text": [
      "executing: /global/u2/m/mattlong/codes/Ocean-CDR-Atlas-v0/workflows/output/validation/smyle.cdr-atlas-v0.glb-dor_North_Atlantic_basin_044_1999-04-01_00177.001.ipynb\n"
     ]
    },
    {
     "data": {
      "application/vnd.jupyter.widget-view+json": {
       "model_id": "8125ae63fac24c519b602baa23e5019c",
       "version_major": 2,
       "version_minor": 0
      },
      "text/plain": [
       "Executing:   0%|          | 0/7 [00:00<?, ?cell/s]"
      ]
     },
     "metadata": {},
     "output_type": "display_data"
    },
    {
     "name": "stdout",
     "output_type": "stream",
     "text": [
      "executing: /global/u2/m/mattlong/codes/Ocean-CDR-Atlas-v0/workflows/output/validation/smyle.cdr-atlas-v0.glb-dor_North_Atlantic_basin_044_1999-07-01_00178.001.ipynb\n"
     ]
    },
    {
     "data": {
      "application/vnd.jupyter.widget-view+json": {
       "model_id": "92192e8f262d4aa88c77913521112e80",
       "version_major": 2,
       "version_minor": 0
      },
      "text/plain": [
       "Executing:   0%|          | 0/7 [00:00<?, ?cell/s]"
      ]
     },
     "metadata": {},
     "output_type": "display_data"
    },
    {
     "name": "stdout",
     "output_type": "stream",
     "text": [
      "executing: /global/u2/m/mattlong/codes/Ocean-CDR-Atlas-v0/workflows/output/validation/smyle.cdr-atlas-v0.glb-dor_North_Atlantic_basin_044_1999-10-01_00179.001.ipynb\n"
     ]
    },
    {
     "data": {
      "application/vnd.jupyter.widget-view+json": {
       "model_id": "89ca92ca88e947d8a577ffc31c951995",
       "version_major": 2,
       "version_minor": 0
      },
      "text/plain": [
       "Executing:   0%|          | 0/7 [00:00<?, ?cell/s]"
      ]
     },
     "metadata": {},
     "output_type": "display_data"
    },
    {
     "name": "stdout",
     "output_type": "stream",
     "text": [
      "executing: /global/u2/m/mattlong/codes/Ocean-CDR-Atlas-v0/workflows/output/validation/smyle.cdr-atlas-v0.glb-dor_North_Atlantic_basin_045_1999-01-01_00180.001.ipynb\n"
     ]
    },
    {
     "data": {
      "application/vnd.jupyter.widget-view+json": {
       "model_id": "9ae8959c1dfa4533bb2120b0adf6fda2",
       "version_major": 2,
       "version_minor": 0
      },
      "text/plain": [
       "Executing:   0%|          | 0/7 [00:00<?, ?cell/s]"
      ]
     },
     "metadata": {},
     "output_type": "display_data"
    },
    {
     "name": "stdout",
     "output_type": "stream",
     "text": [
      "executing: /global/u2/m/mattlong/codes/Ocean-CDR-Atlas-v0/workflows/output/validation/smyle.cdr-atlas-v0.glb-dor_North_Atlantic_basin_045_1999-04-01_00181.001.ipynb\n"
     ]
    },
    {
     "data": {
      "application/vnd.jupyter.widget-view+json": {
       "model_id": "1d89b53464334061afafde2fd890a644",
       "version_major": 2,
       "version_minor": 0
      },
      "text/plain": [
       "Executing:   0%|          | 0/7 [00:00<?, ?cell/s]"
      ]
     },
     "metadata": {},
     "output_type": "display_data"
    }
   ],
   "source": [
    "calc.visualize(clobber=True)"
   ]
  },
  {
   "cell_type": "code",
   "execution_count": null,
   "id": "f1e2634e-9a3f-4816-8839-7cafca1421a4",
   "metadata": {},
   "outputs": [],
   "source": []
  }
 ],
 "metadata": {
  "kernelspec": {
   "display_name": "cworthy",
   "language": "python",
   "name": "env"
  },
  "language_info": {
   "codemirror_mode": {
    "name": "ipython",
    "version": 3
   },
   "file_extension": ".py",
   "mimetype": "text/x-python",
   "name": "python",
   "nbconvert_exporter": "python",
   "pygments_lexer": "ipython3",
   "version": "3.12.5"
  }
 },
 "nbformat": 4,
 "nbformat_minor": 5
}
