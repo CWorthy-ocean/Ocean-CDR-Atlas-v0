{
 "cells": [
  {
   "cell_type": "markdown",
   "id": "c109ad0d-4cab-422e-8e68-7e2c924ae156",
   "metadata": {},
   "source": [
    "# Global IRF Efficiency Map\n",
    "\n",
    "Generate global map of CDR efficiency using IRF forcing."
   ]
  },
  {
   "cell_type": "code",
   "execution_count": 1,
   "id": "6496a28d-c37b-4764-ac76-2d3feb1164da",
   "metadata": {
    "tags": []
   },
   "outputs": [],
   "source": [
    "%load_ext autoreload\n",
    "%autoreload 2"
   ]
  },
  {
   "cell_type": "code",
   "execution_count": 2,
   "id": "0d784c2f-87bb-4e4c-9465-535c267b07ed",
   "metadata": {
    "tags": []
   },
   "outputs": [],
   "source": [
    "import xarray as xr\n",
    "import matplotlib.pyplot as plt\n",
    "\n",
    "from tqdm.notebook import tqdm\n",
    "\n",
    "import atlas"
   ]
  },
  {
   "cell_type": "markdown",
   "id": "b629571f-dee0-47d1-82fd-91aade101e2b",
   "metadata": {},
   "source": [
    "## Define experiment and phase\n",
    "\n"
   ]
  },
  {
   "cell_type": "code",
   "execution_count": 3,
   "id": "93e67af1-9485-4ac9-b6fd-3851b82af757",
   "metadata": {
    "tags": [
     "parameters"
    ]
   },
   "outputs": [],
   "source": [
    "cdr_forcing = \"DOR\"\n",
    "vintage = \"001\"\n",
    "clobber = False"
   ]
  },
  {
   "cell_type": "code",
   "execution_count": 4,
   "id": "a37826ce-7b72-467a-a4c6-d4f88968fada",
   "metadata": {
    "tags": []
   },
   "outputs": [],
   "source": [
    "calc = atlas.global_irf_map(cdr_forcing, vintage)"
   ]
  },
  {
   "cell_type": "markdown",
   "id": "853ae906-9dec-4b25-82ea-bf0be14f7a1f",
   "metadata": {},
   "source": [
    "## Table of experiments"
   ]
  },
  {
   "cell_type": "code",
   "execution_count": 5,
   "id": "aa518170-6b87-4f0d-a783-5278495aed4a",
   "metadata": {
    "tags": []
   },
   "outputs": [
    {
     "data": {
      "text/html": [
       "<div>\n",
       "<style scoped>\n",
       "    .dataframe tbody tr th:only-of-type {\n",
       "        vertical-align: middle;\n",
       "    }\n",
       "\n",
       "    .dataframe tbody tr th {\n",
       "        vertical-align: top;\n",
       "    }\n",
       "\n",
       "    .dataframe thead th {\n",
       "        text-align: right;\n",
       "    }\n",
       "</style>\n",
       "<table border=\"1\" class=\"dataframe\">\n",
       "  <thead>\n",
       "    <tr style=\"text-align: right;\">\n",
       "      <th></th>\n",
       "      <th>blueprint</th>\n",
       "      <th>polygon</th>\n",
       "      <th>polygon_master</th>\n",
       "      <th>basin</th>\n",
       "      <th>start_date</th>\n",
       "      <th>cdr_forcing</th>\n",
       "      <th>cdr_forcing_file</th>\n",
       "      <th>simulation_key</th>\n",
       "      <th>refdate</th>\n",
       "      <th>stop_n</th>\n",
       "      <th>wallclock</th>\n",
       "      <th>curtail_output</th>\n",
       "    </tr>\n",
       "    <tr>\n",
       "      <th>case</th>\n",
       "      <th></th>\n",
       "      <th></th>\n",
       "      <th></th>\n",
       "      <th></th>\n",
       "      <th></th>\n",
       "      <th></th>\n",
       "      <th></th>\n",
       "      <th></th>\n",
       "      <th></th>\n",
       "      <th></th>\n",
       "      <th></th>\n",
       "      <th></th>\n",
       "    </tr>\n",
       "  </thead>\n",
       "  <tbody>\n",
       "    <tr>\n",
       "      <th>smyle.cdr-atlas-v0.control.001</th>\n",
       "      <td>smyle</td>\n",
       "      <td>NaN</td>\n",
       "      <td>NaN</td>\n",
       "      <td>None</td>\n",
       "      <td>1999-01</td>\n",
       "      <td>None</td>\n",
       "      <td>None</td>\n",
       "      <td>baseline</td>\n",
       "      <td>0347-01-01</td>\n",
       "      <td>16</td>\n",
       "      <td>12:00:00</td>\n",
       "      <td>False</td>\n",
       "    </tr>\n",
       "    <tr>\n",
       "      <th>smyle.cdr-atlas-v0.glb-dor_North_Atlantic_basin_000_1999-01-01_00000.001</th>\n",
       "      <td>smyle</td>\n",
       "      <td>0.0</td>\n",
       "      <td>0.0</td>\n",
       "      <td>North_Atlantic_basin</td>\n",
       "      <td>1999-01</td>\n",
       "      <td>DOR</td>\n",
       "      <td>/global/cfs/projectdirs/m4746/Projects/OAE-Eff...</td>\n",
       "      <td>glb-dor_North_Atlantic_basin_000_1999-01-01_00000</td>\n",
       "      <td>0347-01-01</td>\n",
       "      <td>15</td>\n",
       "      <td>10:00:00</td>\n",
       "      <td>True</td>\n",
       "    </tr>\n",
       "    <tr>\n",
       "      <th>smyle.cdr-atlas-v0.glb-dor_North_Atlantic_basin_000_1999-04-01_00001.001</th>\n",
       "      <td>smyle</td>\n",
       "      <td>0.0</td>\n",
       "      <td>0.0</td>\n",
       "      <td>North_Atlantic_basin</td>\n",
       "      <td>1999-04</td>\n",
       "      <td>DOR</td>\n",
       "      <td>/global/cfs/projectdirs/m4746/Projects/OAE-Eff...</td>\n",
       "      <td>glb-dor_North_Atlantic_basin_000_1999-04-01_00001</td>\n",
       "      <td>0347-04-01</td>\n",
       "      <td>15</td>\n",
       "      <td>10:00:00</td>\n",
       "      <td>True</td>\n",
       "    </tr>\n",
       "    <tr>\n",
       "      <th>smyle.cdr-atlas-v0.glb-dor_North_Atlantic_basin_000_1999-07-01_00002.001</th>\n",
       "      <td>smyle</td>\n",
       "      <td>0.0</td>\n",
       "      <td>0.0</td>\n",
       "      <td>North_Atlantic_basin</td>\n",
       "      <td>1999-07</td>\n",
       "      <td>DOR</td>\n",
       "      <td>/global/cfs/projectdirs/m4746/Projects/OAE-Eff...</td>\n",
       "      <td>glb-dor_North_Atlantic_basin_000_1999-07-01_00002</td>\n",
       "      <td>0347-07-01</td>\n",
       "      <td>15</td>\n",
       "      <td>10:00:00</td>\n",
       "      <td>True</td>\n",
       "    </tr>\n",
       "    <tr>\n",
       "      <th>smyle.cdr-atlas-v0.glb-dor_North_Atlantic_basin_000_1999-10-01_00003.001</th>\n",
       "      <td>smyle</td>\n",
       "      <td>0.0</td>\n",
       "      <td>0.0</td>\n",
       "      <td>North_Atlantic_basin</td>\n",
       "      <td>1999-10</td>\n",
       "      <td>DOR</td>\n",
       "      <td>/global/cfs/projectdirs/m4746/Projects/OAE-Eff...</td>\n",
       "      <td>glb-dor_North_Atlantic_basin_000_1999-10-01_00003</td>\n",
       "      <td>0347-10-01</td>\n",
       "      <td>15</td>\n",
       "      <td>10:00:00</td>\n",
       "      <td>True</td>\n",
       "    </tr>\n",
       "    <tr>\n",
       "      <th>...</th>\n",
       "      <td>...</td>\n",
       "      <td>...</td>\n",
       "      <td>...</td>\n",
       "      <td>...</td>\n",
       "      <td>...</td>\n",
       "      <td>...</td>\n",
       "      <td>...</td>\n",
       "      <td>...</td>\n",
       "      <td>...</td>\n",
       "      <td>...</td>\n",
       "      <td>...</td>\n",
       "      <td>...</td>\n",
       "    </tr>\n",
       "    <tr>\n",
       "      <th>smyle.cdr-atlas-v0.glb-dor_Southern_Ocean_038_1999-10-01_02755.001</th>\n",
       "      <td>smyle</td>\n",
       "      <td>38.0</td>\n",
       "      <td>688.0</td>\n",
       "      <td>Southern_Ocean</td>\n",
       "      <td>1999-10</td>\n",
       "      <td>DOR</td>\n",
       "      <td>/global/cfs/projectdirs/m4746/Projects/OAE-Eff...</td>\n",
       "      <td>glb-dor_Southern_Ocean_038_1999-10-01_02755</td>\n",
       "      <td>0347-10-01</td>\n",
       "      <td>15</td>\n",
       "      <td>10:00:00</td>\n",
       "      <td>True</td>\n",
       "    </tr>\n",
       "    <tr>\n",
       "      <th>smyle.cdr-atlas-v0.glb-dor_Southern_Ocean_039_1999-01-01_02756.001</th>\n",
       "      <td>smyle</td>\n",
       "      <td>39.0</td>\n",
       "      <td>689.0</td>\n",
       "      <td>Southern_Ocean</td>\n",
       "      <td>1999-01</td>\n",
       "      <td>DOR</td>\n",
       "      <td>/global/cfs/projectdirs/m4746/Projects/OAE-Eff...</td>\n",
       "      <td>glb-dor_Southern_Ocean_039_1999-01-01_02756</td>\n",
       "      <td>0347-01-01</td>\n",
       "      <td>15</td>\n",
       "      <td>10:00:00</td>\n",
       "      <td>True</td>\n",
       "    </tr>\n",
       "    <tr>\n",
       "      <th>smyle.cdr-atlas-v0.glb-dor_Southern_Ocean_039_1999-04-01_02757.001</th>\n",
       "      <td>smyle</td>\n",
       "      <td>39.0</td>\n",
       "      <td>689.0</td>\n",
       "      <td>Southern_Ocean</td>\n",
       "      <td>1999-04</td>\n",
       "      <td>DOR</td>\n",
       "      <td>/global/cfs/projectdirs/m4746/Projects/OAE-Eff...</td>\n",
       "      <td>glb-dor_Southern_Ocean_039_1999-04-01_02757</td>\n",
       "      <td>0347-04-01</td>\n",
       "      <td>15</td>\n",
       "      <td>10:00:00</td>\n",
       "      <td>True</td>\n",
       "    </tr>\n",
       "    <tr>\n",
       "      <th>smyle.cdr-atlas-v0.glb-dor_Southern_Ocean_039_1999-07-01_02758.001</th>\n",
       "      <td>smyle</td>\n",
       "      <td>39.0</td>\n",
       "      <td>689.0</td>\n",
       "      <td>Southern_Ocean</td>\n",
       "      <td>1999-07</td>\n",
       "      <td>DOR</td>\n",
       "      <td>/global/cfs/projectdirs/m4746/Projects/OAE-Eff...</td>\n",
       "      <td>glb-dor_Southern_Ocean_039_1999-07-01_02758</td>\n",
       "      <td>0347-07-01</td>\n",
       "      <td>15</td>\n",
       "      <td>10:00:00</td>\n",
       "      <td>True</td>\n",
       "    </tr>\n",
       "    <tr>\n",
       "      <th>smyle.cdr-atlas-v0.glb-dor_Southern_Ocean_039_1999-10-01_02759.001</th>\n",
       "      <td>smyle</td>\n",
       "      <td>39.0</td>\n",
       "      <td>689.0</td>\n",
       "      <td>Southern_Ocean</td>\n",
       "      <td>1999-10</td>\n",
       "      <td>DOR</td>\n",
       "      <td>/global/cfs/projectdirs/m4746/Projects/OAE-Eff...</td>\n",
       "      <td>glb-dor_Southern_Ocean_039_1999-10-01_02759</td>\n",
       "      <td>0347-10-01</td>\n",
       "      <td>15</td>\n",
       "      <td>10:00:00</td>\n",
       "      <td>True</td>\n",
       "    </tr>\n",
       "  </tbody>\n",
       "</table>\n",
       "<p>2761 rows × 12 columns</p>\n",
       "</div>"
      ],
      "text/plain": [
       "                                                   blueprint  polygon  \\\n",
       "case                                                                    \n",
       "smyle.cdr-atlas-v0.control.001                         smyle      NaN   \n",
       "smyle.cdr-atlas-v0.glb-dor_North_Atlantic_basin...     smyle      0.0   \n",
       "smyle.cdr-atlas-v0.glb-dor_North_Atlantic_basin...     smyle      0.0   \n",
       "smyle.cdr-atlas-v0.glb-dor_North_Atlantic_basin...     smyle      0.0   \n",
       "smyle.cdr-atlas-v0.glb-dor_North_Atlantic_basin...     smyle      0.0   \n",
       "...                                                      ...      ...   \n",
       "smyle.cdr-atlas-v0.glb-dor_Southern_Ocean_038_1...     smyle     38.0   \n",
       "smyle.cdr-atlas-v0.glb-dor_Southern_Ocean_039_1...     smyle     39.0   \n",
       "smyle.cdr-atlas-v0.glb-dor_Southern_Ocean_039_1...     smyle     39.0   \n",
       "smyle.cdr-atlas-v0.glb-dor_Southern_Ocean_039_1...     smyle     39.0   \n",
       "smyle.cdr-atlas-v0.glb-dor_Southern_Ocean_039_1...     smyle     39.0   \n",
       "\n",
       "                                                    polygon_master  \\\n",
       "case                                                                 \n",
       "smyle.cdr-atlas-v0.control.001                                 NaN   \n",
       "smyle.cdr-atlas-v0.glb-dor_North_Atlantic_basin...             0.0   \n",
       "smyle.cdr-atlas-v0.glb-dor_North_Atlantic_basin...             0.0   \n",
       "smyle.cdr-atlas-v0.glb-dor_North_Atlantic_basin...             0.0   \n",
       "smyle.cdr-atlas-v0.glb-dor_North_Atlantic_basin...             0.0   \n",
       "...                                                            ...   \n",
       "smyle.cdr-atlas-v0.glb-dor_Southern_Ocean_038_1...           688.0   \n",
       "smyle.cdr-atlas-v0.glb-dor_Southern_Ocean_039_1...           689.0   \n",
       "smyle.cdr-atlas-v0.glb-dor_Southern_Ocean_039_1...           689.0   \n",
       "smyle.cdr-atlas-v0.glb-dor_Southern_Ocean_039_1...           689.0   \n",
       "smyle.cdr-atlas-v0.glb-dor_Southern_Ocean_039_1...           689.0   \n",
       "\n",
       "                                                                   basin  \\\n",
       "case                                                                       \n",
       "smyle.cdr-atlas-v0.control.001                                      None   \n",
       "smyle.cdr-atlas-v0.glb-dor_North_Atlantic_basin...  North_Atlantic_basin   \n",
       "smyle.cdr-atlas-v0.glb-dor_North_Atlantic_basin...  North_Atlantic_basin   \n",
       "smyle.cdr-atlas-v0.glb-dor_North_Atlantic_basin...  North_Atlantic_basin   \n",
       "smyle.cdr-atlas-v0.glb-dor_North_Atlantic_basin...  North_Atlantic_basin   \n",
       "...                                                                  ...   \n",
       "smyle.cdr-atlas-v0.glb-dor_Southern_Ocean_038_1...        Southern_Ocean   \n",
       "smyle.cdr-atlas-v0.glb-dor_Southern_Ocean_039_1...        Southern_Ocean   \n",
       "smyle.cdr-atlas-v0.glb-dor_Southern_Ocean_039_1...        Southern_Ocean   \n",
       "smyle.cdr-atlas-v0.glb-dor_Southern_Ocean_039_1...        Southern_Ocean   \n",
       "smyle.cdr-atlas-v0.glb-dor_Southern_Ocean_039_1...        Southern_Ocean   \n",
       "\n",
       "                                                   start_date cdr_forcing  \\\n",
       "case                                                                        \n",
       "smyle.cdr-atlas-v0.control.001                        1999-01        None   \n",
       "smyle.cdr-atlas-v0.glb-dor_North_Atlantic_basin...    1999-01         DOR   \n",
       "smyle.cdr-atlas-v0.glb-dor_North_Atlantic_basin...    1999-04         DOR   \n",
       "smyle.cdr-atlas-v0.glb-dor_North_Atlantic_basin...    1999-07         DOR   \n",
       "smyle.cdr-atlas-v0.glb-dor_North_Atlantic_basin...    1999-10         DOR   \n",
       "...                                                       ...         ...   \n",
       "smyle.cdr-atlas-v0.glb-dor_Southern_Ocean_038_1...    1999-10         DOR   \n",
       "smyle.cdr-atlas-v0.glb-dor_Southern_Ocean_039_1...    1999-01         DOR   \n",
       "smyle.cdr-atlas-v0.glb-dor_Southern_Ocean_039_1...    1999-04         DOR   \n",
       "smyle.cdr-atlas-v0.glb-dor_Southern_Ocean_039_1...    1999-07         DOR   \n",
       "smyle.cdr-atlas-v0.glb-dor_Southern_Ocean_039_1...    1999-10         DOR   \n",
       "\n",
       "                                                                                     cdr_forcing_file  \\\n",
       "case                                                                                                    \n",
       "smyle.cdr-atlas-v0.control.001                                                                   None   \n",
       "smyle.cdr-atlas-v0.glb-dor_North_Atlantic_basin...  /global/cfs/projectdirs/m4746/Projects/OAE-Eff...   \n",
       "smyle.cdr-atlas-v0.glb-dor_North_Atlantic_basin...  /global/cfs/projectdirs/m4746/Projects/OAE-Eff...   \n",
       "smyle.cdr-atlas-v0.glb-dor_North_Atlantic_basin...  /global/cfs/projectdirs/m4746/Projects/OAE-Eff...   \n",
       "smyle.cdr-atlas-v0.glb-dor_North_Atlantic_basin...  /global/cfs/projectdirs/m4746/Projects/OAE-Eff...   \n",
       "...                                                                                               ...   \n",
       "smyle.cdr-atlas-v0.glb-dor_Southern_Ocean_038_1...  /global/cfs/projectdirs/m4746/Projects/OAE-Eff...   \n",
       "smyle.cdr-atlas-v0.glb-dor_Southern_Ocean_039_1...  /global/cfs/projectdirs/m4746/Projects/OAE-Eff...   \n",
       "smyle.cdr-atlas-v0.glb-dor_Southern_Ocean_039_1...  /global/cfs/projectdirs/m4746/Projects/OAE-Eff...   \n",
       "smyle.cdr-atlas-v0.glb-dor_Southern_Ocean_039_1...  /global/cfs/projectdirs/m4746/Projects/OAE-Eff...   \n",
       "smyle.cdr-atlas-v0.glb-dor_Southern_Ocean_039_1...  /global/cfs/projectdirs/m4746/Projects/OAE-Eff...   \n",
       "\n",
       "                                                                                       simulation_key  \\\n",
       "case                                                                                                    \n",
       "smyle.cdr-atlas-v0.control.001                                                               baseline   \n",
       "smyle.cdr-atlas-v0.glb-dor_North_Atlantic_basin...  glb-dor_North_Atlantic_basin_000_1999-01-01_00000   \n",
       "smyle.cdr-atlas-v0.glb-dor_North_Atlantic_basin...  glb-dor_North_Atlantic_basin_000_1999-04-01_00001   \n",
       "smyle.cdr-atlas-v0.glb-dor_North_Atlantic_basin...  glb-dor_North_Atlantic_basin_000_1999-07-01_00002   \n",
       "smyle.cdr-atlas-v0.glb-dor_North_Atlantic_basin...  glb-dor_North_Atlantic_basin_000_1999-10-01_00003   \n",
       "...                                                                                               ...   \n",
       "smyle.cdr-atlas-v0.glb-dor_Southern_Ocean_038_1...        glb-dor_Southern_Ocean_038_1999-10-01_02755   \n",
       "smyle.cdr-atlas-v0.glb-dor_Southern_Ocean_039_1...        glb-dor_Southern_Ocean_039_1999-01-01_02756   \n",
       "smyle.cdr-atlas-v0.glb-dor_Southern_Ocean_039_1...        glb-dor_Southern_Ocean_039_1999-04-01_02757   \n",
       "smyle.cdr-atlas-v0.glb-dor_Southern_Ocean_039_1...        glb-dor_Southern_Ocean_039_1999-07-01_02758   \n",
       "smyle.cdr-atlas-v0.glb-dor_Southern_Ocean_039_1...        glb-dor_Southern_Ocean_039_1999-10-01_02759   \n",
       "\n",
       "                                                       refdate  stop_n  \\\n",
       "case                                                                     \n",
       "smyle.cdr-atlas-v0.control.001                      0347-01-01      16   \n",
       "smyle.cdr-atlas-v0.glb-dor_North_Atlantic_basin...  0347-01-01      15   \n",
       "smyle.cdr-atlas-v0.glb-dor_North_Atlantic_basin...  0347-04-01      15   \n",
       "smyle.cdr-atlas-v0.glb-dor_North_Atlantic_basin...  0347-07-01      15   \n",
       "smyle.cdr-atlas-v0.glb-dor_North_Atlantic_basin...  0347-10-01      15   \n",
       "...                                                        ...     ...   \n",
       "smyle.cdr-atlas-v0.glb-dor_Southern_Ocean_038_1...  0347-10-01      15   \n",
       "smyle.cdr-atlas-v0.glb-dor_Southern_Ocean_039_1...  0347-01-01      15   \n",
       "smyle.cdr-atlas-v0.glb-dor_Southern_Ocean_039_1...  0347-04-01      15   \n",
       "smyle.cdr-atlas-v0.glb-dor_Southern_Ocean_039_1...  0347-07-01      15   \n",
       "smyle.cdr-atlas-v0.glb-dor_Southern_Ocean_039_1...  0347-10-01      15   \n",
       "\n",
       "                                                   wallclock  curtail_output  \n",
       "case                                                                          \n",
       "smyle.cdr-atlas-v0.control.001                      12:00:00           False  \n",
       "smyle.cdr-atlas-v0.glb-dor_North_Atlantic_basin...  10:00:00            True  \n",
       "smyle.cdr-atlas-v0.glb-dor_North_Atlantic_basin...  10:00:00            True  \n",
       "smyle.cdr-atlas-v0.glb-dor_North_Atlantic_basin...  10:00:00            True  \n",
       "smyle.cdr-atlas-v0.glb-dor_North_Atlantic_basin...  10:00:00            True  \n",
       "...                                                      ...             ...  \n",
       "smyle.cdr-atlas-v0.glb-dor_Southern_Ocean_038_1...  10:00:00            True  \n",
       "smyle.cdr-atlas-v0.glb-dor_Southern_Ocean_039_1...  10:00:00            True  \n",
       "smyle.cdr-atlas-v0.glb-dor_Southern_Ocean_039_1...  10:00:00            True  \n",
       "smyle.cdr-atlas-v0.glb-dor_Southern_Ocean_039_1...  10:00:00            True  \n",
       "smyle.cdr-atlas-v0.glb-dor_Southern_Ocean_039_1...  10:00:00            True  \n",
       "\n",
       "[2761 rows x 12 columns]"
      ]
     },
     "execution_count": 5,
     "metadata": {},
     "output_type": "execute_result"
    }
   ],
   "source": [
    "calc.df"
   ]
  },
  {
   "cell_type": "markdown",
   "id": "7cc46060-26e6-4a6a-97c0-c1ae02bb3693",
   "metadata": {},
   "source": [
    "## Validate the integrations"
   ]
  },
  {
   "cell_type": "code",
   "execution_count": 6,
   "id": "af83004d-44dc-42b0-8854-3bf1c6034a61",
   "metadata": {},
   "outputs": [
    {
     "data": {
      "text/html": [
       "<div>\n",
       "<style scoped>\n",
       "    .dataframe tbody tr th:only-of-type {\n",
       "        vertical-align: middle;\n",
       "    }\n",
       "\n",
       "    .dataframe tbody tr th {\n",
       "        vertical-align: top;\n",
       "    }\n",
       "\n",
       "    .dataframe thead th {\n",
       "        text-align: right;\n",
       "    }\n",
       "</style>\n",
       "<table border=\"1\" class=\"dataframe\">\n",
       "  <thead>\n",
       "    <tr style=\"text-align: right;\">\n",
       "      <th></th>\n",
       "      <th>build</th>\n",
       "      <th>submitted</th>\n",
       "      <th>run_completed</th>\n",
       "      <th>archive</th>\n",
       "      <th>error</th>\n",
       "      <th>error_count</th>\n",
       "      <th>timestamp_run</th>\n",
       "      <th>JobId</th>\n",
       "      <th>JobState</th>\n",
       "      <th>Queued</th>\n",
       "      <th>yr_per_day</th>\n",
       "      <th>pe-hr_per_yr</th>\n",
       "    </tr>\n",
       "    <tr>\n",
       "      <th>case</th>\n",
       "      <th></th>\n",
       "      <th></th>\n",
       "      <th></th>\n",
       "      <th></th>\n",
       "      <th></th>\n",
       "      <th></th>\n",
       "      <th></th>\n",
       "      <th></th>\n",
       "      <th></th>\n",
       "      <th></th>\n",
       "      <th></th>\n",
       "      <th></th>\n",
       "    </tr>\n",
       "  </thead>\n",
       "  <tbody>\n",
       "    <tr>\n",
       "      <th>smyle.cdr-atlas-v0.control.001</th>\n",
       "      <td>True</td>\n",
       "      <td>True</td>\n",
       "      <td>True</td>\n",
       "      <td>True</td>\n",
       "      <td>False</td>\n",
       "      <td>0</td>\n",
       "      <td>2024-11-04 23:44:49</td>\n",
       "      <td>None</td>\n",
       "      <td>None</td>\n",
       "      <td>False</td>\n",
       "      <td>45.61</td>\n",
       "      <td>471.47</td>\n",
       "    </tr>\n",
       "    <tr>\n",
       "      <th>smyle.cdr-atlas-v0.glb-dor_North_Atlantic_basin_000_1999-01-01_00000.001</th>\n",
       "      <td>True</td>\n",
       "      <td>True</td>\n",
       "      <td>True</td>\n",
       "      <td>True</td>\n",
       "      <td>False</td>\n",
       "      <td>0</td>\n",
       "      <td>2024-11-05 03:13:08</td>\n",
       "      <td>None</td>\n",
       "      <td>None</td>\n",
       "      <td>False</td>\n",
       "      <td>58.82</td>\n",
       "      <td>365.62</td>\n",
       "    </tr>\n",
       "    <tr>\n",
       "      <th>smyle.cdr-atlas-v0.glb-dor_North_Atlantic_basin_000_1999-04-01_00001.001</th>\n",
       "      <td>True</td>\n",
       "      <td>True</td>\n",
       "      <td>True</td>\n",
       "      <td>True</td>\n",
       "      <td>False</td>\n",
       "      <td>0</td>\n",
       "      <td>2024-11-05 03:12:00</td>\n",
       "      <td>None</td>\n",
       "      <td>None</td>\n",
       "      <td>False</td>\n",
       "      <td>59.00</td>\n",
       "      <td>364.49</td>\n",
       "    </tr>\n",
       "    <tr>\n",
       "      <th>smyle.cdr-atlas-v0.glb-dor_North_Atlantic_basin_000_1999-07-01_00002.001</th>\n",
       "      <td>True</td>\n",
       "      <td>True</td>\n",
       "      <td>True</td>\n",
       "      <td>True</td>\n",
       "      <td>False</td>\n",
       "      <td>0</td>\n",
       "      <td>2024-11-04 20:27:38</td>\n",
       "      <td>None</td>\n",
       "      <td>None</td>\n",
       "      <td>False</td>\n",
       "      <td>58.89</td>\n",
       "      <td>365.17</td>\n",
       "    </tr>\n",
       "    <tr>\n",
       "      <th>smyle.cdr-atlas-v0.glb-dor_North_Atlantic_basin_000_1999-10-01_00003.001</th>\n",
       "      <td>True</td>\n",
       "      <td>True</td>\n",
       "      <td>True</td>\n",
       "      <td>True</td>\n",
       "      <td>False</td>\n",
       "      <td>0</td>\n",
       "      <td>2024-11-04 21:37:34</td>\n",
       "      <td>None</td>\n",
       "      <td>None</td>\n",
       "      <td>False</td>\n",
       "      <td>58.94</td>\n",
       "      <td>364.83</td>\n",
       "    </tr>\n",
       "    <tr>\n",
       "      <th>...</th>\n",
       "      <td>...</td>\n",
       "      <td>...</td>\n",
       "      <td>...</td>\n",
       "      <td>...</td>\n",
       "      <td>...</td>\n",
       "      <td>...</td>\n",
       "      <td>...</td>\n",
       "      <td>...</td>\n",
       "      <td>...</td>\n",
       "      <td>...</td>\n",
       "      <td>...</td>\n",
       "      <td>...</td>\n",
       "    </tr>\n",
       "    <tr>\n",
       "      <th>smyle.cdr-atlas-v0.glb-dor_Southern_Ocean_038_1999-10-01_02755.001</th>\n",
       "      <td>True</td>\n",
       "      <td>True</td>\n",
       "      <td>True</td>\n",
       "      <td>True</td>\n",
       "      <td>False</td>\n",
       "      <td>0</td>\n",
       "      <td>2025-03-13 04:44:19</td>\n",
       "      <td>None</td>\n",
       "      <td>None</td>\n",
       "      <td>False</td>\n",
       "      <td>55.20</td>\n",
       "      <td>389.56</td>\n",
       "    </tr>\n",
       "    <tr>\n",
       "      <th>smyle.cdr-atlas-v0.glb-dor_Southern_Ocean_039_1999-01-01_02756.001</th>\n",
       "      <td>True</td>\n",
       "      <td>True</td>\n",
       "      <td>True</td>\n",
       "      <td>True</td>\n",
       "      <td>False</td>\n",
       "      <td>0</td>\n",
       "      <td>2025-03-13 04:40:44</td>\n",
       "      <td>None</td>\n",
       "      <td>None</td>\n",
       "      <td>False</td>\n",
       "      <td>55.71</td>\n",
       "      <td>385.98</td>\n",
       "    </tr>\n",
       "    <tr>\n",
       "      <th>smyle.cdr-atlas-v0.glb-dor_Southern_Ocean_039_1999-04-01_02757.001</th>\n",
       "      <td>True</td>\n",
       "      <td>True</td>\n",
       "      <td>True</td>\n",
       "      <td>True</td>\n",
       "      <td>False</td>\n",
       "      <td>0</td>\n",
       "      <td>2025-03-13 04:39:37</td>\n",
       "      <td>None</td>\n",
       "      <td>None</td>\n",
       "      <td>False</td>\n",
       "      <td>55.95</td>\n",
       "      <td>384.32</td>\n",
       "    </tr>\n",
       "    <tr>\n",
       "      <th>smyle.cdr-atlas-v0.glb-dor_Southern_Ocean_039_1999-07-01_02758.001</th>\n",
       "      <td>True</td>\n",
       "      <td>True</td>\n",
       "      <td>True</td>\n",
       "      <td>True</td>\n",
       "      <td>False</td>\n",
       "      <td>0</td>\n",
       "      <td>2025-03-13 04:33:59</td>\n",
       "      <td>None</td>\n",
       "      <td>None</td>\n",
       "      <td>False</td>\n",
       "      <td>56.92</td>\n",
       "      <td>377.78</td>\n",
       "    </tr>\n",
       "    <tr>\n",
       "      <th>smyle.cdr-atlas-v0.glb-dor_Southern_Ocean_039_1999-10-01_02759.001</th>\n",
       "      <td>True</td>\n",
       "      <td>True</td>\n",
       "      <td>True</td>\n",
       "      <td>True</td>\n",
       "      <td>False</td>\n",
       "      <td>0</td>\n",
       "      <td>2025-03-18 03:40:09</td>\n",
       "      <td>None</td>\n",
       "      <td>None</td>\n",
       "      <td>False</td>\n",
       "      <td>56.86</td>\n",
       "      <td>378.18</td>\n",
       "    </tr>\n",
       "  </tbody>\n",
       "</table>\n",
       "<p>2761 rows × 12 columns</p>\n",
       "</div>"
      ],
      "text/plain": [
       "                                                    build  submitted  \\\n",
       "case                                                                   \n",
       "smyle.cdr-atlas-v0.control.001                       True       True   \n",
       "smyle.cdr-atlas-v0.glb-dor_North_Atlantic_basin...   True       True   \n",
       "smyle.cdr-atlas-v0.glb-dor_North_Atlantic_basin...   True       True   \n",
       "smyle.cdr-atlas-v0.glb-dor_North_Atlantic_basin...   True       True   \n",
       "smyle.cdr-atlas-v0.glb-dor_North_Atlantic_basin...   True       True   \n",
       "...                                                   ...        ...   \n",
       "smyle.cdr-atlas-v0.glb-dor_Southern_Ocean_038_1...   True       True   \n",
       "smyle.cdr-atlas-v0.glb-dor_Southern_Ocean_039_1...   True       True   \n",
       "smyle.cdr-atlas-v0.glb-dor_Southern_Ocean_039_1...   True       True   \n",
       "smyle.cdr-atlas-v0.glb-dor_Southern_Ocean_039_1...   True       True   \n",
       "smyle.cdr-atlas-v0.glb-dor_Southern_Ocean_039_1...   True       True   \n",
       "\n",
       "                                                    run_completed  archive  \\\n",
       "case                                                                         \n",
       "smyle.cdr-atlas-v0.control.001                               True     True   \n",
       "smyle.cdr-atlas-v0.glb-dor_North_Atlantic_basin...           True     True   \n",
       "smyle.cdr-atlas-v0.glb-dor_North_Atlantic_basin...           True     True   \n",
       "smyle.cdr-atlas-v0.glb-dor_North_Atlantic_basin...           True     True   \n",
       "smyle.cdr-atlas-v0.glb-dor_North_Atlantic_basin...           True     True   \n",
       "...                                                           ...      ...   \n",
       "smyle.cdr-atlas-v0.glb-dor_Southern_Ocean_038_1...           True     True   \n",
       "smyle.cdr-atlas-v0.glb-dor_Southern_Ocean_039_1...           True     True   \n",
       "smyle.cdr-atlas-v0.glb-dor_Southern_Ocean_039_1...           True     True   \n",
       "smyle.cdr-atlas-v0.glb-dor_Southern_Ocean_039_1...           True     True   \n",
       "smyle.cdr-atlas-v0.glb-dor_Southern_Ocean_039_1...           True     True   \n",
       "\n",
       "                                                    error  error_count  \\\n",
       "case                                                                     \n",
       "smyle.cdr-atlas-v0.control.001                      False            0   \n",
       "smyle.cdr-atlas-v0.glb-dor_North_Atlantic_basin...  False            0   \n",
       "smyle.cdr-atlas-v0.glb-dor_North_Atlantic_basin...  False            0   \n",
       "smyle.cdr-atlas-v0.glb-dor_North_Atlantic_basin...  False            0   \n",
       "smyle.cdr-atlas-v0.glb-dor_North_Atlantic_basin...  False            0   \n",
       "...                                                   ...          ...   \n",
       "smyle.cdr-atlas-v0.glb-dor_Southern_Ocean_038_1...  False            0   \n",
       "smyle.cdr-atlas-v0.glb-dor_Southern_Ocean_039_1...  False            0   \n",
       "smyle.cdr-atlas-v0.glb-dor_Southern_Ocean_039_1...  False            0   \n",
       "smyle.cdr-atlas-v0.glb-dor_Southern_Ocean_039_1...  False            0   \n",
       "smyle.cdr-atlas-v0.glb-dor_Southern_Ocean_039_1...  False            0   \n",
       "\n",
       "                                                         timestamp_run JobId  \\\n",
       "case                                                                           \n",
       "smyle.cdr-atlas-v0.control.001                     2024-11-04 23:44:49  None   \n",
       "smyle.cdr-atlas-v0.glb-dor_North_Atlantic_basin... 2024-11-05 03:13:08  None   \n",
       "smyle.cdr-atlas-v0.glb-dor_North_Atlantic_basin... 2024-11-05 03:12:00  None   \n",
       "smyle.cdr-atlas-v0.glb-dor_North_Atlantic_basin... 2024-11-04 20:27:38  None   \n",
       "smyle.cdr-atlas-v0.glb-dor_North_Atlantic_basin... 2024-11-04 21:37:34  None   \n",
       "...                                                                ...   ...   \n",
       "smyle.cdr-atlas-v0.glb-dor_Southern_Ocean_038_1... 2025-03-13 04:44:19  None   \n",
       "smyle.cdr-atlas-v0.glb-dor_Southern_Ocean_039_1... 2025-03-13 04:40:44  None   \n",
       "smyle.cdr-atlas-v0.glb-dor_Southern_Ocean_039_1... 2025-03-13 04:39:37  None   \n",
       "smyle.cdr-atlas-v0.glb-dor_Southern_Ocean_039_1... 2025-03-13 04:33:59  None   \n",
       "smyle.cdr-atlas-v0.glb-dor_Southern_Ocean_039_1... 2025-03-18 03:40:09  None   \n",
       "\n",
       "                                                   JobState  Queued  \\\n",
       "case                                                                  \n",
       "smyle.cdr-atlas-v0.control.001                         None   False   \n",
       "smyle.cdr-atlas-v0.glb-dor_North_Atlantic_basin...     None   False   \n",
       "smyle.cdr-atlas-v0.glb-dor_North_Atlantic_basin...     None   False   \n",
       "smyle.cdr-atlas-v0.glb-dor_North_Atlantic_basin...     None   False   \n",
       "smyle.cdr-atlas-v0.glb-dor_North_Atlantic_basin...     None   False   \n",
       "...                                                     ...     ...   \n",
       "smyle.cdr-atlas-v0.glb-dor_Southern_Ocean_038_1...     None   False   \n",
       "smyle.cdr-atlas-v0.glb-dor_Southern_Ocean_039_1...     None   False   \n",
       "smyle.cdr-atlas-v0.glb-dor_Southern_Ocean_039_1...     None   False   \n",
       "smyle.cdr-atlas-v0.glb-dor_Southern_Ocean_039_1...     None   False   \n",
       "smyle.cdr-atlas-v0.glb-dor_Southern_Ocean_039_1...     None   False   \n",
       "\n",
       "                                                    yr_per_day  pe-hr_per_yr  \n",
       "case                                                                          \n",
       "smyle.cdr-atlas-v0.control.001                           45.61        471.47  \n",
       "smyle.cdr-atlas-v0.glb-dor_North_Atlantic_basin...       58.82        365.62  \n",
       "smyle.cdr-atlas-v0.glb-dor_North_Atlantic_basin...       59.00        364.49  \n",
       "smyle.cdr-atlas-v0.glb-dor_North_Atlantic_basin...       58.89        365.17  \n",
       "smyle.cdr-atlas-v0.glb-dor_North_Atlantic_basin...       58.94        364.83  \n",
       "...                                                        ...           ...  \n",
       "smyle.cdr-atlas-v0.glb-dor_Southern_Ocean_038_1...       55.20        389.56  \n",
       "smyle.cdr-atlas-v0.glb-dor_Southern_Ocean_039_1...       55.71        385.98  \n",
       "smyle.cdr-atlas-v0.glb-dor_Southern_Ocean_039_1...       55.95        384.32  \n",
       "smyle.cdr-atlas-v0.glb-dor_Southern_Ocean_039_1...       56.92        377.78  \n",
       "smyle.cdr-atlas-v0.glb-dor_Southern_Ocean_039_1...       56.86        378.18  \n",
       "\n",
       "[2761 rows x 12 columns]"
      ]
     },
     "execution_count": 6,
     "metadata": {},
     "output_type": "execute_result"
    }
   ],
   "source": [
    "calc.df_case_status"
   ]
  },
  {
   "cell_type": "code",
   "execution_count": null,
   "id": "fa4016cf-a50d-4c20-84b0-b2d0aaa123a1",
   "metadata": {},
   "outputs": [],
   "source": []
  },
  {
   "cell_type": "code",
   "execution_count": 7,
   "id": "5e814839-f49c-4666-a08f-cac9be974813",
   "metadata": {
    "tags": []
   },
   "outputs": [
    {
     "data": {
      "application/vnd.jupyter.widget-view+json": {
       "model_id": "d224f09a71b1483898fddd04be92ca34",
       "version_major": 2,
       "version_minor": 0
      },
      "text/plain": [
       "  0%|          | 0/2761 [00:00<?, ?it/s]"
      ]
     },
     "metadata": {},
     "output_type": "display_data"
    },
    {
     "data": {
      "application/vnd.jupyter.widget-view+json": {
       "model_id": "979ad78fc08e48b3aaf288f8abfa8901",
       "version_major": 2,
       "version_minor": 0
      },
      "text/plain": [
       "  0%|          | 0/2761 [00:00<?, ?it/s]"
      ]
     },
     "metadata": {},
     "output_type": "display_data"
    },
    {
     "name": "stdout",
     "output_type": "stream",
     "text": [
      "CPU times: user 1min 5s, sys: 9.64 s, total: 1min 14s\n",
      "Wall time: 3min 34s\n"
     ]
    }
   ],
   "source": [
    "%%time\n",
    "calc.validate(clobber=clobber)"
   ]
  },
  {
   "cell_type": "code",
   "execution_count": 8,
   "id": "00107fbc-414d-4b5b-bd44-4de16d9fe07e",
   "metadata": {
    "tags": []
   },
   "outputs": [
    {
     "data": {
      "text/html": [
       "<div>\n",
       "<style scoped>\n",
       "    .dataframe tbody tr th:only-of-type {\n",
       "        vertical-align: middle;\n",
       "    }\n",
       "\n",
       "    .dataframe tbody tr th {\n",
       "        vertical-align: top;\n",
       "    }\n",
       "\n",
       "    .dataframe thead th {\n",
       "        text-align: right;\n",
       "    }\n",
       "</style>\n",
       "<table border=\"1\" class=\"dataframe\">\n",
       "  <thead>\n",
       "    <tr style=\"text-align: right;\">\n",
       "      <th></th>\n",
       "      <th>is_cdr_run</th>\n",
       "      <th>ALK_ALT_CO2_rmse</th>\n",
       "      <th>ALK_rmse</th>\n",
       "      <th>DIC_ALT_CO2_rmse</th>\n",
       "      <th>DIC_rmse</th>\n",
       "      <th>DOC_rmse</th>\n",
       "      <th>DOCr_rmse</th>\n",
       "      <th>DON_rmse</th>\n",
       "      <th>DONr_rmse</th>\n",
       "      <th>DOP_rmse</th>\n",
       "      <th>...</th>\n",
       "      <th>diazC_rmse</th>\n",
       "      <th>diazChl_rmse</th>\n",
       "      <th>diazFe_rmse</th>\n",
       "      <th>diazP_rmse</th>\n",
       "      <th>spC_rmse</th>\n",
       "      <th>spCaCO3_rmse</th>\n",
       "      <th>spChl_rmse</th>\n",
       "      <th>spFe_rmse</th>\n",
       "      <th>spP_rmse</th>\n",
       "      <th>zooC_rmse</th>\n",
       "    </tr>\n",
       "    <tr>\n",
       "      <th>case</th>\n",
       "      <th></th>\n",
       "      <th></th>\n",
       "      <th></th>\n",
       "      <th></th>\n",
       "      <th></th>\n",
       "      <th></th>\n",
       "      <th></th>\n",
       "      <th></th>\n",
       "      <th></th>\n",
       "      <th></th>\n",
       "      <th></th>\n",
       "      <th></th>\n",
       "      <th></th>\n",
       "      <th></th>\n",
       "      <th></th>\n",
       "      <th></th>\n",
       "      <th></th>\n",
       "      <th></th>\n",
       "      <th></th>\n",
       "      <th></th>\n",
       "      <th></th>\n",
       "    </tr>\n",
       "  </thead>\n",
       "  <tbody>\n",
       "    <tr>\n",
       "      <th>smyle.cdr-atlas-v0.control.001</th>\n",
       "      <td>False</td>\n",
       "      <td>0.224847</td>\n",
       "      <td>0.224846</td>\n",
       "      <td>0.325688</td>\n",
       "      <td>0.304365</td>\n",
       "      <td>0.045923</td>\n",
       "      <td>0.011091</td>\n",
       "      <td>0.004066</td>\n",
       "      <td>0.000207</td>\n",
       "      <td>0.000238</td>\n",
       "      <td>...</td>\n",
       "      <td>0.000601</td>\n",
       "      <td>0.000147</td>\n",
       "      <td>4.014262e-08</td>\n",
       "      <td>0.000005</td>\n",
       "      <td>0.025289</td>\n",
       "      <td>0.005248</td>\n",
       "      <td>0.003786</td>\n",
       "      <td>6.857399e-07</td>\n",
       "      <td>0.000216</td>\n",
       "      <td>0.010324</td>\n",
       "    </tr>\n",
       "    <tr>\n",
       "      <th>smyle.cdr-atlas-v0.glb-dor_North_Atlantic_basin_000_1999-01-01_00000.001</th>\n",
       "      <td>True</td>\n",
       "      <td>0.230523</td>\n",
       "      <td>NaN</td>\n",
       "      <td>0.336078</td>\n",
       "      <td>NaN</td>\n",
       "      <td>NaN</td>\n",
       "      <td>NaN</td>\n",
       "      <td>NaN</td>\n",
       "      <td>NaN</td>\n",
       "      <td>NaN</td>\n",
       "      <td>...</td>\n",
       "      <td>NaN</td>\n",
       "      <td>NaN</td>\n",
       "      <td>NaN</td>\n",
       "      <td>NaN</td>\n",
       "      <td>NaN</td>\n",
       "      <td>NaN</td>\n",
       "      <td>NaN</td>\n",
       "      <td>NaN</td>\n",
       "      <td>NaN</td>\n",
       "      <td>NaN</td>\n",
       "    </tr>\n",
       "    <tr>\n",
       "      <th>smyle.cdr-atlas-v0.glb-dor_North_Atlantic_basin_000_1999-04-01_00001.001</th>\n",
       "      <td>True</td>\n",
       "      <td>0.270639</td>\n",
       "      <td>NaN</td>\n",
       "      <td>0.315976</td>\n",
       "      <td>NaN</td>\n",
       "      <td>NaN</td>\n",
       "      <td>NaN</td>\n",
       "      <td>NaN</td>\n",
       "      <td>NaN</td>\n",
       "      <td>NaN</td>\n",
       "      <td>...</td>\n",
       "      <td>NaN</td>\n",
       "      <td>NaN</td>\n",
       "      <td>NaN</td>\n",
       "      <td>NaN</td>\n",
       "      <td>NaN</td>\n",
       "      <td>NaN</td>\n",
       "      <td>NaN</td>\n",
       "      <td>NaN</td>\n",
       "      <td>NaN</td>\n",
       "      <td>NaN</td>\n",
       "    </tr>\n",
       "    <tr>\n",
       "      <th>smyle.cdr-atlas-v0.glb-dor_North_Atlantic_basin_000_1999-07-01_00002.001</th>\n",
       "      <td>True</td>\n",
       "      <td>0.225976</td>\n",
       "      <td>NaN</td>\n",
       "      <td>0.302304</td>\n",
       "      <td>NaN</td>\n",
       "      <td>NaN</td>\n",
       "      <td>NaN</td>\n",
       "      <td>NaN</td>\n",
       "      <td>NaN</td>\n",
       "      <td>NaN</td>\n",
       "      <td>...</td>\n",
       "      <td>NaN</td>\n",
       "      <td>NaN</td>\n",
       "      <td>NaN</td>\n",
       "      <td>NaN</td>\n",
       "      <td>NaN</td>\n",
       "      <td>NaN</td>\n",
       "      <td>NaN</td>\n",
       "      <td>NaN</td>\n",
       "      <td>NaN</td>\n",
       "      <td>NaN</td>\n",
       "    </tr>\n",
       "    <tr>\n",
       "      <th>smyle.cdr-atlas-v0.glb-dor_North_Atlantic_basin_000_1999-10-01_00003.001</th>\n",
       "      <td>True</td>\n",
       "      <td>0.288906</td>\n",
       "      <td>NaN</td>\n",
       "      <td>0.368662</td>\n",
       "      <td>NaN</td>\n",
       "      <td>NaN</td>\n",
       "      <td>NaN</td>\n",
       "      <td>NaN</td>\n",
       "      <td>NaN</td>\n",
       "      <td>NaN</td>\n",
       "      <td>...</td>\n",
       "      <td>NaN</td>\n",
       "      <td>NaN</td>\n",
       "      <td>NaN</td>\n",
       "      <td>NaN</td>\n",
       "      <td>NaN</td>\n",
       "      <td>NaN</td>\n",
       "      <td>NaN</td>\n",
       "      <td>NaN</td>\n",
       "      <td>NaN</td>\n",
       "      <td>NaN</td>\n",
       "    </tr>\n",
       "    <tr>\n",
       "      <th>...</th>\n",
       "      <td>...</td>\n",
       "      <td>...</td>\n",
       "      <td>...</td>\n",
       "      <td>...</td>\n",
       "      <td>...</td>\n",
       "      <td>...</td>\n",
       "      <td>...</td>\n",
       "      <td>...</td>\n",
       "      <td>...</td>\n",
       "      <td>...</td>\n",
       "      <td>...</td>\n",
       "      <td>...</td>\n",
       "      <td>...</td>\n",
       "      <td>...</td>\n",
       "      <td>...</td>\n",
       "      <td>...</td>\n",
       "      <td>...</td>\n",
       "      <td>...</td>\n",
       "      <td>...</td>\n",
       "      <td>...</td>\n",
       "      <td>...</td>\n",
       "    </tr>\n",
       "    <tr>\n",
       "      <th>smyle.cdr-atlas-v0.glb-dor_Southern_Ocean_038_1999-10-01_02755.001</th>\n",
       "      <td>True</td>\n",
       "      <td>0.286924</td>\n",
       "      <td>NaN</td>\n",
       "      <td>0.350337</td>\n",
       "      <td>NaN</td>\n",
       "      <td>NaN</td>\n",
       "      <td>NaN</td>\n",
       "      <td>NaN</td>\n",
       "      <td>NaN</td>\n",
       "      <td>NaN</td>\n",
       "      <td>...</td>\n",
       "      <td>NaN</td>\n",
       "      <td>NaN</td>\n",
       "      <td>NaN</td>\n",
       "      <td>NaN</td>\n",
       "      <td>NaN</td>\n",
       "      <td>NaN</td>\n",
       "      <td>NaN</td>\n",
       "      <td>NaN</td>\n",
       "      <td>NaN</td>\n",
       "      <td>NaN</td>\n",
       "    </tr>\n",
       "    <tr>\n",
       "      <th>smyle.cdr-atlas-v0.glb-dor_Southern_Ocean_039_1999-01-01_02756.001</th>\n",
       "      <td>True</td>\n",
       "      <td>0.232214</td>\n",
       "      <td>NaN</td>\n",
       "      <td>0.273196</td>\n",
       "      <td>NaN</td>\n",
       "      <td>NaN</td>\n",
       "      <td>NaN</td>\n",
       "      <td>NaN</td>\n",
       "      <td>NaN</td>\n",
       "      <td>NaN</td>\n",
       "      <td>...</td>\n",
       "      <td>NaN</td>\n",
       "      <td>NaN</td>\n",
       "      <td>NaN</td>\n",
       "      <td>NaN</td>\n",
       "      <td>NaN</td>\n",
       "      <td>NaN</td>\n",
       "      <td>NaN</td>\n",
       "      <td>NaN</td>\n",
       "      <td>NaN</td>\n",
       "      <td>NaN</td>\n",
       "    </tr>\n",
       "    <tr>\n",
       "      <th>smyle.cdr-atlas-v0.glb-dor_Southern_Ocean_039_1999-04-01_02757.001</th>\n",
       "      <td>True</td>\n",
       "      <td>0.296765</td>\n",
       "      <td>NaN</td>\n",
       "      <td>0.439302</td>\n",
       "      <td>NaN</td>\n",
       "      <td>NaN</td>\n",
       "      <td>NaN</td>\n",
       "      <td>NaN</td>\n",
       "      <td>NaN</td>\n",
       "      <td>NaN</td>\n",
       "      <td>...</td>\n",
       "      <td>NaN</td>\n",
       "      <td>NaN</td>\n",
       "      <td>NaN</td>\n",
       "      <td>NaN</td>\n",
       "      <td>NaN</td>\n",
       "      <td>NaN</td>\n",
       "      <td>NaN</td>\n",
       "      <td>NaN</td>\n",
       "      <td>NaN</td>\n",
       "      <td>NaN</td>\n",
       "    </tr>\n",
       "    <tr>\n",
       "      <th>smyle.cdr-atlas-v0.glb-dor_Southern_Ocean_039_1999-07-01_02758.001</th>\n",
       "      <td>True</td>\n",
       "      <td>0.278215</td>\n",
       "      <td>NaN</td>\n",
       "      <td>0.286267</td>\n",
       "      <td>NaN</td>\n",
       "      <td>NaN</td>\n",
       "      <td>NaN</td>\n",
       "      <td>NaN</td>\n",
       "      <td>NaN</td>\n",
       "      <td>NaN</td>\n",
       "      <td>...</td>\n",
       "      <td>NaN</td>\n",
       "      <td>NaN</td>\n",
       "      <td>NaN</td>\n",
       "      <td>NaN</td>\n",
       "      <td>NaN</td>\n",
       "      <td>NaN</td>\n",
       "      <td>NaN</td>\n",
       "      <td>NaN</td>\n",
       "      <td>NaN</td>\n",
       "      <td>NaN</td>\n",
       "    </tr>\n",
       "    <tr>\n",
       "      <th>smyle.cdr-atlas-v0.glb-dor_Southern_Ocean_039_1999-10-01_02759.001</th>\n",
       "      <td>True</td>\n",
       "      <td>0.269060</td>\n",
       "      <td>NaN</td>\n",
       "      <td>0.324089</td>\n",
       "      <td>NaN</td>\n",
       "      <td>NaN</td>\n",
       "      <td>NaN</td>\n",
       "      <td>NaN</td>\n",
       "      <td>NaN</td>\n",
       "      <td>NaN</td>\n",
       "      <td>...</td>\n",
       "      <td>NaN</td>\n",
       "      <td>NaN</td>\n",
       "      <td>NaN</td>\n",
       "      <td>NaN</td>\n",
       "      <td>NaN</td>\n",
       "      <td>NaN</td>\n",
       "      <td>NaN</td>\n",
       "      <td>NaN</td>\n",
       "      <td>NaN</td>\n",
       "      <td>NaN</td>\n",
       "    </tr>\n",
       "  </tbody>\n",
       "</table>\n",
       "<p>2761 rows × 40 columns</p>\n",
       "</div>"
      ],
      "text/plain": [
       "                                                    is_cdr_run  \\\n",
       "case                                                             \n",
       "smyle.cdr-atlas-v0.control.001                           False   \n",
       "smyle.cdr-atlas-v0.glb-dor_North_Atlantic_basin...        True   \n",
       "smyle.cdr-atlas-v0.glb-dor_North_Atlantic_basin...        True   \n",
       "smyle.cdr-atlas-v0.glb-dor_North_Atlantic_basin...        True   \n",
       "smyle.cdr-atlas-v0.glb-dor_North_Atlantic_basin...        True   \n",
       "...                                                        ...   \n",
       "smyle.cdr-atlas-v0.glb-dor_Southern_Ocean_038_1...        True   \n",
       "smyle.cdr-atlas-v0.glb-dor_Southern_Ocean_039_1...        True   \n",
       "smyle.cdr-atlas-v0.glb-dor_Southern_Ocean_039_1...        True   \n",
       "smyle.cdr-atlas-v0.glb-dor_Southern_Ocean_039_1...        True   \n",
       "smyle.cdr-atlas-v0.glb-dor_Southern_Ocean_039_1...        True   \n",
       "\n",
       "                                                    ALK_ALT_CO2_rmse  \\\n",
       "case                                                                   \n",
       "smyle.cdr-atlas-v0.control.001                              0.224847   \n",
       "smyle.cdr-atlas-v0.glb-dor_North_Atlantic_basin...          0.230523   \n",
       "smyle.cdr-atlas-v0.glb-dor_North_Atlantic_basin...          0.270639   \n",
       "smyle.cdr-atlas-v0.glb-dor_North_Atlantic_basin...          0.225976   \n",
       "smyle.cdr-atlas-v0.glb-dor_North_Atlantic_basin...          0.288906   \n",
       "...                                                              ...   \n",
       "smyle.cdr-atlas-v0.glb-dor_Southern_Ocean_038_1...          0.286924   \n",
       "smyle.cdr-atlas-v0.glb-dor_Southern_Ocean_039_1...          0.232214   \n",
       "smyle.cdr-atlas-v0.glb-dor_Southern_Ocean_039_1...          0.296765   \n",
       "smyle.cdr-atlas-v0.glb-dor_Southern_Ocean_039_1...          0.278215   \n",
       "smyle.cdr-atlas-v0.glb-dor_Southern_Ocean_039_1...          0.269060   \n",
       "\n",
       "                                                    ALK_rmse  \\\n",
       "case                                                           \n",
       "smyle.cdr-atlas-v0.control.001                      0.224846   \n",
       "smyle.cdr-atlas-v0.glb-dor_North_Atlantic_basin...       NaN   \n",
       "smyle.cdr-atlas-v0.glb-dor_North_Atlantic_basin...       NaN   \n",
       "smyle.cdr-atlas-v0.glb-dor_North_Atlantic_basin...       NaN   \n",
       "smyle.cdr-atlas-v0.glb-dor_North_Atlantic_basin...       NaN   \n",
       "...                                                      ...   \n",
       "smyle.cdr-atlas-v0.glb-dor_Southern_Ocean_038_1...       NaN   \n",
       "smyle.cdr-atlas-v0.glb-dor_Southern_Ocean_039_1...       NaN   \n",
       "smyle.cdr-atlas-v0.glb-dor_Southern_Ocean_039_1...       NaN   \n",
       "smyle.cdr-atlas-v0.glb-dor_Southern_Ocean_039_1...       NaN   \n",
       "smyle.cdr-atlas-v0.glb-dor_Southern_Ocean_039_1...       NaN   \n",
       "\n",
       "                                                    DIC_ALT_CO2_rmse  \\\n",
       "case                                                                   \n",
       "smyle.cdr-atlas-v0.control.001                              0.325688   \n",
       "smyle.cdr-atlas-v0.glb-dor_North_Atlantic_basin...          0.336078   \n",
       "smyle.cdr-atlas-v0.glb-dor_North_Atlantic_basin...          0.315976   \n",
       "smyle.cdr-atlas-v0.glb-dor_North_Atlantic_basin...          0.302304   \n",
       "smyle.cdr-atlas-v0.glb-dor_North_Atlantic_basin...          0.368662   \n",
       "...                                                              ...   \n",
       "smyle.cdr-atlas-v0.glb-dor_Southern_Ocean_038_1...          0.350337   \n",
       "smyle.cdr-atlas-v0.glb-dor_Southern_Ocean_039_1...          0.273196   \n",
       "smyle.cdr-atlas-v0.glb-dor_Southern_Ocean_039_1...          0.439302   \n",
       "smyle.cdr-atlas-v0.glb-dor_Southern_Ocean_039_1...          0.286267   \n",
       "smyle.cdr-atlas-v0.glb-dor_Southern_Ocean_039_1...          0.324089   \n",
       "\n",
       "                                                    DIC_rmse  DOC_rmse  \\\n",
       "case                                                                     \n",
       "smyle.cdr-atlas-v0.control.001                      0.304365  0.045923   \n",
       "smyle.cdr-atlas-v0.glb-dor_North_Atlantic_basin...       NaN       NaN   \n",
       "smyle.cdr-atlas-v0.glb-dor_North_Atlantic_basin...       NaN       NaN   \n",
       "smyle.cdr-atlas-v0.glb-dor_North_Atlantic_basin...       NaN       NaN   \n",
       "smyle.cdr-atlas-v0.glb-dor_North_Atlantic_basin...       NaN       NaN   \n",
       "...                                                      ...       ...   \n",
       "smyle.cdr-atlas-v0.glb-dor_Southern_Ocean_038_1...       NaN       NaN   \n",
       "smyle.cdr-atlas-v0.glb-dor_Southern_Ocean_039_1...       NaN       NaN   \n",
       "smyle.cdr-atlas-v0.glb-dor_Southern_Ocean_039_1...       NaN       NaN   \n",
       "smyle.cdr-atlas-v0.glb-dor_Southern_Ocean_039_1...       NaN       NaN   \n",
       "smyle.cdr-atlas-v0.glb-dor_Southern_Ocean_039_1...       NaN       NaN   \n",
       "\n",
       "                                                    DOCr_rmse  DON_rmse  \\\n",
       "case                                                                      \n",
       "smyle.cdr-atlas-v0.control.001                       0.011091  0.004066   \n",
       "smyle.cdr-atlas-v0.glb-dor_North_Atlantic_basin...        NaN       NaN   \n",
       "smyle.cdr-atlas-v0.glb-dor_North_Atlantic_basin...        NaN       NaN   \n",
       "smyle.cdr-atlas-v0.glb-dor_North_Atlantic_basin...        NaN       NaN   \n",
       "smyle.cdr-atlas-v0.glb-dor_North_Atlantic_basin...        NaN       NaN   \n",
       "...                                                       ...       ...   \n",
       "smyle.cdr-atlas-v0.glb-dor_Southern_Ocean_038_1...        NaN       NaN   \n",
       "smyle.cdr-atlas-v0.glb-dor_Southern_Ocean_039_1...        NaN       NaN   \n",
       "smyle.cdr-atlas-v0.glb-dor_Southern_Ocean_039_1...        NaN       NaN   \n",
       "smyle.cdr-atlas-v0.glb-dor_Southern_Ocean_039_1...        NaN       NaN   \n",
       "smyle.cdr-atlas-v0.glb-dor_Southern_Ocean_039_1...        NaN       NaN   \n",
       "\n",
       "                                                    DONr_rmse  DOP_rmse  ...  \\\n",
       "case                                                                     ...   \n",
       "smyle.cdr-atlas-v0.control.001                       0.000207  0.000238  ...   \n",
       "smyle.cdr-atlas-v0.glb-dor_North_Atlantic_basin...        NaN       NaN  ...   \n",
       "smyle.cdr-atlas-v0.glb-dor_North_Atlantic_basin...        NaN       NaN  ...   \n",
       "smyle.cdr-atlas-v0.glb-dor_North_Atlantic_basin...        NaN       NaN  ...   \n",
       "smyle.cdr-atlas-v0.glb-dor_North_Atlantic_basin...        NaN       NaN  ...   \n",
       "...                                                       ...       ...  ...   \n",
       "smyle.cdr-atlas-v0.glb-dor_Southern_Ocean_038_1...        NaN       NaN  ...   \n",
       "smyle.cdr-atlas-v0.glb-dor_Southern_Ocean_039_1...        NaN       NaN  ...   \n",
       "smyle.cdr-atlas-v0.glb-dor_Southern_Ocean_039_1...        NaN       NaN  ...   \n",
       "smyle.cdr-atlas-v0.glb-dor_Southern_Ocean_039_1...        NaN       NaN  ...   \n",
       "smyle.cdr-atlas-v0.glb-dor_Southern_Ocean_039_1...        NaN       NaN  ...   \n",
       "\n",
       "                                                    diazC_rmse  diazChl_rmse  \\\n",
       "case                                                                           \n",
       "smyle.cdr-atlas-v0.control.001                        0.000601      0.000147   \n",
       "smyle.cdr-atlas-v0.glb-dor_North_Atlantic_basin...         NaN           NaN   \n",
       "smyle.cdr-atlas-v0.glb-dor_North_Atlantic_basin...         NaN           NaN   \n",
       "smyle.cdr-atlas-v0.glb-dor_North_Atlantic_basin...         NaN           NaN   \n",
       "smyle.cdr-atlas-v0.glb-dor_North_Atlantic_basin...         NaN           NaN   \n",
       "...                                                        ...           ...   \n",
       "smyle.cdr-atlas-v0.glb-dor_Southern_Ocean_038_1...         NaN           NaN   \n",
       "smyle.cdr-atlas-v0.glb-dor_Southern_Ocean_039_1...         NaN           NaN   \n",
       "smyle.cdr-atlas-v0.glb-dor_Southern_Ocean_039_1...         NaN           NaN   \n",
       "smyle.cdr-atlas-v0.glb-dor_Southern_Ocean_039_1...         NaN           NaN   \n",
       "smyle.cdr-atlas-v0.glb-dor_Southern_Ocean_039_1...         NaN           NaN   \n",
       "\n",
       "                                                     diazFe_rmse  diazP_rmse  \\\n",
       "case                                                                           \n",
       "smyle.cdr-atlas-v0.control.001                      4.014262e-08    0.000005   \n",
       "smyle.cdr-atlas-v0.glb-dor_North_Atlantic_basin...           NaN         NaN   \n",
       "smyle.cdr-atlas-v0.glb-dor_North_Atlantic_basin...           NaN         NaN   \n",
       "smyle.cdr-atlas-v0.glb-dor_North_Atlantic_basin...           NaN         NaN   \n",
       "smyle.cdr-atlas-v0.glb-dor_North_Atlantic_basin...           NaN         NaN   \n",
       "...                                                          ...         ...   \n",
       "smyle.cdr-atlas-v0.glb-dor_Southern_Ocean_038_1...           NaN         NaN   \n",
       "smyle.cdr-atlas-v0.glb-dor_Southern_Ocean_039_1...           NaN         NaN   \n",
       "smyle.cdr-atlas-v0.glb-dor_Southern_Ocean_039_1...           NaN         NaN   \n",
       "smyle.cdr-atlas-v0.glb-dor_Southern_Ocean_039_1...           NaN         NaN   \n",
       "smyle.cdr-atlas-v0.glb-dor_Southern_Ocean_039_1...           NaN         NaN   \n",
       "\n",
       "                                                    spC_rmse  spCaCO3_rmse  \\\n",
       "case                                                                         \n",
       "smyle.cdr-atlas-v0.control.001                      0.025289      0.005248   \n",
       "smyle.cdr-atlas-v0.glb-dor_North_Atlantic_basin...       NaN           NaN   \n",
       "smyle.cdr-atlas-v0.glb-dor_North_Atlantic_basin...       NaN           NaN   \n",
       "smyle.cdr-atlas-v0.glb-dor_North_Atlantic_basin...       NaN           NaN   \n",
       "smyle.cdr-atlas-v0.glb-dor_North_Atlantic_basin...       NaN           NaN   \n",
       "...                                                      ...           ...   \n",
       "smyle.cdr-atlas-v0.glb-dor_Southern_Ocean_038_1...       NaN           NaN   \n",
       "smyle.cdr-atlas-v0.glb-dor_Southern_Ocean_039_1...       NaN           NaN   \n",
       "smyle.cdr-atlas-v0.glb-dor_Southern_Ocean_039_1...       NaN           NaN   \n",
       "smyle.cdr-atlas-v0.glb-dor_Southern_Ocean_039_1...       NaN           NaN   \n",
       "smyle.cdr-atlas-v0.glb-dor_Southern_Ocean_039_1...       NaN           NaN   \n",
       "\n",
       "                                                    spChl_rmse     spFe_rmse  \\\n",
       "case                                                                           \n",
       "smyle.cdr-atlas-v0.control.001                        0.003786  6.857399e-07   \n",
       "smyle.cdr-atlas-v0.glb-dor_North_Atlantic_basin...         NaN           NaN   \n",
       "smyle.cdr-atlas-v0.glb-dor_North_Atlantic_basin...         NaN           NaN   \n",
       "smyle.cdr-atlas-v0.glb-dor_North_Atlantic_basin...         NaN           NaN   \n",
       "smyle.cdr-atlas-v0.glb-dor_North_Atlantic_basin...         NaN           NaN   \n",
       "...                                                        ...           ...   \n",
       "smyle.cdr-atlas-v0.glb-dor_Southern_Ocean_038_1...         NaN           NaN   \n",
       "smyle.cdr-atlas-v0.glb-dor_Southern_Ocean_039_1...         NaN           NaN   \n",
       "smyle.cdr-atlas-v0.glb-dor_Southern_Ocean_039_1...         NaN           NaN   \n",
       "smyle.cdr-atlas-v0.glb-dor_Southern_Ocean_039_1...         NaN           NaN   \n",
       "smyle.cdr-atlas-v0.glb-dor_Southern_Ocean_039_1...         NaN           NaN   \n",
       "\n",
       "                                                    spP_rmse  zooC_rmse  \n",
       "case                                                                     \n",
       "smyle.cdr-atlas-v0.control.001                      0.000216   0.010324  \n",
       "smyle.cdr-atlas-v0.glb-dor_North_Atlantic_basin...       NaN        NaN  \n",
       "smyle.cdr-atlas-v0.glb-dor_North_Atlantic_basin...       NaN        NaN  \n",
       "smyle.cdr-atlas-v0.glb-dor_North_Atlantic_basin...       NaN        NaN  \n",
       "smyle.cdr-atlas-v0.glb-dor_North_Atlantic_basin...       NaN        NaN  \n",
       "...                                                      ...        ...  \n",
       "smyle.cdr-atlas-v0.glb-dor_Southern_Ocean_038_1...       NaN        NaN  \n",
       "smyle.cdr-atlas-v0.glb-dor_Southern_Ocean_039_1...       NaN        NaN  \n",
       "smyle.cdr-atlas-v0.glb-dor_Southern_Ocean_039_1...       NaN        NaN  \n",
       "smyle.cdr-atlas-v0.glb-dor_Southern_Ocean_039_1...       NaN        NaN  \n",
       "smyle.cdr-atlas-v0.glb-dor_Southern_Ocean_039_1...       NaN        NaN  \n",
       "\n",
       "[2761 rows x 40 columns]"
      ]
     },
     "execution_count": 8,
     "metadata": {},
     "output_type": "execute_result"
    }
   ],
   "source": [
    "df = calc.df_validation\n",
    "df"
   ]
  },
  {
   "cell_type": "code",
   "execution_count": 9,
   "id": "3e57dbb8-5051-486f-acb2-80d3543ab768",
   "metadata": {
    "tags": []
   },
   "outputs": [
    {
     "data": {
      "text/plain": [
       "<Axes: ylabel='Frequency'>"
      ]
     },
     "execution_count": 9,
     "metadata": {},
     "output_type": "execute_result"
    },
    {
     "data": {
      "image/png": "[encoded data removed]",
      "text/plain": [
       "<Figure size 640x480 with 1 Axes>"
      ]
     },
     "metadata": {},
     "output_type": "display_data"
    }
   ],
   "source": [
    "df.ALK_ALT_CO2_rmse.plot.hist(bins=20)"
   ]
  },
  {
   "cell_type": "code",
   "execution_count": 10,
   "id": "51d7d9e8-924c-4fd1-9f9e-6180b7ae5adc",
   "metadata": {
    "tags": []
   },
   "outputs": [
    {
     "data": {
      "text/plain": [
       "<Axes: ylabel='Frequency'>"
      ]
     },
     "execution_count": 10,
     "metadata": {},
     "output_type": "execute_result"
    },
    {
     "data": {
      "image/png": "[encoded data removed]",
      "text/plain": [
       "<Figure size 640x480 with 1 Axes>"
      ]
     },
     "metadata": {},
     "output_type": "display_data"
    }
   ],
   "source": [
    "df.DIC_ALT_CO2_rmse.plot.hist(bins=20)"
   ]
  },
  {
   "cell_type": "code",
   "execution_count": 11,
   "id": "63b76673-bed4-44cd-be5b-16a4b3d30e1c",
   "metadata": {
    "tags": []
   },
   "outputs": [
    {
     "data": {
      "text/plain": [
       "<Axes: ylabel='Frequency'>"
      ]
     },
     "execution_count": 11,
     "metadata": {},
     "output_type": "execute_result"
    },
    {
     "data": {
      "image/png": "[encoded data removed]",
      "text/plain": [
       "<Figure size 640x480 with 1 Axes>"
      ]
     },
     "metadata": {},
     "output_type": "display_data"
    }
   ],
   "source": [
    "df.FG_ALT_CO2_rmse.plot.hist(bins=20)"
   ]
  },
  {
   "cell_type": "markdown",
   "id": "8a845ca3-350d-44f5-857e-897a32c797b7",
   "metadata": {
    "tags": []
   },
   "source": [
    "## Analysis"
   ]
  },
  {
   "cell_type": "code",
   "execution_count": 12,
   "id": "054ed425-2eb1-4bec-930c-0e3fcc9c6151",
   "metadata": {
    "scrolled": true
   },
   "outputs": [
    {
     "data": {
      "application/vnd.jupyter.widget-view+json": {
       "model_id": "72e176be40694c9a8d671ddc5bd1ddba",
       "version_major": 2,
       "version_minor": 0
      },
      "text/plain": [
       "  0%|          | 0/50 [00:00<?, ?it/s]"
      ]
     },
     "metadata": {},
     "output_type": "display_data"
    },
    {
     "data": {
      "application/vnd.jupyter.widget-view+json": {
       "model_id": "d3e253f9e0f5408f91cbfe7a43224d77",
       "version_major": 2,
       "version_minor": 0
      },
      "text/plain": [
       "  0%|          | 0/50 [00:00<?, ?it/s]"
      ]
     },
     "metadata": {},
     "output_type": "display_data"
    },
    {
     "data": {
      "application/vnd.jupyter.widget-view+json": {
       "model_id": "f6aa13dd26b947878e019c233a2c2e98",
       "version_major": 2,
       "version_minor": 0
      },
      "text/plain": [
       "  0%|          | 0/50 [00:00<?, ?it/s]"
      ]
     },
     "metadata": {},
     "output_type": "display_data"
    },
    {
     "data": {
      "application/vnd.jupyter.widget-view+json": {
       "model_id": "0512d3eb1b744b8bbe1ab5ea6639a775",
       "version_major": 2,
       "version_minor": 0
      },
      "text/plain": [
       "  0%|          | 0/50 [00:00<?, ?it/s]"
      ]
     },
     "metadata": {},
     "output_type": "display_data"
    },
    {
     "data": {
      "application/vnd.jupyter.widget-view+json": {
       "model_id": "9ff25cf7f46f4604ad2ab0b2761c4627",
       "version_major": 2,
       "version_minor": 0
      },
      "text/plain": [
       "  0%|          | 0/50 [00:00<?, ?it/s]"
      ]
     },
     "metadata": {},
     "output_type": "display_data"
    },
    {
     "data": {
      "application/vnd.jupyter.widget-view+json": {
       "model_id": "b1e80eeada194e6d94c2e9758f9fe51b",
       "version_major": 2,
       "version_minor": 0
      },
      "text/plain": [
       "  0%|          | 0/50 [00:00<?, ?it/s]"
      ]
     },
     "metadata": {},
     "output_type": "display_data"
    },
    {
     "data": {
      "application/vnd.jupyter.widget-view+json": {
       "model_id": "d3be5dd83aac485288605c53daf4a41f",
       "version_major": 2,
       "version_minor": 0
      },
      "text/plain": [
       "  0%|          | 0/50 [00:00<?, ?it/s]"
      ]
     },
     "metadata": {},
     "output_type": "display_data"
    },
    {
     "data": {
      "application/vnd.jupyter.widget-view+json": {
       "model_id": "a47f95d98e6e46df95d7e1547059ddba",
       "version_major": 2,
       "version_minor": 0
      },
      "text/plain": [
       "  0%|          | 0/50 [00:00<?, ?it/s]"
      ]
     },
     "metadata": {},
     "output_type": "display_data"
    },
    {
     "data": {
      "application/vnd.jupyter.widget-view+json": {
       "model_id": "dc8ec2b3013d4b7abe3888d5d565e763",
       "version_major": 2,
       "version_minor": 0
      },
      "text/plain": [
       "  0%|          | 0/50 [00:00<?, ?it/s]"
      ]
     },
     "metadata": {},
     "output_type": "display_data"
    },
    {
     "data": {
      "application/vnd.jupyter.widget-view+json": {
       "model_id": "c489e74e8d544d678faff620273207f5",
       "version_major": 2,
       "version_minor": 0
      },
      "text/plain": [
       "  0%|          | 0/50 [00:00<?, ?it/s]"
      ]
     },
     "metadata": {},
     "output_type": "display_data"
    },
    {
     "data": {
      "application/vnd.jupyter.widget-view+json": {
       "model_id": "8ebea55ebf934f09ad6e1954776a8553",
       "version_major": 2,
       "version_minor": 0
      },
      "text/plain": [
       "  0%|          | 0/50 [00:00<?, ?it/s]"
      ]
     },
     "metadata": {},
     "output_type": "display_data"
    },
    {
     "data": {
      "application/vnd.jupyter.widget-view+json": {
       "model_id": "e82a9f0be2ac4fee8c114253b494e4a5",
       "version_major": 2,
       "version_minor": 0
      },
      "text/plain": [
       "  0%|          | 0/50 [00:00<?, ?it/s]"
      ]
     },
     "metadata": {},
     "output_type": "display_data"
    },
    {
     "data": {
      "application/vnd.jupyter.widget-view+json": {
       "model_id": "6aaa901164e043689adc07ba38bde907",
       "version_major": 2,
       "version_minor": 0
      },
      "text/plain": [
       "  0%|          | 0/50 [00:00<?, ?it/s]"
      ]
     },
     "metadata": {},
     "output_type": "display_data"
    },
    {
     "data": {
      "application/vnd.jupyter.widget-view+json": {
       "model_id": "2cd580dedf984cd3988d28a726faae13",
       "version_major": 2,
       "version_minor": 0
      },
      "text/plain": [
       "  0%|          | 0/50 [00:00<?, ?it/s]"
      ]
     },
     "metadata": {},
     "output_type": "display_data"
    },
    {
     "data": {
      "application/vnd.jupyter.widget-view+json": {
       "model_id": "5bd37bccbd3e4604bfda15bb2939e4ad",
       "version_major": 2,
       "version_minor": 0
      },
      "text/plain": [
       "  0%|          | 0/50 [00:00<?, ?it/s]"
      ]
     },
     "metadata": {},
     "output_type": "display_data"
    },
    {
     "data": {
      "application/vnd.jupyter.widget-view+json": {
       "model_id": "1ac817937a6b4e02a010117b05620e53",
       "version_major": 2,
       "version_minor": 0
      },
      "text/plain": [
       "  0%|          | 0/50 [00:00<?, ?it/s]"
      ]
     },
     "metadata": {},
     "output_type": "display_data"
    },
    {
     "data": {
      "application/vnd.jupyter.widget-view+json": {
       "model_id": "ab897b60da114a2eae5523471771c844",
       "version_major": 2,
       "version_minor": 0
      },
      "text/plain": [
       "  0%|          | 0/50 [00:00<?, ?it/s]"
      ]
     },
     "metadata": {},
     "output_type": "display_data"
    },
    {
     "data": {
      "application/vnd.jupyter.widget-view+json": {
       "model_id": "6855e34a2997479fbfa0f20403df7da0",
       "version_major": 2,
       "version_minor": 0
      },
      "text/plain": [
       "  0%|          | 0/50 [00:00<?, ?it/s]"
      ]
     },
     "metadata": {},
     "output_type": "display_data"
    },
    {
     "data": {
      "application/vnd.jupyter.widget-view+json": {
       "model_id": "dc1d0b5df10642048234d1047208298c",
       "version_major": 2,
       "version_minor": 0
      },
      "text/plain": [
       "  0%|          | 0/50 [00:00<?, ?it/s]"
      ]
     },
     "metadata": {},
     "output_type": "display_data"
    },
    {
     "data": {
      "application/vnd.jupyter.widget-view+json": {
       "model_id": "aa6b409bace147638cdd44a903fcefe2",
       "version_major": 2,
       "version_minor": 0
      },
      "text/plain": [
       "  0%|          | 0/50 [00:00<?, ?it/s]"
      ]
     },
     "metadata": {},
     "output_type": "display_data"
    },
    {
     "data": {
      "application/vnd.jupyter.widget-view+json": {
       "model_id": "40083d3705434f6ebc4cd0cc7882fd4f",
       "version_major": 2,
       "version_minor": 0
      },
      "text/plain": [
       "  0%|          | 0/50 [00:00<?, ?it/s]"
      ]
     },
     "metadata": {},
     "output_type": "display_data"
    },
    {
     "data": {
      "application/vnd.jupyter.widget-view+json": {
       "model_id": "b83edb2f62a04fc89872e88ae1ed9d87",
       "version_major": 2,
       "version_minor": 0
      },
      "text/plain": [
       "  0%|          | 0/50 [00:00<?, ?it/s]"
      ]
     },
     "metadata": {},
     "output_type": "display_data"
    },
    {
     "data": {
      "application/vnd.jupyter.widget-view+json": {
       "model_id": "b2bf3c2fe3544b35855f210647360fd4",
       "version_major": 2,
       "version_minor": 0
      },
      "text/plain": [
       "  0%|          | 0/50 [00:00<?, ?it/s]"
      ]
     },
     "metadata": {},
     "output_type": "display_data"
    },
    {
     "data": {
      "application/vnd.jupyter.widget-view+json": {
       "model_id": "27de2a9e26154fd4b6ec6df6b18b3548",
       "version_major": 2,
       "version_minor": 0
      },
      "text/plain": [
       "  0%|          | 0/50 [00:00<?, ?it/s]"
      ]
     },
     "metadata": {},
     "output_type": "display_data"
    },
    {
     "data": {
      "application/vnd.jupyter.widget-view+json": {
       "model_id": "4199eaaba39640598d40d06f57036392",
       "version_major": 2,
       "version_minor": 0
      },
      "text/plain": [
       "  0%|          | 0/50 [00:00<?, ?it/s]"
      ]
     },
     "metadata": {},
     "output_type": "display_data"
    },
    {
     "data": {
      "application/vnd.jupyter.widget-view+json": {
       "model_id": "ee7f8a693cff44e490e54e41cc004193",
       "version_major": 2,
       "version_minor": 0
      },
      "text/plain": [
       "  0%|          | 0/50 [00:00<?, ?it/s]"
      ]
     },
     "metadata": {},
     "output_type": "display_data"
    },
    {
     "data": {
      "application/vnd.jupyter.widget-view+json": {
       "model_id": "c2c7d7033e4f4d22aa420e495a9e4dcc",
       "version_major": 2,
       "version_minor": 0
      },
      "text/plain": [
       "  0%|          | 0/50 [00:00<?, ?it/s]"
      ]
     },
     "metadata": {},
     "output_type": "display_data"
    },
    {
     "data": {
      "application/vnd.jupyter.widget-view+json": {
       "model_id": "6426cb391d9c425b97827a91bc216e63",
       "version_major": 2,
       "version_minor": 0
      },
      "text/plain": [
       "  0%|          | 0/50 [00:00<?, ?it/s]"
      ]
     },
     "metadata": {},
     "output_type": "display_data"
    },
    {
     "data": {
      "application/vnd.jupyter.widget-view+json": {
       "model_id": "012917def3fe45a68c285a624fcb1127",
       "version_major": 2,
       "version_minor": 0
      },
      "text/plain": [
       "  0%|          | 0/50 [00:00<?, ?it/s]"
      ]
     },
     "metadata": {},
     "output_type": "display_data"
    },
    {
     "data": {
      "application/vnd.jupyter.widget-view+json": {
       "model_id": "4a1df431a56841578a58f384a524215b",
       "version_major": 2,
       "version_minor": 0
      },
      "text/plain": [
       "  0%|          | 0/50 [00:00<?, ?it/s]"
      ]
     },
     "metadata": {},
     "output_type": "display_data"
    },
    {
     "data": {
      "application/vnd.jupyter.widget-view+json": {
       "model_id": "6436122c78924707b79dc282b0f043e7",
       "version_major": 2,
       "version_minor": 0
      },
      "text/plain": [
       "  0%|          | 0/50 [00:00<?, ?it/s]"
      ]
     },
     "metadata": {},
     "output_type": "display_data"
    },
    {
     "data": {
      "application/vnd.jupyter.widget-view+json": {
       "model_id": "71218299ce6847c283faf22fa706e0f4",
       "version_major": 2,
       "version_minor": 0
      },
      "text/plain": [
       "  0%|          | 0/50 [00:00<?, ?it/s]"
      ]
     },
     "metadata": {},
     "output_type": "display_data"
    },
    {
     "data": {
      "application/vnd.jupyter.widget-view+json": {
       "model_id": "4b837227e57a4e8cbf08f429f925fc64",
       "version_major": 2,
       "version_minor": 0
      },
      "text/plain": [
       "  0%|          | 0/50 [00:00<?, ?it/s]"
      ]
     },
     "metadata": {},
     "output_type": "display_data"
    },
    {
     "data": {
      "application/vnd.jupyter.widget-view+json": {
       "model_id": "ebbed1e115bb433dbd291f671c6cd305",
       "version_major": 2,
       "version_minor": 0
      },
      "text/plain": [
       "  0%|          | 0/50 [00:00<?, ?it/s]"
      ]
     },
     "metadata": {},
     "output_type": "display_data"
    },
    {
     "data": {
      "application/vnd.jupyter.widget-view+json": {
       "model_id": "eeacbd4a86bc4426a19c51837f3abf4f",
       "version_major": 2,
       "version_minor": 0
      },
      "text/plain": [
       "  0%|          | 0/50 [00:00<?, ?it/s]"
      ]
     },
     "metadata": {},
     "output_type": "display_data"
    },
    {
     "data": {
      "application/vnd.jupyter.widget-view+json": {
       "model_id": "d4f2a89301ba47da9b741f700bb63887",
       "version_major": 2,
       "version_minor": 0
      },
      "text/plain": [
       "  0%|          | 0/50 [00:00<?, ?it/s]"
      ]
     },
     "metadata": {},
     "output_type": "display_data"
    },
    {
     "data": {
      "application/vnd.jupyter.widget-view+json": {
       "model_id": "883f1dea4ee048d0a1bfa9b0596091d7",
       "version_major": 2,
       "version_minor": 0
      },
      "text/plain": [
       "  0%|          | 0/50 [00:00<?, ?it/s]"
      ]
     },
     "metadata": {},
     "output_type": "display_data"
    },
    {
     "data": {
      "application/vnd.jupyter.widget-view+json": {
       "model_id": "1a7de110265244618652f68c6f723a4e",
       "version_major": 2,
       "version_minor": 0
      },
      "text/plain": [
       "  0%|          | 0/50 [00:00<?, ?it/s]"
      ]
     },
     "metadata": {},
     "output_type": "display_data"
    },
    {
     "data": {
      "application/vnd.jupyter.widget-view+json": {
       "model_id": "7bb9d8fd0c864fc09fa2325e3277250c",
       "version_major": 2,
       "version_minor": 0
      },
      "text/plain": [
       "  0%|          | 0/50 [00:00<?, ?it/s]"
      ]
     },
     "metadata": {},
     "output_type": "display_data"
    },
    {
     "data": {
      "application/vnd.jupyter.widget-view+json": {
       "model_id": "c1dd8cb09cca47c691334da9e2c93556",
       "version_major": 2,
       "version_minor": 0
      },
      "text/plain": [
       "  0%|          | 0/50 [00:00<?, ?it/s]"
      ]
     },
     "metadata": {},
     "output_type": "display_data"
    },
    {
     "data": {
      "application/vnd.jupyter.widget-view+json": {
       "model_id": "2a41caaa2bbf458b82034fc67dbe17c0",
       "version_major": 2,
       "version_minor": 0
      },
      "text/plain": [
       "  0%|          | 0/50 [00:00<?, ?it/s]"
      ]
     },
     "metadata": {},
     "output_type": "display_data"
    },
    {
     "data": {
      "application/vnd.jupyter.widget-view+json": {
       "model_id": "a0240b35178f4dfdb79ff4947d5f37ab",
       "version_major": 2,
       "version_minor": 0
      },
      "text/plain": [
       "  0%|          | 0/50 [00:00<?, ?it/s]"
      ]
     },
     "metadata": {},
     "output_type": "display_data"
    },
    {
     "data": {
      "application/vnd.jupyter.widget-view+json": {
       "model_id": "d6b8c4d358884f9292b731cafd337735",
       "version_major": 2,
       "version_minor": 0
      },
      "text/plain": [
       "  0%|          | 0/50 [00:00<?, ?it/s]"
      ]
     },
     "metadata": {},
     "output_type": "display_data"
    },
    {
     "data": {
      "application/vnd.jupyter.widget-view+json": {
       "model_id": "7b49b7bb5ff64ea985dcf52714a2975a",
       "version_major": 2,
       "version_minor": 0
      },
      "text/plain": [
       "  0%|          | 0/50 [00:00<?, ?it/s]"
      ]
     },
     "metadata": {},
     "output_type": "display_data"
    },
    {
     "data": {
      "application/vnd.jupyter.widget-view+json": {
       "model_id": "b1ddeb9196ce492fbce4dcfb32d1b56d",
       "version_major": 2,
       "version_minor": 0
      },
      "text/plain": [
       "  0%|          | 0/50 [00:00<?, ?it/s]"
      ]
     },
     "metadata": {},
     "output_type": "display_data"
    },
    {
     "data": {
      "application/vnd.jupyter.widget-view+json": {
       "model_id": "9dfc348098644542922a271ed4f88a7d",
       "version_major": 2,
       "version_minor": 0
      },
      "text/plain": [
       "  0%|          | 0/50 [00:00<?, ?it/s]"
      ]
     },
     "metadata": {},
     "output_type": "display_data"
    },
    {
     "data": {
      "application/vnd.jupyter.widget-view+json": {
       "model_id": "a6162c1715bb418bb37273cf3cbc8d00",
       "version_major": 2,
       "version_minor": 0
      },
      "text/plain": [
       "  0%|          | 0/50 [00:00<?, ?it/s]"
      ]
     },
     "metadata": {},
     "output_type": "display_data"
    },
    {
     "data": {
      "application/vnd.jupyter.widget-view+json": {
       "model_id": "02b4f7a4a9134881875afaa5a5e168be",
       "version_major": 2,
       "version_minor": 0
      },
      "text/plain": [
       "  0%|          | 0/50 [00:00<?, ?it/s]"
      ]
     },
     "metadata": {},
     "output_type": "display_data"
    },
    {
     "data": {
      "application/vnd.jupyter.widget-view+json": {
       "model_id": "7f09e32e30b34e04a195dae551a4aa43",
       "version_major": 2,
       "version_minor": 0
      },
      "text/plain": [
       "  0%|          | 0/50 [00:00<?, ?it/s]"
      ]
     },
     "metadata": {},
     "output_type": "display_data"
    },
    {
     "data": {
      "application/vnd.jupyter.widget-view+json": {
       "model_id": "00941f4bad874987bb9aef75a06e0306",
       "version_major": 2,
       "version_minor": 0
      },
      "text/plain": [
       "  0%|          | 0/50 [00:00<?, ?it/s]"
      ]
     },
     "metadata": {},
     "output_type": "display_data"
    },
    {
     "data": {
      "application/vnd.jupyter.widget-view+json": {
       "model_id": "a3d5eb3220c8498ba1a81777809b6fcd",
       "version_major": 2,
       "version_minor": 0
      },
      "text/plain": [
       "  0%|          | 0/50 [00:00<?, ?it/s]"
      ]
     },
     "metadata": {},
     "output_type": "display_data"
    },
    {
     "data": {
      "application/vnd.jupyter.widget-view+json": {
       "model_id": "8b94eb9ca01f4cb7b31eb9dfd8bfd415",
       "version_major": 2,
       "version_minor": 0
      },
      "text/plain": [
       "  0%|          | 0/50 [00:00<?, ?it/s]"
      ]
     },
     "metadata": {},
     "output_type": "display_data"
    },
    {
     "data": {
      "application/vnd.jupyter.widget-view+json": {
       "model_id": "fa2cddd05e4e40a7a50152e59d6de3fd",
       "version_major": 2,
       "version_minor": 0
      },
      "text/plain": [
       "  0%|          | 0/50 [00:00<?, ?it/s]"
      ]
     },
     "metadata": {},
     "output_type": "display_data"
    },
    {
     "data": {
      "application/vnd.jupyter.widget-view+json": {
       "model_id": "57cf37e4f1fa463987cb10e86b778d6c",
       "version_major": 2,
       "version_minor": 0
      },
      "text/plain": [
       "  0%|          | 0/50 [00:00<?, ?it/s]"
      ]
     },
     "metadata": {},
     "output_type": "display_data"
    },
    {
     "data": {
      "application/vnd.jupyter.widget-view+json": {
       "model_id": "f2de2741713b47eca7cbc61937fea909",
       "version_major": 2,
       "version_minor": 0
      },
      "text/plain": [
       "  0%|          | 0/50 [00:00<?, ?it/s]"
      ]
     },
     "metadata": {},
     "output_type": "display_data"
    },
    {
     "data": {
      "application/vnd.jupyter.widget-view+json": {
       "model_id": "fee053846c664d0cba4e26c5e4c31c49",
       "version_major": 2,
       "version_minor": 0
      },
      "text/plain": [
       "  0%|          | 0/10 [00:00<?, ?it/s]"
      ]
     },
     "metadata": {},
     "output_type": "display_data"
    }
   ],
   "source": [
    "calc.analyze(clobber=False)"
   ]
  },
  {
   "cell_type": "code",
   "execution_count": 13,
   "id": "30cceb86-07cf-4dad-a283-07a18ae01cb9",
   "metadata": {},
   "outputs": [
    {
     "data": {
      "text/html": [
       "<div>\n",
       "<style scoped>\n",
       "    .dataframe tbody tr th:only-of-type {\n",
       "        vertical-align: middle;\n",
       "    }\n",
       "\n",
       "    .dataframe tbody tr th {\n",
       "        vertical-align: top;\n",
       "    }\n",
       "\n",
       "    .dataframe thead th {\n",
       "        text-align: right;\n",
       "    }\n",
       "</style>\n",
       "<table border=\"1\" class=\"dataframe\">\n",
       "  <thead>\n",
       "    <tr style=\"text-align: right;\">\n",
       "      <th></th>\n",
       "      <th>zarr_path</th>\n",
       "    </tr>\n",
       "    <tr>\n",
       "      <th>case</th>\n",
       "      <th></th>\n",
       "    </tr>\n",
       "  </thead>\n",
       "  <tbody>\n",
       "    <tr>\n",
       "      <th>smyle.cdr-atlas-v0.glb-dor_North_Atlantic_basin_000_1999-01-01_00000.001</th>\n",
       "      <td>/global/cfs/projectdirs/m4746/Projects/Ocean-C...</td>\n",
       "    </tr>\n",
       "    <tr>\n",
       "      <th>smyle.cdr-atlas-v0.glb-dor_North_Atlantic_basin_000_1999-04-01_00001.001</th>\n",
       "      <td>/global/cfs/projectdirs/m4746/Projects/Ocean-C...</td>\n",
       "    </tr>\n",
       "    <tr>\n",
       "      <th>smyle.cdr-atlas-v0.glb-dor_North_Atlantic_basin_000_1999-07-01_00002.001</th>\n",
       "      <td>/global/cfs/projectdirs/m4746/Projects/Ocean-C...</td>\n",
       "    </tr>\n",
       "    <tr>\n",
       "      <th>smyle.cdr-atlas-v0.glb-dor_North_Atlantic_basin_000_1999-10-01_00003.001</th>\n",
       "      <td>/global/cfs/projectdirs/m4746/Projects/Ocean-C...</td>\n",
       "    </tr>\n",
       "    <tr>\n",
       "      <th>smyle.cdr-atlas-v0.glb-dor_North_Atlantic_basin_001_1999-01-01_00004.001</th>\n",
       "      <td>/global/cfs/projectdirs/m4746/Projects/Ocean-C...</td>\n",
       "    </tr>\n",
       "    <tr>\n",
       "      <th>...</th>\n",
       "      <td>...</td>\n",
       "    </tr>\n",
       "    <tr>\n",
       "      <th>smyle.cdr-atlas-v0.glb-dor_Southern_Ocean_038_1999-10-01_02755.001</th>\n",
       "      <td>/global/cfs/projectdirs/m4746/Projects/Ocean-C...</td>\n",
       "    </tr>\n",
       "    <tr>\n",
       "      <th>smyle.cdr-atlas-v0.glb-dor_Southern_Ocean_039_1999-01-01_02756.001</th>\n",
       "      <td>/global/cfs/projectdirs/m4746/Projects/Ocean-C...</td>\n",
       "    </tr>\n",
       "    <tr>\n",
       "      <th>smyle.cdr-atlas-v0.glb-dor_Southern_Ocean_039_1999-04-01_02757.001</th>\n",
       "      <td>/global/cfs/projectdirs/m4746/Projects/Ocean-C...</td>\n",
       "    </tr>\n",
       "    <tr>\n",
       "      <th>smyle.cdr-atlas-v0.glb-dor_Southern_Ocean_039_1999-07-01_02758.001</th>\n",
       "      <td>/global/cfs/projectdirs/m4746/Projects/Ocean-C...</td>\n",
       "    </tr>\n",
       "    <tr>\n",
       "      <th>smyle.cdr-atlas-v0.glb-dor_Southern_Ocean_039_1999-10-01_02759.001</th>\n",
       "      <td>/global/cfs/projectdirs/m4746/Projects/Ocean-C...</td>\n",
       "    </tr>\n",
       "  </tbody>\n",
       "</table>\n",
       "<p>2760 rows × 1 columns</p>\n",
       "</div>"
      ],
      "text/plain": [
       "                                                                                            zarr_path\n",
       "case                                                                                                 \n",
       "smyle.cdr-atlas-v0.glb-dor_North_Atlantic_basin...  /global/cfs/projectdirs/m4746/Projects/Ocean-C...\n",
       "smyle.cdr-atlas-v0.glb-dor_North_Atlantic_basin...  /global/cfs/projectdirs/m4746/Projects/Ocean-C...\n",
       "smyle.cdr-atlas-v0.glb-dor_North_Atlantic_basin...  /global/cfs/projectdirs/m4746/Projects/Ocean-C...\n",
       "smyle.cdr-atlas-v0.glb-dor_North_Atlantic_basin...  /global/cfs/projectdirs/m4746/Projects/Ocean-C...\n",
       "smyle.cdr-atlas-v0.glb-dor_North_Atlantic_basin...  /global/cfs/projectdirs/m4746/Projects/Ocean-C...\n",
       "...                                                                                               ...\n",
       "smyle.cdr-atlas-v0.glb-dor_Southern_Ocean_038_1...  /global/cfs/projectdirs/m4746/Projects/Ocean-C...\n",
       "smyle.cdr-atlas-v0.glb-dor_Southern_Ocean_039_1...  /global/cfs/projectdirs/m4746/Projects/Ocean-C...\n",
       "smyle.cdr-atlas-v0.glb-dor_Southern_Ocean_039_1...  /global/cfs/projectdirs/m4746/Projects/Ocean-C...\n",
       "smyle.cdr-atlas-v0.glb-dor_Southern_Ocean_039_1...  /global/cfs/projectdirs/m4746/Projects/Ocean-C...\n",
       "smyle.cdr-atlas-v0.glb-dor_Southern_Ocean_039_1...  /global/cfs/projectdirs/m4746/Projects/Ocean-C...\n",
       "\n",
       "[2760 rows x 1 columns]"
      ]
     },
     "execution_count": 13,
     "metadata": {},
     "output_type": "execute_result"
    }
   ],
   "source": [
    "calc.df_analysis"
   ]
  },
  {
   "cell_type": "code",
   "execution_count": 14,
   "id": "6a64bd05-f72e-4422-beb6-effcc19445c8",
   "metadata": {
    "tags": []
   },
   "outputs": [
    {
     "data": {
      "application/vnd.jupyter.widget-view+json": {
       "model_id": "cb512118faf24b99825f8e9add95d1ff",
       "version_major": 2,
       "version_minor": 0
      },
      "text/plain": [
       "0it [00:00, ?it/s]"
      ]
     },
     "metadata": {},
     "output_type": "display_data"
    },
    {
     "data": {
      "image/png": "[encoded data removed]",
      "text/plain": [
       "<Figure size 600x400 with 1 Axes>"
      ]
     },
     "metadata": {},
     "output_type": "display_data"
    }
   ],
   "source": [
    "import warnings\n",
    "warnings.filterwarnings(\"error\")\n",
    "\n",
    "fig, ax = plt.subplots(1, 1, figsize=(6, 4))\n",
    "\n",
    "for row_data in tqdm(calc.df_analysis.iterrows()):\n",
    "    case = row_data[0]\n",
    "    path_zarr = row_data[1].iloc[0]   \n",
    "    try:\n",
    "        ds = xr.open_zarr(path_zarr, decode_timedelta=False)\n",
    "        da = ds[\"DIC_ADD_TOTAL\"]\n",
    "        if ds.time.values[0].year > 500:\n",
    "            print(f\"bad time:\\n\\t{case}\\n\\t{path_zarr}\")        \n",
    "    except:\n",
    "        print(f\"FAILED\\n\\t{case}\\n\\t{path_zarr}\")\n",
    "        raise\n",
    "    da.plot(ax=ax, label=case)"
   ]
  },
  {
   "cell_type": "markdown",
   "id": "4878faa5-0a6f-4205-a384-121fff76d3ed",
   "metadata": {},
   "source": [
    "## Visualization"
   ]
  },
  {
   "cell_type": "code",
   "execution_count": 15,
   "id": "459c0c95-4d87-45d2-a379-16b3525ba6d4",
   "metadata": {
    "tags": []
   },
   "outputs": [],
   "source": [
    "#calc.visualize(clobber=True)"
   ]
  },
  {
   "cell_type": "code",
   "execution_count": 16,
   "id": "f1e2634e-9a3f-4816-8839-7cafca1421a4",
   "metadata": {},
   "outputs": [
    {
     "data": {
      "text/html": [
       "<div>\n",
       "<style scoped>\n",
       "    .dataframe tbody tr th:only-of-type {\n",
       "        vertical-align: middle;\n",
       "    }\n",
       "\n",
       "    .dataframe tbody tr th {\n",
       "        vertical-align: top;\n",
       "    }\n",
       "\n",
       "    .dataframe thead th {\n",
       "        text-align: right;\n",
       "    }\n",
       "</style>\n",
       "<table border=\"1\" class=\"dataframe\">\n",
       "  <thead>\n",
       "    <tr style=\"text-align: right;\">\n",
       "      <th></th>\n",
       "      <th>build</th>\n",
       "      <th>submitted</th>\n",
       "      <th>run_completed</th>\n",
       "      <th>archive</th>\n",
       "      <th>error</th>\n",
       "      <th>error_count</th>\n",
       "      <th>timestamp_run</th>\n",
       "      <th>JobId</th>\n",
       "      <th>JobState</th>\n",
       "      <th>Queued</th>\n",
       "      <th>yr_per_day</th>\n",
       "      <th>pe-hr_per_yr</th>\n",
       "    </tr>\n",
       "    <tr>\n",
       "      <th>case</th>\n",
       "      <th></th>\n",
       "      <th></th>\n",
       "      <th></th>\n",
       "      <th></th>\n",
       "      <th></th>\n",
       "      <th></th>\n",
       "      <th></th>\n",
       "      <th></th>\n",
       "      <th></th>\n",
       "      <th></th>\n",
       "      <th></th>\n",
       "      <th></th>\n",
       "    </tr>\n",
       "  </thead>\n",
       "  <tbody>\n",
       "    <tr>\n",
       "      <th>smyle.cdr-atlas-v0.control.001</th>\n",
       "      <td>True</td>\n",
       "      <td>True</td>\n",
       "      <td>True</td>\n",
       "      <td>True</td>\n",
       "      <td>False</td>\n",
       "      <td>0</td>\n",
       "      <td>2024-11-04 23:44:49</td>\n",
       "      <td>None</td>\n",
       "      <td>None</td>\n",
       "      <td>False</td>\n",
       "      <td>45.61</td>\n",
       "      <td>471.47</td>\n",
       "    </tr>\n",
       "    <tr>\n",
       "      <th>smyle.cdr-atlas-v0.glb-dor_North_Atlantic_basin_000_1999-01-01_00000.001</th>\n",
       "      <td>True</td>\n",
       "      <td>True</td>\n",
       "      <td>True</td>\n",
       "      <td>True</td>\n",
       "      <td>False</td>\n",
       "      <td>0</td>\n",
       "      <td>2024-11-05 03:13:08</td>\n",
       "      <td>None</td>\n",
       "      <td>None</td>\n",
       "      <td>False</td>\n",
       "      <td>58.82</td>\n",
       "      <td>365.62</td>\n",
       "    </tr>\n",
       "    <tr>\n",
       "      <th>smyle.cdr-atlas-v0.glb-dor_North_Atlantic_basin_000_1999-04-01_00001.001</th>\n",
       "      <td>True</td>\n",
       "      <td>True</td>\n",
       "      <td>True</td>\n",
       "      <td>True</td>\n",
       "      <td>False</td>\n",
       "      <td>0</td>\n",
       "      <td>2024-11-05 03:12:00</td>\n",
       "      <td>None</td>\n",
       "      <td>None</td>\n",
       "      <td>False</td>\n",
       "      <td>59.00</td>\n",
       "      <td>364.49</td>\n",
       "    </tr>\n",
       "    <tr>\n",
       "      <th>smyle.cdr-atlas-v0.glb-dor_North_Atlantic_basin_000_1999-07-01_00002.001</th>\n",
       "      <td>True</td>\n",
       "      <td>True</td>\n",
       "      <td>True</td>\n",
       "      <td>True</td>\n",
       "      <td>False</td>\n",
       "      <td>0</td>\n",
       "      <td>2024-11-04 20:27:38</td>\n",
       "      <td>None</td>\n",
       "      <td>None</td>\n",
       "      <td>False</td>\n",
       "      <td>58.89</td>\n",
       "      <td>365.17</td>\n",
       "    </tr>\n",
       "    <tr>\n",
       "      <th>smyle.cdr-atlas-v0.glb-dor_North_Atlantic_basin_000_1999-10-01_00003.001</th>\n",
       "      <td>True</td>\n",
       "      <td>True</td>\n",
       "      <td>True</td>\n",
       "      <td>True</td>\n",
       "      <td>False</td>\n",
       "      <td>0</td>\n",
       "      <td>2024-11-04 21:37:34</td>\n",
       "      <td>None</td>\n",
       "      <td>None</td>\n",
       "      <td>False</td>\n",
       "      <td>58.94</td>\n",
       "      <td>364.83</td>\n",
       "    </tr>\n",
       "    <tr>\n",
       "      <th>...</th>\n",
       "      <td>...</td>\n",
       "      <td>...</td>\n",
       "      <td>...</td>\n",
       "      <td>...</td>\n",
       "      <td>...</td>\n",
       "      <td>...</td>\n",
       "      <td>...</td>\n",
       "      <td>...</td>\n",
       "      <td>...</td>\n",
       "      <td>...</td>\n",
       "      <td>...</td>\n",
       "      <td>...</td>\n",
       "    </tr>\n",
       "    <tr>\n",
       "      <th>smyle.cdr-atlas-v0.glb-dor_Southern_Ocean_038_1999-10-01_02755.001</th>\n",
       "      <td>True</td>\n",
       "      <td>True</td>\n",
       "      <td>True</td>\n",
       "      <td>True</td>\n",
       "      <td>False</td>\n",
       "      <td>0</td>\n",
       "      <td>2025-03-13 04:44:19</td>\n",
       "      <td>None</td>\n",
       "      <td>None</td>\n",
       "      <td>False</td>\n",
       "      <td>55.20</td>\n",
       "      <td>389.56</td>\n",
       "    </tr>\n",
       "    <tr>\n",
       "      <th>smyle.cdr-atlas-v0.glb-dor_Southern_Ocean_039_1999-01-01_02756.001</th>\n",
       "      <td>True</td>\n",
       "      <td>True</td>\n",
       "      <td>True</td>\n",
       "      <td>True</td>\n",
       "      <td>False</td>\n",
       "      <td>0</td>\n",
       "      <td>2025-03-13 04:40:44</td>\n",
       "      <td>None</td>\n",
       "      <td>None</td>\n",
       "      <td>False</td>\n",
       "      <td>55.71</td>\n",
       "      <td>385.98</td>\n",
       "    </tr>\n",
       "    <tr>\n",
       "      <th>smyle.cdr-atlas-v0.glb-dor_Southern_Ocean_039_1999-04-01_02757.001</th>\n",
       "      <td>True</td>\n",
       "      <td>True</td>\n",
       "      <td>True</td>\n",
       "      <td>True</td>\n",
       "      <td>False</td>\n",
       "      <td>0</td>\n",
       "      <td>2025-03-13 04:39:37</td>\n",
       "      <td>None</td>\n",
       "      <td>None</td>\n",
       "      <td>False</td>\n",
       "      <td>55.95</td>\n",
       "      <td>384.32</td>\n",
       "    </tr>\n",
       "    <tr>\n",
       "      <th>smyle.cdr-atlas-v0.glb-dor_Southern_Ocean_039_1999-07-01_02758.001</th>\n",
       "      <td>True</td>\n",
       "      <td>True</td>\n",
       "      <td>True</td>\n",
       "      <td>True</td>\n",
       "      <td>False</td>\n",
       "      <td>0</td>\n",
       "      <td>2025-03-13 04:33:59</td>\n",
       "      <td>None</td>\n",
       "      <td>None</td>\n",
       "      <td>False</td>\n",
       "      <td>56.92</td>\n",
       "      <td>377.78</td>\n",
       "    </tr>\n",
       "    <tr>\n",
       "      <th>smyle.cdr-atlas-v0.glb-dor_Southern_Ocean_039_1999-10-01_02759.001</th>\n",
       "      <td>True</td>\n",
       "      <td>True</td>\n",
       "      <td>True</td>\n",
       "      <td>True</td>\n",
       "      <td>False</td>\n",
       "      <td>0</td>\n",
       "      <td>2025-03-18 03:40:09</td>\n",
       "      <td>None</td>\n",
       "      <td>None</td>\n",
       "      <td>False</td>\n",
       "      <td>56.86</td>\n",
       "      <td>378.18</td>\n",
       "    </tr>\n",
       "  </tbody>\n",
       "</table>\n",
       "<p>2761 rows × 12 columns</p>\n",
       "</div>"
      ],
      "text/plain": [
       "                                                    build  submitted  \\\n",
       "case                                                                   \n",
       "smyle.cdr-atlas-v0.control.001                       True       True   \n",
       "smyle.cdr-atlas-v0.glb-dor_North_Atlantic_basin...   True       True   \n",
       "smyle.cdr-atlas-v0.glb-dor_North_Atlantic_basin...   True       True   \n",
       "smyle.cdr-atlas-v0.glb-dor_North_Atlantic_basin...   True       True   \n",
       "smyle.cdr-atlas-v0.glb-dor_North_Atlantic_basin...   True       True   \n",
       "...                                                   ...        ...   \n",
       "smyle.cdr-atlas-v0.glb-dor_Southern_Ocean_038_1...   True       True   \n",
       "smyle.cdr-atlas-v0.glb-dor_Southern_Ocean_039_1...   True       True   \n",
       "smyle.cdr-atlas-v0.glb-dor_Southern_Ocean_039_1...   True       True   \n",
       "smyle.cdr-atlas-v0.glb-dor_Southern_Ocean_039_1...   True       True   \n",
       "smyle.cdr-atlas-v0.glb-dor_Southern_Ocean_039_1...   True       True   \n",
       "\n",
       "                                                    run_completed  archive  \\\n",
       "case                                                                         \n",
       "smyle.cdr-atlas-v0.control.001                               True     True   \n",
       "smyle.cdr-atlas-v0.glb-dor_North_Atlantic_basin...           True     True   \n",
       "smyle.cdr-atlas-v0.glb-dor_North_Atlantic_basin...           True     True   \n",
       "smyle.cdr-atlas-v0.glb-dor_North_Atlantic_basin...           True     True   \n",
       "smyle.cdr-atlas-v0.glb-dor_North_Atlantic_basin...           True     True   \n",
       "...                                                           ...      ...   \n",
       "smyle.cdr-atlas-v0.glb-dor_Southern_Ocean_038_1...           True     True   \n",
       "smyle.cdr-atlas-v0.glb-dor_Southern_Ocean_039_1...           True     True   \n",
       "smyle.cdr-atlas-v0.glb-dor_Southern_Ocean_039_1...           True     True   \n",
       "smyle.cdr-atlas-v0.glb-dor_Southern_Ocean_039_1...           True     True   \n",
       "smyle.cdr-atlas-v0.glb-dor_Southern_Ocean_039_1...           True     True   \n",
       "\n",
       "                                                    error  error_count  \\\n",
       "case                                                                     \n",
       "smyle.cdr-atlas-v0.control.001                      False            0   \n",
       "smyle.cdr-atlas-v0.glb-dor_North_Atlantic_basin...  False            0   \n",
       "smyle.cdr-atlas-v0.glb-dor_North_Atlantic_basin...  False            0   \n",
       "smyle.cdr-atlas-v0.glb-dor_North_Atlantic_basin...  False            0   \n",
       "smyle.cdr-atlas-v0.glb-dor_North_Atlantic_basin...  False            0   \n",
       "...                                                   ...          ...   \n",
       "smyle.cdr-atlas-v0.glb-dor_Southern_Ocean_038_1...  False            0   \n",
       "smyle.cdr-atlas-v0.glb-dor_Southern_Ocean_039_1...  False            0   \n",
       "smyle.cdr-atlas-v0.glb-dor_Southern_Ocean_039_1...  False            0   \n",
       "smyle.cdr-atlas-v0.glb-dor_Southern_Ocean_039_1...  False            0   \n",
       "smyle.cdr-atlas-v0.glb-dor_Southern_Ocean_039_1...  False            0   \n",
       "\n",
       "                                                         timestamp_run JobId  \\\n",
       "case                                                                           \n",
       "smyle.cdr-atlas-v0.control.001                     2024-11-04 23:44:49  None   \n",
       "smyle.cdr-atlas-v0.glb-dor_North_Atlantic_basin... 2024-11-05 03:13:08  None   \n",
       "smyle.cdr-atlas-v0.glb-dor_North_Atlantic_basin... 2024-11-05 03:12:00  None   \n",
       "smyle.cdr-atlas-v0.glb-dor_North_Atlantic_basin... 2024-11-04 20:27:38  None   \n",
       "smyle.cdr-atlas-v0.glb-dor_North_Atlantic_basin... 2024-11-04 21:37:34  None   \n",
       "...                                                                ...   ...   \n",
       "smyle.cdr-atlas-v0.glb-dor_Southern_Ocean_038_1... 2025-03-13 04:44:19  None   \n",
       "smyle.cdr-atlas-v0.glb-dor_Southern_Ocean_039_1... 2025-03-13 04:40:44  None   \n",
       "smyle.cdr-atlas-v0.glb-dor_Southern_Ocean_039_1... 2025-03-13 04:39:37  None   \n",
       "smyle.cdr-atlas-v0.glb-dor_Southern_Ocean_039_1... 2025-03-13 04:33:59  None   \n",
       "smyle.cdr-atlas-v0.glb-dor_Southern_Ocean_039_1... 2025-03-18 03:40:09  None   \n",
       "\n",
       "                                                   JobState  Queued  \\\n",
       "case                                                                  \n",
       "smyle.cdr-atlas-v0.control.001                         None   False   \n",
       "smyle.cdr-atlas-v0.glb-dor_North_Atlantic_basin...     None   False   \n",
       "smyle.cdr-atlas-v0.glb-dor_North_Atlantic_basin...     None   False   \n",
       "smyle.cdr-atlas-v0.glb-dor_North_Atlantic_basin...     None   False   \n",
       "smyle.cdr-atlas-v0.glb-dor_North_Atlantic_basin...     None   False   \n",
       "...                                                     ...     ...   \n",
       "smyle.cdr-atlas-v0.glb-dor_Southern_Ocean_038_1...     None   False   \n",
       "smyle.cdr-atlas-v0.glb-dor_Southern_Ocean_039_1...     None   False   \n",
       "smyle.cdr-atlas-v0.glb-dor_Southern_Ocean_039_1...     None   False   \n",
       "smyle.cdr-atlas-v0.glb-dor_Southern_Ocean_039_1...     None   False   \n",
       "smyle.cdr-atlas-v0.glb-dor_Southern_Ocean_039_1...     None   False   \n",
       "\n",
       "                                                    yr_per_day  pe-hr_per_yr  \n",
       "case                                                                          \n",
       "smyle.cdr-atlas-v0.control.001                           45.61        471.47  \n",
       "smyle.cdr-atlas-v0.glb-dor_North_Atlantic_basin...       58.82        365.62  \n",
       "smyle.cdr-atlas-v0.glb-dor_North_Atlantic_basin...       59.00        364.49  \n",
       "smyle.cdr-atlas-v0.glb-dor_North_Atlantic_basin...       58.89        365.17  \n",
       "smyle.cdr-atlas-v0.glb-dor_North_Atlantic_basin...       58.94        364.83  \n",
       "...                                                        ...           ...  \n",
       "smyle.cdr-atlas-v0.glb-dor_Southern_Ocean_038_1...       55.20        389.56  \n",
       "smyle.cdr-atlas-v0.glb-dor_Southern_Ocean_039_1...       55.71        385.98  \n",
       "smyle.cdr-atlas-v0.glb-dor_Southern_Ocean_039_1...       55.95        384.32  \n",
       "smyle.cdr-atlas-v0.glb-dor_Southern_Ocean_039_1...       56.92        377.78  \n",
       "smyle.cdr-atlas-v0.glb-dor_Southern_Ocean_039_1...       56.86        378.18  \n",
       "\n",
       "[2761 rows x 12 columns]"
      ]
     },
     "execution_count": 16,
     "metadata": {},
     "output_type": "execute_result"
    }
   ],
   "source": [
    "df = calc.df_case_status\n",
    "df"
   ]
  }
 ],
 "metadata": {
  "kernelspec": {
   "display_name": "cworthy",
   "language": "python",
   "name": "env"
  },
  "language_info": {
   "codemirror_mode": {
    "name": "ipython",
    "version": 3
   },
   "file_extension": ".py",
   "mimetype": "text/x-python",
   "name": "python",
   "nbconvert_exporter": "python",
   "pygments_lexer": "ipython3",
   "version": "3.12.5"
  }
 },
 "nbformat": 4,
 "nbformat_minor": 5
}
