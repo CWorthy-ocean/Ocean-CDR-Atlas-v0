{
 "cells": [
  {
   "cell_type": "code",
   "execution_count": null,
   "id": "3e0524c8-b2a5-443b-8040-adad6f7ed17d",
   "metadata": {},
   "outputs": [],
   "source": [
    "import xarray as xr"
   ]
  },
  {
   "cell_type": "code",
   "execution_count": null,
   "id": "11cfef51-369f-468d-aba1-e5e53a264bcd",
   "metadata": {},
   "outputs": [],
   "source": [
    "path = \"/pscratch/sd/a/abanihi/dor/cumulative_FG_CO2_percent.zarr\""
   ]
  },
  {
   "cell_type": "code",
   "execution_count": null,
   "id": "0a3cd08a-5c59-4428-b844-e7d8d81ecc8f",
   "metadata": {},
   "outputs": [],
   "source": [
    "ds = xr.open_dataset(path, engine='zarr', chunks={})\n",
    "ds"
   ]
  },
  {
   "cell_type": "code",
   "execution_count": null,
   "id": "15d23178-3547-4941-af6a-ea93c8543b44",
   "metadata": {},
   "outputs": [],
   "source": [
    "ds.FG_CO2_percent_cumulative.isel(polygon_id=400, intervention_month=0).plot(col='dist2center')"
   ]
  },
  {
   "cell_type": "code",
   "execution_count": null,
   "id": "254eedc8-aa40-4241-a8e2-41cef48202f8",
   "metadata": {},
   "outputs": [],
   "source": [
    "ds.FG_CO2_percent_cumulative.isel(polygon_id=600, intervention_month=0).plot(col='dist2center')"
   ]
  },
  {
   "cell_type": "code",
   "execution_count": null,
   "id": "269aeead-ab8e-4e1c-9b8a-109bcddae36b",
   "metadata": {},
   "outputs": [],
   "source": []
  }
 ],
 "metadata": {
  "kernelspec": {
   "display_name": "dor",
   "language": "python",
   "name": "dor"
  },
  "language_info": {
   "codemirror_mode": {
    "name": "ipython",
    "version": 3
   },
   "file_extension": ".py",
   "mimetype": "text/x-python",
   "name": "python",
   "nbconvert_exporter": "python",
   "pygments_lexer": "ipython3",
   "version": "3.12.9"
  }
 },
 "nbformat": 4,
 "nbformat_minor": 5
}
