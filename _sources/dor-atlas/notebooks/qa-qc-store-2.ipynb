{
 "cells": [
  {
   "cell_type": "code",
   "execution_count": 1,
   "id": "1f59fc12-794c-4a4f-97ac-5d4664378341",
   "metadata": {},
   "outputs": [],
   "source": [
    "import xarray as xr"
   ]
  },
  {
   "cell_type": "code",
   "execution_count": null,
   "id": "a85c1ce3-39cf-464c-899d-a25c2bc1feb1",
   "metadata": {},
   "outputs": [],
   "source": [
    "path = \"/pscratch/sd/a/abanihi/test/store2.zarr\"\n",
    "path = \"s3://carbonplan-dor-efficiency/v2/store2.zarr/\"\n",
    "dt = xr.open_datatree(path, engine='zarr', chunks={})\n",
    "dt"
   ]
  },
  {
   "cell_type": "code",
   "execution_count": null,
   "id": "109b6707-a08b-44fc-9d40-b15e4176a38e",
   "metadata": {},
   "outputs": [],
   "source": [
    "dt['0'].ds.isel(band=1, month=2, polygon_id=0, injection_date=2).DIC.plot(col='year', robust=True, col_wrap=5)"
   ]
  },
  {
   "cell_type": "code",
   "execution_count": null,
   "id": "0d60c489-2089-45bb-9574-e2aa3a85c822",
   "metadata": {},
   "outputs": [],
   "source": [
    "dt['0'].isel(polygon_id=slice(0, 689), month=11, year=14, injection_date=0, band=0).DIC.plot(col='polygon_id', col_wrap=10, robust=True);"
   ]
  },
  {
   "cell_type": "code",
   "execution_count": null,
   "id": "2f5019b0-b48b-4e07-81bc-d6afbc2fd2fe",
   "metadata": {},
   "outputs": [],
   "source": []
  },
  {
   "cell_type": "code",
   "execution_count": null,
   "id": "75432735-2389-4e48-9628-e307c3511c7e",
   "metadata": {},
   "outputs": [],
   "source": []
  }
 ],
 "metadata": {
  "kernelspec": {
   "display_name": "dor",
   "language": "python",
   "name": "dor"
  },
  "language_info": {
   "codemirror_mode": {
    "name": "ipython",
    "version": 3
   },
   "file_extension": ".py",
   "mimetype": "text/x-python",
   "name": "python",
   "nbconvert_exporter": "python",
   "pygments_lexer": "ipython3",
   "version": "3.12.9"
  }
 },
 "nbformat": 4,
 "nbformat_minor": 5
}
