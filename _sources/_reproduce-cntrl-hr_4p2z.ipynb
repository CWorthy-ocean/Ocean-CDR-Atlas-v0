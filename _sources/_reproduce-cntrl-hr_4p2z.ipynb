{
 "cells": [
  {
   "cell_type": "markdown",
   "id": "be64a305-fee9-407d-81d2-cad4157c3525",
   "metadata": {},
   "source": [
    "# Demonstrate Reproducible Control Integration"
   ]
  },
  {
   "cell_type": "code",
   "execution_count": 1,
   "id": "0887fc8c-1299-4678-87ec-b4ac26d9d30e",
   "metadata": {
    "tags": []
   },
   "outputs": [],
   "source": [
    "%load_ext autoreload\n",
    "%autoreload 2"
   ]
  },
  {
   "cell_type": "code",
   "execution_count": 8,
   "id": "bcf0b6bb-08bf-43fa-bdcb-e13ffb526e5a",
   "metadata": {
    "tags": []
   },
   "outputs": [],
   "source": [
    "import cesm\n",
    "import config\n",
    "import atlas"
   ]
  },
  {
   "cell_type": "code",
   "execution_count": 4,
   "id": "c94e52d4-d5ed-48bb-b42f-13bd4e06efd8",
   "metadata": {
    "tags": []
   },
   "outputs": [
    {
     "data": {
      "text/plain": [
       "'hr_4p2z.cdr-atlas-v0.control.001'"
      ]
     },
     "execution_count": 4,
     "metadata": {},
     "output_type": "execute_result"
    }
   ],
   "source": [
    "blueprint = \"hr_4p2z\"\n",
    "project = config.project_sname\n",
    "simulation_name = \"control\"\n",
    "vintage = \"001\"\n",
    "\n",
    "case = f\"{blueprint}.{project}.{simulation_name}.{vintage}\"\n",
    "case"
   ]
  },
  {
   "cell_type": "code",
   "execution_count": 5,
   "id": "e6ee8e48-f0db-4fe2-ab5a-a322bdf9ea91",
   "metadata": {},
   "outputs": [
    {
     "name": "stdout",
     "output_type": "stream",
     "text": [
      "Compset longname is 1850_DATM%JRA-1p4-2018_SLND_CICE%CICE4_POP2%ECO_DROF%JRA-1p4-2018_SGLC_SWAV\n",
      "Compset specification file is /global/cfs/cdirs/m4746/Projects/Ocean-CDR-Atlas-v0/codes/cesm2.2.0/components/pop//cime_config/config_compsets.xml\n",
      "Automatically adding SIAC to compset\n",
      "Automatically adding SESP to compset\n"
     ]
    },
    {
     "name": "stderr",
     "output_type": "stream",
     "text": [
      "Warning: missing non-idmap ROF2OCN_FMAPNAME for rof_grid, JRA025v2 and ocn_grid tx0.1v3 \n"
     ]
    },
    {
     "name": "stdout",
     "output_type": "stream",
     "text": [
      "Compset forcing is 1850\n",
      "ATM component is  Data driven ATM interannual JRA55 forcing, v1.4, through 2018\n",
      "LND component is Stub land component\n",
      "ICE component is Sea ICE (cice) model version 5 :running with cice4 physics\n",
      "OCN component is POP2 Ecosystem\n",
      "ROF component is Data runoff modelJRA55 interannual forcing, v1.4, through 2018\n",
      "GLC component is Stub glacier (land ice) component\n",
      "WAV component is Stub wave component\n",
      "IAC component is Stub iac component\n",
      "ESP component is Stub external system processing (ESP) component\n",
      "Pes     specification file is /global/cfs/cdirs/m4746/Projects/Ocean-CDR-Atlas-v0/codes/cesm2.2.0/components/pop//cime_config/config_pes.xml\n",
      "Machine is perlmutter\n",
      "Pes setting: grid match    is oi%tx0.1v3 \n",
      "Pes setting: compset_match is _DATM.*_CICE.*_POP2 \n",
      "Pes setting: grid          is a%TL319_l%null_oi%tx0.1v3_r%JRA025v2_g%null_w%null_z%null_m%tx0.1v3 \n",
      "Pes setting: compset       is 1850_DATM%JRA-1p4-2018_SLND_CICE%CICE4_POP2%ECO_DROF%JRA-1p4-2018_SGLC_SWAV_SIAC_SESP \n",
      "Pes setting: tasks       is {'NTASKS_ATM': 48, 'NTASKS_LND': 48, 'NTASKS_ROF': 48, 'NTASKS_ICE': 828, 'NTASKS_OCN': 2208, 'NTASKS_GLC': 48, 'NTASKS_WAV': 48, 'NTASKS_CPL': 828} \n",
      "Pes setting: threads     is {'NTHRDS_ATM': 1, 'NTHRDS_LND': 1, 'NTHRDS_ROF': 1, 'NTHRDS_ICE': 1, 'NTHRDS_OCN': 1, 'NTHRDS_GLC': 1, 'NTHRDS_WAV': 1, 'NTHRDS_CPL': 1} \n",
      "Pes setting: rootpe      is {'ROOTPE_ATM': 0, 'ROOTPE_LND': 0, 'ROOTPE_ROF': 0, 'ROOTPE_ICE': 0, 'ROOTPE_OCN': 828, 'ROOTPE_GLC': 0, 'ROOTPE_WAV': 0, 'ROOTPE_CPL': 0} \n",
      "Pes setting: pstrid      is {} \n",
      "Pes other settings: {}\n",
      "Pes comments: none\n"
     ]
    },
    {
     "name": "stderr",
     "output_type": "stream",
     "text": [
      "Could not find machine match for 'login04.chn' or 'login04'\n"
     ]
    },
    {
     "name": "stdout",
     "output_type": "stream",
     "text": [
      " Compset is: 1850_DATM%JRA-1p4-2018_SLND_CICE%CICE4_POP2%ECO_DROF%JRA-1p4-2018_SGLC_SWAV_SIAC_SESP \n",
      " Grid is: a%TL319_l%null_oi%tx0.1v3_r%JRA025v2_g%null_w%null_z%null_m%tx0.1v3 \n",
      " Components in compset are: ['datm', 'slnd', 'cice', 'pop', 'drof', 'sglc', 'swav', 'siac', 'sesp'] \n",
      "No charge_account info available, using value from PROJECT\n",
      "cesm model version found: v1.0.0-7-gbc105d4\n",
      "Batch_system_type is slurm\n",
      "job is case.run USER_REQUESTED_WALLTIME 48:00:00 USER_REQUESTED_QUEUE premium WALLTIME_FORMAT %H:%M:%S\n",
      "job is case.st_archive USER_REQUESTED_WALLTIME None USER_REQUESTED_QUEUE None WALLTIME_FORMAT %H:%M:%S\n",
      " Creating Case directory /global/cfs/projectdirs/m4746/Projects/Ocean-CDR-Atlas-v0/cases/hr_4p2z.cdr-atlas-v0.control.001\n",
      "copying /global/cfs/projectdirs/m4746/Projects/Ocean-CDR-Atlas-v0/cases/hr_4p2z.cdr-atlas-v0.control.001/env_case.xml -> /global/cfs/projectdirs/m4746/Projects/Ocean-CDR-Atlas-v0/cases/hr_4p2z.cdr-atlas-v0.control.001/LockedFiles\n",
      "Setting Environment MPICH_ENV_DISPLAY=1\n",
      "Setting Environment MPICH_VERSION_DISPLAY=1\n",
      "Setting Environment OMP_STACKSIZE=128M\n",
      "Setting Environment OMP_PROC_BIND=spread\n",
      "Setting Environment OMP_PLACES=threads\n",
      "Setting Environment HDF5_USE_FILE_LOCKING=FALSE\n",
      "Setting Environment PERL5LIB=/global/cfs/cdirs/e3sm/perl/lib/perl5-only-switch\n",
      "Setting Environment FI_CXI_RX_MATCH_MODE=software\n",
      "Setting Environment MPICH_COLL_SYNC=MPI_Bcast\n",
      "Setting Environment NETCDF_PATH=/opt/cray/pe/netcdf/4.9.0.13/intel/2023.2\n",
      "Setting Environment PNETCDF_PATH=/opt/cray/pe/parallel-netcdf/1.12.3.13/intel/2023.2\n",
      "Setting resource.RLIMIT_STACK to -1 from (8388608, -1)\n",
      "copying /global/cfs/cdirs/m4746/Projects/Ocean-CDR-Atlas-v0/codes/cesm2.2.0/cime/config/cesm/machines/Depends.intel -> /global/cfs/projectdirs/m4746/Projects/Ocean-CDR-Atlas-v0/cases/hr_4p2z.cdr-atlas-v0.control.001\n"
     ]
    },
    {
     "name": "stderr",
     "output_type": "stream",
     "text": [
      "/global/cfs/projectdirs/m4746/Projects/Ocean-CDR-Atlas-v0/cases/hr_4p2z.cdr-atlas-v0.control.001/env_mach_specific.xml already exists, delete to replace\n",
      "/global/cfs/projectdirs/m4746/Projects/Ocean-CDR-Atlas-v0/cases/hr_4p2z.cdr-atlas-v0.control.001/env_mach_specific.xml already exists, delete to replace\n"
     ]
    },
    {
     "name": "stdout",
     "output_type": "stream",
     "text": [
      "job is case.run USER_REQUESTED_WALLTIME 48:00:00 USER_REQUESTED_QUEUE premium WALLTIME_FORMAT %H:%M:%S\n",
      "Creating batch scripts\n",
      "Writing case.run script from input template /global/cfs/cdirs/m4746/Projects/Ocean-CDR-Atlas-v0/codes/cesm2.2.0/cime/config/cesm/machines/template.case.run\n",
      "Creating file .case.run\n",
      "Writing case.st_archive script from input template /global/cfs/cdirs/m4746/Projects/Ocean-CDR-Atlas-v0/codes/cesm2.2.0/cime/config/cesm/machines/template.st_archive\n",
      "Creating file case.st_archive\n",
      "copying /global/cfs/cdirs/m4746/Projects/Ocean-CDR-Atlas-v0/cases/hr_4p2z.cdr-atlas-v0.control.001/env_mach_pes.xml -> /global/cfs/cdirs/m4746/Projects/Ocean-CDR-Atlas-v0/cases/hr_4p2z.cdr-atlas-v0.control.001/LockedFiles\n",
      "copying /global/cfs/cdirs/m4746/Projects/Ocean-CDR-Atlas-v0/cases/hr_4p2z.cdr-atlas-v0.control.001/env_batch.xml -> /global/cfs/cdirs/m4746/Projects/Ocean-CDR-Atlas-v0/cases/hr_4p2z.cdr-atlas-v0.control.001/LockedFiles\n",
      "Creating user_nl_xxx files for components and cpl\n",
      "copying /global/cfs/cdirs/m4746/Projects/Ocean-CDR-Atlas-v0/codes/cesm2.2.0/cime/src/drivers/mct/cime_config/user_nl_cpl -> .\n",
      "copying /global/cfs/cdirs/m4746/Projects/Ocean-CDR-Atlas-v0/codes/cesm2.2.0/cime/src/components/data_comps_mct/datm/cime_config/user_nl_datm -> \n",
      "copying /global/cfs/cdirs/m4746/Projects/Ocean-CDR-Atlas-v0/codes/cesm2.2.0/components/cice//cime_config/user_nl_cice -> \n",
      "copying /global/cfs/cdirs/m4746/Projects/Ocean-CDR-Atlas-v0/codes/cesm2.2.0/components/pop//cime_config/user_nl_pop -> \n",
      "copying /global/cfs/cdirs/m4746/Projects/Ocean-CDR-Atlas-v0/codes/cesm2.2.0/cime/src/components/data_comps_mct/drof/cime_config/user_nl_drof -> \n",
      "If an old case build already exists, might want to run 'case.build --clean' before building\n",
      "You can now run './preview_run' to get more info on how your case will be run\n",
      "/global/u2/m/mattlong/codes/Ocean-CDR-Atlas-v0/workflows/input/cesm2.2.0/cases/g.e22.TL319_t13.G1850ECOIAF_JRA_HR.4p2z.001/user_nl_drof -> /global/cfs/projectdirs/m4746/Projects/Ocean-CDR-Atlas-v0/cases/hr_4p2z.cdr-atlas-v0.control.001/user_nl_drof\n",
      "/global/u2/m/mattlong/codes/Ocean-CDR-Atlas-v0/workflows/input/cesm2.2.0/cases/g.e22.TL319_t13.G1850ECOIAF_JRA_HR.4p2z.001/user_nl_pop -> /global/cfs/projectdirs/m4746/Projects/Ocean-CDR-Atlas-v0/cases/hr_4p2z.cdr-atlas-v0.control.001/user_nl_pop\n",
      "/global/u2/m/mattlong/codes/Ocean-CDR-Atlas-v0/workflows/input/cesm2.2.0/cases/g.e22.TL319_t13.G1850ECOIAF_JRA_HR.4p2z.001/user_nl_datm -> /global/cfs/projectdirs/m4746/Projects/Ocean-CDR-Atlas-v0/cases/hr_4p2z.cdr-atlas-v0.control.001/user_nl_datm\n",
      "/global/u2/m/mattlong/codes/Ocean-CDR-Atlas-v0/workflows/input/cesm2.2.0/cases/g.e22.TL319_t13.G1850ECOIAF_JRA_HR.4p2z.001/user_nl_cice -> /global/cfs/projectdirs/m4746/Projects/Ocean-CDR-Atlas-v0/cases/hr_4p2z.cdr-atlas-v0.control.001/user_nl_cice\n",
      "/global/u2/m/mattlong/codes/Ocean-CDR-Atlas-v0/workflows/input/cesm2.2.0/cases/g.e22.TL319_t13.G1850ECOIAF_JRA_HR.4p2z.001/user_nl_marbl -> /global/cfs/projectdirs/m4746/Projects/Ocean-CDR-Atlas-v0/cases/hr_4p2z.cdr-atlas-v0.control.001/user_nl_marbl\n",
      "/global/u2/m/mattlong/codes/Ocean-CDR-Atlas-v0/workflows/input/cesm2.2.0/cases/g.e22.TL319_t13.G1850ECOIAF_JRA_HR.4p2z.001/user_datm.streams.txt.CORE_IAF_JRA.GISS.LWDN -> /global/cfs/projectdirs/m4746/Projects/Ocean-CDR-Atlas-v0/cases/hr_4p2z.cdr-atlas-v0.control.001/user_datm.streams.txt.CORE_IAF_JRA.GISS.LWDN\n",
      "/global/u2/m/mattlong/codes/Ocean-CDR-Atlas-v0/workflows/input/cesm2.2.0/cases/g.e22.TL319_t13.G1850ECOIAF_JRA_HR.4p2z.001/user_datm.streams.txt.CORE_IAF_JRA.NCEP.T_10 -> /global/cfs/projectdirs/m4746/Projects/Ocean-CDR-Atlas-v0/cases/hr_4p2z.cdr-atlas-v0.control.001/user_datm.streams.txt.CORE_IAF_JRA.NCEP.T_10\n",
      "/global/u2/m/mattlong/codes/Ocean-CDR-Atlas-v0/workflows/input/cesm2.2.0/cases/g.e22.TL319_t13.G1850ECOIAF_JRA_HR.4p2z.001/user_datm.streams.txt.CORE_IAF_JRA.GCGCS.PREC -> /global/cfs/projectdirs/m4746/Projects/Ocean-CDR-Atlas-v0/cases/hr_4p2z.cdr-atlas-v0.control.001/user_datm.streams.txt.CORE_IAF_JRA.GCGCS.PREC\n",
      "/global/u2/m/mattlong/codes/Ocean-CDR-Atlas-v0/workflows/input/cesm2.2.0/cases/g.e22.TL319_t13.G1850ECOIAF_JRA_HR.4p2z.001/user_datm.streams.txt.CORE_IAF_JRA.NCEP.V_10 -> /global/cfs/projectdirs/m4746/Projects/Ocean-CDR-Atlas-v0/cases/hr_4p2z.cdr-atlas-v0.control.001/user_datm.streams.txt.CORE_IAF_JRA.NCEP.V_10\n",
      "/global/u2/m/mattlong/codes/Ocean-CDR-Atlas-v0/workflows/input/cesm2.2.0/cases/g.e22.TL319_t13.G1850ECOIAF_JRA_HR.4p2z.001/user_datm.streams.txt.co2tseries.omip -> /global/cfs/projectdirs/m4746/Projects/Ocean-CDR-Atlas-v0/cases/hr_4p2z.cdr-atlas-v0.control.001/user_datm.streams.txt.co2tseries.omip\n",
      "/global/u2/m/mattlong/codes/Ocean-CDR-Atlas-v0/workflows/input/cesm2.2.0/cases/g.e22.TL319_t13.G1850ECOIAF_JRA_HR.4p2z.001/user_datm.streams.txt.CORE_IAF_JRA.NCEP.SLP_ -> /global/cfs/projectdirs/m4746/Projects/Ocean-CDR-Atlas-v0/cases/hr_4p2z.cdr-atlas-v0.control.001/user_datm.streams.txt.CORE_IAF_JRA.NCEP.SLP_\n",
      "/global/u2/m/mattlong/codes/Ocean-CDR-Atlas-v0/workflows/input/cesm2.2.0/cases/g.e22.TL319_t13.G1850ECOIAF_JRA_HR.4p2z.001/user_datm.streams.txt.CORE_IAF_JRA.GISS.SWDN -> /global/cfs/projectdirs/m4746/Projects/Ocean-CDR-Atlas-v0/cases/hr_4p2z.cdr-atlas-v0.control.001/user_datm.streams.txt.CORE_IAF_JRA.GISS.SWDN\n",
      "/global/u2/m/mattlong/codes/Ocean-CDR-Atlas-v0/workflows/input/cesm2.2.0/cases/g.e22.TL319_t13.G1850ECOIAF_JRA_HR.4p2z.001/user_datm.streams.txt.CORE_IAF_JRA.NCEP.Q_10 -> /global/cfs/projectdirs/m4746/Projects/Ocean-CDR-Atlas-v0/cases/hr_4p2z.cdr-atlas-v0.control.001/user_datm.streams.txt.CORE_IAF_JRA.NCEP.Q_10\n",
      "/global/u2/m/mattlong/codes/Ocean-CDR-Atlas-v0/workflows/input/cesm2.2.0/cases/g.e22.TL319_t13.G1850ECOIAF_JRA_HR.4p2z.001/user_datm.streams.txt.presaero.clim_1850 -> /global/cfs/projectdirs/m4746/Projects/Ocean-CDR-Atlas-v0/cases/hr_4p2z.cdr-atlas-v0.control.001/user_datm.streams.txt.presaero.clim_1850\n",
      "/global/u2/m/mattlong/codes/Ocean-CDR-Atlas-v0/workflows/input/cesm2.2.0/cases/g.e22.TL319_t13.G1850ECOIAF_JRA_HR.4p2z.001/user_datm.streams.txt.CORE_IAF_JRA.NCEP.U_10 -> /global/cfs/projectdirs/m4746/Projects/Ocean-CDR-Atlas-v0/cases/hr_4p2z.cdr-atlas-v0.control.001/user_datm.streams.txt.CORE_IAF_JRA.NCEP.U_10\n",
      "'/global/cfs/projectdirs/m4746/Datasets/HR_4p2z/rest/1999-01-01-00000/g.e22.TL319_t13.G1850ECOIAF_JRA_HR.4p2z.001.cice.r.1999-01-01-00000.nc' -> '/pscratch/sd/m/mattlong/Ocean-CDR-Atlas-v0/hr_4p2z.cdr-atlas-v0.control.001/run/./g.e22.TL319_t13.G1850ECOIAF_JRA_HR.4p2z.001.cice.r.1999-01-01-00000.nc'\n",
      "'/global/cfs/projectdirs/m4746/Datasets/HR_4p2z/rest/1999-01-01-00000/g.e22.TL319_t13.G1850ECOIAF_JRA_HR.4p2z.001.cpl.r.1999-01-01-00000.nc' -> '/pscratch/sd/m/mattlong/Ocean-CDR-Atlas-v0/hr_4p2z.cdr-atlas-v0.control.001/run/./g.e22.TL319_t13.G1850ECOIAF_JRA_HR.4p2z.001.cpl.r.1999-01-01-00000.nc'\n",
      "'/global/cfs/projectdirs/m4746/Datasets/HR_4p2z/rest/1999-01-01-00000/g.e22.TL319_t13.G1850ECOIAF_JRA_HR.4p2z.001.pop.r.1999-01-01-00000.nc' -> '/pscratch/sd/m/mattlong/Ocean-CDR-Atlas-v0/hr_4p2z.cdr-atlas-v0.control.001/run/./g.e22.TL319_t13.G1850ECOIAF_JRA_HR.4p2z.001.pop.r.1999-01-01-00000.nc'\n",
      "'/global/cfs/projectdirs/m4746/Datasets/HR_4p2z/rest/1999-01-01-00000/rpointer.atm' -> '/pscratch/sd/m/mattlong/Ocean-CDR-Atlas-v0/hr_4p2z.cdr-atlas-v0.control.001/run/./rpointer.atm'\n",
      "'/global/cfs/projectdirs/m4746/Datasets/HR_4p2z/rest/1999-01-01-00000/rpointer.drv' -> '/pscratch/sd/m/mattlong/Ocean-CDR-Atlas-v0/hr_4p2z.cdr-atlas-v0.control.001/run/./rpointer.drv'\n",
      "'/global/cfs/projectdirs/m4746/Datasets/HR_4p2z/rest/1999-01-01-00000/rpointer.ice' -> '/pscratch/sd/m/mattlong/Ocean-CDR-Atlas-v0/hr_4p2z.cdr-atlas-v0.control.001/run/./rpointer.ice'\n",
      "'/global/cfs/projectdirs/m4746/Datasets/HR_4p2z/rest/1999-01-01-00000/rpointer.ocn.ovf' -> '/pscratch/sd/m/mattlong/Ocean-CDR-Atlas-v0/hr_4p2z.cdr-atlas-v0.control.001/run/./rpointer.ocn.ovf'\n",
      "'/global/cfs/projectdirs/m4746/Datasets/HR_4p2z/rest/1999-01-01-00000/rpointer.ocn.restart' -> '/pscratch/sd/m/mattlong/Ocean-CDR-Atlas-v0/hr_4p2z.cdr-atlas-v0.control.001/run/./rpointer.ocn.restart'\n",
      "'/global/cfs/projectdirs/m4746/Datasets/HR_4p2z/rest/1999-01-01-00000/rpointer.ocn.tavg' -> '/pscratch/sd/m/mattlong/Ocean-CDR-Atlas-v0/hr_4p2z.cdr-atlas-v0.control.001/run/./rpointer.ocn.tavg'\n",
      "'/global/cfs/projectdirs/m4746/Datasets/HR_4p2z/rest/1999-01-01-00000/rpointer.rof' -> '/pscratch/sd/m/mattlong/Ocean-CDR-Atlas-v0/hr_4p2z.cdr-atlas-v0.control.001/run/./rpointer.rof'\n",
      "Building case in directory /global/cfs/cdirs/m4746/Projects/Ocean-CDR-Atlas-v0/cases/hr_4p2z.cdr-atlas-v0.control.001\n",
      "sharedlib_only is False\n",
      "model_only is False\n",
      "Setting Environment MPICH_ENV_DISPLAY=1\n",
      "Setting Environment MPICH_VERSION_DISPLAY=1\n",
      "Setting Environment OMP_STACKSIZE=128M\n",
      "Setting Environment OMP_PROC_BIND=spread\n",
      "Setting Environment OMP_PLACES=threads\n",
      "Setting Environment HDF5_USE_FILE_LOCKING=FALSE\n",
      "Setting Environment PERL5LIB=/global/cfs/cdirs/e3sm/perl/lib/perl5-only-switch\n",
      "Setting Environment FI_CXI_RX_MATCH_MODE=software\n",
      "Setting Environment MPICH_COLL_SYNC=MPI_Bcast\n",
      "Setting Environment NETCDF_PATH=/opt/cray/pe/netcdf/4.9.0.13/intel/2023.2\n",
      "Setting Environment PNETCDF_PATH=/opt/cray/pe/parallel-netcdf/1.12.3.13/intel/2023.2\n",
      "Setting resource.RLIMIT_STACK to -1 from (8388608, -1)\n",
      "Generating component namelists as part of build\n",
      "GET_REFCASE is false, the user is expected to stage the refcase to the run directory.\n",
      "Creating component namelists\n",
      "  2025-06-02 16:19:36 atm \n",
      "   Calling /global/cfs/cdirs/m4746/Projects/Ocean-CDR-Atlas-v0/codes/cesm2.2.0/cime/src/components/data_comps_mct/datm/cime_config/buildnml\n",
      "copying /global/cfs/projectdirs/m4746/Projects/Ocean-CDR-Atlas-v0/cases/hr_4p2z.cdr-atlas-v0.control.001/user_datm.streams.txt.CORE_IAF_JRA.GCGCS.PREC -> /global/cfs/projectdirs/m4746/Projects/Ocean-CDR-Atlas-v0/cases/hr_4p2z.cdr-atlas-v0.control.001/Buildconf/datmconf/datm.streams.txt.CORE_IAF_JRA.GCGCS.PREC\n",
      "copying /global/cfs/projectdirs/m4746/Projects/Ocean-CDR-Atlas-v0/cases/hr_4p2z.cdr-atlas-v0.control.001/user_datm.streams.txt.CORE_IAF_JRA.GISS.LWDN -> /global/cfs/projectdirs/m4746/Projects/Ocean-CDR-Atlas-v0/cases/hr_4p2z.cdr-atlas-v0.control.001/Buildconf/datmconf/datm.streams.txt.CORE_IAF_JRA.GISS.LWDN\n",
      "copying /global/cfs/projectdirs/m4746/Projects/Ocean-CDR-Atlas-v0/cases/hr_4p2z.cdr-atlas-v0.control.001/user_datm.streams.txt.CORE_IAF_JRA.GISS.SWDN -> /global/cfs/projectdirs/m4746/Projects/Ocean-CDR-Atlas-v0/cases/hr_4p2z.cdr-atlas-v0.control.001/Buildconf/datmconf/datm.streams.txt.CORE_IAF_JRA.GISS.SWDN\n",
      "copying /global/cfs/projectdirs/m4746/Projects/Ocean-CDR-Atlas-v0/cases/hr_4p2z.cdr-atlas-v0.control.001/user_datm.streams.txt.CORE_IAF_JRA.NCEP.Q_10 -> /global/cfs/projectdirs/m4746/Projects/Ocean-CDR-Atlas-v0/cases/hr_4p2z.cdr-atlas-v0.control.001/Buildconf/datmconf/datm.streams.txt.CORE_IAF_JRA.NCEP.Q_10\n",
      "copying /global/cfs/projectdirs/m4746/Projects/Ocean-CDR-Atlas-v0/cases/hr_4p2z.cdr-atlas-v0.control.001/user_datm.streams.txt.CORE_IAF_JRA.NCEP.SLP_ -> /global/cfs/projectdirs/m4746/Projects/Ocean-CDR-Atlas-v0/cases/hr_4p2z.cdr-atlas-v0.control.001/Buildconf/datmconf/datm.streams.txt.CORE_IAF_JRA.NCEP.SLP_\n",
      "copying /global/cfs/projectdirs/m4746/Projects/Ocean-CDR-Atlas-v0/cases/hr_4p2z.cdr-atlas-v0.control.001/user_datm.streams.txt.CORE_IAF_JRA.NCEP.T_10 -> /global/cfs/projectdirs/m4746/Projects/Ocean-CDR-Atlas-v0/cases/hr_4p2z.cdr-atlas-v0.control.001/Buildconf/datmconf/datm.streams.txt.CORE_IAF_JRA.NCEP.T_10\n",
      "copying /global/cfs/projectdirs/m4746/Projects/Ocean-CDR-Atlas-v0/cases/hr_4p2z.cdr-atlas-v0.control.001/user_datm.streams.txt.CORE_IAF_JRA.NCEP.U_10 -> /global/cfs/projectdirs/m4746/Projects/Ocean-CDR-Atlas-v0/cases/hr_4p2z.cdr-atlas-v0.control.001/Buildconf/datmconf/datm.streams.txt.CORE_IAF_JRA.NCEP.U_10\n",
      "copying /global/cfs/projectdirs/m4746/Projects/Ocean-CDR-Atlas-v0/cases/hr_4p2z.cdr-atlas-v0.control.001/user_datm.streams.txt.CORE_IAF_JRA.NCEP.V_10 -> /global/cfs/projectdirs/m4746/Projects/Ocean-CDR-Atlas-v0/cases/hr_4p2z.cdr-atlas-v0.control.001/Buildconf/datmconf/datm.streams.txt.CORE_IAF_JRA.NCEP.V_10\n",
      "copying /global/cfs/projectdirs/m4746/Projects/Ocean-CDR-Atlas-v0/cases/hr_4p2z.cdr-atlas-v0.control.001/user_datm.streams.txt.presaero.clim_1850 -> /global/cfs/projectdirs/m4746/Projects/Ocean-CDR-Atlas-v0/cases/hr_4p2z.cdr-atlas-v0.control.001/Buildconf/datmconf/datm.streams.txt.presaero.clim_1850\n",
      "copying /global/cfs/projectdirs/m4746/Projects/Ocean-CDR-Atlas-v0/cases/hr_4p2z.cdr-atlas-v0.control.001/user_datm.streams.txt.co2tseries.omip -> /global/cfs/projectdirs/m4746/Projects/Ocean-CDR-Atlas-v0/cases/hr_4p2z.cdr-atlas-v0.control.001/Buildconf/datmconf/datm.streams.txt.co2tseries.omip\n",
      "copying /global/cfs/projectdirs/m4746/Projects/Ocean-CDR-Atlas-v0/cases/hr_4p2z.cdr-atlas-v0.control.001/Buildconf/datmconf/datm_in -> /pscratch/sd/m/mattlong/Ocean-CDR-Atlas-v0/hr_4p2z.cdr-atlas-v0.control.001/run\n",
      "copying /global/cfs/projectdirs/m4746/Projects/Ocean-CDR-Atlas-v0/cases/hr_4p2z.cdr-atlas-v0.control.001/Buildconf/datmconf/datm.streams.txt.CORE_IAF_JRA.NCEP.Q_10 -> /pscratch/sd/m/mattlong/Ocean-CDR-Atlas-v0/hr_4p2z.cdr-atlas-v0.control.001/run\n",
      "copying /global/cfs/projectdirs/m4746/Projects/Ocean-CDR-Atlas-v0/cases/hr_4p2z.cdr-atlas-v0.control.001/Buildconf/datmconf/datm.streams.txt.CORE_IAF_JRA.GCGCS.PREC -> /pscratch/sd/m/mattlong/Ocean-CDR-Atlas-v0/hr_4p2z.cdr-atlas-v0.control.001/run\n",
      "copying /global/cfs/projectdirs/m4746/Projects/Ocean-CDR-Atlas-v0/cases/hr_4p2z.cdr-atlas-v0.control.001/Buildconf/datmconf/datm.streams.txt.CORE_IAF_JRA.NCEP.T_10 -> /pscratch/sd/m/mattlong/Ocean-CDR-Atlas-v0/hr_4p2z.cdr-atlas-v0.control.001/run\n",
      "copying /global/cfs/projectdirs/m4746/Projects/Ocean-CDR-Atlas-v0/cases/hr_4p2z.cdr-atlas-v0.control.001/Buildconf/datmconf/datm.streams.txt.CORE_IAF_JRA.NCEP.SLP_ -> /pscratch/sd/m/mattlong/Ocean-CDR-Atlas-v0/hr_4p2z.cdr-atlas-v0.control.001/run\n",
      "copying /global/cfs/projectdirs/m4746/Projects/Ocean-CDR-Atlas-v0/cases/hr_4p2z.cdr-atlas-v0.control.001/Buildconf/datmconf/datm.streams.txt.CORE_IAF_JRA.NCEP.U_10 -> /pscratch/sd/m/mattlong/Ocean-CDR-Atlas-v0/hr_4p2z.cdr-atlas-v0.control.001/run\n",
      "copying /global/cfs/projectdirs/m4746/Projects/Ocean-CDR-Atlas-v0/cases/hr_4p2z.cdr-atlas-v0.control.001/Buildconf/datmconf/datm.streams.txt.CORE_IAF_JRA.GISS.LWDN -> /pscratch/sd/m/mattlong/Ocean-CDR-Atlas-v0/hr_4p2z.cdr-atlas-v0.control.001/run\n",
      "copying /global/cfs/projectdirs/m4746/Projects/Ocean-CDR-Atlas-v0/cases/hr_4p2z.cdr-atlas-v0.control.001/Buildconf/datmconf/datm.streams.txt.co2tseries.omip -> /pscratch/sd/m/mattlong/Ocean-CDR-Atlas-v0/hr_4p2z.cdr-atlas-v0.control.001/run\n",
      "copying /global/cfs/projectdirs/m4746/Projects/Ocean-CDR-Atlas-v0/cases/hr_4p2z.cdr-atlas-v0.control.001/Buildconf/datmconf/datm.streams.txt.CORE_IAF_JRA.GISS.SWDN -> /pscratch/sd/m/mattlong/Ocean-CDR-Atlas-v0/hr_4p2z.cdr-atlas-v0.control.001/run\n",
      "copying /global/cfs/projectdirs/m4746/Projects/Ocean-CDR-Atlas-v0/cases/hr_4p2z.cdr-atlas-v0.control.001/Buildconf/datmconf/datm.streams.txt.presaero.clim_1850 -> /pscratch/sd/m/mattlong/Ocean-CDR-Atlas-v0/hr_4p2z.cdr-atlas-v0.control.001/run\n",
      "copying /global/cfs/projectdirs/m4746/Projects/Ocean-CDR-Atlas-v0/cases/hr_4p2z.cdr-atlas-v0.control.001/Buildconf/datmconf/datm.streams.txt.CORE_IAF_JRA.NCEP.V_10 -> /pscratch/sd/m/mattlong/Ocean-CDR-Atlas-v0/hr_4p2z.cdr-atlas-v0.control.001/run\n",
      "  2025-06-02 16:19:36 lnd \n",
      "   Calling /global/cfs/cdirs/m4746/Projects/Ocean-CDR-Atlas-v0/codes/cesm2.2.0/cime/src/components/stub_comps_mct/slnd/cime_config/buildnml\n",
      "  2025-06-02 16:19:37 ice \n",
      "   Calling /global/cfs/cdirs/m4746/Projects/Ocean-CDR-Atlas-v0/codes/cesm2.2.0/components/cice//cime_config/buildnml\n",
      "     ...buildnml calling cice buildcpp to set build time options\n",
      "  2025-06-02 16:19:37 ocn \n",
      "   Calling /global/cfs/cdirs/m4746/Projects/Ocean-CDR-Atlas-v0/codes/cesm2.2.0/components/pop//cime_config/buildnml\n",
      "     ... buildnml: calling pop buildcpp to set build time options\n",
      "  2025-06-02 16:19:39 rof \n",
      "   Calling /global/cfs/cdirs/m4746/Projects/Ocean-CDR-Atlas-v0/codes/cesm2.2.0/cime/src/components/data_comps_mct/drof/cime_config/buildnml\n",
      "copying /global/cfs/projectdirs/m4746/Projects/Ocean-CDR-Atlas-v0/cases/hr_4p2z.cdr-atlas-v0.control.001/Buildconf/drofconf/drof_in -> /pscratch/sd/m/mattlong/Ocean-CDR-Atlas-v0/hr_4p2z.cdr-atlas-v0.control.001/run\n",
      "copying /global/cfs/projectdirs/m4746/Projects/Ocean-CDR-Atlas-v0/cases/hr_4p2z.cdr-atlas-v0.control.001/Buildconf/drofconf/drof.streams.txt.rof.iaf_jra -> /pscratch/sd/m/mattlong/Ocean-CDR-Atlas-v0/hr_4p2z.cdr-atlas-v0.control.001/run\n",
      "  2025-06-02 16:19:40 glc \n",
      "   Calling /global/cfs/cdirs/m4746/Projects/Ocean-CDR-Atlas-v0/codes/cesm2.2.0/cime/src/components/stub_comps_mct/sglc/cime_config/buildnml\n",
      "  2025-06-02 16:19:40 wav \n",
      "   Calling /global/cfs/cdirs/m4746/Projects/Ocean-CDR-Atlas-v0/codes/cesm2.2.0/cime/src/components/stub_comps_mct/swav/cime_config/buildnml\n",
      "  2025-06-02 16:19:40 iac \n",
      "   Running /global/cfs/cdirs/m4746/Projects/Ocean-CDR-Atlas-v0/codes/cesm2.2.0/cime/src/components/stub_comps_mct/siac/cime_config/buildnml \n",
      "  2025-06-02 16:19:40 esp \n",
      "   Calling /global/cfs/cdirs/m4746/Projects/Ocean-CDR-Atlas-v0/codes/cesm2.2.0/cime/src/components/stub_comps_mct/sesp/cime_config/buildnml\n",
      "  2025-06-02 16:19:40 cpl \n",
      "   Calling /global/cfs/cdirs/m4746/Projects/Ocean-CDR-Atlas-v0/codes/cesm2.2.0/cime/src/drivers/mct/cime_config/buildnml\n",
      "copying /global/cfs/projectdirs/m4746/Projects/Ocean-CDR-Atlas-v0/cases/hr_4p2z.cdr-atlas-v0.control.001/Buildconf/cplconf/drv_in -> /pscratch/sd/m/mattlong/Ocean-CDR-Atlas-v0/hr_4p2z.cdr-atlas-v0.control.001/run\n",
      "copying /global/cfs/projectdirs/m4746/Projects/Ocean-CDR-Atlas-v0/cases/hr_4p2z.cdr-atlas-v0.control.001/Buildconf/cplconf/seq_maps.rc -> /pscratch/sd/m/mattlong/Ocean-CDR-Atlas-v0/hr_4p2z.cdr-atlas-v0.control.001/run\n",
      "copying /global/cfs/projectdirs/m4746/Projects/Ocean-CDR-Atlas-v0/cases/hr_4p2z.cdr-atlas-v0.control.001/Buildconf/cplconf/glc_modelio.nml -> /pscratch/sd/m/mattlong/Ocean-CDR-Atlas-v0/hr_4p2z.cdr-atlas-v0.control.001/run\n",
      "copying /global/cfs/projectdirs/m4746/Projects/Ocean-CDR-Atlas-v0/cases/hr_4p2z.cdr-atlas-v0.control.001/Buildconf/cplconf/iac_modelio.nml -> /pscratch/sd/m/mattlong/Ocean-CDR-Atlas-v0/hr_4p2z.cdr-atlas-v0.control.001/run\n",
      "copying /global/cfs/projectdirs/m4746/Projects/Ocean-CDR-Atlas-v0/cases/hr_4p2z.cdr-atlas-v0.control.001/Buildconf/cplconf/ocn_modelio.nml -> /pscratch/sd/m/mattlong/Ocean-CDR-Atlas-v0/hr_4p2z.cdr-atlas-v0.control.001/run\n",
      "copying /global/cfs/projectdirs/m4746/Projects/Ocean-CDR-Atlas-v0/cases/hr_4p2z.cdr-atlas-v0.control.001/Buildconf/cplconf/esp_modelio.nml -> /pscratch/sd/m/mattlong/Ocean-CDR-Atlas-v0/hr_4p2z.cdr-atlas-v0.control.001/run\n",
      "copying /global/cfs/projectdirs/m4746/Projects/Ocean-CDR-Atlas-v0/cases/hr_4p2z.cdr-atlas-v0.control.001/Buildconf/cplconf/ice_modelio.nml -> /pscratch/sd/m/mattlong/Ocean-CDR-Atlas-v0/hr_4p2z.cdr-atlas-v0.control.001/run\n",
      "copying /global/cfs/projectdirs/m4746/Projects/Ocean-CDR-Atlas-v0/cases/hr_4p2z.cdr-atlas-v0.control.001/Buildconf/cplconf/wav_modelio.nml -> /pscratch/sd/m/mattlong/Ocean-CDR-Atlas-v0/hr_4p2z.cdr-atlas-v0.control.001/run\n",
      "copying /global/cfs/projectdirs/m4746/Projects/Ocean-CDR-Atlas-v0/cases/hr_4p2z.cdr-atlas-v0.control.001/Buildconf/cplconf/lnd_modelio.nml -> /pscratch/sd/m/mattlong/Ocean-CDR-Atlas-v0/hr_4p2z.cdr-atlas-v0.control.001/run\n",
      "copying /global/cfs/projectdirs/m4746/Projects/Ocean-CDR-Atlas-v0/cases/hr_4p2z.cdr-atlas-v0.control.001/Buildconf/cplconf/atm_modelio.nml -> /pscratch/sd/m/mattlong/Ocean-CDR-Atlas-v0/hr_4p2z.cdr-atlas-v0.control.001/run\n",
      "copying /global/cfs/projectdirs/m4746/Projects/Ocean-CDR-Atlas-v0/cases/hr_4p2z.cdr-atlas-v0.control.001/Buildconf/cplconf/rof_modelio.nml -> /pscratch/sd/m/mattlong/Ocean-CDR-Atlas-v0/hr_4p2z.cdr-atlas-v0.control.001/run\n",
      "copying /global/cfs/projectdirs/m4746/Projects/Ocean-CDR-Atlas-v0/cases/hr_4p2z.cdr-atlas-v0.control.001/Buildconf/cplconf/cpl_modelio.nml -> /pscratch/sd/m/mattlong/Ocean-CDR-Atlas-v0/hr_4p2z.cdr-atlas-v0.control.001/run\n",
      "copying /pscratch/sd/m/mattlong/Ocean-CDR-Atlas-v0/hr_4p2z.cdr-atlas-v0.control.001/run/wav_modelio.nml -> /global/cfs/projectdirs/m4746/Projects/Ocean-CDR-Atlas-v0/cases/hr_4p2z.cdr-atlas-v0.control.001/CaseDocs\n",
      "copying /pscratch/sd/m/mattlong/Ocean-CDR-Atlas-v0/hr_4p2z.cdr-atlas-v0.control.001/run/cpl_modelio.nml -> /global/cfs/projectdirs/m4746/Projects/Ocean-CDR-Atlas-v0/cases/hr_4p2z.cdr-atlas-v0.control.001/CaseDocs\n",
      "copying /pscratch/sd/m/mattlong/Ocean-CDR-Atlas-v0/hr_4p2z.cdr-atlas-v0.control.001/run/rof_modelio.nml -> /global/cfs/projectdirs/m4746/Projects/Ocean-CDR-Atlas-v0/cases/hr_4p2z.cdr-atlas-v0.control.001/CaseDocs\n",
      "copying /pscratch/sd/m/mattlong/Ocean-CDR-Atlas-v0/hr_4p2z.cdr-atlas-v0.control.001/run/glc_modelio.nml -> /global/cfs/projectdirs/m4746/Projects/Ocean-CDR-Atlas-v0/cases/hr_4p2z.cdr-atlas-v0.control.001/CaseDocs\n",
      "copying /pscratch/sd/m/mattlong/Ocean-CDR-Atlas-v0/hr_4p2z.cdr-atlas-v0.control.001/run/iac_modelio.nml -> /global/cfs/projectdirs/m4746/Projects/Ocean-CDR-Atlas-v0/cases/hr_4p2z.cdr-atlas-v0.control.001/CaseDocs\n",
      "copying /pscratch/sd/m/mattlong/Ocean-CDR-Atlas-v0/hr_4p2z.cdr-atlas-v0.control.001/run/ocn_modelio.nml -> /global/cfs/projectdirs/m4746/Projects/Ocean-CDR-Atlas-v0/cases/hr_4p2z.cdr-atlas-v0.control.001/CaseDocs\n",
      "copying /pscratch/sd/m/mattlong/Ocean-CDR-Atlas-v0/hr_4p2z.cdr-atlas-v0.control.001/run/lnd_modelio.nml -> /global/cfs/projectdirs/m4746/Projects/Ocean-CDR-Atlas-v0/cases/hr_4p2z.cdr-atlas-v0.control.001/CaseDocs\n",
      "copying /pscratch/sd/m/mattlong/Ocean-CDR-Atlas-v0/hr_4p2z.cdr-atlas-v0.control.001/run/esp_modelio.nml -> /global/cfs/projectdirs/m4746/Projects/Ocean-CDR-Atlas-v0/cases/hr_4p2z.cdr-atlas-v0.control.001/CaseDocs\n",
      "copying /pscratch/sd/m/mattlong/Ocean-CDR-Atlas-v0/hr_4p2z.cdr-atlas-v0.control.001/run/ice_modelio.nml -> /global/cfs/projectdirs/m4746/Projects/Ocean-CDR-Atlas-v0/cases/hr_4p2z.cdr-atlas-v0.control.001/CaseDocs\n",
      "copying /pscratch/sd/m/mattlong/Ocean-CDR-Atlas-v0/hr_4p2z.cdr-atlas-v0.control.001/run/atm_modelio.nml -> /global/cfs/projectdirs/m4746/Projects/Ocean-CDR-Atlas-v0/cases/hr_4p2z.cdr-atlas-v0.control.001/CaseDocs\n",
      "copying /pscratch/sd/m/mattlong/Ocean-CDR-Atlas-v0/hr_4p2z.cdr-atlas-v0.control.001/run/drof_in -> /global/cfs/projectdirs/m4746/Projects/Ocean-CDR-Atlas-v0/cases/hr_4p2z.cdr-atlas-v0.control.001/CaseDocs\n",
      "copying /pscratch/sd/m/mattlong/Ocean-CDR-Atlas-v0/hr_4p2z.cdr-atlas-v0.control.001/run/marbl_in -> /global/cfs/projectdirs/m4746/Projects/Ocean-CDR-Atlas-v0/cases/hr_4p2z.cdr-atlas-v0.control.001/CaseDocs\n",
      "copying /pscratch/sd/m/mattlong/Ocean-CDR-Atlas-v0/hr_4p2z.cdr-atlas-v0.control.001/run/drv_in -> /global/cfs/projectdirs/m4746/Projects/Ocean-CDR-Atlas-v0/cases/hr_4p2z.cdr-atlas-v0.control.001/CaseDocs\n",
      "copying /pscratch/sd/m/mattlong/Ocean-CDR-Atlas-v0/hr_4p2z.cdr-atlas-v0.control.001/run/ice_in -> /global/cfs/projectdirs/m4746/Projects/Ocean-CDR-Atlas-v0/cases/hr_4p2z.cdr-atlas-v0.control.001/CaseDocs\n",
      "copying /pscratch/sd/m/mattlong/Ocean-CDR-Atlas-v0/hr_4p2z.cdr-atlas-v0.control.001/run/datm_in -> /global/cfs/projectdirs/m4746/Projects/Ocean-CDR-Atlas-v0/cases/hr_4p2z.cdr-atlas-v0.control.001/CaseDocs\n",
      "copying /pscratch/sd/m/mattlong/Ocean-CDR-Atlas-v0/hr_4p2z.cdr-atlas-v0.control.001/run/pop_in -> /global/cfs/projectdirs/m4746/Projects/Ocean-CDR-Atlas-v0/cases/hr_4p2z.cdr-atlas-v0.control.001/CaseDocs\n",
      "copying /pscratch/sd/m/mattlong/Ocean-CDR-Atlas-v0/hr_4p2z.cdr-atlas-v0.control.001/run/datm.streams.txt.co2tseries.omip -> /global/cfs/projectdirs/m4746/Projects/Ocean-CDR-Atlas-v0/cases/hr_4p2z.cdr-atlas-v0.control.001/CaseDocs\n",
      "copying /pscratch/sd/m/mattlong/Ocean-CDR-Atlas-v0/hr_4p2z.cdr-atlas-v0.control.001/run/datm.streams.txt.presaero.clim_1850 -> /global/cfs/projectdirs/m4746/Projects/Ocean-CDR-Atlas-v0/cases/hr_4p2z.cdr-atlas-v0.control.001/CaseDocs\n",
      "copying /pscratch/sd/m/mattlong/Ocean-CDR-Atlas-v0/hr_4p2z.cdr-atlas-v0.control.001/run/drof.streams.txt.rof.iaf_jra -> /global/cfs/projectdirs/m4746/Projects/Ocean-CDR-Atlas-v0/cases/hr_4p2z.cdr-atlas-v0.control.001/CaseDocs\n",
      "copying /pscratch/sd/m/mattlong/Ocean-CDR-Atlas-v0/hr_4p2z.cdr-atlas-v0.control.001/run/datm.streams.txt.CORE_IAF_JRA.GCGCS.PREC -> /global/cfs/projectdirs/m4746/Projects/Ocean-CDR-Atlas-v0/cases/hr_4p2z.cdr-atlas-v0.control.001/CaseDocs\n",
      "copying /pscratch/sd/m/mattlong/Ocean-CDR-Atlas-v0/hr_4p2z.cdr-atlas-v0.control.001/run/datm.streams.txt.CORE_IAF_JRA.NCEP.SLP_ -> /global/cfs/projectdirs/m4746/Projects/Ocean-CDR-Atlas-v0/cases/hr_4p2z.cdr-atlas-v0.control.001/CaseDocs\n",
      "copying /pscratch/sd/m/mattlong/Ocean-CDR-Atlas-v0/hr_4p2z.cdr-atlas-v0.control.001/run/datm.streams.txt.CORE_IAF_JRA.NCEP.U_10 -> /global/cfs/projectdirs/m4746/Projects/Ocean-CDR-Atlas-v0/cases/hr_4p2z.cdr-atlas-v0.control.001/CaseDocs\n",
      "copying /pscratch/sd/m/mattlong/Ocean-CDR-Atlas-v0/hr_4p2z.cdr-atlas-v0.control.001/run/datm.streams.txt.CORE_IAF_JRA.GISS.LWDN -> /global/cfs/projectdirs/m4746/Projects/Ocean-CDR-Atlas-v0/cases/hr_4p2z.cdr-atlas-v0.control.001/CaseDocs\n",
      "copying /pscratch/sd/m/mattlong/Ocean-CDR-Atlas-v0/hr_4p2z.cdr-atlas-v0.control.001/run/datm.streams.txt.CORE_IAF_JRA.NCEP.T_10 -> /global/cfs/projectdirs/m4746/Projects/Ocean-CDR-Atlas-v0/cases/hr_4p2z.cdr-atlas-v0.control.001/CaseDocs\n",
      "copying /pscratch/sd/m/mattlong/Ocean-CDR-Atlas-v0/hr_4p2z.cdr-atlas-v0.control.001/run/datm.streams.txt.CORE_IAF_JRA.GISS.SWDN -> /global/cfs/projectdirs/m4746/Projects/Ocean-CDR-Atlas-v0/cases/hr_4p2z.cdr-atlas-v0.control.001/CaseDocs\n",
      "copying /pscratch/sd/m/mattlong/Ocean-CDR-Atlas-v0/hr_4p2z.cdr-atlas-v0.control.001/run/datm.streams.txt.CORE_IAF_JRA.NCEP.V_10 -> /global/cfs/projectdirs/m4746/Projects/Ocean-CDR-Atlas-v0/cases/hr_4p2z.cdr-atlas-v0.control.001/CaseDocs\n",
      "copying /pscratch/sd/m/mattlong/Ocean-CDR-Atlas-v0/hr_4p2z.cdr-atlas-v0.control.001/run/datm.streams.txt.CORE_IAF_JRA.NCEP.Q_10 -> /global/cfs/projectdirs/m4746/Projects/Ocean-CDR-Atlas-v0/cases/hr_4p2z.cdr-atlas-v0.control.001/CaseDocs\n",
      "copying /pscratch/sd/m/mattlong/Ocean-CDR-Atlas-v0/hr_4p2z.cdr-atlas-v0.control.001/run/seq_maps.rc -> /global/cfs/projectdirs/m4746/Projects/Ocean-CDR-Atlas-v0/cases/hr_4p2z.cdr-atlas-v0.control.001/CaseDocs\n",
      "Building gptl with output to file /pscratch/sd/m/mattlong/Ocean-CDR-Atlas-v0/hr_4p2z.cdr-atlas-v0.control.001/bld/gptl.bldlog.250602-161935\n",
      "   Calling /global/cfs/cdirs/m4746/Projects/Ocean-CDR-Atlas-v0/codes/cesm2.2.0/cime/src/build_scripts/buildlib.gptl\n",
      "Building mct with output to file /pscratch/sd/m/mattlong/Ocean-CDR-Atlas-v0/hr_4p2z.cdr-atlas-v0.control.001/bld/mct.bldlog.250602-161935\n",
      "   Calling /global/cfs/cdirs/m4746/Projects/Ocean-CDR-Atlas-v0/codes/cesm2.2.0/cime/src/build_scripts/buildlib.mct\n",
      "Building pio with output to file /pscratch/sd/m/mattlong/Ocean-CDR-Atlas-v0/hr_4p2z.cdr-atlas-v0.control.001/bld/pio.bldlog.250602-161935\n",
      "   Calling /global/cfs/cdirs/m4746/Projects/Ocean-CDR-Atlas-v0/codes/cesm2.2.0/cime/src/build_scripts/buildlib.pio\n",
      "Component pio build complete with 5 warnings\n",
      "Building csm_share with output to file /pscratch/sd/m/mattlong/Ocean-CDR-Atlas-v0/hr_4p2z.cdr-atlas-v0.control.001/bld/csm_share.bldlog.250602-161935\n",
      "   Calling /global/cfs/cdirs/m4746/Projects/Ocean-CDR-Atlas-v0/codes/cesm2.2.0/cime/src/build_scripts/buildlib.csm_share\n",
      "Component csm_share build complete with 15 warnings\n",
      "         - Building atm Library \n",
      "Building atm with output to /pscratch/sd/m/mattlong/Ocean-CDR-Atlas-v0/hr_4p2z.cdr-atlas-v0.control.001/bld/atm.bldlog.250602-161935\n",
      "         - Building lnd Library \n",
      "Building lnd with output to /pscratch/sd/m/mattlong/Ocean-CDR-Atlas-v0/hr_4p2z.cdr-atlas-v0.control.001/bld/lnd.bldlog.250602-161935\n",
      "         - Building ice Library \n",
      "Building ice with output to /pscratch/sd/m/mattlong/Ocean-CDR-Atlas-v0/hr_4p2z.cdr-atlas-v0.control.001/bld/ice.bldlog.250602-161935\n",
      "         - Building ocn Library \n",
      "Building ocn with output to /pscratch/sd/m/mattlong/Ocean-CDR-Atlas-v0/hr_4p2z.cdr-atlas-v0.control.001/bld/ocn.bldlog.250602-161935\n",
      "         - Building rof Library \n",
      "Building rof with output to /pscratch/sd/m/mattlong/Ocean-CDR-Atlas-v0/hr_4p2z.cdr-atlas-v0.control.001/bld/rof.bldlog.250602-161935\n",
      "         - Building glc Library \n",
      "Building glc with output to /pscratch/sd/m/mattlong/Ocean-CDR-Atlas-v0/hr_4p2z.cdr-atlas-v0.control.001/bld/glc.bldlog.250602-161935\n",
      "         - Building wav Library \n",
      "Building wav with output to /pscratch/sd/m/mattlong/Ocean-CDR-Atlas-v0/hr_4p2z.cdr-atlas-v0.control.001/bld/wav.bldlog.250602-161935\n",
      "         - Building iac Library \n",
      "Building iac with output to /pscratch/sd/m/mattlong/Ocean-CDR-Atlas-v0/hr_4p2z.cdr-atlas-v0.control.001/bld/iac.bldlog.250602-161935\n",
      "         - Building esp Library \n",
      "Building esp with output to /pscratch/sd/m/mattlong/Ocean-CDR-Atlas-v0/hr_4p2z.cdr-atlas-v0.control.001/bld/esp.bldlog.250602-161935\n",
      "copying /pscratch/sd/m/mattlong/Ocean-CDR-Atlas-v0/hr_4p2z.cdr-atlas-v0.control.001/bld/esp/obj/esp_comp_mct.mod -> /pscratch/sd/m/mattlong/Ocean-CDR-Atlas-v0/hr_4p2z.cdr-atlas-v0.control.001/bld/lib/include\n",
      "sesp built in 0.714150 seconds\n",
      "copying /pscratch/sd/m/mattlong/Ocean-CDR-Atlas-v0/hr_4p2z.cdr-atlas-v0.control.001/bld/lnd/obj/lnd_comp_mct.mod -> /pscratch/sd/m/mattlong/Ocean-CDR-Atlas-v0/hr_4p2z.cdr-atlas-v0.control.001/bld/lib/include\n",
      "copying /pscratch/sd/m/mattlong/Ocean-CDR-Atlas-v0/hr_4p2z.cdr-atlas-v0.control.001/bld/wav/obj/wav_comp_mct.mod -> /pscratch/sd/m/mattlong/Ocean-CDR-Atlas-v0/hr_4p2z.cdr-atlas-v0.control.001/bld/lib/include\n",
      "copying /pscratch/sd/m/mattlong/Ocean-CDR-Atlas-v0/hr_4p2z.cdr-atlas-v0.control.001/bld/iac/obj/iac_comp_mct.mod -> /pscratch/sd/m/mattlong/Ocean-CDR-Atlas-v0/hr_4p2z.cdr-atlas-v0.control.001/bld/lib/include\n",
      "slnd built in 0.741098 seconds\n",
      "swav built in 0.737324 seconds\n",
      "copying /pscratch/sd/m/mattlong/Ocean-CDR-Atlas-v0/hr_4p2z.cdr-atlas-v0.control.001/bld/glc/obj/glc_comp_mct.mod -> /pscratch/sd/m/mattlong/Ocean-CDR-Atlas-v0/hr_4p2z.cdr-atlas-v0.control.001/bld/lib/include\n",
      "siac built in 0.738600 seconds\n",
      "sglc built in 0.741638 seconds\n",
      "copying /pscratch/sd/m/mattlong/Ocean-CDR-Atlas-v0/hr_4p2z.cdr-atlas-v0.control.001/bld/rof/obj/rof_comp_mct.mod -> /pscratch/sd/m/mattlong/Ocean-CDR-Atlas-v0/hr_4p2z.cdr-atlas-v0.control.001/bld/lib/include\n",
      "copying /pscratch/sd/m/mattlong/Ocean-CDR-Atlas-v0/hr_4p2z.cdr-atlas-v0.control.001/bld/rof/obj/drof_comp_mod.mod -> /pscratch/sd/m/mattlong/Ocean-CDR-Atlas-v0/hr_4p2z.cdr-atlas-v0.control.001/bld/lib/include\n",
      "drof built in 1.191766 seconds\n",
      "copying /pscratch/sd/m/mattlong/Ocean-CDR-Atlas-v0/hr_4p2z.cdr-atlas-v0.control.001/bld/atm/obj/atm_comp_mct.mod -> /pscratch/sd/m/mattlong/Ocean-CDR-Atlas-v0/hr_4p2z.cdr-atlas-v0.control.001/bld/lib/include\n",
      "copying /pscratch/sd/m/mattlong/Ocean-CDR-Atlas-v0/hr_4p2z.cdr-atlas-v0.control.001/bld/atm/obj/datm_comp_mod.mod -> /pscratch/sd/m/mattlong/Ocean-CDR-Atlas-v0/hr_4p2z.cdr-atlas-v0.control.001/bld/lib/include\n",
      "datm built in 2.202070 seconds\n",
      "Component ice build complete with 1 warnings\n",
      "copying /pscratch/sd/m/mattlong/Ocean-CDR-Atlas-v0/hr_4p2z.cdr-atlas-v0.control.001/bld/ice/obj/ice_comp_mct.mod -> /pscratch/sd/m/mattlong/Ocean-CDR-Atlas-v0/hr_4p2z.cdr-atlas-v0.control.001/bld/lib/include\n",
      "cice built in 31.544782 seconds\n",
      "Component ocn build complete with 26 warnings\n",
      "copying /pscratch/sd/m/mattlong/Ocean-CDR-Atlas-v0/hr_4p2z.cdr-atlas-v0.control.001/bld/ocn/obj/ocn_comp_mct.mod -> /pscratch/sd/m/mattlong/Ocean-CDR-Atlas-v0/hr_4p2z.cdr-atlas-v0.control.001/bld/lib/include\n",
      "pop built in 59.771969 seconds\n",
      "Building cesm from /global/cfs/cdirs/m4746/Projects/Ocean-CDR-Atlas-v0/codes/cesm2.2.0/cime/src/drivers/mct/cime_config/buildexe with output to /pscratch/sd/m/mattlong/Ocean-CDR-Atlas-v0/hr_4p2z.cdr-atlas-v0.control.001/bld/cesm.bldlog.250602-161935 \n",
      "copying /pscratch/sd/m/mattlong/Ocean-CDR-Atlas-v0/hr_4p2z.cdr-atlas-v0.control.001/bld/cesm.exe -> /pscratch/sd/m/mattlong/Ocean-CDR-Atlas-v0/hr_4p2z.cdr-atlas-v0.control.001/bld/cesm.exe.250602-161935\n",
      "copying /global/cfs/projectdirs/m4746/Projects/Ocean-CDR-Atlas-v0/cases/hr_4p2z.cdr-atlas-v0.control.001/env_build.xml -> /global/cfs/projectdirs/m4746/Projects/Ocean-CDR-Atlas-v0/cases/hr_4p2z.cdr-atlas-v0.control.001/LockedFiles\n",
      "Time spent not building: 5.065075 sec\n",
      "Time spent building: 130.853934 sec\n",
      "MODEL BUILD HAS FINISHED SUCCESSFULLY\n"
     ]
    }
   ],
   "source": [
    "cesm.create_hr_4p2z_clone(\n",
    "    case,\n",
    "    cdr_forcing=None,\n",
    "    refdate=\"1999-01-01\",\n",
    "    stop_n=1,\n",
    "    stop_option=\"nyear\",    \n",
    "    queue=\"premium\",\n",
    "    clobber=True,\n",
    ")"
   ]
  },
  {
   "cell_type": "code",
   "execution_count": 9,
   "id": "8335b578-62b6-4c1e-a13e-873d1c8f64a4",
   "metadata": {
    "tags": []
   },
   "outputs": [],
   "source": [
    "atlas.submit_cases([case])"
   ]
  },
  {
   "cell_type": "code",
   "execution_count": null,
   "id": "c8038471-6bfb-480b-a8c6-df6480be4a6b",
   "metadata": {},
   "outputs": [],
   "source": []
  }
 ],
 "metadata": {
  "kernelspec": {
   "display_name": "cworthy",
   "language": "python",
   "name": "env"
  },
  "language_info": {
   "codemirror_mode": {
    "name": "ipython",
    "version": 3
   },
   "file_extension": ".py",
   "mimetype": "text/x-python",
   "name": "python",
   "nbconvert_exporter": "python",
   "pygments_lexer": "ipython3",
   "version": "3.12.5"
  }
 },
 "nbformat": 4,
 "nbformat_minor": 5
}
