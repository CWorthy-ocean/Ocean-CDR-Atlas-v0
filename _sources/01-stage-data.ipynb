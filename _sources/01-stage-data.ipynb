{
 "cells": [
  {
   "cell_type": "markdown",
   "id": "516ea980-0bb6-45df-946c-ff0b250183de",
   "metadata": {},
   "source": [
    "# Stage inputdata for Ocean CDR Atlas calculations"
   ]
  },
  {
   "cell_type": "markdown",
   "id": "91904656-df96-42a1-b12e-d3825b707a90",
   "metadata": {},
   "source": [
    "TODO: document steps"
   ]
  },
  {
   "cell_type": "code",
   "execution_count": null,
   "id": "dfe2621f-fa6e-409d-bae0-943324efd905",
   "metadata": {},
   "outputs": [],
   "source": []
  }
 ],
 "metadata": {
  "kernelspec": {
   "display_name": "cworthy",
   "language": "python",
   "name": "env"
  },
  "language_info": {
   "codemirror_mode": {
    "name": "ipython",
    "version": 3
   },
   "file_extension": ".py",
   "mimetype": "text/x-python",
   "name": "python",
   "nbconvert_exporter": "python",
   "pygments_lexer": "ipython3",
   "version": "3.12.5"
  }
 },
 "nbformat": 4,
 "nbformat_minor": 5
}
