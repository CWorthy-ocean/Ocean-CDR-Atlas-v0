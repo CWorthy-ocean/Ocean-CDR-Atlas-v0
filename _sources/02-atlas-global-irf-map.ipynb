{
 "cells": [
  {
   "cell_type": "markdown",
   "id": "c109ad0d-4cab-422e-8e68-7e2c924ae156",
   "metadata": {},
   "source": [
    "# Global IRF Efficiency Map\n",
    "\n",
    "Generate global map of CDR efficiency using IRF forcing."
   ]
  },
  {
   "cell_type": "code",
   "execution_count": 1,
   "id": "6496a28d-c37b-4764-ac76-2d3feb1164da",
   "metadata": {
    "tags": []
   },
   "outputs": [],
   "source": [
    "%load_ext autoreload\n",
    "%autoreload 2"
   ]
  },
  {
   "cell_type": "code",
   "execution_count": 34,
   "id": "0d784c2f-87bb-4e4c-9465-535c267b07ed",
   "metadata": {
    "tags": []
   },
   "outputs": [],
   "source": [
    "import xarray as xr\n",
    "import matplotlib.pyplot as plt\n",
    "\n",
    "import atlas"
   ]
  },
  {
   "cell_type": "markdown",
   "id": "b629571f-dee0-47d1-82fd-91aade101e2b",
   "metadata": {},
   "source": [
    "## Define experiment and phase\n",
    "\n"
   ]
  },
  {
   "cell_type": "code",
   "execution_count": 3,
   "id": "93e67af1-9485-4ac9-b6fd-3851b82af757",
   "metadata": {},
   "outputs": [],
   "source": [
    "cdr_forcing = \"DOR\"\n",
    "vintage = \"001\"\n",
    "phase = \"test\"\n",
    "clobber = False"
   ]
  },
  {
   "cell_type": "code",
   "execution_count": 4,
   "id": "a37826ce-7b72-467a-a4c6-d4f88968fada",
   "metadata": {
    "tags": []
   },
   "outputs": [
    {
     "data": {
      "text/plain": [
       "<atlas.global_irf_map at 0x7f2b4c143e90>"
      ]
     },
     "execution_count": 4,
     "metadata": {},
     "output_type": "execute_result"
    }
   ],
   "source": [
    "calc = atlas.global_irf_map(cdr_forcing, vintage)\n",
    "calc"
   ]
  },
  {
   "cell_type": "code",
   "execution_count": 5,
   "id": "d48cce46-e580-4451-b0b9-5e1666378851",
   "metadata": {
    "tags": []
   },
   "outputs": [
    {
     "data": {
      "text/html": [
       "<div>\n",
       "<style scoped>\n",
       "    .dataframe tbody tr th:only-of-type {\n",
       "        vertical-align: middle;\n",
       "    }\n",
       "\n",
       "    .dataframe tbody tr th {\n",
       "        vertical-align: top;\n",
       "    }\n",
       "\n",
       "    .dataframe thead th {\n",
       "        text-align: right;\n",
       "    }\n",
       "</style>\n",
       "<table border=\"1\" class=\"dataframe\">\n",
       "  <thead>\n",
       "    <tr style=\"text-align: right;\">\n",
       "      <th></th>\n",
       "      <th>build</th>\n",
       "      <th>submitted</th>\n",
       "      <th>run_completed</th>\n",
       "      <th>archive</th>\n",
       "      <th>error</th>\n",
       "      <th>error_count</th>\n",
       "      <th>JobId</th>\n",
       "      <th>JobState</th>\n",
       "      <th>Queued</th>\n",
       "      <th>yr_per_day</th>\n",
       "      <th>pe-hr_per_yr</th>\n",
       "    </tr>\n",
       "    <tr>\n",
       "      <th>case</th>\n",
       "      <th></th>\n",
       "      <th></th>\n",
       "      <th></th>\n",
       "      <th></th>\n",
       "      <th></th>\n",
       "      <th></th>\n",
       "      <th></th>\n",
       "      <th></th>\n",
       "      <th></th>\n",
       "      <th></th>\n",
       "      <th></th>\n",
       "    </tr>\n",
       "  </thead>\n",
       "  <tbody>\n",
       "    <tr>\n",
       "      <th>hr_4p2z.cdr-atlas-v0.control.001</th>\n",
       "      <td>True</td>\n",
       "      <td>True</td>\n",
       "      <td>True</td>\n",
       "      <td>False</td>\n",
       "      <td>False</td>\n",
       "      <td>0</td>\n",
       "      <td>None</td>\n",
       "      <td>None</td>\n",
       "      <td>False</td>\n",
       "      <td>0.55</td>\n",
       "      <td>1161551.38</td>\n",
       "    </tr>\n",
       "    <tr>\n",
       "      <th>smyle.cdr-atlas-v0.control.001</th>\n",
       "      <td>True</td>\n",
       "      <td>True</td>\n",
       "      <td>True</td>\n",
       "      <td>True</td>\n",
       "      <td>False</td>\n",
       "      <td>0</td>\n",
       "      <td>None</td>\n",
       "      <td>None</td>\n",
       "      <td>False</td>\n",
       "      <td>45.68</td>\n",
       "      <td>470.78</td>\n",
       "    </tr>\n",
       "    <tr>\n",
       "      <th>smyle.cdr-atlas-v0.glb-dor_North_Atlantic_basin_000_1999-01-01_00000.001</th>\n",
       "      <td>True</td>\n",
       "      <td>True</td>\n",
       "      <td>True</td>\n",
       "      <td>True</td>\n",
       "      <td>False</td>\n",
       "      <td>0</td>\n",
       "      <td>None</td>\n",
       "      <td>None</td>\n",
       "      <td>False</td>\n",
       "      <td>59.13</td>\n",
       "      <td>363.64</td>\n",
       "    </tr>\n",
       "    <tr>\n",
       "      <th>smyle.cdr-atlas-v0.glb-dor_North_Atlantic_basin_000_1999-04-01_00001.001</th>\n",
       "      <td>True</td>\n",
       "      <td>True</td>\n",
       "      <td>True</td>\n",
       "      <td>True</td>\n",
       "      <td>False</td>\n",
       "      <td>0</td>\n",
       "      <td>None</td>\n",
       "      <td>None</td>\n",
       "      <td>False</td>\n",
       "      <td>59.10</td>\n",
       "      <td>363.85</td>\n",
       "    </tr>\n",
       "    <tr>\n",
       "      <th>smyle.cdr-atlas-v0.glb-dor_North_Atlantic_basin_000_1999-07-01_00002.001</th>\n",
       "      <td>True</td>\n",
       "      <td>True</td>\n",
       "      <td>True</td>\n",
       "      <td>False</td>\n",
       "      <td>False</td>\n",
       "      <td>0</td>\n",
       "      <td>None</td>\n",
       "      <td>None</td>\n",
       "      <td>False</td>\n",
       "      <td>59.00</td>\n",
       "      <td>364.50</td>\n",
       "    </tr>\n",
       "    <tr>\n",
       "      <th>smyle.cdr-atlas-v0.glb-dor_North_Atlantic_basin_000_1999-10-01_00003.001</th>\n",
       "      <td>True</td>\n",
       "      <td>True</td>\n",
       "      <td>True</td>\n",
       "      <td>True</td>\n",
       "      <td>False</td>\n",
       "      <td>0</td>\n",
       "      <td>None</td>\n",
       "      <td>None</td>\n",
       "      <td>False</td>\n",
       "      <td>59.01</td>\n",
       "      <td>364.42</td>\n",
       "    </tr>\n",
       "    <tr>\n",
       "      <th>smyle.cdr-atlas-v0.glb-dor_North_Atlantic_basin_001_1999-01-01_00004.001</th>\n",
       "      <td>True</td>\n",
       "      <td>True</td>\n",
       "      <td>True</td>\n",
       "      <td>True</td>\n",
       "      <td>False</td>\n",
       "      <td>0</td>\n",
       "      <td>None</td>\n",
       "      <td>None</td>\n",
       "      <td>False</td>\n",
       "      <td>59.21</td>\n",
       "      <td>363.17</td>\n",
       "    </tr>\n",
       "    <tr>\n",
       "      <th>smyle.cdr-atlas-v0.glb-dor_North_Atlantic_basin_001_1999-04-01_00005.001</th>\n",
       "      <td>True</td>\n",
       "      <td>True</td>\n",
       "      <td>True</td>\n",
       "      <td>True</td>\n",
       "      <td>False</td>\n",
       "      <td>0</td>\n",
       "      <td>None</td>\n",
       "      <td>None</td>\n",
       "      <td>False</td>\n",
       "      <td>58.77</td>\n",
       "      <td>365.88</td>\n",
       "    </tr>\n",
       "    <tr>\n",
       "      <th>smyle.cdr-atlas-v0.glb-dor_North_Atlantic_basin_001_1999-07-01_00006.001</th>\n",
       "      <td>True</td>\n",
       "      <td>True</td>\n",
       "      <td>True</td>\n",
       "      <td>True</td>\n",
       "      <td>False</td>\n",
       "      <td>0</td>\n",
       "      <td>None</td>\n",
       "      <td>None</td>\n",
       "      <td>False</td>\n",
       "      <td>59.15</td>\n",
       "      <td>363.54</td>\n",
       "    </tr>\n",
       "    <tr>\n",
       "      <th>smyle.cdr-atlas-v0.glb-dor_North_Atlantic_basin_001_1999-10-01_00007.001</th>\n",
       "      <td>True</td>\n",
       "      <td>True</td>\n",
       "      <td>True</td>\n",
       "      <td>True</td>\n",
       "      <td>False</td>\n",
       "      <td>0</td>\n",
       "      <td>None</td>\n",
       "      <td>None</td>\n",
       "      <td>False</td>\n",
       "      <td>59.26</td>\n",
       "      <td>362.85</td>\n",
       "    </tr>\n",
       "    <tr>\n",
       "      <th>smyle.cdr-atlas-v0.glb-dor_North_Atlantic_basin_002_1999-01-01_00008.001</th>\n",
       "      <td>True</td>\n",
       "      <td>True</td>\n",
       "      <td>True</td>\n",
       "      <td>True</td>\n",
       "      <td>False</td>\n",
       "      <td>0</td>\n",
       "      <td>None</td>\n",
       "      <td>None</td>\n",
       "      <td>False</td>\n",
       "      <td>59.58</td>\n",
       "      <td>360.90</td>\n",
       "    </tr>\n",
       "  </tbody>\n",
       "</table>\n",
       "</div>"
      ],
      "text/plain": [
       "                                                    build  submitted  \\\n",
       "case                                                                   \n",
       "hr_4p2z.cdr-atlas-v0.control.001                     True       True   \n",
       "smyle.cdr-atlas-v0.control.001                       True       True   \n",
       "smyle.cdr-atlas-v0.glb-dor_North_Atlantic_basin...   True       True   \n",
       "smyle.cdr-atlas-v0.glb-dor_North_Atlantic_basin...   True       True   \n",
       "smyle.cdr-atlas-v0.glb-dor_North_Atlantic_basin...   True       True   \n",
       "smyle.cdr-atlas-v0.glb-dor_North_Atlantic_basin...   True       True   \n",
       "smyle.cdr-atlas-v0.glb-dor_North_Atlantic_basin...   True       True   \n",
       "smyle.cdr-atlas-v0.glb-dor_North_Atlantic_basin...   True       True   \n",
       "smyle.cdr-atlas-v0.glb-dor_North_Atlantic_basin...   True       True   \n",
       "smyle.cdr-atlas-v0.glb-dor_North_Atlantic_basin...   True       True   \n",
       "smyle.cdr-atlas-v0.glb-dor_North_Atlantic_basin...   True       True   \n",
       "\n",
       "                                                    run_completed  archive  \\\n",
       "case                                                                         \n",
       "hr_4p2z.cdr-atlas-v0.control.001                             True    False   \n",
       "smyle.cdr-atlas-v0.control.001                               True     True   \n",
       "smyle.cdr-atlas-v0.glb-dor_North_Atlantic_basin...           True     True   \n",
       "smyle.cdr-atlas-v0.glb-dor_North_Atlantic_basin...           True     True   \n",
       "smyle.cdr-atlas-v0.glb-dor_North_Atlantic_basin...           True    False   \n",
       "smyle.cdr-atlas-v0.glb-dor_North_Atlantic_basin...           True     True   \n",
       "smyle.cdr-atlas-v0.glb-dor_North_Atlantic_basin...           True     True   \n",
       "smyle.cdr-atlas-v0.glb-dor_North_Atlantic_basin...           True     True   \n",
       "smyle.cdr-atlas-v0.glb-dor_North_Atlantic_basin...           True     True   \n",
       "smyle.cdr-atlas-v0.glb-dor_North_Atlantic_basin...           True     True   \n",
       "smyle.cdr-atlas-v0.glb-dor_North_Atlantic_basin...           True     True   \n",
       "\n",
       "                                                    error  error_count JobId  \\\n",
       "case                                                                           \n",
       "hr_4p2z.cdr-atlas-v0.control.001                    False            0  None   \n",
       "smyle.cdr-atlas-v0.control.001                      False            0  None   \n",
       "smyle.cdr-atlas-v0.glb-dor_North_Atlantic_basin...  False            0  None   \n",
       "smyle.cdr-atlas-v0.glb-dor_North_Atlantic_basin...  False            0  None   \n",
       "smyle.cdr-atlas-v0.glb-dor_North_Atlantic_basin...  False            0  None   \n",
       "smyle.cdr-atlas-v0.glb-dor_North_Atlantic_basin...  False            0  None   \n",
       "smyle.cdr-atlas-v0.glb-dor_North_Atlantic_basin...  False            0  None   \n",
       "smyle.cdr-atlas-v0.glb-dor_North_Atlantic_basin...  False            0  None   \n",
       "smyle.cdr-atlas-v0.glb-dor_North_Atlantic_basin...  False            0  None   \n",
       "smyle.cdr-atlas-v0.glb-dor_North_Atlantic_basin...  False            0  None   \n",
       "smyle.cdr-atlas-v0.glb-dor_North_Atlantic_basin...  False            0  None   \n",
       "\n",
       "                                                   JobState  Queued  \\\n",
       "case                                                                  \n",
       "hr_4p2z.cdr-atlas-v0.control.001                       None   False   \n",
       "smyle.cdr-atlas-v0.control.001                         None   False   \n",
       "smyle.cdr-atlas-v0.glb-dor_North_Atlantic_basin...     None   False   \n",
       "smyle.cdr-atlas-v0.glb-dor_North_Atlantic_basin...     None   False   \n",
       "smyle.cdr-atlas-v0.glb-dor_North_Atlantic_basin...     None   False   \n",
       "smyle.cdr-atlas-v0.glb-dor_North_Atlantic_basin...     None   False   \n",
       "smyle.cdr-atlas-v0.glb-dor_North_Atlantic_basin...     None   False   \n",
       "smyle.cdr-atlas-v0.glb-dor_North_Atlantic_basin...     None   False   \n",
       "smyle.cdr-atlas-v0.glb-dor_North_Atlantic_basin...     None   False   \n",
       "smyle.cdr-atlas-v0.glb-dor_North_Atlantic_basin...     None   False   \n",
       "smyle.cdr-atlas-v0.glb-dor_North_Atlantic_basin...     None   False   \n",
       "\n",
       "                                                    yr_per_day  pe-hr_per_yr  \n",
       "case                                                                          \n",
       "hr_4p2z.cdr-atlas-v0.control.001                          0.55    1161551.38  \n",
       "smyle.cdr-atlas-v0.control.001                           45.68        470.78  \n",
       "smyle.cdr-atlas-v0.glb-dor_North_Atlantic_basin...       59.13        363.64  \n",
       "smyle.cdr-atlas-v0.glb-dor_North_Atlantic_basin...       59.10        363.85  \n",
       "smyle.cdr-atlas-v0.glb-dor_North_Atlantic_basin...       59.00        364.50  \n",
       "smyle.cdr-atlas-v0.glb-dor_North_Atlantic_basin...       59.01        364.42  \n",
       "smyle.cdr-atlas-v0.glb-dor_North_Atlantic_basin...       59.21        363.17  \n",
       "smyle.cdr-atlas-v0.glb-dor_North_Atlantic_basin...       58.77        365.88  \n",
       "smyle.cdr-atlas-v0.glb-dor_North_Atlantic_basin...       59.15        363.54  \n",
       "smyle.cdr-atlas-v0.glb-dor_North_Atlantic_basin...       59.26        362.85  \n",
       "smyle.cdr-atlas-v0.glb-dor_North_Atlantic_basin...       59.58        360.90  "
      ]
     },
     "execution_count": 5,
     "metadata": {},
     "output_type": "execute_result"
    }
   ],
   "source": [
    "calc.df_case_status"
   ]
  },
  {
   "cell_type": "markdown",
   "id": "95ec5d56-a6f4-446b-a3de-806c2a601fe3",
   "metadata": {},
   "source": [
    "## Build the model for each experiment"
   ]
  },
  {
   "cell_type": "code",
   "execution_count": 8,
   "id": "5fd23f87-d859-4bc6-ad0c-5e85a27d81ef",
   "metadata": {
    "tags": []
   },
   "outputs": [
    {
     "data": {
      "text/plain": [
       "[]"
      ]
     },
     "execution_count": 8,
     "metadata": {},
     "output_type": "execute_result"
    }
   ],
   "source": [
    "clobber_list = calc.check_cases()\n",
    "clobber_list"
   ]
  },
  {
   "cell_type": "code",
   "execution_count": 9,
   "id": "560c14d2-15d6-421e-9ad1-c038f75665b2",
   "metadata": {
    "tags": []
   },
   "outputs": [],
   "source": [
    "calc.build(phase=phase, clobber=clobber, clobber_list=clobber_list)"
   ]
  },
  {
   "cell_type": "markdown",
   "id": "c71f3e44-6fd0-4b35-afa2-4d854408a1f5",
   "metadata": {},
   "source": [
    "## Run the simulations"
   ]
  },
  {
   "cell_type": "code",
   "execution_count": 10,
   "id": "0ff0a9be-2c18-4f63-b9a6-0565a1501834",
   "metadata": {
    "tags": []
   },
   "outputs": [],
   "source": [
    "n_jobs = calc.compute()"
   ]
  },
  {
   "cell_type": "code",
   "execution_count": 11,
   "id": "09422dc0-7aa1-42f0-b81f-ab87e04ee59b",
   "metadata": {
    "tags": []
   },
   "outputs": [
    {
     "data": {
      "text/html": [
       "<div>\n",
       "<style scoped>\n",
       "    .dataframe tbody tr th:only-of-type {\n",
       "        vertical-align: middle;\n",
       "    }\n",
       "\n",
       "    .dataframe tbody tr th {\n",
       "        vertical-align: top;\n",
       "    }\n",
       "\n",
       "    .dataframe thead th {\n",
       "        text-align: right;\n",
       "    }\n",
       "</style>\n",
       "<table border=\"1\" class=\"dataframe\">\n",
       "  <thead>\n",
       "    <tr style=\"text-align: right;\">\n",
       "      <th></th>\n",
       "      <th>build</th>\n",
       "      <th>submitted</th>\n",
       "      <th>run_completed</th>\n",
       "      <th>archive</th>\n",
       "      <th>error</th>\n",
       "      <th>error_count</th>\n",
       "      <th>JobId</th>\n",
       "      <th>JobState</th>\n",
       "      <th>Queued</th>\n",
       "      <th>yr_per_day</th>\n",
       "      <th>pe-hr_per_yr</th>\n",
       "    </tr>\n",
       "    <tr>\n",
       "      <th>case</th>\n",
       "      <th></th>\n",
       "      <th></th>\n",
       "      <th></th>\n",
       "      <th></th>\n",
       "      <th></th>\n",
       "      <th></th>\n",
       "      <th></th>\n",
       "      <th></th>\n",
       "      <th></th>\n",
       "      <th></th>\n",
       "      <th></th>\n",
       "    </tr>\n",
       "  </thead>\n",
       "  <tbody>\n",
       "    <tr>\n",
       "      <th>hr_4p2z.cdr-atlas-v0.control.001</th>\n",
       "      <td>True</td>\n",
       "      <td>True</td>\n",
       "      <td>True</td>\n",
       "      <td>False</td>\n",
       "      <td>False</td>\n",
       "      <td>0</td>\n",
       "      <td>None</td>\n",
       "      <td>None</td>\n",
       "      <td>False</td>\n",
       "      <td>0.55</td>\n",
       "      <td>1161551.38</td>\n",
       "    </tr>\n",
       "    <tr>\n",
       "      <th>smyle.cdr-atlas-v0.control.001</th>\n",
       "      <td>True</td>\n",
       "      <td>True</td>\n",
       "      <td>True</td>\n",
       "      <td>True</td>\n",
       "      <td>False</td>\n",
       "      <td>0</td>\n",
       "      <td>None</td>\n",
       "      <td>None</td>\n",
       "      <td>False</td>\n",
       "      <td>45.68</td>\n",
       "      <td>470.78</td>\n",
       "    </tr>\n",
       "    <tr>\n",
       "      <th>smyle.cdr-atlas-v0.glb-dor_North_Atlantic_basin_000_1999-01-01_00000.001</th>\n",
       "      <td>True</td>\n",
       "      <td>True</td>\n",
       "      <td>True</td>\n",
       "      <td>True</td>\n",
       "      <td>False</td>\n",
       "      <td>0</td>\n",
       "      <td>None</td>\n",
       "      <td>None</td>\n",
       "      <td>False</td>\n",
       "      <td>59.13</td>\n",
       "      <td>363.64</td>\n",
       "    </tr>\n",
       "    <tr>\n",
       "      <th>smyle.cdr-atlas-v0.glb-dor_North_Atlantic_basin_000_1999-04-01_00001.001</th>\n",
       "      <td>True</td>\n",
       "      <td>True</td>\n",
       "      <td>True</td>\n",
       "      <td>True</td>\n",
       "      <td>False</td>\n",
       "      <td>0</td>\n",
       "      <td>None</td>\n",
       "      <td>None</td>\n",
       "      <td>False</td>\n",
       "      <td>59.10</td>\n",
       "      <td>363.85</td>\n",
       "    </tr>\n",
       "    <tr>\n",
       "      <th>smyle.cdr-atlas-v0.glb-dor_North_Atlantic_basin_000_1999-07-01_00002.001</th>\n",
       "      <td>True</td>\n",
       "      <td>True</td>\n",
       "      <td>True</td>\n",
       "      <td>False</td>\n",
       "      <td>False</td>\n",
       "      <td>0</td>\n",
       "      <td>None</td>\n",
       "      <td>None</td>\n",
       "      <td>False</td>\n",
       "      <td>59.00</td>\n",
       "      <td>364.50</td>\n",
       "    </tr>\n",
       "    <tr>\n",
       "      <th>smyle.cdr-atlas-v0.glb-dor_North_Atlantic_basin_000_1999-10-01_00003.001</th>\n",
       "      <td>True</td>\n",
       "      <td>True</td>\n",
       "      <td>True</td>\n",
       "      <td>True</td>\n",
       "      <td>False</td>\n",
       "      <td>0</td>\n",
       "      <td>None</td>\n",
       "      <td>None</td>\n",
       "      <td>False</td>\n",
       "      <td>59.01</td>\n",
       "      <td>364.42</td>\n",
       "    </tr>\n",
       "    <tr>\n",
       "      <th>smyle.cdr-atlas-v0.glb-dor_North_Atlantic_basin_001_1999-01-01_00004.001</th>\n",
       "      <td>True</td>\n",
       "      <td>True</td>\n",
       "      <td>True</td>\n",
       "      <td>True</td>\n",
       "      <td>False</td>\n",
       "      <td>0</td>\n",
       "      <td>None</td>\n",
       "      <td>None</td>\n",
       "      <td>False</td>\n",
       "      <td>59.21</td>\n",
       "      <td>363.17</td>\n",
       "    </tr>\n",
       "    <tr>\n",
       "      <th>smyle.cdr-atlas-v0.glb-dor_North_Atlantic_basin_001_1999-04-01_00005.001</th>\n",
       "      <td>True</td>\n",
       "      <td>True</td>\n",
       "      <td>True</td>\n",
       "      <td>True</td>\n",
       "      <td>False</td>\n",
       "      <td>0</td>\n",
       "      <td>None</td>\n",
       "      <td>None</td>\n",
       "      <td>False</td>\n",
       "      <td>58.77</td>\n",
       "      <td>365.88</td>\n",
       "    </tr>\n",
       "    <tr>\n",
       "      <th>smyle.cdr-atlas-v0.glb-dor_North_Atlantic_basin_001_1999-07-01_00006.001</th>\n",
       "      <td>True</td>\n",
       "      <td>True</td>\n",
       "      <td>True</td>\n",
       "      <td>True</td>\n",
       "      <td>False</td>\n",
       "      <td>0</td>\n",
       "      <td>None</td>\n",
       "      <td>None</td>\n",
       "      <td>False</td>\n",
       "      <td>59.15</td>\n",
       "      <td>363.54</td>\n",
       "    </tr>\n",
       "    <tr>\n",
       "      <th>smyle.cdr-atlas-v0.glb-dor_North_Atlantic_basin_001_1999-10-01_00007.001</th>\n",
       "      <td>True</td>\n",
       "      <td>True</td>\n",
       "      <td>True</td>\n",
       "      <td>True</td>\n",
       "      <td>False</td>\n",
       "      <td>0</td>\n",
       "      <td>None</td>\n",
       "      <td>None</td>\n",
       "      <td>False</td>\n",
       "      <td>59.26</td>\n",
       "      <td>362.85</td>\n",
       "    </tr>\n",
       "    <tr>\n",
       "      <th>smyle.cdr-atlas-v0.glb-dor_North_Atlantic_basin_002_1999-01-01_00008.001</th>\n",
       "      <td>True</td>\n",
       "      <td>True</td>\n",
       "      <td>True</td>\n",
       "      <td>True</td>\n",
       "      <td>False</td>\n",
       "      <td>0</td>\n",
       "      <td>None</td>\n",
       "      <td>None</td>\n",
       "      <td>False</td>\n",
       "      <td>59.58</td>\n",
       "      <td>360.90</td>\n",
       "    </tr>\n",
       "  </tbody>\n",
       "</table>\n",
       "</div>"
      ],
      "text/plain": [
       "                                                    build  submitted  \\\n",
       "case                                                                   \n",
       "hr_4p2z.cdr-atlas-v0.control.001                     True       True   \n",
       "smyle.cdr-atlas-v0.control.001                       True       True   \n",
       "smyle.cdr-atlas-v0.glb-dor_North_Atlantic_basin...   True       True   \n",
       "smyle.cdr-atlas-v0.glb-dor_North_Atlantic_basin...   True       True   \n",
       "smyle.cdr-atlas-v0.glb-dor_North_Atlantic_basin...   True       True   \n",
       "smyle.cdr-atlas-v0.glb-dor_North_Atlantic_basin...   True       True   \n",
       "smyle.cdr-atlas-v0.glb-dor_North_Atlantic_basin...   True       True   \n",
       "smyle.cdr-atlas-v0.glb-dor_North_Atlantic_basin...   True       True   \n",
       "smyle.cdr-atlas-v0.glb-dor_North_Atlantic_basin...   True       True   \n",
       "smyle.cdr-atlas-v0.glb-dor_North_Atlantic_basin...   True       True   \n",
       "smyle.cdr-atlas-v0.glb-dor_North_Atlantic_basin...   True       True   \n",
       "\n",
       "                                                    run_completed  archive  \\\n",
       "case                                                                         \n",
       "hr_4p2z.cdr-atlas-v0.control.001                             True    False   \n",
       "smyle.cdr-atlas-v0.control.001                               True     True   \n",
       "smyle.cdr-atlas-v0.glb-dor_North_Atlantic_basin...           True     True   \n",
       "smyle.cdr-atlas-v0.glb-dor_North_Atlantic_basin...           True     True   \n",
       "smyle.cdr-atlas-v0.glb-dor_North_Atlantic_basin...           True    False   \n",
       "smyle.cdr-atlas-v0.glb-dor_North_Atlantic_basin...           True     True   \n",
       "smyle.cdr-atlas-v0.glb-dor_North_Atlantic_basin...           True     True   \n",
       "smyle.cdr-atlas-v0.glb-dor_North_Atlantic_basin...           True     True   \n",
       "smyle.cdr-atlas-v0.glb-dor_North_Atlantic_basin...           True     True   \n",
       "smyle.cdr-atlas-v0.glb-dor_North_Atlantic_basin...           True     True   \n",
       "smyle.cdr-atlas-v0.glb-dor_North_Atlantic_basin...           True     True   \n",
       "\n",
       "                                                    error  error_count JobId  \\\n",
       "case                                                                           \n",
       "hr_4p2z.cdr-atlas-v0.control.001                    False            0  None   \n",
       "smyle.cdr-atlas-v0.control.001                      False            0  None   \n",
       "smyle.cdr-atlas-v0.glb-dor_North_Atlantic_basin...  False            0  None   \n",
       "smyle.cdr-atlas-v0.glb-dor_North_Atlantic_basin...  False            0  None   \n",
       "smyle.cdr-atlas-v0.glb-dor_North_Atlantic_basin...  False            0  None   \n",
       "smyle.cdr-atlas-v0.glb-dor_North_Atlantic_basin...  False            0  None   \n",
       "smyle.cdr-atlas-v0.glb-dor_North_Atlantic_basin...  False            0  None   \n",
       "smyle.cdr-atlas-v0.glb-dor_North_Atlantic_basin...  False            0  None   \n",
       "smyle.cdr-atlas-v0.glb-dor_North_Atlantic_basin...  False            0  None   \n",
       "smyle.cdr-atlas-v0.glb-dor_North_Atlantic_basin...  False            0  None   \n",
       "smyle.cdr-atlas-v0.glb-dor_North_Atlantic_basin...  False            0  None   \n",
       "\n",
       "                                                   JobState  Queued  \\\n",
       "case                                                                  \n",
       "hr_4p2z.cdr-atlas-v0.control.001                       None   False   \n",
       "smyle.cdr-atlas-v0.control.001                         None   False   \n",
       "smyle.cdr-atlas-v0.glb-dor_North_Atlantic_basin...     None   False   \n",
       "smyle.cdr-atlas-v0.glb-dor_North_Atlantic_basin...     None   False   \n",
       "smyle.cdr-atlas-v0.glb-dor_North_Atlantic_basin...     None   False   \n",
       "smyle.cdr-atlas-v0.glb-dor_North_Atlantic_basin...     None   False   \n",
       "smyle.cdr-atlas-v0.glb-dor_North_Atlantic_basin...     None   False   \n",
       "smyle.cdr-atlas-v0.glb-dor_North_Atlantic_basin...     None   False   \n",
       "smyle.cdr-atlas-v0.glb-dor_North_Atlantic_basin...     None   False   \n",
       "smyle.cdr-atlas-v0.glb-dor_North_Atlantic_basin...     None   False   \n",
       "smyle.cdr-atlas-v0.glb-dor_North_Atlantic_basin...     None   False   \n",
       "\n",
       "                                                    yr_per_day  pe-hr_per_yr  \n",
       "case                                                                          \n",
       "hr_4p2z.cdr-atlas-v0.control.001                          0.55    1161551.38  \n",
       "smyle.cdr-atlas-v0.control.001                           45.68        470.78  \n",
       "smyle.cdr-atlas-v0.glb-dor_North_Atlantic_basin...       59.13        363.64  \n",
       "smyle.cdr-atlas-v0.glb-dor_North_Atlantic_basin...       59.10        363.85  \n",
       "smyle.cdr-atlas-v0.glb-dor_North_Atlantic_basin...       59.00        364.50  \n",
       "smyle.cdr-atlas-v0.glb-dor_North_Atlantic_basin...       59.01        364.42  \n",
       "smyle.cdr-atlas-v0.glb-dor_North_Atlantic_basin...       59.21        363.17  \n",
       "smyle.cdr-atlas-v0.glb-dor_North_Atlantic_basin...       58.77        365.88  \n",
       "smyle.cdr-atlas-v0.glb-dor_North_Atlantic_basin...       59.15        363.54  \n",
       "smyle.cdr-atlas-v0.glb-dor_North_Atlantic_basin...       59.26        362.85  \n",
       "smyle.cdr-atlas-v0.glb-dor_North_Atlantic_basin...       59.58        360.90  "
      ]
     },
     "execution_count": 11,
     "metadata": {},
     "output_type": "execute_result"
    }
   ],
   "source": [
    "calc.df_case_status"
   ]
  },
  {
   "cell_type": "code",
   "execution_count": 12,
   "id": "6c3df31e-e14d-4d7a-bf10-de35a75c0a33",
   "metadata": {
    "tags": []
   },
   "outputs": [],
   "source": [
    "if n_jobs > 0:\n",
    "    raise SystemExit(\"stop here to wait for computation to complete\")"
   ]
  },
  {
   "cell_type": "markdown",
   "id": "7cc46060-26e6-4a6a-97c0-c1ae02bb3693",
   "metadata": {},
   "source": [
    "## Validate the integrations"
   ]
  },
  {
   "cell_type": "code",
   "execution_count": 16,
   "id": "5e814839-f49c-4666-a08f-cac9be974813",
   "metadata": {
    "tags": []
   },
   "outputs": [
    {
     "name": "stdout",
     "output_type": "stream",
     "text": [
      "spinning up dask cluster with scheduler:\n",
      "  /pscratch/sd/m/mattlong/Ocean-CDR-Atlas-v0/dask/dask_scheduler_file.9dixs5e7.json\n",
      "cluster running...\n",
      "Dashboard:\n",
      " https://jupyter.nersc.gov//user/mattlong/perlmutter-login-node-base/proxy/10.249.1.255:8787/status\n",
      "================================================================================\n",
      "smyle.cdr-atlas-v0.control.001\n",
      "================================================================================\n",
      "smyle.cdr-atlas-v0.glb-dor_North_Atlantic_basin_000_1999-01-01_00000.001\n",
      "================================================================================\n",
      "smyle.cdr-atlas-v0.glb-dor_North_Atlantic_basin_000_1999-04-01_00001.001\n",
      "================================================================================\n",
      "smyle.cdr-atlas-v0.glb-dor_North_Atlantic_basin_000_1999-07-01_00002.001\n",
      "DIC_ALT_CO2, ALK_ALT_CO2, ECOSYS_IFRAC, FG_ALT_CO2, \n",
      "computing /global/cfs/projectdirs/m4746/Projects/Ocean-CDR-Atlas-v0/data/validation/smyle.cdr-atlas-v0.glb-dor_North_Atlantic_basin_000_1999-07-01_00002.001.validation.zarr\n",
      "writing /global/cfs/projectdirs/m4746/Projects/Ocean-CDR-Atlas-v0/data/validation/smyle.cdr-atlas-v0.glb-dor_North_Atlantic_basin_000_1999-07-01_00002.001.validation.zarr\n",
      "================================================================================\n",
      "smyle.cdr-atlas-v0.glb-dor_North_Atlantic_basin_000_1999-10-01_00003.001\n",
      "================================================================================\n",
      "smyle.cdr-atlas-v0.glb-dor_North_Atlantic_basin_001_1999-01-01_00004.001\n",
      "================================================================================\n",
      "smyle.cdr-atlas-v0.glb-dor_North_Atlantic_basin_001_1999-04-01_00005.001\n",
      "================================================================================\n",
      "smyle.cdr-atlas-v0.glb-dor_North_Atlantic_basin_001_1999-07-01_00006.001\n",
      "================================================================================\n",
      "smyle.cdr-atlas-v0.glb-dor_North_Atlantic_basin_001_1999-10-01_00007.001\n",
      "================================================================================\n",
      "smyle.cdr-atlas-v0.glb-dor_North_Atlantic_basin_002_1999-01-01_00008.001\n",
      "CPU times: user 12.1 s, sys: 840 ms, total: 12.9 s\n",
      "Wall time: 5min 53s\n"
     ]
    }
   ],
   "source": [
    "%%time\n",
    "if n_jobs == 0:\n",
    "    calc.validate(clobber=clobber)"
   ]
  },
  {
   "cell_type": "code",
   "execution_count": 17,
   "id": "00107fbc-414d-4b5b-bd44-4de16d9fe07e",
   "metadata": {
    "tags": []
   },
   "outputs": [
    {
     "data": {
      "text/html": [
       "<div>\n",
       "<style scoped>\n",
       "    .dataframe tbody tr th:only-of-type {\n",
       "        vertical-align: middle;\n",
       "    }\n",
       "\n",
       "    .dataframe tbody tr th {\n",
       "        vertical-align: top;\n",
       "    }\n",
       "\n",
       "    .dataframe thead th {\n",
       "        text-align: right;\n",
       "    }\n",
       "</style>\n",
       "<table border=\"1\" class=\"dataframe\">\n",
       "  <thead>\n",
       "    <tr style=\"text-align: right;\">\n",
       "      <th></th>\n",
       "      <th>is_cdr_run</th>\n",
       "      <th>ALK_ALT_CO2_rmse</th>\n",
       "      <th>ALK_rmse</th>\n",
       "      <th>DIC_ALT_CO2_rmse</th>\n",
       "      <th>DIC_rmse</th>\n",
       "      <th>DOC_rmse</th>\n",
       "      <th>DOCr_rmse</th>\n",
       "      <th>DON_rmse</th>\n",
       "      <th>DONr_rmse</th>\n",
       "      <th>DOP_rmse</th>\n",
       "      <th>...</th>\n",
       "      <th>diazC_rmse</th>\n",
       "      <th>diazChl_rmse</th>\n",
       "      <th>diazFe_rmse</th>\n",
       "      <th>diazP_rmse</th>\n",
       "      <th>spC_rmse</th>\n",
       "      <th>spCaCO3_rmse</th>\n",
       "      <th>spChl_rmse</th>\n",
       "      <th>spFe_rmse</th>\n",
       "      <th>spP_rmse</th>\n",
       "      <th>zooC_rmse</th>\n",
       "    </tr>\n",
       "    <tr>\n",
       "      <th>case</th>\n",
       "      <th></th>\n",
       "      <th></th>\n",
       "      <th></th>\n",
       "      <th></th>\n",
       "      <th></th>\n",
       "      <th></th>\n",
       "      <th></th>\n",
       "      <th></th>\n",
       "      <th></th>\n",
       "      <th></th>\n",
       "      <th></th>\n",
       "      <th></th>\n",
       "      <th></th>\n",
       "      <th></th>\n",
       "      <th></th>\n",
       "      <th></th>\n",
       "      <th></th>\n",
       "      <th></th>\n",
       "      <th></th>\n",
       "      <th></th>\n",
       "      <th></th>\n",
       "    </tr>\n",
       "  </thead>\n",
       "  <tbody>\n",
       "    <tr>\n",
       "      <th>smyle.cdr-atlas-v0.control.001</th>\n",
       "      <td>False</td>\n",
       "      <td>0.224847</td>\n",
       "      <td>0.224846</td>\n",
       "      <td>0.325688</td>\n",
       "      <td>0.304365</td>\n",
       "      <td>0.045923</td>\n",
       "      <td>0.011091</td>\n",
       "      <td>0.004066</td>\n",
       "      <td>0.000207</td>\n",
       "      <td>0.000238</td>\n",
       "      <td>...</td>\n",
       "      <td>0.000601</td>\n",
       "      <td>0.000147</td>\n",
       "      <td>4.014262e-08</td>\n",
       "      <td>0.000005</td>\n",
       "      <td>0.025289</td>\n",
       "      <td>0.005248</td>\n",
       "      <td>0.003786</td>\n",
       "      <td>6.857399e-07</td>\n",
       "      <td>0.000216</td>\n",
       "      <td>0.010324</td>\n",
       "    </tr>\n",
       "    <tr>\n",
       "      <th>smyle.cdr-atlas-v0.glb-dor_North_Atlantic_basin_000_1999-01-01_00000.001</th>\n",
       "      <td>True</td>\n",
       "      <td>0.230523</td>\n",
       "      <td>NaN</td>\n",
       "      <td>0.336078</td>\n",
       "      <td>NaN</td>\n",
       "      <td>NaN</td>\n",
       "      <td>NaN</td>\n",
       "      <td>NaN</td>\n",
       "      <td>NaN</td>\n",
       "      <td>NaN</td>\n",
       "      <td>...</td>\n",
       "      <td>NaN</td>\n",
       "      <td>NaN</td>\n",
       "      <td>NaN</td>\n",
       "      <td>NaN</td>\n",
       "      <td>NaN</td>\n",
       "      <td>NaN</td>\n",
       "      <td>NaN</td>\n",
       "      <td>NaN</td>\n",
       "      <td>NaN</td>\n",
       "      <td>NaN</td>\n",
       "    </tr>\n",
       "    <tr>\n",
       "      <th>smyle.cdr-atlas-v0.glb-dor_North_Atlantic_basin_000_1999-04-01_00001.001</th>\n",
       "      <td>True</td>\n",
       "      <td>0.270639</td>\n",
       "      <td>NaN</td>\n",
       "      <td>0.315976</td>\n",
       "      <td>NaN</td>\n",
       "      <td>NaN</td>\n",
       "      <td>NaN</td>\n",
       "      <td>NaN</td>\n",
       "      <td>NaN</td>\n",
       "      <td>NaN</td>\n",
       "      <td>...</td>\n",
       "      <td>NaN</td>\n",
       "      <td>NaN</td>\n",
       "      <td>NaN</td>\n",
       "      <td>NaN</td>\n",
       "      <td>NaN</td>\n",
       "      <td>NaN</td>\n",
       "      <td>NaN</td>\n",
       "      <td>NaN</td>\n",
       "      <td>NaN</td>\n",
       "      <td>NaN</td>\n",
       "    </tr>\n",
       "    <tr>\n",
       "      <th>smyle.cdr-atlas-v0.glb-dor_North_Atlantic_basin_000_1999-07-01_00002.001</th>\n",
       "      <td>True</td>\n",
       "      <td>0.225976</td>\n",
       "      <td>NaN</td>\n",
       "      <td>0.302304</td>\n",
       "      <td>NaN</td>\n",
       "      <td>NaN</td>\n",
       "      <td>NaN</td>\n",
       "      <td>NaN</td>\n",
       "      <td>NaN</td>\n",
       "      <td>NaN</td>\n",
       "      <td>...</td>\n",
       "      <td>NaN</td>\n",
       "      <td>NaN</td>\n",
       "      <td>NaN</td>\n",
       "      <td>NaN</td>\n",
       "      <td>NaN</td>\n",
       "      <td>NaN</td>\n",
       "      <td>NaN</td>\n",
       "      <td>NaN</td>\n",
       "      <td>NaN</td>\n",
       "      <td>NaN</td>\n",
       "    </tr>\n",
       "    <tr>\n",
       "      <th>smyle.cdr-atlas-v0.glb-dor_North_Atlantic_basin_000_1999-10-01_00003.001</th>\n",
       "      <td>True</td>\n",
       "      <td>0.288906</td>\n",
       "      <td>NaN</td>\n",
       "      <td>0.368662</td>\n",
       "      <td>NaN</td>\n",
       "      <td>NaN</td>\n",
       "      <td>NaN</td>\n",
       "      <td>NaN</td>\n",
       "      <td>NaN</td>\n",
       "      <td>NaN</td>\n",
       "      <td>...</td>\n",
       "      <td>NaN</td>\n",
       "      <td>NaN</td>\n",
       "      <td>NaN</td>\n",
       "      <td>NaN</td>\n",
       "      <td>NaN</td>\n",
       "      <td>NaN</td>\n",
       "      <td>NaN</td>\n",
       "      <td>NaN</td>\n",
       "      <td>NaN</td>\n",
       "      <td>NaN</td>\n",
       "    </tr>\n",
       "    <tr>\n",
       "      <th>smyle.cdr-atlas-v0.glb-dor_North_Atlantic_basin_001_1999-01-01_00004.001</th>\n",
       "      <td>True</td>\n",
       "      <td>0.304392</td>\n",
       "      <td>NaN</td>\n",
       "      <td>0.325744</td>\n",
       "      <td>NaN</td>\n",
       "      <td>NaN</td>\n",
       "      <td>NaN</td>\n",
       "      <td>NaN</td>\n",
       "      <td>NaN</td>\n",
       "      <td>NaN</td>\n",
       "      <td>...</td>\n",
       "      <td>NaN</td>\n",
       "      <td>NaN</td>\n",
       "      <td>NaN</td>\n",
       "      <td>NaN</td>\n",
       "      <td>NaN</td>\n",
       "      <td>NaN</td>\n",
       "      <td>NaN</td>\n",
       "      <td>NaN</td>\n",
       "      <td>NaN</td>\n",
       "      <td>NaN</td>\n",
       "    </tr>\n",
       "    <tr>\n",
       "      <th>smyle.cdr-atlas-v0.glb-dor_North_Atlantic_basin_001_1999-04-01_00005.001</th>\n",
       "      <td>True</td>\n",
       "      <td>0.271811</td>\n",
       "      <td>NaN</td>\n",
       "      <td>0.338407</td>\n",
       "      <td>NaN</td>\n",
       "      <td>NaN</td>\n",
       "      <td>NaN</td>\n",
       "      <td>NaN</td>\n",
       "      <td>NaN</td>\n",
       "      <td>NaN</td>\n",
       "      <td>...</td>\n",
       "      <td>NaN</td>\n",
       "      <td>NaN</td>\n",
       "      <td>NaN</td>\n",
       "      <td>NaN</td>\n",
       "      <td>NaN</td>\n",
       "      <td>NaN</td>\n",
       "      <td>NaN</td>\n",
       "      <td>NaN</td>\n",
       "      <td>NaN</td>\n",
       "      <td>NaN</td>\n",
       "    </tr>\n",
       "    <tr>\n",
       "      <th>smyle.cdr-atlas-v0.glb-dor_North_Atlantic_basin_001_1999-07-01_00006.001</th>\n",
       "      <td>True</td>\n",
       "      <td>0.231316</td>\n",
       "      <td>NaN</td>\n",
       "      <td>0.271501</td>\n",
       "      <td>NaN</td>\n",
       "      <td>NaN</td>\n",
       "      <td>NaN</td>\n",
       "      <td>NaN</td>\n",
       "      <td>NaN</td>\n",
       "      <td>NaN</td>\n",
       "      <td>...</td>\n",
       "      <td>NaN</td>\n",
       "      <td>NaN</td>\n",
       "      <td>NaN</td>\n",
       "      <td>NaN</td>\n",
       "      <td>NaN</td>\n",
       "      <td>NaN</td>\n",
       "      <td>NaN</td>\n",
       "      <td>NaN</td>\n",
       "      <td>NaN</td>\n",
       "      <td>NaN</td>\n",
       "    </tr>\n",
       "    <tr>\n",
       "      <th>smyle.cdr-atlas-v0.glb-dor_North_Atlantic_basin_001_1999-10-01_00007.001</th>\n",
       "      <td>True</td>\n",
       "      <td>0.288712</td>\n",
       "      <td>NaN</td>\n",
       "      <td>0.273994</td>\n",
       "      <td>NaN</td>\n",
       "      <td>NaN</td>\n",
       "      <td>NaN</td>\n",
       "      <td>NaN</td>\n",
       "      <td>NaN</td>\n",
       "      <td>NaN</td>\n",
       "      <td>...</td>\n",
       "      <td>NaN</td>\n",
       "      <td>NaN</td>\n",
       "      <td>NaN</td>\n",
       "      <td>NaN</td>\n",
       "      <td>NaN</td>\n",
       "      <td>NaN</td>\n",
       "      <td>NaN</td>\n",
       "      <td>NaN</td>\n",
       "      <td>NaN</td>\n",
       "      <td>NaN</td>\n",
       "    </tr>\n",
       "    <tr>\n",
       "      <th>smyle.cdr-atlas-v0.glb-dor_North_Atlantic_basin_002_1999-01-01_00008.001</th>\n",
       "      <td>True</td>\n",
       "      <td>0.266986</td>\n",
       "      <td>NaN</td>\n",
       "      <td>0.287574</td>\n",
       "      <td>NaN</td>\n",
       "      <td>NaN</td>\n",
       "      <td>NaN</td>\n",
       "      <td>NaN</td>\n",
       "      <td>NaN</td>\n",
       "      <td>NaN</td>\n",
       "      <td>...</td>\n",
       "      <td>NaN</td>\n",
       "      <td>NaN</td>\n",
       "      <td>NaN</td>\n",
       "      <td>NaN</td>\n",
       "      <td>NaN</td>\n",
       "      <td>NaN</td>\n",
       "      <td>NaN</td>\n",
       "      <td>NaN</td>\n",
       "      <td>NaN</td>\n",
       "      <td>NaN</td>\n",
       "    </tr>\n",
       "  </tbody>\n",
       "</table>\n",
       "<p>10 rows × 40 columns</p>\n",
       "</div>"
      ],
      "text/plain": [
       "                                                    is_cdr_run  \\\n",
       "case                                                             \n",
       "smyle.cdr-atlas-v0.control.001                           False   \n",
       "smyle.cdr-atlas-v0.glb-dor_North_Atlantic_basin...        True   \n",
       "smyle.cdr-atlas-v0.glb-dor_North_Atlantic_basin...        True   \n",
       "smyle.cdr-atlas-v0.glb-dor_North_Atlantic_basin...        True   \n",
       "smyle.cdr-atlas-v0.glb-dor_North_Atlantic_basin...        True   \n",
       "smyle.cdr-atlas-v0.glb-dor_North_Atlantic_basin...        True   \n",
       "smyle.cdr-atlas-v0.glb-dor_North_Atlantic_basin...        True   \n",
       "smyle.cdr-atlas-v0.glb-dor_North_Atlantic_basin...        True   \n",
       "smyle.cdr-atlas-v0.glb-dor_North_Atlantic_basin...        True   \n",
       "smyle.cdr-atlas-v0.glb-dor_North_Atlantic_basin...        True   \n",
       "\n",
       "                                                    ALK_ALT_CO2_rmse  \\\n",
       "case                                                                   \n",
       "smyle.cdr-atlas-v0.control.001                              0.224847   \n",
       "smyle.cdr-atlas-v0.glb-dor_North_Atlantic_basin...          0.230523   \n",
       "smyle.cdr-atlas-v0.glb-dor_North_Atlantic_basin...          0.270639   \n",
       "smyle.cdr-atlas-v0.glb-dor_North_Atlantic_basin...          0.225976   \n",
       "smyle.cdr-atlas-v0.glb-dor_North_Atlantic_basin...          0.288906   \n",
       "smyle.cdr-atlas-v0.glb-dor_North_Atlantic_basin...          0.304392   \n",
       "smyle.cdr-atlas-v0.glb-dor_North_Atlantic_basin...          0.271811   \n",
       "smyle.cdr-atlas-v0.glb-dor_North_Atlantic_basin...          0.231316   \n",
       "smyle.cdr-atlas-v0.glb-dor_North_Atlantic_basin...          0.288712   \n",
       "smyle.cdr-atlas-v0.glb-dor_North_Atlantic_basin...          0.266986   \n",
       "\n",
       "                                                    ALK_rmse  \\\n",
       "case                                                           \n",
       "smyle.cdr-atlas-v0.control.001                      0.224846   \n",
       "smyle.cdr-atlas-v0.glb-dor_North_Atlantic_basin...       NaN   \n",
       "smyle.cdr-atlas-v0.glb-dor_North_Atlantic_basin...       NaN   \n",
       "smyle.cdr-atlas-v0.glb-dor_North_Atlantic_basin...       NaN   \n",
       "smyle.cdr-atlas-v0.glb-dor_North_Atlantic_basin...       NaN   \n",
       "smyle.cdr-atlas-v0.glb-dor_North_Atlantic_basin...       NaN   \n",
       "smyle.cdr-atlas-v0.glb-dor_North_Atlantic_basin...       NaN   \n",
       "smyle.cdr-atlas-v0.glb-dor_North_Atlantic_basin...       NaN   \n",
       "smyle.cdr-atlas-v0.glb-dor_North_Atlantic_basin...       NaN   \n",
       "smyle.cdr-atlas-v0.glb-dor_North_Atlantic_basin...       NaN   \n",
       "\n",
       "                                                    DIC_ALT_CO2_rmse  \\\n",
       "case                                                                   \n",
       "smyle.cdr-atlas-v0.control.001                              0.325688   \n",
       "smyle.cdr-atlas-v0.glb-dor_North_Atlantic_basin...          0.336078   \n",
       "smyle.cdr-atlas-v0.glb-dor_North_Atlantic_basin...          0.315976   \n",
       "smyle.cdr-atlas-v0.glb-dor_North_Atlantic_basin...          0.302304   \n",
       "smyle.cdr-atlas-v0.glb-dor_North_Atlantic_basin...          0.368662   \n",
       "smyle.cdr-atlas-v0.glb-dor_North_Atlantic_basin...          0.325744   \n",
       "smyle.cdr-atlas-v0.glb-dor_North_Atlantic_basin...          0.338407   \n",
       "smyle.cdr-atlas-v0.glb-dor_North_Atlantic_basin...          0.271501   \n",
       "smyle.cdr-atlas-v0.glb-dor_North_Atlantic_basin...          0.273994   \n",
       "smyle.cdr-atlas-v0.glb-dor_North_Atlantic_basin...          0.287574   \n",
       "\n",
       "                                                    DIC_rmse  DOC_rmse  \\\n",
       "case                                                                     \n",
       "smyle.cdr-atlas-v0.control.001                      0.304365  0.045923   \n",
       "smyle.cdr-atlas-v0.glb-dor_North_Atlantic_basin...       NaN       NaN   \n",
       "smyle.cdr-atlas-v0.glb-dor_North_Atlantic_basin...       NaN       NaN   \n",
       "smyle.cdr-atlas-v0.glb-dor_North_Atlantic_basin...       NaN       NaN   \n",
       "smyle.cdr-atlas-v0.glb-dor_North_Atlantic_basin...       NaN       NaN   \n",
       "smyle.cdr-atlas-v0.glb-dor_North_Atlantic_basin...       NaN       NaN   \n",
       "smyle.cdr-atlas-v0.glb-dor_North_Atlantic_basin...       NaN       NaN   \n",
       "smyle.cdr-atlas-v0.glb-dor_North_Atlantic_basin...       NaN       NaN   \n",
       "smyle.cdr-atlas-v0.glb-dor_North_Atlantic_basin...       NaN       NaN   \n",
       "smyle.cdr-atlas-v0.glb-dor_North_Atlantic_basin...       NaN       NaN   \n",
       "\n",
       "                                                    DOCr_rmse  DON_rmse  \\\n",
       "case                                                                      \n",
       "smyle.cdr-atlas-v0.control.001                       0.011091  0.004066   \n",
       "smyle.cdr-atlas-v0.glb-dor_North_Atlantic_basin...        NaN       NaN   \n",
       "smyle.cdr-atlas-v0.glb-dor_North_Atlantic_basin...        NaN       NaN   \n",
       "smyle.cdr-atlas-v0.glb-dor_North_Atlantic_basin...        NaN       NaN   \n",
       "smyle.cdr-atlas-v0.glb-dor_North_Atlantic_basin...        NaN       NaN   \n",
       "smyle.cdr-atlas-v0.glb-dor_North_Atlantic_basin...        NaN       NaN   \n",
       "smyle.cdr-atlas-v0.glb-dor_North_Atlantic_basin...        NaN       NaN   \n",
       "smyle.cdr-atlas-v0.glb-dor_North_Atlantic_basin...        NaN       NaN   \n",
       "smyle.cdr-atlas-v0.glb-dor_North_Atlantic_basin...        NaN       NaN   \n",
       "smyle.cdr-atlas-v0.glb-dor_North_Atlantic_basin...        NaN       NaN   \n",
       "\n",
       "                                                    DONr_rmse  DOP_rmse  ...  \\\n",
       "case                                                                     ...   \n",
       "smyle.cdr-atlas-v0.control.001                       0.000207  0.000238  ...   \n",
       "smyle.cdr-atlas-v0.glb-dor_North_Atlantic_basin...        NaN       NaN  ...   \n",
       "smyle.cdr-atlas-v0.glb-dor_North_Atlantic_basin...        NaN       NaN  ...   \n",
       "smyle.cdr-atlas-v0.glb-dor_North_Atlantic_basin...        NaN       NaN  ...   \n",
       "smyle.cdr-atlas-v0.glb-dor_North_Atlantic_basin...        NaN       NaN  ...   \n",
       "smyle.cdr-atlas-v0.glb-dor_North_Atlantic_basin...        NaN       NaN  ...   \n",
       "smyle.cdr-atlas-v0.glb-dor_North_Atlantic_basin...        NaN       NaN  ...   \n",
       "smyle.cdr-atlas-v0.glb-dor_North_Atlantic_basin...        NaN       NaN  ...   \n",
       "smyle.cdr-atlas-v0.glb-dor_North_Atlantic_basin...        NaN       NaN  ...   \n",
       "smyle.cdr-atlas-v0.glb-dor_North_Atlantic_basin...        NaN       NaN  ...   \n",
       "\n",
       "                                                    diazC_rmse  diazChl_rmse  \\\n",
       "case                                                                           \n",
       "smyle.cdr-atlas-v0.control.001                        0.000601      0.000147   \n",
       "smyle.cdr-atlas-v0.glb-dor_North_Atlantic_basin...         NaN           NaN   \n",
       "smyle.cdr-atlas-v0.glb-dor_North_Atlantic_basin...         NaN           NaN   \n",
       "smyle.cdr-atlas-v0.glb-dor_North_Atlantic_basin...         NaN           NaN   \n",
       "smyle.cdr-atlas-v0.glb-dor_North_Atlantic_basin...         NaN           NaN   \n",
       "smyle.cdr-atlas-v0.glb-dor_North_Atlantic_basin...         NaN           NaN   \n",
       "smyle.cdr-atlas-v0.glb-dor_North_Atlantic_basin...         NaN           NaN   \n",
       "smyle.cdr-atlas-v0.glb-dor_North_Atlantic_basin...         NaN           NaN   \n",
       "smyle.cdr-atlas-v0.glb-dor_North_Atlantic_basin...         NaN           NaN   \n",
       "smyle.cdr-atlas-v0.glb-dor_North_Atlantic_basin...         NaN           NaN   \n",
       "\n",
       "                                                     diazFe_rmse  diazP_rmse  \\\n",
       "case                                                                           \n",
       "smyle.cdr-atlas-v0.control.001                      4.014262e-08    0.000005   \n",
       "smyle.cdr-atlas-v0.glb-dor_North_Atlantic_basin...           NaN         NaN   \n",
       "smyle.cdr-atlas-v0.glb-dor_North_Atlantic_basin...           NaN         NaN   \n",
       "smyle.cdr-atlas-v0.glb-dor_North_Atlantic_basin...           NaN         NaN   \n",
       "smyle.cdr-atlas-v0.glb-dor_North_Atlantic_basin...           NaN         NaN   \n",
       "smyle.cdr-atlas-v0.glb-dor_North_Atlantic_basin...           NaN         NaN   \n",
       "smyle.cdr-atlas-v0.glb-dor_North_Atlantic_basin...           NaN         NaN   \n",
       "smyle.cdr-atlas-v0.glb-dor_North_Atlantic_basin...           NaN         NaN   \n",
       "smyle.cdr-atlas-v0.glb-dor_North_Atlantic_basin...           NaN         NaN   \n",
       "smyle.cdr-atlas-v0.glb-dor_North_Atlantic_basin...           NaN         NaN   \n",
       "\n",
       "                                                    spC_rmse  spCaCO3_rmse  \\\n",
       "case                                                                         \n",
       "smyle.cdr-atlas-v0.control.001                      0.025289      0.005248   \n",
       "smyle.cdr-atlas-v0.glb-dor_North_Atlantic_basin...       NaN           NaN   \n",
       "smyle.cdr-atlas-v0.glb-dor_North_Atlantic_basin...       NaN           NaN   \n",
       "smyle.cdr-atlas-v0.glb-dor_North_Atlantic_basin...       NaN           NaN   \n",
       "smyle.cdr-atlas-v0.glb-dor_North_Atlantic_basin...       NaN           NaN   \n",
       "smyle.cdr-atlas-v0.glb-dor_North_Atlantic_basin...       NaN           NaN   \n",
       "smyle.cdr-atlas-v0.glb-dor_North_Atlantic_basin...       NaN           NaN   \n",
       "smyle.cdr-atlas-v0.glb-dor_North_Atlantic_basin...       NaN           NaN   \n",
       "smyle.cdr-atlas-v0.glb-dor_North_Atlantic_basin...       NaN           NaN   \n",
       "smyle.cdr-atlas-v0.glb-dor_North_Atlantic_basin...       NaN           NaN   \n",
       "\n",
       "                                                    spChl_rmse     spFe_rmse  \\\n",
       "case                                                                           \n",
       "smyle.cdr-atlas-v0.control.001                        0.003786  6.857399e-07   \n",
       "smyle.cdr-atlas-v0.glb-dor_North_Atlantic_basin...         NaN           NaN   \n",
       "smyle.cdr-atlas-v0.glb-dor_North_Atlantic_basin...         NaN           NaN   \n",
       "smyle.cdr-atlas-v0.glb-dor_North_Atlantic_basin...         NaN           NaN   \n",
       "smyle.cdr-atlas-v0.glb-dor_North_Atlantic_basin...         NaN           NaN   \n",
       "smyle.cdr-atlas-v0.glb-dor_North_Atlantic_basin...         NaN           NaN   \n",
       "smyle.cdr-atlas-v0.glb-dor_North_Atlantic_basin...         NaN           NaN   \n",
       "smyle.cdr-atlas-v0.glb-dor_North_Atlantic_basin...         NaN           NaN   \n",
       "smyle.cdr-atlas-v0.glb-dor_North_Atlantic_basin...         NaN           NaN   \n",
       "smyle.cdr-atlas-v0.glb-dor_North_Atlantic_basin...         NaN           NaN   \n",
       "\n",
       "                                                    spP_rmse  zooC_rmse  \n",
       "case                                                                     \n",
       "smyle.cdr-atlas-v0.control.001                      0.000216   0.010324  \n",
       "smyle.cdr-atlas-v0.glb-dor_North_Atlantic_basin...       NaN        NaN  \n",
       "smyle.cdr-atlas-v0.glb-dor_North_Atlantic_basin...       NaN        NaN  \n",
       "smyle.cdr-atlas-v0.glb-dor_North_Atlantic_basin...       NaN        NaN  \n",
       "smyle.cdr-atlas-v0.glb-dor_North_Atlantic_basin...       NaN        NaN  \n",
       "smyle.cdr-atlas-v0.glb-dor_North_Atlantic_basin...       NaN        NaN  \n",
       "smyle.cdr-atlas-v0.glb-dor_North_Atlantic_basin...       NaN        NaN  \n",
       "smyle.cdr-atlas-v0.glb-dor_North_Atlantic_basin...       NaN        NaN  \n",
       "smyle.cdr-atlas-v0.glb-dor_North_Atlantic_basin...       NaN        NaN  \n",
       "smyle.cdr-atlas-v0.glb-dor_North_Atlantic_basin...       NaN        NaN  \n",
       "\n",
       "[10 rows x 40 columns]"
      ]
     },
     "execution_count": 17,
     "metadata": {},
     "output_type": "execute_result"
    }
   ],
   "source": [
    "df = calc.df_validation\n",
    "df"
   ]
  },
  {
   "cell_type": "code",
   "execution_count": 18,
   "id": "3e57dbb8-5051-486f-acb2-80d3543ab768",
   "metadata": {
    "tags": []
   },
   "outputs": [
    {
     "data": {
      "text/plain": [
       "<Axes: ylabel='Frequency'>"
      ]
     },
     "execution_count": 18,
     "metadata": {},
     "output_type": "execute_result"
    },
    {
     "data": {
      "image/png": "[encoded data removed]",
      "text/plain": [
       "<Figure size 640x480 with 1 Axes>"
      ]
     },
     "metadata": {},
     "output_type": "display_data"
    }
   ],
   "source": [
    "df.ALK_ALT_CO2_rmse.plot.hist(bins=20)"
   ]
  },
  {
   "cell_type": "code",
   "execution_count": 19,
   "id": "51d7d9e8-924c-4fd1-9f9e-6180b7ae5adc",
   "metadata": {
    "tags": []
   },
   "outputs": [
    {
     "data": {
      "text/plain": [
       "<Axes: ylabel='Frequency'>"
      ]
     },
     "execution_count": 19,
     "metadata": {},
     "output_type": "execute_result"
    },
    {
     "data": {
      "image/png": "[encoded data removed]",
      "text/plain": [
       "<Figure size 640x480 with 1 Axes>"
      ]
     },
     "metadata": {},
     "output_type": "display_data"
    }
   ],
   "source": [
    "df.DIC_ALT_CO2_rmse.plot.hist(bins=20)"
   ]
  },
  {
   "cell_type": "code",
   "execution_count": 20,
   "id": "63b76673-bed4-44cd-be5b-16a4b3d30e1c",
   "metadata": {
    "tags": []
   },
   "outputs": [
    {
     "data": {
      "text/plain": [
       "<Axes: ylabel='Frequency'>"
      ]
     },
     "execution_count": 20,
     "metadata": {},
     "output_type": "execute_result"
    },
    {
     "data": {
      "image/png": "[encoded data removed]",
      "text/plain": [
       "<Figure size 640x480 with 1 Axes>"
      ]
     },
     "metadata": {},
     "output_type": "display_data"
    }
   ],
   "source": [
    "df.FG_ALT_CO2_rmse.plot.hist(bins=20)"
   ]
  },
  {
   "cell_type": "markdown",
   "id": "8a845ca3-350d-44f5-857e-897a32c797b7",
   "metadata": {
    "tags": []
   },
   "source": [
    "## Analysis"
   ]
  },
  {
   "cell_type": "code",
   "execution_count": 21,
   "id": "054ed425-2eb1-4bec-930c-0e3fcc9c6151",
   "metadata": {},
   "outputs": [
    {
     "name": "stdout",
     "output_type": "stream",
     "text": [
      "spinning up dask cluster with scheduler:\n",
      "  /pscratch/sd/m/mattlong/Ocean-CDR-Atlas-v0/dask/dask_scheduler_file.fg4ubnii.json\n",
      "cluster running...\n",
      "Dashboard:\n",
      " https://jupyter.nersc.gov//user/mattlong/perlmutter-login-node-base/proxy/10.249.1.255:8787/status\n",
      "================================================================================\n",
      "smyle.cdr-atlas-v0.glb-dor_North_Atlantic_basin_000_1999-01-01_00000.001\n",
      "================================================================================\n",
      "smyle.cdr-atlas-v0.glb-dor_North_Atlantic_basin_000_1999-04-01_00001.001\n",
      "================================================================================\n",
      "smyle.cdr-atlas-v0.glb-dor_North_Atlantic_basin_000_1999-07-01_00002.001\n",
      "computing /global/cfs/projectdirs/m4746/Projects/Ocean-CDR-Atlas-v0/data/analysis/smyle.cdr-atlas-v0.glb-dor_North_Atlantic_basin_000_1999-07-01_00002.001.analysis.zarr\n",
      "writing /global/cfs/projectdirs/m4746/Projects/Ocean-CDR-Atlas-v0/data/analysis/smyle.cdr-atlas-v0.glb-dor_North_Atlantic_basin_000_1999-07-01_00002.001.analysis.zarr\n",
      "================================================================================\n",
      "smyle.cdr-atlas-v0.glb-dor_North_Atlantic_basin_000_1999-10-01_00003.001\n",
      "================================================================================\n",
      "smyle.cdr-atlas-v0.glb-dor_North_Atlantic_basin_001_1999-01-01_00004.001\n",
      "================================================================================\n",
      "smyle.cdr-atlas-v0.glb-dor_North_Atlantic_basin_001_1999-04-01_00005.001\n",
      "================================================================================\n",
      "smyle.cdr-atlas-v0.glb-dor_North_Atlantic_basin_001_1999-07-01_00006.001\n",
      "================================================================================\n",
      "smyle.cdr-atlas-v0.glb-dor_North_Atlantic_basin_001_1999-10-01_00007.001\n",
      "================================================================================\n",
      "smyle.cdr-atlas-v0.glb-dor_North_Atlantic_basin_002_1999-01-01_00008.001\n"
     ]
    },
    {
     "data": {
      "text/plain": [
       "['/global/cfs/projectdirs/m4746/Projects/Ocean-CDR-Atlas-v0/data/analysis/smyle.cdr-atlas-v0.glb-dor_North_Atlantic_basin_000_1999-01-01_00000.001.analysis.zarr',\n",
       " '/global/cfs/projectdirs/m4746/Projects/Ocean-CDR-Atlas-v0/data/analysis/smyle.cdr-atlas-v0.glb-dor_North_Atlantic_basin_000_1999-04-01_00001.001.analysis.zarr',\n",
       " '/global/cfs/projectdirs/m4746/Projects/Ocean-CDR-Atlas-v0/data/analysis/smyle.cdr-atlas-v0.glb-dor_North_Atlantic_basin_000_1999-07-01_00002.001.analysis.zarr',\n",
       " '/global/cfs/projectdirs/m4746/Projects/Ocean-CDR-Atlas-v0/data/analysis/smyle.cdr-atlas-v0.glb-dor_North_Atlantic_basin_000_1999-10-01_00003.001.analysis.zarr',\n",
       " '/global/cfs/projectdirs/m4746/Projects/Ocean-CDR-Atlas-v0/data/analysis/smyle.cdr-atlas-v0.glb-dor_North_Atlantic_basin_001_1999-01-01_00004.001.analysis.zarr',\n",
       " '/global/cfs/projectdirs/m4746/Projects/Ocean-CDR-Atlas-v0/data/analysis/smyle.cdr-atlas-v0.glb-dor_North_Atlantic_basin_001_1999-04-01_00005.001.analysis.zarr',\n",
       " '/global/cfs/projectdirs/m4746/Projects/Ocean-CDR-Atlas-v0/data/analysis/smyle.cdr-atlas-v0.glb-dor_North_Atlantic_basin_001_1999-07-01_00006.001.analysis.zarr',\n",
       " '/global/cfs/projectdirs/m4746/Projects/Ocean-CDR-Atlas-v0/data/analysis/smyle.cdr-atlas-v0.glb-dor_North_Atlantic_basin_001_1999-10-01_00007.001.analysis.zarr',\n",
       " '/global/cfs/projectdirs/m4746/Projects/Ocean-CDR-Atlas-v0/data/analysis/smyle.cdr-atlas-v0.glb-dor_North_Atlantic_basin_002_1999-01-01_00008.001.analysis.zarr']"
      ]
     },
     "execution_count": 21,
     "metadata": {},
     "output_type": "execute_result"
    }
   ],
   "source": [
    "paths = calc.analyze(clobber=False)\n",
    "paths"
   ]
  },
  {
   "cell_type": "code",
   "execution_count": 35,
   "id": "6a64bd05-f72e-4422-beb6-effcc19445c8",
   "metadata": {
    "tags": []
   },
   "outputs": [
    {
     "data": {
      "image/png": "[encoded data removed]",
      "text/plain": [
       "<Figure size 600x400 with 1 Axes>"
      ]
     },
     "metadata": {},
     "output_type": "display_data"
    }
   ],
   "source": [
    "fig, ax = plt.subplots(1, 1, figsize=(6, 4))\n",
    "for p in paths:\n",
    "    da = xr.open_zarr(p)[\"DIC_ADD_TOTAL\"]\n",
    "    da.plot(ax=ax)"
   ]
  },
  {
   "cell_type": "markdown",
   "id": "4878faa5-0a6f-4205-a384-121fff76d3ed",
   "metadata": {},
   "source": [
    "## Visualization"
   ]
  },
  {
   "cell_type": "code",
   "execution_count": 37,
   "id": "459c0c95-4d87-45d2-a379-16b3525ba6d4",
   "metadata": {},
   "outputs": [
    {
     "data": {
      "application/vnd.jupyter.widget-view+json": {
       "model_id": "d126de21e9c74d68aa63c94297402b75",
       "version_major": 2,
       "version_minor": 0
      },
      "text/plain": [
       "Executing:   0%|          | 0/7 [00:00<?, ?cell/s]"
      ]
     },
     "metadata": {},
     "output_type": "display_data"
    },
    {
     "data": {
      "application/vnd.jupyter.widget-view+json": {
       "model_id": "3011753b09ef43479c5f815bf60f43f6",
       "version_major": 2,
       "version_minor": 0
      },
      "text/plain": [
       "Executing:   0%|          | 0/7 [00:00<?, ?cell/s]"
      ]
     },
     "metadata": {},
     "output_type": "display_data"
    },
    {
     "data": {
      "application/vnd.jupyter.widget-view+json": {
       "model_id": "15e24aacec584aafac026fc8fd1771aa",
       "version_major": 2,
       "version_minor": 0
      },
      "text/plain": [
       "Executing:   0%|          | 0/15 [00:00<?, ?cell/s]"
      ]
     },
     "metadata": {},
     "output_type": "display_data"
    },
    {
     "data": {
      "application/vnd.jupyter.widget-view+json": {
       "model_id": "006cfa8079c546138387c5662e7ac595",
       "version_major": 2,
       "version_minor": 0
      },
      "text/plain": [
       "Executing:   0%|          | 0/7 [00:00<?, ?cell/s]"
      ]
     },
     "metadata": {},
     "output_type": "display_data"
    },
    {
     "data": {
      "application/vnd.jupyter.widget-view+json": {
       "model_id": "c469319ff9374293ba89c0dfe3d06f55",
       "version_major": 2,
       "version_minor": 0
      },
      "text/plain": [
       "Executing:   0%|          | 0/15 [00:00<?, ?cell/s]"
      ]
     },
     "metadata": {},
     "output_type": "display_data"
    },
    {
     "data": {
      "application/vnd.jupyter.widget-view+json": {
       "model_id": "b0d1c4ffb3624b20aa5bffb51ddaf791",
       "version_major": 2,
       "version_minor": 0
      },
      "text/plain": [
       "Executing:   0%|          | 0/7 [00:00<?, ?cell/s]"
      ]
     },
     "metadata": {},
     "output_type": "display_data"
    },
    {
     "data": {
      "application/vnd.jupyter.widget-view+json": {
       "model_id": "3297f3d3018346bab30a90bfdef3d5b9",
       "version_major": 2,
       "version_minor": 0
      },
      "text/plain": [
       "Executing:   0%|          | 0/15 [00:00<?, ?cell/s]"
      ]
     },
     "metadata": {},
     "output_type": "display_data"
    },
    {
     "data": {
      "application/vnd.jupyter.widget-view+json": {
       "model_id": "864a62e95ea3451e93825c444aac7d4d",
       "version_major": 2,
       "version_minor": 0
      },
      "text/plain": [
       "Executing:   0%|          | 0/7 [00:00<?, ?cell/s]"
      ]
     },
     "metadata": {},
     "output_type": "display_data"
    },
    {
     "data": {
      "application/vnd.jupyter.widget-view+json": {
       "model_id": "041aa44969a94cfdbf215142a27b88a9",
       "version_major": 2,
       "version_minor": 0
      },
      "text/plain": [
       "Executing:   0%|          | 0/15 [00:00<?, ?cell/s]"
      ]
     },
     "metadata": {},
     "output_type": "display_data"
    },
    {
     "data": {
      "application/vnd.jupyter.widget-view+json": {
       "model_id": "606a2a516ae14030a21bd93720349c05",
       "version_major": 2,
       "version_minor": 0
      },
      "text/plain": [
       "Executing:   0%|          | 0/7 [00:00<?, ?cell/s]"
      ]
     },
     "metadata": {},
     "output_type": "display_data"
    },
    {
     "data": {
      "application/vnd.jupyter.widget-view+json": {
       "model_id": "b3d30b584bfa45f2a7a2e8113261eee6",
       "version_major": 2,
       "version_minor": 0
      },
      "text/plain": [
       "Executing:   0%|          | 0/15 [00:00<?, ?cell/s]"
      ]
     },
     "metadata": {},
     "output_type": "display_data"
    },
    {
     "data": {
      "application/vnd.jupyter.widget-view+json": {
       "model_id": "d03dec3acd8f45e69e97b55bc4a3cfd8",
       "version_major": 2,
       "version_minor": 0
      },
      "text/plain": [
       "Executing:   0%|          | 0/7 [00:00<?, ?cell/s]"
      ]
     },
     "metadata": {},
     "output_type": "display_data"
    },
    {
     "data": {
      "application/vnd.jupyter.widget-view+json": {
       "model_id": "55e649d0f12248b182300f34b6e988b1",
       "version_major": 2,
       "version_minor": 0
      },
      "text/plain": [
       "Executing:   0%|          | 0/15 [00:00<?, ?cell/s]"
      ]
     },
     "metadata": {},
     "output_type": "display_data"
    },
    {
     "data": {
      "application/vnd.jupyter.widget-view+json": {
       "model_id": "68fa14a77d4e4246b847a84917d15c62",
       "version_major": 2,
       "version_minor": 0
      },
      "text/plain": [
       "Executing:   0%|          | 0/7 [00:00<?, ?cell/s]"
      ]
     },
     "metadata": {},
     "output_type": "display_data"
    },
    {
     "data": {
      "application/vnd.jupyter.widget-view+json": {
       "model_id": "71688ed1308b4c949603a10719127f7d",
       "version_major": 2,
       "version_minor": 0
      },
      "text/plain": [
       "Executing:   0%|          | 0/15 [00:00<?, ?cell/s]"
      ]
     },
     "metadata": {},
     "output_type": "display_data"
    },
    {
     "data": {
      "application/vnd.jupyter.widget-view+json": {
       "model_id": "9b3ea356fc514bd99f79d8022c37cf04",
       "version_major": 2,
       "version_minor": 0
      },
      "text/plain": [
       "Executing:   0%|          | 0/7 [00:00<?, ?cell/s]"
      ]
     },
     "metadata": {},
     "output_type": "display_data"
    },
    {
     "data": {
      "application/vnd.jupyter.widget-view+json": {
       "model_id": "56835383bd1d4524b74365e83f913076",
       "version_major": 2,
       "version_minor": 0
      },
      "text/plain": [
       "Executing:   0%|          | 0/15 [00:00<?, ?cell/s]"
      ]
     },
     "metadata": {},
     "output_type": "display_data"
    },
    {
     "data": {
      "application/vnd.jupyter.widget-view+json": {
       "model_id": "9a5f52cce96643b19f2e931eae214423",
       "version_major": 2,
       "version_minor": 0
      },
      "text/plain": [
       "Executing:   0%|          | 0/7 [00:00<?, ?cell/s]"
      ]
     },
     "metadata": {},
     "output_type": "display_data"
    },
    {
     "data": {
      "application/vnd.jupyter.widget-view+json": {
       "model_id": "a0694e26f6714107ad010f3cbb0ddb69",
       "version_major": 2,
       "version_minor": 0
      },
      "text/plain": [
       "Executing:   0%|          | 0/15 [00:00<?, ?cell/s]"
      ]
     },
     "metadata": {},
     "output_type": "display_data"
    }
   ],
   "source": [
    "calc.visualize(clobber=True)"
   ]
  },
  {
   "cell_type": "code",
   "execution_count": null,
   "id": "8db2acee-69e1-454d-8a49-d0635edcca9b",
   "metadata": {},
   "outputs": [],
   "source": []
  }
 ],
 "metadata": {
  "kernelspec": {
   "display_name": "cworthy",
   "language": "python",
   "name": "env"
  },
  "language_info": {
   "codemirror_mode": {
    "name": "ipython",
    "version": 3
   },
   "file_extension": ".py",
   "mimetype": "text/x-python",
   "name": "python",
   "nbconvert_exporter": "python",
   "pygments_lexer": "ipython3",
   "version": "3.12.5"
  }
 },
 "nbformat": 4,
 "nbformat_minor": 5
}
