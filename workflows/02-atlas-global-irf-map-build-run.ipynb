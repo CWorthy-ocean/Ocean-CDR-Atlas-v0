{
 "cells": [
  {
   "cell_type": "markdown",
   "id": "c109ad0d-4cab-422e-8e68-7e2c924ae156",
   "metadata": {},
   "source": [
    "# Global IRF Efficiency Map\n",
    "\n",
    "Generate global map of CDR efficiency using IRF forcing."
   ]
  },
  {
   "cell_type": "code",
   "execution_count": 1,
   "id": "6496a28d-c37b-4764-ac76-2d3feb1164da",
   "metadata": {
    "tags": []
   },
   "outputs": [],
   "source": [
    "%load_ext autoreload\n",
    "%autoreload 2"
   ]
  },
  {
   "cell_type": "code",
   "execution_count": 2,
   "id": "0d784c2f-87bb-4e4c-9465-535c267b07ed",
   "metadata": {
    "tags": []
   },
   "outputs": [],
   "source": [
    "import xarray as xr\n",
    "import matplotlib.pyplot as plt\n",
    "\n",
    "import atlas"
   ]
  },
  {
   "cell_type": "markdown",
   "id": "b629571f-dee0-47d1-82fd-91aade101e2b",
   "metadata": {},
   "source": [
    "## Define experiment and phase\n",
    "\n"
   ]
  },
  {
   "cell_type": "code",
   "execution_count": 3,
   "id": "93e67af1-9485-4ac9-b6fd-3851b82af757",
   "metadata": {
    "tags": [
     "parameters"
    ]
   },
   "outputs": [],
   "source": [
    "cdr_forcing = \"DOR\"\n",
    "vintage = \"001\"\n",
    "phase = \"deploy\"\n",
    "clobber = False"
   ]
  },
  {
   "cell_type": "code",
   "execution_count": 4,
   "id": "a37826ce-7b72-467a-a4c6-d4f88968fada",
   "metadata": {
    "tags": []
   },
   "outputs": [],
   "source": [
    "calc = atlas.global_irf_map(cdr_forcing, vintage)"
   ]
  },
  {
   "cell_type": "markdown",
   "id": "853ae906-9dec-4b25-82ea-bf0be14f7a1f",
   "metadata": {},
   "source": [
    "## Table of experiments"
   ]
  },
  {
   "cell_type": "code",
   "execution_count": 5,
   "id": "aa518170-6b87-4f0d-a783-5278495aed4a",
   "metadata": {
    "tags": []
   },
   "outputs": [
    {
     "data": {
      "text/html": [
       "<div>\n",
       "<style scoped>\n",
       "    .dataframe tbody tr th:only-of-type {\n",
       "        vertical-align: middle;\n",
       "    }\n",
       "\n",
       "    .dataframe tbody tr th {\n",
       "        vertical-align: top;\n",
       "    }\n",
       "\n",
       "    .dataframe thead th {\n",
       "        text-align: right;\n",
       "    }\n",
       "</style>\n",
       "<table border=\"1\" class=\"dataframe\">\n",
       "  <thead>\n",
       "    <tr style=\"text-align: right;\">\n",
       "      <th></th>\n",
       "      <th>blueprint</th>\n",
       "      <th>polygon</th>\n",
       "      <th>polygon_master</th>\n",
       "      <th>basin</th>\n",
       "      <th>start_date</th>\n",
       "      <th>cdr_forcing</th>\n",
       "      <th>cdr_forcing_file</th>\n",
       "      <th>simulation_key</th>\n",
       "      <th>refdate</th>\n",
       "      <th>stop_n</th>\n",
       "      <th>wallclock</th>\n",
       "      <th>curtail_output</th>\n",
       "    </tr>\n",
       "    <tr>\n",
       "      <th>case</th>\n",
       "      <th></th>\n",
       "      <th></th>\n",
       "      <th></th>\n",
       "      <th></th>\n",
       "      <th></th>\n",
       "      <th></th>\n",
       "      <th></th>\n",
       "      <th></th>\n",
       "      <th></th>\n",
       "      <th></th>\n",
       "      <th></th>\n",
       "      <th></th>\n",
       "    </tr>\n",
       "  </thead>\n",
       "  <tbody>\n",
       "    <tr>\n",
       "      <th>smyle.cdr-atlas-v0.control.bundle</th>\n",
       "      <td>smyle</td>\n",
       "      <td>NaN</td>\n",
       "      <td>NaN</td>\n",
       "      <td>None</td>\n",
       "      <td>1999-01</td>\n",
       "      <td>None</td>\n",
       "      <td>None</td>\n",
       "      <td>baseline</td>\n",
       "      <td>0347-01-01</td>\n",
       "      <td>16</td>\n",
       "      <td>12:00:00</td>\n",
       "      <td>False</td>\n",
       "    </tr>\n",
       "    <tr>\n",
       "      <th>smyle.cdr-atlas-v0.glb-dor_North_Atlantic_basin_000_1999-01-01_00000.bundle</th>\n",
       "      <td>smyle</td>\n",
       "      <td>0.0</td>\n",
       "      <td>0.0</td>\n",
       "      <td>North_Atlantic_basin</td>\n",
       "      <td>1999-01</td>\n",
       "      <td>DOR</td>\n",
       "      <td>/global/cfs/projectdirs/m4746/Projects/OAE-Eff...</td>\n",
       "      <td>glb-dor_North_Atlantic_basin_000_1999-01-01_00000</td>\n",
       "      <td>0347-01-01</td>\n",
       "      <td>15</td>\n",
       "      <td>10:00:00</td>\n",
       "      <td>True</td>\n",
       "    </tr>\n",
       "    <tr>\n",
       "      <th>smyle.cdr-atlas-v0.glb-dor_North_Atlantic_basin_000_1999-04-01_00001.bundle</th>\n",
       "      <td>smyle</td>\n",
       "      <td>0.0</td>\n",
       "      <td>0.0</td>\n",
       "      <td>North_Atlantic_basin</td>\n",
       "      <td>1999-04</td>\n",
       "      <td>DOR</td>\n",
       "      <td>/global/cfs/projectdirs/m4746/Projects/OAE-Eff...</td>\n",
       "      <td>glb-dor_North_Atlantic_basin_000_1999-04-01_00001</td>\n",
       "      <td>0347-04-01</td>\n",
       "      <td>15</td>\n",
       "      <td>10:00:00</td>\n",
       "      <td>True</td>\n",
       "    </tr>\n",
       "    <tr>\n",
       "      <th>smyle.cdr-atlas-v0.glb-dor_North_Atlantic_basin_000_1999-07-01_00002.bundle</th>\n",
       "      <td>smyle</td>\n",
       "      <td>0.0</td>\n",
       "      <td>0.0</td>\n",
       "      <td>North_Atlantic_basin</td>\n",
       "      <td>1999-07</td>\n",
       "      <td>DOR</td>\n",
       "      <td>/global/cfs/projectdirs/m4746/Projects/OAE-Eff...</td>\n",
       "      <td>glb-dor_North_Atlantic_basin_000_1999-07-01_00002</td>\n",
       "      <td>0347-07-01</td>\n",
       "      <td>15</td>\n",
       "      <td>10:00:00</td>\n",
       "      <td>True</td>\n",
       "    </tr>\n",
       "    <tr>\n",
       "      <th>smyle.cdr-atlas-v0.glb-dor_North_Atlantic_basin_000_1999-10-01_00003.bundle</th>\n",
       "      <td>smyle</td>\n",
       "      <td>0.0</td>\n",
       "      <td>0.0</td>\n",
       "      <td>North_Atlantic_basin</td>\n",
       "      <td>1999-10</td>\n",
       "      <td>DOR</td>\n",
       "      <td>/global/cfs/projectdirs/m4746/Projects/OAE-Eff...</td>\n",
       "      <td>glb-dor_North_Atlantic_basin_000_1999-10-01_00003</td>\n",
       "      <td>0347-10-01</td>\n",
       "      <td>15</td>\n",
       "      <td>10:00:00</td>\n",
       "      <td>True</td>\n",
       "    </tr>\n",
       "    <tr>\n",
       "      <th>...</th>\n",
       "      <td>...</td>\n",
       "      <td>...</td>\n",
       "      <td>...</td>\n",
       "      <td>...</td>\n",
       "      <td>...</td>\n",
       "      <td>...</td>\n",
       "      <td>...</td>\n",
       "      <td>...</td>\n",
       "      <td>...</td>\n",
       "      <td>...</td>\n",
       "      <td>...</td>\n",
       "      <td>...</td>\n",
       "    </tr>\n",
       "    <tr>\n",
       "      <th>smyle.cdr-atlas-v0.glb-dor_Southern_Ocean_038_1999-10-01_02755.bundle</th>\n",
       "      <td>smyle</td>\n",
       "      <td>38.0</td>\n",
       "      <td>688.0</td>\n",
       "      <td>Southern_Ocean</td>\n",
       "      <td>1999-10</td>\n",
       "      <td>DOR</td>\n",
       "      <td>/global/cfs/projectdirs/m4746/Projects/OAE-Eff...</td>\n",
       "      <td>glb-dor_Southern_Ocean_038_1999-10-01_02755</td>\n",
       "      <td>0347-10-01</td>\n",
       "      <td>15</td>\n",
       "      <td>10:00:00</td>\n",
       "      <td>True</td>\n",
       "    </tr>\n",
       "    <tr>\n",
       "      <th>smyle.cdr-atlas-v0.glb-dor_Southern_Ocean_039_1999-01-01_02756.bundle</th>\n",
       "      <td>smyle</td>\n",
       "      <td>39.0</td>\n",
       "      <td>689.0</td>\n",
       "      <td>Southern_Ocean</td>\n",
       "      <td>1999-01</td>\n",
       "      <td>DOR</td>\n",
       "      <td>/global/cfs/projectdirs/m4746/Projects/OAE-Eff...</td>\n",
       "      <td>glb-dor_Southern_Ocean_039_1999-01-01_02756</td>\n",
       "      <td>0347-01-01</td>\n",
       "      <td>15</td>\n",
       "      <td>10:00:00</td>\n",
       "      <td>True</td>\n",
       "    </tr>\n",
       "    <tr>\n",
       "      <th>smyle.cdr-atlas-v0.glb-dor_Southern_Ocean_039_1999-04-01_02757.bundle</th>\n",
       "      <td>smyle</td>\n",
       "      <td>39.0</td>\n",
       "      <td>689.0</td>\n",
       "      <td>Southern_Ocean</td>\n",
       "      <td>1999-04</td>\n",
       "      <td>DOR</td>\n",
       "      <td>/global/cfs/projectdirs/m4746/Projects/OAE-Eff...</td>\n",
       "      <td>glb-dor_Southern_Ocean_039_1999-04-01_02757</td>\n",
       "      <td>0347-04-01</td>\n",
       "      <td>15</td>\n",
       "      <td>10:00:00</td>\n",
       "      <td>True</td>\n",
       "    </tr>\n",
       "    <tr>\n",
       "      <th>smyle.cdr-atlas-v0.glb-dor_Southern_Ocean_039_1999-07-01_02758.bundle</th>\n",
       "      <td>smyle</td>\n",
       "      <td>39.0</td>\n",
       "      <td>689.0</td>\n",
       "      <td>Southern_Ocean</td>\n",
       "      <td>1999-07</td>\n",
       "      <td>DOR</td>\n",
       "      <td>/global/cfs/projectdirs/m4746/Projects/OAE-Eff...</td>\n",
       "      <td>glb-dor_Southern_Ocean_039_1999-07-01_02758</td>\n",
       "      <td>0347-07-01</td>\n",
       "      <td>15</td>\n",
       "      <td>10:00:00</td>\n",
       "      <td>True</td>\n",
       "    </tr>\n",
       "    <tr>\n",
       "      <th>smyle.cdr-atlas-v0.glb-dor_Southern_Ocean_039_1999-10-01_02759.bundle</th>\n",
       "      <td>smyle</td>\n",
       "      <td>39.0</td>\n",
       "      <td>689.0</td>\n",
       "      <td>Southern_Ocean</td>\n",
       "      <td>1999-10</td>\n",
       "      <td>DOR</td>\n",
       "      <td>/global/cfs/projectdirs/m4746/Projects/OAE-Eff...</td>\n",
       "      <td>glb-dor_Southern_Ocean_039_1999-10-01_02759</td>\n",
       "      <td>0347-10-01</td>\n",
       "      <td>15</td>\n",
       "      <td>10:00:00</td>\n",
       "      <td>True</td>\n",
       "    </tr>\n",
       "  </tbody>\n",
       "</table>\n",
       "<p>2761 rows × 12 columns</p>\n",
       "</div>"
      ],
      "text/plain": [
       "                                                   blueprint  polygon  \\\n",
       "case                                                                    \n",
       "smyle.cdr-atlas-v0.control.bundle                      smyle      NaN   \n",
       "smyle.cdr-atlas-v0.glb-dor_North_Atlantic_basin...     smyle      0.0   \n",
       "smyle.cdr-atlas-v0.glb-dor_North_Atlantic_basin...     smyle      0.0   \n",
       "smyle.cdr-atlas-v0.glb-dor_North_Atlantic_basin...     smyle      0.0   \n",
       "smyle.cdr-atlas-v0.glb-dor_North_Atlantic_basin...     smyle      0.0   \n",
       "...                                                      ...      ...   \n",
       "smyle.cdr-atlas-v0.glb-dor_Southern_Ocean_038_1...     smyle     38.0   \n",
       "smyle.cdr-atlas-v0.glb-dor_Southern_Ocean_039_1...     smyle     39.0   \n",
       "smyle.cdr-atlas-v0.glb-dor_Southern_Ocean_039_1...     smyle     39.0   \n",
       "smyle.cdr-atlas-v0.glb-dor_Southern_Ocean_039_1...     smyle     39.0   \n",
       "smyle.cdr-atlas-v0.glb-dor_Southern_Ocean_039_1...     smyle     39.0   \n",
       "\n",
       "                                                    polygon_master  \\\n",
       "case                                                                 \n",
       "smyle.cdr-atlas-v0.control.bundle                              NaN   \n",
       "smyle.cdr-atlas-v0.glb-dor_North_Atlantic_basin...             0.0   \n",
       "smyle.cdr-atlas-v0.glb-dor_North_Atlantic_basin...             0.0   \n",
       "smyle.cdr-atlas-v0.glb-dor_North_Atlantic_basin...             0.0   \n",
       "smyle.cdr-atlas-v0.glb-dor_North_Atlantic_basin...             0.0   \n",
       "...                                                            ...   \n",
       "smyle.cdr-atlas-v0.glb-dor_Southern_Ocean_038_1...           688.0   \n",
       "smyle.cdr-atlas-v0.glb-dor_Southern_Ocean_039_1...           689.0   \n",
       "smyle.cdr-atlas-v0.glb-dor_Southern_Ocean_039_1...           689.0   \n",
       "smyle.cdr-atlas-v0.glb-dor_Southern_Ocean_039_1...           689.0   \n",
       "smyle.cdr-atlas-v0.glb-dor_Southern_Ocean_039_1...           689.0   \n",
       "\n",
       "                                                                   basin  \\\n",
       "case                                                                       \n",
       "smyle.cdr-atlas-v0.control.bundle                                   None   \n",
       "smyle.cdr-atlas-v0.glb-dor_North_Atlantic_basin...  North_Atlantic_basin   \n",
       "smyle.cdr-atlas-v0.glb-dor_North_Atlantic_basin...  North_Atlantic_basin   \n",
       "smyle.cdr-atlas-v0.glb-dor_North_Atlantic_basin...  North_Atlantic_basin   \n",
       "smyle.cdr-atlas-v0.glb-dor_North_Atlantic_basin...  North_Atlantic_basin   \n",
       "...                                                                  ...   \n",
       "smyle.cdr-atlas-v0.glb-dor_Southern_Ocean_038_1...        Southern_Ocean   \n",
       "smyle.cdr-atlas-v0.glb-dor_Southern_Ocean_039_1...        Southern_Ocean   \n",
       "smyle.cdr-atlas-v0.glb-dor_Southern_Ocean_039_1...        Southern_Ocean   \n",
       "smyle.cdr-atlas-v0.glb-dor_Southern_Ocean_039_1...        Southern_Ocean   \n",
       "smyle.cdr-atlas-v0.glb-dor_Southern_Ocean_039_1...        Southern_Ocean   \n",
       "\n",
       "                                                   start_date cdr_forcing  \\\n",
       "case                                                                        \n",
       "smyle.cdr-atlas-v0.control.bundle                     1999-01        None   \n",
       "smyle.cdr-atlas-v0.glb-dor_North_Atlantic_basin...    1999-01         DOR   \n",
       "smyle.cdr-atlas-v0.glb-dor_North_Atlantic_basin...    1999-04         DOR   \n",
       "smyle.cdr-atlas-v0.glb-dor_North_Atlantic_basin...    1999-07         DOR   \n",
       "smyle.cdr-atlas-v0.glb-dor_North_Atlantic_basin...    1999-10         DOR   \n",
       "...                                                       ...         ...   \n",
       "smyle.cdr-atlas-v0.glb-dor_Southern_Ocean_038_1...    1999-10         DOR   \n",
       "smyle.cdr-atlas-v0.glb-dor_Southern_Ocean_039_1...    1999-01         DOR   \n",
       "smyle.cdr-atlas-v0.glb-dor_Southern_Ocean_039_1...    1999-04         DOR   \n",
       "smyle.cdr-atlas-v0.glb-dor_Southern_Ocean_039_1...    1999-07         DOR   \n",
       "smyle.cdr-atlas-v0.glb-dor_Southern_Ocean_039_1...    1999-10         DOR   \n",
       "\n",
       "                                                                                     cdr_forcing_file  \\\n",
       "case                                                                                                    \n",
       "smyle.cdr-atlas-v0.control.bundle                                                                None   \n",
       "smyle.cdr-atlas-v0.glb-dor_North_Atlantic_basin...  /global/cfs/projectdirs/m4746/Projects/OAE-Eff...   \n",
       "smyle.cdr-atlas-v0.glb-dor_North_Atlantic_basin...  /global/cfs/projectdirs/m4746/Projects/OAE-Eff...   \n",
       "smyle.cdr-atlas-v0.glb-dor_North_Atlantic_basin...  /global/cfs/projectdirs/m4746/Projects/OAE-Eff...   \n",
       "smyle.cdr-atlas-v0.glb-dor_North_Atlantic_basin...  /global/cfs/projectdirs/m4746/Projects/OAE-Eff...   \n",
       "...                                                                                               ...   \n",
       "smyle.cdr-atlas-v0.glb-dor_Southern_Ocean_038_1...  /global/cfs/projectdirs/m4746/Projects/OAE-Eff...   \n",
       "smyle.cdr-atlas-v0.glb-dor_Southern_Ocean_039_1...  /global/cfs/projectdirs/m4746/Projects/OAE-Eff...   \n",
       "smyle.cdr-atlas-v0.glb-dor_Southern_Ocean_039_1...  /global/cfs/projectdirs/m4746/Projects/OAE-Eff...   \n",
       "smyle.cdr-atlas-v0.glb-dor_Southern_Ocean_039_1...  /global/cfs/projectdirs/m4746/Projects/OAE-Eff...   \n",
       "smyle.cdr-atlas-v0.glb-dor_Southern_Ocean_039_1...  /global/cfs/projectdirs/m4746/Projects/OAE-Eff...   \n",
       "\n",
       "                                                                                       simulation_key  \\\n",
       "case                                                                                                    \n",
       "smyle.cdr-atlas-v0.control.bundle                                                            baseline   \n",
       "smyle.cdr-atlas-v0.glb-dor_North_Atlantic_basin...  glb-dor_North_Atlantic_basin_000_1999-01-01_00000   \n",
       "smyle.cdr-atlas-v0.glb-dor_North_Atlantic_basin...  glb-dor_North_Atlantic_basin_000_1999-04-01_00001   \n",
       "smyle.cdr-atlas-v0.glb-dor_North_Atlantic_basin...  glb-dor_North_Atlantic_basin_000_1999-07-01_00002   \n",
       "smyle.cdr-atlas-v0.glb-dor_North_Atlantic_basin...  glb-dor_North_Atlantic_basin_000_1999-10-01_00003   \n",
       "...                                                                                               ...   \n",
       "smyle.cdr-atlas-v0.glb-dor_Southern_Ocean_038_1...        glb-dor_Southern_Ocean_038_1999-10-01_02755   \n",
       "smyle.cdr-atlas-v0.glb-dor_Southern_Ocean_039_1...        glb-dor_Southern_Ocean_039_1999-01-01_02756   \n",
       "smyle.cdr-atlas-v0.glb-dor_Southern_Ocean_039_1...        glb-dor_Southern_Ocean_039_1999-04-01_02757   \n",
       "smyle.cdr-atlas-v0.glb-dor_Southern_Ocean_039_1...        glb-dor_Southern_Ocean_039_1999-07-01_02758   \n",
       "smyle.cdr-atlas-v0.glb-dor_Southern_Ocean_039_1...        glb-dor_Southern_Ocean_039_1999-10-01_02759   \n",
       "\n",
       "                                                       refdate  stop_n  \\\n",
       "case                                                                     \n",
       "smyle.cdr-atlas-v0.control.bundle                   0347-01-01      16   \n",
       "smyle.cdr-atlas-v0.glb-dor_North_Atlantic_basin...  0347-01-01      15   \n",
       "smyle.cdr-atlas-v0.glb-dor_North_Atlantic_basin...  0347-04-01      15   \n",
       "smyle.cdr-atlas-v0.glb-dor_North_Atlantic_basin...  0347-07-01      15   \n",
       "smyle.cdr-atlas-v0.glb-dor_North_Atlantic_basin...  0347-10-01      15   \n",
       "...                                                        ...     ...   \n",
       "smyle.cdr-atlas-v0.glb-dor_Southern_Ocean_038_1...  0347-10-01      15   \n",
       "smyle.cdr-atlas-v0.glb-dor_Southern_Ocean_039_1...  0347-01-01      15   \n",
       "smyle.cdr-atlas-v0.glb-dor_Southern_Ocean_039_1...  0347-04-01      15   \n",
       "smyle.cdr-atlas-v0.glb-dor_Southern_Ocean_039_1...  0347-07-01      15   \n",
       "smyle.cdr-atlas-v0.glb-dor_Southern_Ocean_039_1...  0347-10-01      15   \n",
       "\n",
       "                                                   wallclock  curtail_output  \n",
       "case                                                                          \n",
       "smyle.cdr-atlas-v0.control.bundle                   12:00:00           False  \n",
       "smyle.cdr-atlas-v0.glb-dor_North_Atlantic_basin...  10:00:00            True  \n",
       "smyle.cdr-atlas-v0.glb-dor_North_Atlantic_basin...  10:00:00            True  \n",
       "smyle.cdr-atlas-v0.glb-dor_North_Atlantic_basin...  10:00:00            True  \n",
       "smyle.cdr-atlas-v0.glb-dor_North_Atlantic_basin...  10:00:00            True  \n",
       "...                                                      ...             ...  \n",
       "smyle.cdr-atlas-v0.glb-dor_Southern_Ocean_038_1...  10:00:00            True  \n",
       "smyle.cdr-atlas-v0.glb-dor_Southern_Ocean_039_1...  10:00:00            True  \n",
       "smyle.cdr-atlas-v0.glb-dor_Southern_Ocean_039_1...  10:00:00            True  \n",
       "smyle.cdr-atlas-v0.glb-dor_Southern_Ocean_039_1...  10:00:00            True  \n",
       "smyle.cdr-atlas-v0.glb-dor_Southern_Ocean_039_1...  10:00:00            True  \n",
       "\n",
       "[2761 rows x 12 columns]"
      ]
     },
     "execution_count": 5,
     "metadata": {},
     "output_type": "execute_result"
    }
   ],
   "source": [
    "calc.df"
   ]
  },
  {
   "cell_type": "markdown",
   "id": "3ea0d27f-66e2-4c24-b7ed-adec49d92e8a",
   "metadata": {},
   "source": [
    "## Check status"
   ]
  },
  {
   "cell_type": "code",
   "execution_count": 6,
   "id": "87656e5c-6445-45ab-a906-452ee63206f1",
   "metadata": {},
   "outputs": [
    {
     "name": "stdout",
     "output_type": "stream",
     "text": [
      "CPU times: user 11.8 ms, sys: 12.6 ms, total: 24.4 ms\n",
      "Wall time: 280 ms\n"
     ]
    },
    {
     "data": {
      "text/html": [
       "<div>\n",
       "<style scoped>\n",
       "    .dataframe tbody tr th:only-of-type {\n",
       "        vertical-align: middle;\n",
       "    }\n",
       "\n",
       "    .dataframe tbody tr th {\n",
       "        vertical-align: top;\n",
       "    }\n",
       "\n",
       "    .dataframe thead th {\n",
       "        text-align: right;\n",
       "    }\n",
       "</style>\n",
       "<table border=\"1\" class=\"dataframe\">\n",
       "  <thead>\n",
       "    <tr style=\"text-align: right;\">\n",
       "      <th></th>\n",
       "      <th>build</th>\n",
       "      <th>submitted</th>\n",
       "      <th>run_completed</th>\n",
       "      <th>archive</th>\n",
       "      <th>error</th>\n",
       "      <th>error_count</th>\n",
       "      <th>timestamp_run</th>\n",
       "      <th>JobId</th>\n",
       "      <th>JobState</th>\n",
       "      <th>Queued</th>\n",
       "      <th>yr_per_day</th>\n",
       "      <th>pe-hr_per_yr</th>\n",
       "    </tr>\n",
       "    <tr>\n",
       "      <th>case</th>\n",
       "      <th></th>\n",
       "      <th></th>\n",
       "      <th></th>\n",
       "      <th></th>\n",
       "      <th></th>\n",
       "      <th></th>\n",
       "      <th></th>\n",
       "      <th></th>\n",
       "      <th></th>\n",
       "      <th></th>\n",
       "      <th></th>\n",
       "      <th></th>\n",
       "    </tr>\n",
       "  </thead>\n",
       "  <tbody>\n",
       "    <tr>\n",
       "      <th>smyle.cdr-atlas-v0.glb-dor_North_Atlantic_basin_008_1999-07-01_00034.bundle</th>\n",
       "      <td>True</td>\n",
       "      <td>False</td>\n",
       "      <td>False</td>\n",
       "      <td>False</td>\n",
       "      <td>False</td>\n",
       "      <td>0</td>\n",
       "      <td>None</td>\n",
       "      <td>None</td>\n",
       "      <td>None</td>\n",
       "      <td>False</td>\n",
       "      <td>NaN</td>\n",
       "      <td>NaN</td>\n",
       "    </tr>\n",
       "    <tr>\n",
       "      <th>smyle.cdr-atlas-v0.glb-dor_North_Pacific_basin_042_1999-04-01_00769.bundle</th>\n",
       "      <td>True</td>\n",
       "      <td>False</td>\n",
       "      <td>False</td>\n",
       "      <td>False</td>\n",
       "      <td>False</td>\n",
       "      <td>0</td>\n",
       "      <td>None</td>\n",
       "      <td>None</td>\n",
       "      <td>None</td>\n",
       "      <td>False</td>\n",
       "      <td>NaN</td>\n",
       "      <td>NaN</td>\n",
       "    </tr>\n",
       "  </tbody>\n",
       "</table>\n",
       "</div>"
      ],
      "text/plain": [
       "                                                    build  submitted  \\\n",
       "case                                                                   \n",
       "smyle.cdr-atlas-v0.glb-dor_North_Atlantic_basin...   True      False   \n",
       "smyle.cdr-atlas-v0.glb-dor_North_Pacific_basin_...   True      False   \n",
       "\n",
       "                                                    run_completed  archive  \\\n",
       "case                                                                         \n",
       "smyle.cdr-atlas-v0.glb-dor_North_Atlantic_basin...          False    False   \n",
       "smyle.cdr-atlas-v0.glb-dor_North_Pacific_basin_...          False    False   \n",
       "\n",
       "                                                    error  error_count  \\\n",
       "case                                                                     \n",
       "smyle.cdr-atlas-v0.glb-dor_North_Atlantic_basin...  False            0   \n",
       "smyle.cdr-atlas-v0.glb-dor_North_Pacific_basin_...  False            0   \n",
       "\n",
       "                                                   timestamp_run JobId  \\\n",
       "case                                                                     \n",
       "smyle.cdr-atlas-v0.glb-dor_North_Atlantic_basin...          None  None   \n",
       "smyle.cdr-atlas-v0.glb-dor_North_Pacific_basin_...          None  None   \n",
       "\n",
       "                                                   JobState  Queued  \\\n",
       "case                                                                  \n",
       "smyle.cdr-atlas-v0.glb-dor_North_Atlantic_basin...     None   False   \n",
       "smyle.cdr-atlas-v0.glb-dor_North_Pacific_basin_...     None   False   \n",
       "\n",
       "                                                    yr_per_day  pe-hr_per_yr  \n",
       "case                                                                          \n",
       "smyle.cdr-atlas-v0.glb-dor_North_Atlantic_basin...         NaN           NaN  \n",
       "smyle.cdr-atlas-v0.glb-dor_North_Pacific_basin_...         NaN           NaN  "
      ]
     },
     "execution_count": 6,
     "metadata": {},
     "output_type": "execute_result"
    }
   ],
   "source": [
    "%%time\n",
    "df = calc.df_case_status\n",
    "df"
   ]
  },
  {
   "cell_type": "markdown",
   "id": "95ec5d56-a6f4-446b-a3de-806c2a601fe3",
   "metadata": {},
   "source": [
    "## Build the model for each experiment"
   ]
  },
  {
   "cell_type": "code",
   "execution_count": 7,
   "id": "5fd23f87-d859-4bc6-ad0c-5e85a27d81ef",
   "metadata": {
    "scrolled": true,
    "tags": []
   },
   "outputs": [
    {
     "data": {
      "text/plain": [
       "[]"
      ]
     },
     "execution_count": 7,
     "metadata": {},
     "output_type": "execute_result"
    }
   ],
   "source": [
    "clobber_list = calc.check_cases()\n",
    "clobber_list"
   ]
  },
  {
   "cell_type": "code",
   "execution_count": 8,
   "id": "9cc9fcf7-85d9-4fc6-a32e-098321065f35",
   "metadata": {
    "tags": []
   },
   "outputs": [
    {
     "data": {
      "text/plain": [
       "0"
      ]
     },
     "execution_count": 8,
     "metadata": {},
     "output_type": "execute_result"
    }
   ],
   "source": [
    "len(clobber_list)"
   ]
  },
  {
   "cell_type": "code",
   "execution_count": 10,
   "id": "560c14d2-15d6-421e-9ad1-c038f75665b2",
   "metadata": {
    "tags": []
   },
   "outputs": [
    {
     "name": "stdout",
     "output_type": "stream",
     "text": [
      "Submitted batch job 35791768\n",
      "Submitted batch job 35791770\n"
     ]
    }
   ],
   "source": [
    "calc.build(phase=phase, clobber=clobber, clobber_list=clobber_list)"
   ]
  },
  {
   "cell_type": "markdown",
   "id": "c71f3e44-6fd0-4b35-afa2-4d854408a1f5",
   "metadata": {},
   "source": [
    "## Run the simulations"
   ]
  },
  {
   "cell_type": "code",
   "execution_count": 11,
   "id": "0ff0a9be-2c18-4f63-b9a6-0565a1501834",
   "metadata": {
    "tags": []
   },
   "outputs": [
    {
     "name": "stdout",
     "output_type": "stream",
     "text": [
      "waiting on 2 build(s)\n",
      "........................................................................"
     ]
    }
   ],
   "source": [
    "n_jobs = calc.compute(n_bundle=140, bundle_queue=\"regular\")"
   ]
  },
  {
   "cell_type": "code",
   "execution_count": null,
   "id": "f1e2634e-9a3f-4816-8839-7cafca1421a4",
   "metadata": {},
   "outputs": [],
   "source": []
  }
 ],
 "metadata": {
  "kernelspec": {
   "display_name": "cworthy",
   "language": "python",
   "name": "env"
  },
  "language_info": {
   "codemirror_mode": {
    "name": "ipython",
    "version": 3
   },
   "file_extension": ".py",
   "mimetype": "text/x-python",
   "name": "python",
   "nbconvert_exporter": "python",
   "pygments_lexer": "ipython3",
   "version": "3.12.5"
  }
 },
 "nbformat": 4,
 "nbformat_minor": 5
}
