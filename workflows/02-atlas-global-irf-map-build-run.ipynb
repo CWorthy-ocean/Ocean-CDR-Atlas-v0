{
 "cells": [
  {
   "cell_type": "markdown",
   "id": "c109ad0d-4cab-422e-8e68-7e2c924ae156",
   "metadata": {},
   "source": [
    "# Global IRF Efficiency Map\n",
    "\n",
    "Generate global map of CDR efficiency using IRF forcing."
   ]
  },
  {
   "cell_type": "code",
   "execution_count": 1,
   "id": "6496a28d-c37b-4764-ac76-2d3feb1164da",
   "metadata": {
    "tags": []
   },
   "outputs": [],
   "source": [
    "%load_ext autoreload\n",
    "%autoreload 2"
   ]
  },
  {
   "cell_type": "code",
   "execution_count": 2,
   "id": "0d784c2f-87bb-4e4c-9465-535c267b07ed",
   "metadata": {
    "tags": []
   },
   "outputs": [],
   "source": [
    "import xarray as xr\n",
    "import matplotlib.pyplot as plt\n",
    "\n",
    "import atlas"
   ]
  },
  {
   "cell_type": "markdown",
   "id": "b629571f-dee0-47d1-82fd-91aade101e2b",
   "metadata": {},
   "source": [
    "## Define experiment and phase\n",
    "\n"
   ]
  },
  {
   "cell_type": "code",
   "execution_count": 3,
   "id": "93e67af1-9485-4ac9-b6fd-3851b82af757",
   "metadata": {
    "tags": [
     "parameters"
    ]
   },
   "outputs": [],
   "source": [
    "cdr_forcing = \"DOR\"\n",
    "vintage = \"001\"\n",
    "phase = \"deploy\"\n",
    "clobber = False"
   ]
  },
  {
   "cell_type": "code",
   "execution_count": 4,
   "id": "a37826ce-7b72-467a-a4c6-d4f88968fada",
   "metadata": {
    "tags": []
   },
   "outputs": [],
   "source": [
    "calc = atlas.global_irf_map(cdr_forcing, vintage)"
   ]
  },
  {
   "cell_type": "markdown",
   "id": "853ae906-9dec-4b25-82ea-bf0be14f7a1f",
   "metadata": {},
   "source": [
    "## Table of experiments"
   ]
  },
  {
   "cell_type": "code",
   "execution_count": 5,
   "id": "aa518170-6b87-4f0d-a783-5278495aed4a",
   "metadata": {
    "tags": []
   },
   "outputs": [
    {
     "data": {
      "text/html": [
       "<div>\n",
       "<style scoped>\n",
       "    .dataframe tbody tr th:only-of-type {\n",
       "        vertical-align: middle;\n",
       "    }\n",
       "\n",
       "    .dataframe tbody tr th {\n",
       "        vertical-align: top;\n",
       "    }\n",
       "\n",
       "    .dataframe thead th {\n",
       "        text-align: right;\n",
       "    }\n",
       "</style>\n",
       "<table border=\"1\" class=\"dataframe\">\n",
       "  <thead>\n",
       "    <tr style=\"text-align: right;\">\n",
       "      <th></th>\n",
       "      <th>blueprint</th>\n",
       "      <th>polygon</th>\n",
       "      <th>basin</th>\n",
       "      <th>start_date</th>\n",
       "      <th>cdr_forcing</th>\n",
       "      <th>cdr_forcing_file</th>\n",
       "      <th>simulation_key</th>\n",
       "      <th>refdate</th>\n",
       "      <th>stop_n</th>\n",
       "      <th>wallclock</th>\n",
       "      <th>curtail_output</th>\n",
       "    </tr>\n",
       "    <tr>\n",
       "      <th>case</th>\n",
       "      <th></th>\n",
       "      <th></th>\n",
       "      <th></th>\n",
       "      <th></th>\n",
       "      <th></th>\n",
       "      <th></th>\n",
       "      <th></th>\n",
       "      <th></th>\n",
       "      <th></th>\n",
       "      <th></th>\n",
       "      <th></th>\n",
       "    </tr>\n",
       "  </thead>\n",
       "  <tbody>\n",
       "    <tr>\n",
       "      <th>smyle.cdr-atlas-v0.control.001</th>\n",
       "      <td>smyle</td>\n",
       "      <td>NaN</td>\n",
       "      <td>None</td>\n",
       "      <td>1999-01</td>\n",
       "      <td>None</td>\n",
       "      <td>None</td>\n",
       "      <td>baseline</td>\n",
       "      <td>0347-01-01</td>\n",
       "      <td>16</td>\n",
       "      <td>12:00:00</td>\n",
       "      <td>False</td>\n",
       "    </tr>\n",
       "    <tr>\n",
       "      <th>smyle.cdr-atlas-v0.glb-dor_North_Atlantic_basin_000_1999-01-01_00000.001</th>\n",
       "      <td>smyle</td>\n",
       "      <td>0.0</td>\n",
       "      <td>North_Atlantic_basin</td>\n",
       "      <td>1999-01</td>\n",
       "      <td>DOR</td>\n",
       "      <td>/global/cfs/projectdirs/m4746/Projects/OAE-Eff...</td>\n",
       "      <td>glb-dor_North_Atlantic_basin_000_1999-01-01_00000</td>\n",
       "      <td>0347-01-01</td>\n",
       "      <td>15</td>\n",
       "      <td>10:00:00</td>\n",
       "      <td>True</td>\n",
       "    </tr>\n",
       "    <tr>\n",
       "      <th>smyle.cdr-atlas-v0.glb-dor_North_Atlantic_basin_000_1999-04-01_00001.001</th>\n",
       "      <td>smyle</td>\n",
       "      <td>0.0</td>\n",
       "      <td>North_Atlantic_basin</td>\n",
       "      <td>1999-04</td>\n",
       "      <td>DOR</td>\n",
       "      <td>/global/cfs/projectdirs/m4746/Projects/OAE-Eff...</td>\n",
       "      <td>glb-dor_North_Atlantic_basin_000_1999-04-01_00001</td>\n",
       "      <td>0347-04-01</td>\n",
       "      <td>15</td>\n",
       "      <td>10:00:00</td>\n",
       "      <td>True</td>\n",
       "    </tr>\n",
       "    <tr>\n",
       "      <th>smyle.cdr-atlas-v0.glb-dor_North_Atlantic_basin_000_1999-07-01_00002.001</th>\n",
       "      <td>smyle</td>\n",
       "      <td>0.0</td>\n",
       "      <td>North_Atlantic_basin</td>\n",
       "      <td>1999-07</td>\n",
       "      <td>DOR</td>\n",
       "      <td>/global/cfs/projectdirs/m4746/Projects/OAE-Eff...</td>\n",
       "      <td>glb-dor_North_Atlantic_basin_000_1999-07-01_00002</td>\n",
       "      <td>0347-07-01</td>\n",
       "      <td>15</td>\n",
       "      <td>10:00:00</td>\n",
       "      <td>True</td>\n",
       "    </tr>\n",
       "    <tr>\n",
       "      <th>smyle.cdr-atlas-v0.glb-dor_North_Atlantic_basin_000_1999-10-01_00003.001</th>\n",
       "      <td>smyle</td>\n",
       "      <td>0.0</td>\n",
       "      <td>North_Atlantic_basin</td>\n",
       "      <td>1999-10</td>\n",
       "      <td>DOR</td>\n",
       "      <td>/global/cfs/projectdirs/m4746/Projects/OAE-Eff...</td>\n",
       "      <td>glb-dor_North_Atlantic_basin_000_1999-10-01_00003</td>\n",
       "      <td>0347-10-01</td>\n",
       "      <td>15</td>\n",
       "      <td>10:00:00</td>\n",
       "      <td>True</td>\n",
       "    </tr>\n",
       "    <tr>\n",
       "      <th>...</th>\n",
       "      <td>...</td>\n",
       "      <td>...</td>\n",
       "      <td>...</td>\n",
       "      <td>...</td>\n",
       "      <td>...</td>\n",
       "      <td>...</td>\n",
       "      <td>...</td>\n",
       "      <td>...</td>\n",
       "      <td>...</td>\n",
       "      <td>...</td>\n",
       "      <td>...</td>\n",
       "    </tr>\n",
       "    <tr>\n",
       "      <th>smyle.cdr-atlas-v0.glb-dor_Southern_Ocean_038_1999-10-01_02755.001</th>\n",
       "      <td>smyle</td>\n",
       "      <td>38.0</td>\n",
       "      <td>Southern_Ocean</td>\n",
       "      <td>1999-10</td>\n",
       "      <td>DOR</td>\n",
       "      <td>/global/cfs/projectdirs/m4746/Projects/OAE-Eff...</td>\n",
       "      <td>glb-dor_Southern_Ocean_038_1999-10-01_02755</td>\n",
       "      <td>0347-10-01</td>\n",
       "      <td>15</td>\n",
       "      <td>10:00:00</td>\n",
       "      <td>True</td>\n",
       "    </tr>\n",
       "    <tr>\n",
       "      <th>smyle.cdr-atlas-v0.glb-dor_Southern_Ocean_039_1999-01-01_02756.001</th>\n",
       "      <td>smyle</td>\n",
       "      <td>39.0</td>\n",
       "      <td>Southern_Ocean</td>\n",
       "      <td>1999-01</td>\n",
       "      <td>DOR</td>\n",
       "      <td>/global/cfs/projectdirs/m4746/Projects/OAE-Eff...</td>\n",
       "      <td>glb-dor_Southern_Ocean_039_1999-01-01_02756</td>\n",
       "      <td>0347-01-01</td>\n",
       "      <td>15</td>\n",
       "      <td>10:00:00</td>\n",
       "      <td>True</td>\n",
       "    </tr>\n",
       "    <tr>\n",
       "      <th>smyle.cdr-atlas-v0.glb-dor_Southern_Ocean_039_1999-04-01_02757.001</th>\n",
       "      <td>smyle</td>\n",
       "      <td>39.0</td>\n",
       "      <td>Southern_Ocean</td>\n",
       "      <td>1999-04</td>\n",
       "      <td>DOR</td>\n",
       "      <td>/global/cfs/projectdirs/m4746/Projects/OAE-Eff...</td>\n",
       "      <td>glb-dor_Southern_Ocean_039_1999-04-01_02757</td>\n",
       "      <td>0347-04-01</td>\n",
       "      <td>15</td>\n",
       "      <td>10:00:00</td>\n",
       "      <td>True</td>\n",
       "    </tr>\n",
       "    <tr>\n",
       "      <th>smyle.cdr-atlas-v0.glb-dor_Southern_Ocean_039_1999-07-01_02758.001</th>\n",
       "      <td>smyle</td>\n",
       "      <td>39.0</td>\n",
       "      <td>Southern_Ocean</td>\n",
       "      <td>1999-07</td>\n",
       "      <td>DOR</td>\n",
       "      <td>/global/cfs/projectdirs/m4746/Projects/OAE-Eff...</td>\n",
       "      <td>glb-dor_Southern_Ocean_039_1999-07-01_02758</td>\n",
       "      <td>0347-07-01</td>\n",
       "      <td>15</td>\n",
       "      <td>10:00:00</td>\n",
       "      <td>True</td>\n",
       "    </tr>\n",
       "    <tr>\n",
       "      <th>smyle.cdr-atlas-v0.glb-dor_Southern_Ocean_039_1999-10-01_02759.001</th>\n",
       "      <td>smyle</td>\n",
       "      <td>39.0</td>\n",
       "      <td>Southern_Ocean</td>\n",
       "      <td>1999-10</td>\n",
       "      <td>DOR</td>\n",
       "      <td>/global/cfs/projectdirs/m4746/Projects/OAE-Eff...</td>\n",
       "      <td>glb-dor_Southern_Ocean_039_1999-10-01_02759</td>\n",
       "      <td>0347-10-01</td>\n",
       "      <td>15</td>\n",
       "      <td>10:00:00</td>\n",
       "      <td>True</td>\n",
       "    </tr>\n",
       "  </tbody>\n",
       "</table>\n",
       "<p>2761 rows × 11 columns</p>\n",
       "</div>"
      ],
      "text/plain": [
       "                                                   blueprint  polygon  \\\n",
       "case                                                                    \n",
       "smyle.cdr-atlas-v0.control.001                         smyle      NaN   \n",
       "smyle.cdr-atlas-v0.glb-dor_North_Atlantic_basin...     smyle      0.0   \n",
       "smyle.cdr-atlas-v0.glb-dor_North_Atlantic_basin...     smyle      0.0   \n",
       "smyle.cdr-atlas-v0.glb-dor_North_Atlantic_basin...     smyle      0.0   \n",
       "smyle.cdr-atlas-v0.glb-dor_North_Atlantic_basin...     smyle      0.0   \n",
       "...                                                      ...      ...   \n",
       "smyle.cdr-atlas-v0.glb-dor_Southern_Ocean_038_1...     smyle     38.0   \n",
       "smyle.cdr-atlas-v0.glb-dor_Southern_Ocean_039_1...     smyle     39.0   \n",
       "smyle.cdr-atlas-v0.glb-dor_Southern_Ocean_039_1...     smyle     39.0   \n",
       "smyle.cdr-atlas-v0.glb-dor_Southern_Ocean_039_1...     smyle     39.0   \n",
       "smyle.cdr-atlas-v0.glb-dor_Southern_Ocean_039_1...     smyle     39.0   \n",
       "\n",
       "                                                                   basin  \\\n",
       "case                                                                       \n",
       "smyle.cdr-atlas-v0.control.001                                      None   \n",
       "smyle.cdr-atlas-v0.glb-dor_North_Atlantic_basin...  North_Atlantic_basin   \n",
       "smyle.cdr-atlas-v0.glb-dor_North_Atlantic_basin...  North_Atlantic_basin   \n",
       "smyle.cdr-atlas-v0.glb-dor_North_Atlantic_basin...  North_Atlantic_basin   \n",
       "smyle.cdr-atlas-v0.glb-dor_North_Atlantic_basin...  North_Atlantic_basin   \n",
       "...                                                                  ...   \n",
       "smyle.cdr-atlas-v0.glb-dor_Southern_Ocean_038_1...        Southern_Ocean   \n",
       "smyle.cdr-atlas-v0.glb-dor_Southern_Ocean_039_1...        Southern_Ocean   \n",
       "smyle.cdr-atlas-v0.glb-dor_Southern_Ocean_039_1...        Southern_Ocean   \n",
       "smyle.cdr-atlas-v0.glb-dor_Southern_Ocean_039_1...        Southern_Ocean   \n",
       "smyle.cdr-atlas-v0.glb-dor_Southern_Ocean_039_1...        Southern_Ocean   \n",
       "\n",
       "                                                   start_date cdr_forcing  \\\n",
       "case                                                                        \n",
       "smyle.cdr-atlas-v0.control.001                        1999-01        None   \n",
       "smyle.cdr-atlas-v0.glb-dor_North_Atlantic_basin...    1999-01         DOR   \n",
       "smyle.cdr-atlas-v0.glb-dor_North_Atlantic_basin...    1999-04         DOR   \n",
       "smyle.cdr-atlas-v0.glb-dor_North_Atlantic_basin...    1999-07         DOR   \n",
       "smyle.cdr-atlas-v0.glb-dor_North_Atlantic_basin...    1999-10         DOR   \n",
       "...                                                       ...         ...   \n",
       "smyle.cdr-atlas-v0.glb-dor_Southern_Ocean_038_1...    1999-10         DOR   \n",
       "smyle.cdr-atlas-v0.glb-dor_Southern_Ocean_039_1...    1999-01         DOR   \n",
       "smyle.cdr-atlas-v0.glb-dor_Southern_Ocean_039_1...    1999-04         DOR   \n",
       "smyle.cdr-atlas-v0.glb-dor_Southern_Ocean_039_1...    1999-07         DOR   \n",
       "smyle.cdr-atlas-v0.glb-dor_Southern_Ocean_039_1...    1999-10         DOR   \n",
       "\n",
       "                                                                                     cdr_forcing_file  \\\n",
       "case                                                                                                    \n",
       "smyle.cdr-atlas-v0.control.001                                                                   None   \n",
       "smyle.cdr-atlas-v0.glb-dor_North_Atlantic_basin...  /global/cfs/projectdirs/m4746/Projects/OAE-Eff...   \n",
       "smyle.cdr-atlas-v0.glb-dor_North_Atlantic_basin...  /global/cfs/projectdirs/m4746/Projects/OAE-Eff...   \n",
       "smyle.cdr-atlas-v0.glb-dor_North_Atlantic_basin...  /global/cfs/projectdirs/m4746/Projects/OAE-Eff...   \n",
       "smyle.cdr-atlas-v0.glb-dor_North_Atlantic_basin...  /global/cfs/projectdirs/m4746/Projects/OAE-Eff...   \n",
       "...                                                                                               ...   \n",
       "smyle.cdr-atlas-v0.glb-dor_Southern_Ocean_038_1...  /global/cfs/projectdirs/m4746/Projects/OAE-Eff...   \n",
       "smyle.cdr-atlas-v0.glb-dor_Southern_Ocean_039_1...  /global/cfs/projectdirs/m4746/Projects/OAE-Eff...   \n",
       "smyle.cdr-atlas-v0.glb-dor_Southern_Ocean_039_1...  /global/cfs/projectdirs/m4746/Projects/OAE-Eff...   \n",
       "smyle.cdr-atlas-v0.glb-dor_Southern_Ocean_039_1...  /global/cfs/projectdirs/m4746/Projects/OAE-Eff...   \n",
       "smyle.cdr-atlas-v0.glb-dor_Southern_Ocean_039_1...  /global/cfs/projectdirs/m4746/Projects/OAE-Eff...   \n",
       "\n",
       "                                                                                       simulation_key  \\\n",
       "case                                                                                                    \n",
       "smyle.cdr-atlas-v0.control.001                                                               baseline   \n",
       "smyle.cdr-atlas-v0.glb-dor_North_Atlantic_basin...  glb-dor_North_Atlantic_basin_000_1999-01-01_00000   \n",
       "smyle.cdr-atlas-v0.glb-dor_North_Atlantic_basin...  glb-dor_North_Atlantic_basin_000_1999-04-01_00001   \n",
       "smyle.cdr-atlas-v0.glb-dor_North_Atlantic_basin...  glb-dor_North_Atlantic_basin_000_1999-07-01_00002   \n",
       "smyle.cdr-atlas-v0.glb-dor_North_Atlantic_basin...  glb-dor_North_Atlantic_basin_000_1999-10-01_00003   \n",
       "...                                                                                               ...   \n",
       "smyle.cdr-atlas-v0.glb-dor_Southern_Ocean_038_1...        glb-dor_Southern_Ocean_038_1999-10-01_02755   \n",
       "smyle.cdr-atlas-v0.glb-dor_Southern_Ocean_039_1...        glb-dor_Southern_Ocean_039_1999-01-01_02756   \n",
       "smyle.cdr-atlas-v0.glb-dor_Southern_Ocean_039_1...        glb-dor_Southern_Ocean_039_1999-04-01_02757   \n",
       "smyle.cdr-atlas-v0.glb-dor_Southern_Ocean_039_1...        glb-dor_Southern_Ocean_039_1999-07-01_02758   \n",
       "smyle.cdr-atlas-v0.glb-dor_Southern_Ocean_039_1...        glb-dor_Southern_Ocean_039_1999-10-01_02759   \n",
       "\n",
       "                                                       refdate  stop_n  \\\n",
       "case                                                                     \n",
       "smyle.cdr-atlas-v0.control.001                      0347-01-01      16   \n",
       "smyle.cdr-atlas-v0.glb-dor_North_Atlantic_basin...  0347-01-01      15   \n",
       "smyle.cdr-atlas-v0.glb-dor_North_Atlantic_basin...  0347-04-01      15   \n",
       "smyle.cdr-atlas-v0.glb-dor_North_Atlantic_basin...  0347-07-01      15   \n",
       "smyle.cdr-atlas-v0.glb-dor_North_Atlantic_basin...  0347-10-01      15   \n",
       "...                                                        ...     ...   \n",
       "smyle.cdr-atlas-v0.glb-dor_Southern_Ocean_038_1...  0347-10-01      15   \n",
       "smyle.cdr-atlas-v0.glb-dor_Southern_Ocean_039_1...  0347-01-01      15   \n",
       "smyle.cdr-atlas-v0.glb-dor_Southern_Ocean_039_1...  0347-04-01      15   \n",
       "smyle.cdr-atlas-v0.glb-dor_Southern_Ocean_039_1...  0347-07-01      15   \n",
       "smyle.cdr-atlas-v0.glb-dor_Southern_Ocean_039_1...  0347-10-01      15   \n",
       "\n",
       "                                                   wallclock  curtail_output  \n",
       "case                                                                          \n",
       "smyle.cdr-atlas-v0.control.001                      12:00:00           False  \n",
       "smyle.cdr-atlas-v0.glb-dor_North_Atlantic_basin...  10:00:00            True  \n",
       "smyle.cdr-atlas-v0.glb-dor_North_Atlantic_basin...  10:00:00            True  \n",
       "smyle.cdr-atlas-v0.glb-dor_North_Atlantic_basin...  10:00:00            True  \n",
       "smyle.cdr-atlas-v0.glb-dor_North_Atlantic_basin...  10:00:00            True  \n",
       "...                                                      ...             ...  \n",
       "smyle.cdr-atlas-v0.glb-dor_Southern_Ocean_038_1...  10:00:00            True  \n",
       "smyle.cdr-atlas-v0.glb-dor_Southern_Ocean_039_1...  10:00:00            True  \n",
       "smyle.cdr-atlas-v0.glb-dor_Southern_Ocean_039_1...  10:00:00            True  \n",
       "smyle.cdr-atlas-v0.glb-dor_Southern_Ocean_039_1...  10:00:00            True  \n",
       "smyle.cdr-atlas-v0.glb-dor_Southern_Ocean_039_1...  10:00:00            True  \n",
       "\n",
       "[2761 rows x 11 columns]"
      ]
     },
     "execution_count": 5,
     "metadata": {},
     "output_type": "execute_result"
    }
   ],
   "source": [
    "calc.df"
   ]
  },
  {
   "cell_type": "markdown",
   "id": "3ea0d27f-66e2-4c24-b7ed-adec49d92e8a",
   "metadata": {},
   "source": [
    "## Check status"
   ]
  },
  {
   "cell_type": "code",
   "execution_count": 20,
   "id": "87656e5c-6445-45ab-a906-452ee63206f1",
   "metadata": {},
   "outputs": [
    {
     "name": "stdout",
     "output_type": "stream",
     "text": [
      "CPU times: user 520 ms, sys: 859 ms, total: 1.38 s\n",
      "Wall time: 2min 1s\n"
     ]
    },
    {
     "data": {
      "text/html": [
       "<div>\n",
       "<style scoped>\n",
       "    .dataframe tbody tr th:only-of-type {\n",
       "        vertical-align: middle;\n",
       "    }\n",
       "\n",
       "    .dataframe tbody tr th {\n",
       "        vertical-align: top;\n",
       "    }\n",
       "\n",
       "    .dataframe thead th {\n",
       "        text-align: right;\n",
       "    }\n",
       "</style>\n",
       "<table border=\"1\" class=\"dataframe\">\n",
       "  <thead>\n",
       "    <tr style=\"text-align: right;\">\n",
       "      <th></th>\n",
       "      <th>build</th>\n",
       "      <th>submitted</th>\n",
       "      <th>run_completed</th>\n",
       "      <th>archive</th>\n",
       "      <th>error</th>\n",
       "      <th>error_count</th>\n",
       "      <th>JobId</th>\n",
       "      <th>JobState</th>\n",
       "      <th>Queued</th>\n",
       "      <th>yr_per_day</th>\n",
       "      <th>pe-hr_per_yr</th>\n",
       "    </tr>\n",
       "    <tr>\n",
       "      <th>case</th>\n",
       "      <th></th>\n",
       "      <th></th>\n",
       "      <th></th>\n",
       "      <th></th>\n",
       "      <th></th>\n",
       "      <th></th>\n",
       "      <th></th>\n",
       "      <th></th>\n",
       "      <th></th>\n",
       "      <th></th>\n",
       "      <th></th>\n",
       "    </tr>\n",
       "  </thead>\n",
       "  <tbody>\n",
       "    <tr>\n",
       "      <th>smyle.cdr-atlas-v0.control.001</th>\n",
       "      <td>True</td>\n",
       "      <td>True</td>\n",
       "      <td>True</td>\n",
       "      <td>True</td>\n",
       "      <td>False</td>\n",
       "      <td>0</td>\n",
       "      <td>None</td>\n",
       "      <td>None</td>\n",
       "      <td>False</td>\n",
       "      <td>45.61</td>\n",
       "      <td>471.47</td>\n",
       "    </tr>\n",
       "    <tr>\n",
       "      <th>smyle.cdr-atlas-v0.glb-dor_North_Atlantic_basin_000_1999-01-01_00000.001</th>\n",
       "      <td>True</td>\n",
       "      <td>True</td>\n",
       "      <td>True</td>\n",
       "      <td>True</td>\n",
       "      <td>False</td>\n",
       "      <td>0</td>\n",
       "      <td>None</td>\n",
       "      <td>None</td>\n",
       "      <td>False</td>\n",
       "      <td>58.82</td>\n",
       "      <td>365.62</td>\n",
       "    </tr>\n",
       "    <tr>\n",
       "      <th>smyle.cdr-atlas-v0.glb-dor_North_Atlantic_basin_000_1999-04-01_00001.001</th>\n",
       "      <td>True</td>\n",
       "      <td>True</td>\n",
       "      <td>True</td>\n",
       "      <td>True</td>\n",
       "      <td>False</td>\n",
       "      <td>0</td>\n",
       "      <td>None</td>\n",
       "      <td>None</td>\n",
       "      <td>False</td>\n",
       "      <td>59.00</td>\n",
       "      <td>364.49</td>\n",
       "    </tr>\n",
       "    <tr>\n",
       "      <th>smyle.cdr-atlas-v0.glb-dor_North_Atlantic_basin_000_1999-07-01_00002.001</th>\n",
       "      <td>True</td>\n",
       "      <td>True</td>\n",
       "      <td>True</td>\n",
       "      <td>True</td>\n",
       "      <td>False</td>\n",
       "      <td>0</td>\n",
       "      <td>None</td>\n",
       "      <td>None</td>\n",
       "      <td>False</td>\n",
       "      <td>58.89</td>\n",
       "      <td>365.17</td>\n",
       "    </tr>\n",
       "    <tr>\n",
       "      <th>smyle.cdr-atlas-v0.glb-dor_North_Atlantic_basin_000_1999-10-01_00003.001</th>\n",
       "      <td>True</td>\n",
       "      <td>True</td>\n",
       "      <td>True</td>\n",
       "      <td>True</td>\n",
       "      <td>False</td>\n",
       "      <td>0</td>\n",
       "      <td>None</td>\n",
       "      <td>None</td>\n",
       "      <td>False</td>\n",
       "      <td>58.94</td>\n",
       "      <td>364.83</td>\n",
       "    </tr>\n",
       "    <tr>\n",
       "      <th>...</th>\n",
       "      <td>...</td>\n",
       "      <td>...</td>\n",
       "      <td>...</td>\n",
       "      <td>...</td>\n",
       "      <td>...</td>\n",
       "      <td>...</td>\n",
       "      <td>...</td>\n",
       "      <td>...</td>\n",
       "      <td>...</td>\n",
       "      <td>...</td>\n",
       "      <td>...</td>\n",
       "    </tr>\n",
       "    <tr>\n",
       "      <th>smyle.cdr-atlas-v0.glb-dor_South_168_1999-10-01_02075.001</th>\n",
       "      <td>True</td>\n",
       "      <td>True</td>\n",
       "      <td>False</td>\n",
       "      <td>False</td>\n",
       "      <td>False</td>\n",
       "      <td>0</td>\n",
       "      <td>32536417</td>\n",
       "      <td>PENDING</td>\n",
       "      <td>True</td>\n",
       "      <td>NaN</td>\n",
       "      <td>NaN</td>\n",
       "    </tr>\n",
       "    <tr>\n",
       "      <th>smyle.cdr-atlas-v0.glb-dor_South_169_1999-01-01_02076.001</th>\n",
       "      <td>True</td>\n",
       "      <td>True</td>\n",
       "      <td>False</td>\n",
       "      <td>False</td>\n",
       "      <td>False</td>\n",
       "      <td>0</td>\n",
       "      <td>32536421</td>\n",
       "      <td>PENDING</td>\n",
       "      <td>True</td>\n",
       "      <td>NaN</td>\n",
       "      <td>NaN</td>\n",
       "    </tr>\n",
       "    <tr>\n",
       "      <th>smyle.cdr-atlas-v0.glb-dor_South_169_1999-04-01_02077.001</th>\n",
       "      <td>True</td>\n",
       "      <td>True</td>\n",
       "      <td>False</td>\n",
       "      <td>False</td>\n",
       "      <td>False</td>\n",
       "      <td>0</td>\n",
       "      <td>32536414</td>\n",
       "      <td>PENDING</td>\n",
       "      <td>True</td>\n",
       "      <td>NaN</td>\n",
       "      <td>NaN</td>\n",
       "    </tr>\n",
       "    <tr>\n",
       "      <th>smyle.cdr-atlas-v0.glb-dor_South_169_1999-07-01_02078.001</th>\n",
       "      <td>True</td>\n",
       "      <td>True</td>\n",
       "      <td>False</td>\n",
       "      <td>False</td>\n",
       "      <td>False</td>\n",
       "      <td>0</td>\n",
       "      <td>32536420</td>\n",
       "      <td>PENDING</td>\n",
       "      <td>True</td>\n",
       "      <td>NaN</td>\n",
       "      <td>NaN</td>\n",
       "    </tr>\n",
       "    <tr>\n",
       "      <th>smyle.cdr-atlas-v0.glb-dor_South_169_1999-10-01_02079.001</th>\n",
       "      <td>True</td>\n",
       "      <td>True</td>\n",
       "      <td>False</td>\n",
       "      <td>False</td>\n",
       "      <td>False</td>\n",
       "      <td>0</td>\n",
       "      <td>32536438</td>\n",
       "      <td>PENDING</td>\n",
       "      <td>True</td>\n",
       "      <td>NaN</td>\n",
       "      <td>NaN</td>\n",
       "    </tr>\n",
       "  </tbody>\n",
       "</table>\n",
       "<p>2081 rows × 11 columns</p>\n",
       "</div>"
      ],
      "text/plain": [
       "                                                    build  submitted  \\\n",
       "case                                                                   \n",
       "smyle.cdr-atlas-v0.control.001                       True       True   \n",
       "smyle.cdr-atlas-v0.glb-dor_North_Atlantic_basin...   True       True   \n",
       "smyle.cdr-atlas-v0.glb-dor_North_Atlantic_basin...   True       True   \n",
       "smyle.cdr-atlas-v0.glb-dor_North_Atlantic_basin...   True       True   \n",
       "smyle.cdr-atlas-v0.glb-dor_North_Atlantic_basin...   True       True   \n",
       "...                                                   ...        ...   \n",
       "smyle.cdr-atlas-v0.glb-dor_South_168_1999-10-01...   True       True   \n",
       "smyle.cdr-atlas-v0.glb-dor_South_169_1999-01-01...   True       True   \n",
       "smyle.cdr-atlas-v0.glb-dor_South_169_1999-04-01...   True       True   \n",
       "smyle.cdr-atlas-v0.glb-dor_South_169_1999-07-01...   True       True   \n",
       "smyle.cdr-atlas-v0.glb-dor_South_169_1999-10-01...   True       True   \n",
       "\n",
       "                                                    run_completed  archive  \\\n",
       "case                                                                         \n",
       "smyle.cdr-atlas-v0.control.001                               True     True   \n",
       "smyle.cdr-atlas-v0.glb-dor_North_Atlantic_basin...           True     True   \n",
       "smyle.cdr-atlas-v0.glb-dor_North_Atlantic_basin...           True     True   \n",
       "smyle.cdr-atlas-v0.glb-dor_North_Atlantic_basin...           True     True   \n",
       "smyle.cdr-atlas-v0.glb-dor_North_Atlantic_basin...           True     True   \n",
       "...                                                           ...      ...   \n",
       "smyle.cdr-atlas-v0.glb-dor_South_168_1999-10-01...          False    False   \n",
       "smyle.cdr-atlas-v0.glb-dor_South_169_1999-01-01...          False    False   \n",
       "smyle.cdr-atlas-v0.glb-dor_South_169_1999-04-01...          False    False   \n",
       "smyle.cdr-atlas-v0.glb-dor_South_169_1999-07-01...          False    False   \n",
       "smyle.cdr-atlas-v0.glb-dor_South_169_1999-10-01...          False    False   \n",
       "\n",
       "                                                    error  error_count  \\\n",
       "case                                                                     \n",
       "smyle.cdr-atlas-v0.control.001                      False            0   \n",
       "smyle.cdr-atlas-v0.glb-dor_North_Atlantic_basin...  False            0   \n",
       "smyle.cdr-atlas-v0.glb-dor_North_Atlantic_basin...  False            0   \n",
       "smyle.cdr-atlas-v0.glb-dor_North_Atlantic_basin...  False            0   \n",
       "smyle.cdr-atlas-v0.glb-dor_North_Atlantic_basin...  False            0   \n",
       "...                                                   ...          ...   \n",
       "smyle.cdr-atlas-v0.glb-dor_South_168_1999-10-01...  False            0   \n",
       "smyle.cdr-atlas-v0.glb-dor_South_169_1999-01-01...  False            0   \n",
       "smyle.cdr-atlas-v0.glb-dor_South_169_1999-04-01...  False            0   \n",
       "smyle.cdr-atlas-v0.glb-dor_South_169_1999-07-01...  False            0   \n",
       "smyle.cdr-atlas-v0.glb-dor_South_169_1999-10-01...  False            0   \n",
       "\n",
       "                                                       JobId JobState  Queued  \\\n",
       "case                                                                            \n",
       "smyle.cdr-atlas-v0.control.001                          None     None   False   \n",
       "smyle.cdr-atlas-v0.glb-dor_North_Atlantic_basin...      None     None   False   \n",
       "smyle.cdr-atlas-v0.glb-dor_North_Atlantic_basin...      None     None   False   \n",
       "smyle.cdr-atlas-v0.glb-dor_North_Atlantic_basin...      None     None   False   \n",
       "smyle.cdr-atlas-v0.glb-dor_North_Atlantic_basin...      None     None   False   \n",
       "...                                                      ...      ...     ...   \n",
       "smyle.cdr-atlas-v0.glb-dor_South_168_1999-10-01...  32536417  PENDING    True   \n",
       "smyle.cdr-atlas-v0.glb-dor_South_169_1999-01-01...  32536421  PENDING    True   \n",
       "smyle.cdr-atlas-v0.glb-dor_South_169_1999-04-01...  32536414  PENDING    True   \n",
       "smyle.cdr-atlas-v0.glb-dor_South_169_1999-07-01...  32536420  PENDING    True   \n",
       "smyle.cdr-atlas-v0.glb-dor_South_169_1999-10-01...  32536438  PENDING    True   \n",
       "\n",
       "                                                    yr_per_day  pe-hr_per_yr  \n",
       "case                                                                          \n",
       "smyle.cdr-atlas-v0.control.001                           45.61        471.47  \n",
       "smyle.cdr-atlas-v0.glb-dor_North_Atlantic_basin...       58.82        365.62  \n",
       "smyle.cdr-atlas-v0.glb-dor_North_Atlantic_basin...       59.00        364.49  \n",
       "smyle.cdr-atlas-v0.glb-dor_North_Atlantic_basin...       58.89        365.17  \n",
       "smyle.cdr-atlas-v0.glb-dor_North_Atlantic_basin...       58.94        364.83  \n",
       "...                                                        ...           ...  \n",
       "smyle.cdr-atlas-v0.glb-dor_South_168_1999-10-01...         NaN           NaN  \n",
       "smyle.cdr-atlas-v0.glb-dor_South_169_1999-01-01...         NaN           NaN  \n",
       "smyle.cdr-atlas-v0.glb-dor_South_169_1999-04-01...         NaN           NaN  \n",
       "smyle.cdr-atlas-v0.glb-dor_South_169_1999-07-01...         NaN           NaN  \n",
       "smyle.cdr-atlas-v0.glb-dor_South_169_1999-10-01...         NaN           NaN  \n",
       "\n",
       "[2081 rows x 11 columns]"
      ]
     },
     "execution_count": 20,
     "metadata": {},
     "output_type": "execute_result"
    }
   ],
   "source": [
    "%%time\n",
    "df = calc.df_case_status\n",
    "df"
   ]
  },
  {
   "cell_type": "code",
   "execution_count": 17,
   "id": "d48cce46-e580-4451-b0b9-5e1666378851",
   "metadata": {
    "tags": []
   },
   "outputs": [
    {
     "data": {
      "text/plain": [
       "2081"
      ]
     },
     "execution_count": 17,
     "metadata": {},
     "output_type": "execute_result"
    }
   ],
   "source": [
    "sum(df.build.to_list())"
   ]
  },
  {
   "cell_type": "code",
   "execution_count": 18,
   "id": "1ae9fc85-eebc-43fc-83d5-05c5806fed3c",
   "metadata": {
    "tags": []
   },
   "outputs": [
    {
     "data": {
      "text/plain": [
       "2081"
      ]
     },
     "execution_count": 18,
     "metadata": {},
     "output_type": "execute_result"
    }
   ],
   "source": [
    "sum(df.submitted.to_list())"
   ]
  },
  {
   "cell_type": "code",
   "execution_count": 19,
   "id": "df3398ef-2a6c-423b-94fc-2f348946177b",
   "metadata": {},
   "outputs": [
    {
     "data": {
      "text/plain": [
       "694"
      ]
     },
     "execution_count": 19,
     "metadata": {},
     "output_type": "execute_result"
    }
   ],
   "source": [
    "sum(df.archive.to_list())"
   ]
  },
  {
   "cell_type": "markdown",
   "id": "95ec5d56-a6f4-446b-a3de-806c2a601fe3",
   "metadata": {},
   "source": [
    "## Build the model for each experiment"
   ]
  },
  {
   "cell_type": "code",
   "execution_count": 21,
   "id": "5fd23f87-d859-4bc6-ad0c-5e85a27d81ef",
   "metadata": {
    "tags": []
   },
   "outputs": [
    {
     "name": "stdout",
     "output_type": "stream",
     "text": [
      "the following cases may have failed:\n",
      "  smyle.cdr-atlas-v0.glb-dor_North_Atlantic_basin_001_1999-10-01_00007.001\n",
      "  smyle.cdr-atlas-v0.glb-dor_North_Atlantic_basin_003_1999-07-01_00014.001\n",
      "  smyle.cdr-atlas-v0.glb-dor_North_Atlantic_basin_006_1999-07-01_00026.001\n",
      "  smyle.cdr-atlas-v0.glb-dor_North_Atlantic_basin_007_1999-10-01_00031.001\n",
      "  smyle.cdr-atlas-v0.glb-dor_North_Atlantic_basin_008_1999-07-01_00034.001\n",
      "  smyle.cdr-atlas-v0.glb-dor_North_Atlantic_basin_016_1999-07-01_00066.001\n",
      "  smyle.cdr-atlas-v0.glb-dor_North_Atlantic_basin_016_1999-10-01_00067.001\n",
      "  smyle.cdr-atlas-v0.glb-dor_North_Atlantic_basin_019_1999-04-01_00077.001\n",
      "  smyle.cdr-atlas-v0.glb-dor_North_Atlantic_basin_021_1999-04-01_00085.001\n",
      "  smyle.cdr-atlas-v0.glb-dor_North_Atlantic_basin_026_1999-01-01_00104.001\n",
      "  smyle.cdr-atlas-v0.glb-dor_North_Atlantic_basin_027_1999-04-01_00109.001\n",
      "  smyle.cdr-atlas-v0.glb-dor_North_Atlantic_basin_027_1999-10-01_00111.001\n",
      "  smyle.cdr-atlas-v0.glb-dor_North_Atlantic_basin_029_1999-04-01_00117.001\n",
      "  smyle.cdr-atlas-v0.glb-dor_North_Atlantic_basin_032_1999-07-01_00130.001\n",
      "  smyle.cdr-atlas-v0.glb-dor_North_Atlantic_basin_035_1999-01-01_00140.001\n",
      "  smyle.cdr-atlas-v0.glb-dor_North_Atlantic_basin_040_1999-07-01_00162.001\n",
      "  smyle.cdr-atlas-v0.glb-dor_North_Atlantic_basin_041_1999-04-01_00165.001\n",
      "  smyle.cdr-atlas-v0.glb-dor_North_Atlantic_basin_042_1999-10-01_00171.001\n",
      "  smyle.cdr-atlas-v0.glb-dor_North_Atlantic_basin_055_1999-04-01_00221.001\n",
      "  smyle.cdr-atlas-v0.glb-dor_North_Atlantic_basin_061_1999-07-01_00246.001\n",
      "  smyle.cdr-atlas-v0.glb-dor_North_Atlantic_basin_070_1999-10-01_00283.001\n",
      "  smyle.cdr-atlas-v0.glb-dor_North_Atlantic_basin_071_1999-01-01_00284.001\n",
      "  smyle.cdr-atlas-v0.glb-dor_North_Atlantic_basin_076_1999-10-01_00307.001\n",
      "  smyle.cdr-atlas-v0.glb-dor_North_Atlantic_basin_078_1999-07-01_00314.001\n",
      "  smyle.cdr-atlas-v0.glb-dor_North_Atlantic_basin_081_1999-01-01_00324.001\n",
      "  smyle.cdr-atlas-v0.glb-dor_North_Atlantic_basin_081_1999-10-01_00327.001\n",
      "  smyle.cdr-atlas-v0.glb-dor_North_Atlantic_basin_083_1999-01-01_00332.001\n",
      "  smyle.cdr-atlas-v0.glb-dor_North_Atlantic_basin_084_1999-10-01_00339.001\n",
      "  smyle.cdr-atlas-v0.glb-dor_North_Atlantic_basin_085_1999-10-01_00343.001\n",
      "  smyle.cdr-atlas-v0.glb-dor_North_Atlantic_basin_093_1999-07-01_00374.001\n",
      "  smyle.cdr-atlas-v0.glb-dor_North_Atlantic_basin_099_1999-10-01_00399.001\n",
      "  smyle.cdr-atlas-v0.glb-dor_North_Atlantic_basin_101_1999-01-01_00404.001\n",
      "  smyle.cdr-atlas-v0.glb-dor_North_Atlantic_basin_103_1999-10-01_00415.001\n",
      "  smyle.cdr-atlas-v0.glb-dor_North_Atlantic_basin_104_1999-04-01_00417.001\n",
      "  smyle.cdr-atlas-v0.glb-dor_North_Atlantic_basin_109_1999-07-01_00438.001\n",
      "  smyle.cdr-atlas-v0.glb-dor_North_Atlantic_basin_119_1999-04-01_00477.001\n",
      "  smyle.cdr-atlas-v0.glb-dor_North_Atlantic_basin_119_1999-10-01_00479.001\n",
      "  smyle.cdr-atlas-v0.glb-dor_North_Atlantic_basin_120_1999-01-01_00480.001\n",
      "  smyle.cdr-atlas-v0.glb-dor_North_Atlantic_basin_120_1999-07-01_00482.001\n",
      "  smyle.cdr-atlas-v0.glb-dor_North_Atlantic_basin_120_1999-10-01_00483.001\n",
      "  smyle.cdr-atlas-v0.glb-dor_North_Atlantic_basin_121_1999-07-01_00486.001\n",
      "  smyle.cdr-atlas-v0.glb-dor_North_Atlantic_basin_122_1999-01-01_00488.001\n",
      "  smyle.cdr-atlas-v0.glb-dor_North_Atlantic_basin_122_1999-07-01_00490.001\n",
      "  smyle.cdr-atlas-v0.glb-dor_North_Atlantic_basin_130_1999-10-01_00523.001\n",
      "  smyle.cdr-atlas-v0.glb-dor_North_Atlantic_basin_136_1999-01-01_00544.001\n",
      "  smyle.cdr-atlas-v0.glb-dor_North_Atlantic_basin_139_1999-07-01_00558.001\n",
      "  smyle.cdr-atlas-v0.glb-dor_North_Pacific_basin_004_1999-07-01_00618.001\n",
      "  smyle.cdr-atlas-v0.glb-dor_North_Pacific_basin_005_1999-07-01_00622.001\n",
      "  smyle.cdr-atlas-v0.glb-dor_North_Pacific_basin_006_1999-04-01_00625.001\n",
      "  smyle.cdr-atlas-v0.glb-dor_North_Pacific_basin_010_1999-07-01_00642.001\n",
      "  smyle.cdr-atlas-v0.glb-dor_North_Pacific_basin_014_1999-10-01_00659.001\n",
      "  smyle.cdr-atlas-v0.glb-dor_North_Pacific_basin_018_1999-10-01_00675.001\n",
      "  smyle.cdr-atlas-v0.glb-dor_North_Pacific_basin_024_1999-10-01_00699.001\n",
      "  smyle.cdr-atlas-v0.glb-dor_North_Pacific_basin_028_1999-10-01_00715.001\n",
      "  smyle.cdr-atlas-v0.glb-dor_North_Pacific_basin_034_1999-07-01_00738.001\n",
      "  smyle.cdr-atlas-v0.glb-dor_North_Pacific_basin_036_1999-01-01_00744.001\n"
     ]
    },
    {
     "data": {
      "text/plain": [
       "['smyle.cdr-atlas-v0.glb-dor_North_Atlantic_basin_001_1999-10-01_00007.001',\n",
       " 'smyle.cdr-atlas-v0.glb-dor_North_Atlantic_basin_003_1999-07-01_00014.001',\n",
       " 'smyle.cdr-atlas-v0.glb-dor_North_Atlantic_basin_006_1999-07-01_00026.001',\n",
       " 'smyle.cdr-atlas-v0.glb-dor_North_Atlantic_basin_007_1999-10-01_00031.001',\n",
       " 'smyle.cdr-atlas-v0.glb-dor_North_Atlantic_basin_008_1999-07-01_00034.001',\n",
       " 'smyle.cdr-atlas-v0.glb-dor_North_Atlantic_basin_016_1999-07-01_00066.001',\n",
       " 'smyle.cdr-atlas-v0.glb-dor_North_Atlantic_basin_016_1999-10-01_00067.001',\n",
       " 'smyle.cdr-atlas-v0.glb-dor_North_Atlantic_basin_019_1999-04-01_00077.001',\n",
       " 'smyle.cdr-atlas-v0.glb-dor_North_Atlantic_basin_021_1999-04-01_00085.001',\n",
       " 'smyle.cdr-atlas-v0.glb-dor_North_Atlantic_basin_026_1999-01-01_00104.001',\n",
       " 'smyle.cdr-atlas-v0.glb-dor_North_Atlantic_basin_027_1999-04-01_00109.001',\n",
       " 'smyle.cdr-atlas-v0.glb-dor_North_Atlantic_basin_027_1999-10-01_00111.001',\n",
       " 'smyle.cdr-atlas-v0.glb-dor_North_Atlantic_basin_029_1999-04-01_00117.001',\n",
       " 'smyle.cdr-atlas-v0.glb-dor_North_Atlantic_basin_032_1999-07-01_00130.001',\n",
       " 'smyle.cdr-atlas-v0.glb-dor_North_Atlantic_basin_035_1999-01-01_00140.001',\n",
       " 'smyle.cdr-atlas-v0.glb-dor_North_Atlantic_basin_040_1999-07-01_00162.001',\n",
       " 'smyle.cdr-atlas-v0.glb-dor_North_Atlantic_basin_041_1999-04-01_00165.001',\n",
       " 'smyle.cdr-atlas-v0.glb-dor_North_Atlantic_basin_042_1999-10-01_00171.001',\n",
       " 'smyle.cdr-atlas-v0.glb-dor_North_Atlantic_basin_055_1999-04-01_00221.001',\n",
       " 'smyle.cdr-atlas-v0.glb-dor_North_Atlantic_basin_061_1999-07-01_00246.001',\n",
       " 'smyle.cdr-atlas-v0.glb-dor_North_Atlantic_basin_070_1999-10-01_00283.001',\n",
       " 'smyle.cdr-atlas-v0.glb-dor_North_Atlantic_basin_071_1999-01-01_00284.001',\n",
       " 'smyle.cdr-atlas-v0.glb-dor_North_Atlantic_basin_076_1999-10-01_00307.001',\n",
       " 'smyle.cdr-atlas-v0.glb-dor_North_Atlantic_basin_078_1999-07-01_00314.001',\n",
       " 'smyle.cdr-atlas-v0.glb-dor_North_Atlantic_basin_081_1999-01-01_00324.001',\n",
       " 'smyle.cdr-atlas-v0.glb-dor_North_Atlantic_basin_081_1999-10-01_00327.001',\n",
       " 'smyle.cdr-atlas-v0.glb-dor_North_Atlantic_basin_083_1999-01-01_00332.001',\n",
       " 'smyle.cdr-atlas-v0.glb-dor_North_Atlantic_basin_084_1999-10-01_00339.001',\n",
       " 'smyle.cdr-atlas-v0.glb-dor_North_Atlantic_basin_085_1999-10-01_00343.001',\n",
       " 'smyle.cdr-atlas-v0.glb-dor_North_Atlantic_basin_093_1999-07-01_00374.001',\n",
       " 'smyle.cdr-atlas-v0.glb-dor_North_Atlantic_basin_099_1999-10-01_00399.001',\n",
       " 'smyle.cdr-atlas-v0.glb-dor_North_Atlantic_basin_101_1999-01-01_00404.001',\n",
       " 'smyle.cdr-atlas-v0.glb-dor_North_Atlantic_basin_103_1999-10-01_00415.001',\n",
       " 'smyle.cdr-atlas-v0.glb-dor_North_Atlantic_basin_104_1999-04-01_00417.001',\n",
       " 'smyle.cdr-atlas-v0.glb-dor_North_Atlantic_basin_109_1999-07-01_00438.001',\n",
       " 'smyle.cdr-atlas-v0.glb-dor_North_Atlantic_basin_119_1999-04-01_00477.001',\n",
       " 'smyle.cdr-atlas-v0.glb-dor_North_Atlantic_basin_119_1999-10-01_00479.001',\n",
       " 'smyle.cdr-atlas-v0.glb-dor_North_Atlantic_basin_120_1999-01-01_00480.001',\n",
       " 'smyle.cdr-atlas-v0.glb-dor_North_Atlantic_basin_120_1999-07-01_00482.001',\n",
       " 'smyle.cdr-atlas-v0.glb-dor_North_Atlantic_basin_120_1999-10-01_00483.001',\n",
       " 'smyle.cdr-atlas-v0.glb-dor_North_Atlantic_basin_121_1999-07-01_00486.001',\n",
       " 'smyle.cdr-atlas-v0.glb-dor_North_Atlantic_basin_122_1999-01-01_00488.001',\n",
       " 'smyle.cdr-atlas-v0.glb-dor_North_Atlantic_basin_122_1999-07-01_00490.001',\n",
       " 'smyle.cdr-atlas-v0.glb-dor_North_Atlantic_basin_130_1999-10-01_00523.001',\n",
       " 'smyle.cdr-atlas-v0.glb-dor_North_Atlantic_basin_136_1999-01-01_00544.001',\n",
       " 'smyle.cdr-atlas-v0.glb-dor_North_Atlantic_basin_139_1999-07-01_00558.001',\n",
       " 'smyle.cdr-atlas-v0.glb-dor_North_Pacific_basin_004_1999-07-01_00618.001',\n",
       " 'smyle.cdr-atlas-v0.glb-dor_North_Pacific_basin_005_1999-07-01_00622.001',\n",
       " 'smyle.cdr-atlas-v0.glb-dor_North_Pacific_basin_006_1999-04-01_00625.001',\n",
       " 'smyle.cdr-atlas-v0.glb-dor_North_Pacific_basin_010_1999-07-01_00642.001',\n",
       " 'smyle.cdr-atlas-v0.glb-dor_North_Pacific_basin_014_1999-10-01_00659.001',\n",
       " 'smyle.cdr-atlas-v0.glb-dor_North_Pacific_basin_018_1999-10-01_00675.001',\n",
       " 'smyle.cdr-atlas-v0.glb-dor_North_Pacific_basin_024_1999-10-01_00699.001',\n",
       " 'smyle.cdr-atlas-v0.glb-dor_North_Pacific_basin_028_1999-10-01_00715.001',\n",
       " 'smyle.cdr-atlas-v0.glb-dor_North_Pacific_basin_034_1999-07-01_00738.001',\n",
       " 'smyle.cdr-atlas-v0.glb-dor_North_Pacific_basin_036_1999-01-01_00744.001']"
      ]
     },
     "execution_count": 21,
     "metadata": {},
     "output_type": "execute_result"
    }
   ],
   "source": [
    "clobber_list = calc.check_cases()\n",
    "clobber_list"
   ]
  },
  {
   "cell_type": "code",
   "execution_count": 22,
   "id": "9cc9fcf7-85d9-4fc6-a32e-098321065f35",
   "metadata": {
    "tags": []
   },
   "outputs": [
    {
     "data": {
      "text/plain": [
       "56"
      ]
     },
     "execution_count": 22,
     "metadata": {},
     "output_type": "execute_result"
    }
   ],
   "source": [
    "len(clobber_list)"
   ]
  },
  {
   "cell_type": "code",
   "execution_count": null,
   "id": "560c14d2-15d6-421e-9ad1-c038f75665b2",
   "metadata": {
    "tags": []
   },
   "outputs": [],
   "source": [
    "calc.build(phase=phase, clobber=clobber, clobber_list=clobber_list)"
   ]
  },
  {
   "cell_type": "markdown",
   "id": "c71f3e44-6fd0-4b35-afa2-4d854408a1f5",
   "metadata": {},
   "source": [
    "## Run the simulations"
   ]
  },
  {
   "cell_type": "code",
   "execution_count": null,
   "id": "0ff0a9be-2c18-4f63-b9a6-0565a1501834",
   "metadata": {
    "tags": []
   },
   "outputs": [],
   "source": [
    "n_jobs = calc.compute()"
   ]
  },
  {
   "cell_type": "code",
   "execution_count": null,
   "id": "09422dc0-7aa1-42f0-b81f-ab87e04ee59b",
   "metadata": {
    "tags": []
   },
   "outputs": [],
   "source": [
    "calc.df_case_status"
   ]
  },
  {
   "cell_type": "code",
   "execution_count": null,
   "id": "6c3df31e-e14d-4d7a-bf10-de35a75c0a33",
   "metadata": {
    "tags": []
   },
   "outputs": [],
   "source": [
    "if n_jobs > 0:\n",
    "    raise SystemExit(\"stop here to wait for computation to complete\")"
   ]
  },
  {
   "cell_type": "markdown",
   "id": "7cc46060-26e6-4a6a-97c0-c1ae02bb3693",
   "metadata": {},
   "source": [
    "## Validate the integrations"
   ]
  },
  {
   "cell_type": "code",
   "execution_count": null,
   "id": "5e814839-f49c-4666-a08f-cac9be974813",
   "metadata": {
    "tags": []
   },
   "outputs": [],
   "source": [
    "%%time\n",
    "if n_jobs == 0:\n",
    "    calc.validate(clobber=clobber)"
   ]
  },
  {
   "cell_type": "code",
   "execution_count": null,
   "id": "00107fbc-414d-4b5b-bd44-4de16d9fe07e",
   "metadata": {
    "tags": []
   },
   "outputs": [],
   "source": [
    "df = calc.df_validation\n",
    "df"
   ]
  },
  {
   "cell_type": "code",
   "execution_count": null,
   "id": "3e57dbb8-5051-486f-acb2-80d3543ab768",
   "metadata": {
    "tags": []
   },
   "outputs": [],
   "source": [
    "df.ALK_ALT_CO2_rmse.plot.hist(bins=20)"
   ]
  },
  {
   "cell_type": "code",
   "execution_count": null,
   "id": "51d7d9e8-924c-4fd1-9f9e-6180b7ae5adc",
   "metadata": {
    "tags": []
   },
   "outputs": [],
   "source": [
    "df.DIC_ALT_CO2_rmse.plot.hist(bins=20)"
   ]
  },
  {
   "cell_type": "code",
   "execution_count": null,
   "id": "63b76673-bed4-44cd-be5b-16a4b3d30e1c",
   "metadata": {
    "tags": []
   },
   "outputs": [],
   "source": [
    "df.FG_ALT_CO2_rmse.plot.hist(bins=20)"
   ]
  },
  {
   "cell_type": "markdown",
   "id": "8a845ca3-350d-44f5-857e-897a32c797b7",
   "metadata": {
    "tags": []
   },
   "source": [
    "## Analysis"
   ]
  },
  {
   "cell_type": "code",
   "execution_count": null,
   "id": "054ed425-2eb1-4bec-930c-0e3fcc9c6151",
   "metadata": {},
   "outputs": [],
   "source": [
    "paths = calc.analyze(clobber=False)\n",
    "paths"
   ]
  },
  {
   "cell_type": "code",
   "execution_count": null,
   "id": "6a64bd05-f72e-4422-beb6-effcc19445c8",
   "metadata": {
    "tags": []
   },
   "outputs": [],
   "source": [
    "fig, ax = plt.subplots(1, 1, figsize=(6, 4))\n",
    "for p in paths:\n",
    "    da = xr.open_zarr(p)[\"DIC_ADD_TOTAL\"]\n",
    "    da.plot(ax=ax)"
   ]
  },
  {
   "cell_type": "markdown",
   "id": "4878faa5-0a6f-4205-a384-121fff76d3ed",
   "metadata": {},
   "source": [
    "## Visualization"
   ]
  },
  {
   "cell_type": "code",
   "execution_count": null,
   "id": "459c0c95-4d87-45d2-a379-16b3525ba6d4",
   "metadata": {},
   "outputs": [],
   "source": [
    "calc.visualize(clobber=True)"
   ]
  },
  {
   "cell_type": "code",
   "execution_count": null,
   "id": "f1e2634e-9a3f-4816-8839-7cafca1421a4",
   "metadata": {},
   "outputs": [],
   "source": []
  }
 ],
 "metadata": {
  "kernelspec": {
   "display_name": "cworthy",
   "language": "python",
   "name": "env"
  },
  "language_info": {
   "codemirror_mode": {
    "name": "ipython",
    "version": 3
   },
   "file_extension": ".py",
   "mimetype": "text/x-python",
   "name": "python",
   "nbconvert_exporter": "python",
   "pygments_lexer": "ipython3",
   "version": "3.12.5"
  }
 },
 "nbformat": 4,
 "nbformat_minor": 5
}
