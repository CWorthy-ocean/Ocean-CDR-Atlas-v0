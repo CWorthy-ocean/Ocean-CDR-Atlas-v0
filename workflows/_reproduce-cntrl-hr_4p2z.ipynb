{
 "cells": [
  {
   "cell_type": "markdown",
   "id": "be64a305-fee9-407d-81d2-cad4157c3525",
   "metadata": {},
   "source": [
    "# Demonstrate Reproducible Control Integration"
   ]
  },
  {
   "cell_type": "code",
   "execution_count": 1,
   "id": "0887fc8c-1299-4678-87ec-b4ac26d9d30e",
   "metadata": {
    "tags": []
   },
   "outputs": [],
   "source": [
    "%load_ext autoreload\n",
    "%autoreload 2"
   ]
  },
  {
   "cell_type": "code",
   "execution_count": 2,
   "id": "bcf0b6bb-08bf-43fa-bdcb-e13ffb526e5a",
   "metadata": {
    "tags": []
   },
   "outputs": [],
   "source": [
    "import cesm\n",
    "import state\n",
    "import config"
   ]
  },
  {
   "cell_type": "code",
   "execution_count": 3,
   "id": "c94e52d4-d5ed-48bb-b42f-13bd4e06efd8",
   "metadata": {
    "tags": []
   },
   "outputs": [
    {
     "data": {
      "text/plain": [
       "'hr_4p2z.cdr-atlas-v0.control.001'"
      ]
     },
     "execution_count": 3,
     "metadata": {},
     "output_type": "execute_result"
    }
   ],
   "source": [
    "blueprint = \"hr_4p2z\"\n",
    "project = config.project_sname\n",
    "simulation_name = \"control\"\n",
    "vintage = \"001\"\n",
    "\n",
    "case = f\"{blueprint}.{project}.{simulation_name}.{vintage}\"\n",
    "case"
   ]
  },
  {
   "cell_type": "code",
   "execution_count": 4,
   "id": "e6ee8e48-f0db-4fe2-ab5a-a322bdf9ea91",
   "metadata": {},
   "outputs": [
    {
     "name": "stdout",
     "output_type": "stream",
     "text": [
      "Compset longname is 1850_DATM%JRA-1p4-2018_SLND_CICE%CICE4_POP2%ECO_DROF%JRA-1p4-2018_SGLC_SWAV\n",
      "Compset specification file is /global/cfs/cdirs/m4746/Projects/Ocean-CDR-Atlas-v0/codes/cesm2.2.0/components/pop//cime_config/config_compsets.xml\n",
      "Automatically adding SIAC to compset\n",
      "Automatically adding SESP to compset\n"
     ]
    },
    {
     "name": "stderr",
     "output_type": "stream",
     "text": [
      "Warning: missing non-idmap ROF2OCN_FMAPNAME for rof_grid, JRA025v2 and ocn_grid tx0.1v3 \n"
     ]
    },
    {
     "name": "stdout",
     "output_type": "stream",
     "text": [
      "Compset forcing is 1850\n",
      "ATM component is  Data driven ATM interannual JRA55 forcing, v1.4, through 2018\n",
      "LND component is Stub land component\n",
      "ICE component is Sea ICE (cice) model version 5 :running with cice4 physics\n",
      "OCN component is POP2 Ecosystem\n",
      "ROF component is Data runoff modelJRA55 interannual forcing, v1.4, through 2018\n",
      "GLC component is Stub glacier (land ice) component\n",
      "WAV component is Stub wave component\n",
      "IAC component is Stub iac component\n",
      "ESP component is Stub external system processing (ESP) component\n",
      "Pes     specification file is /global/cfs/cdirs/m4746/Projects/Ocean-CDR-Atlas-v0/codes/cesm2.2.0/components/pop//cime_config/config_pes.xml\n"
     ]
    },
    {
     "name": "stderr",
     "output_type": "stream",
     "text": [
      "Could not find machine match for 'login38.chn' or 'login38'\n"
     ]
    },
    {
     "name": "stdout",
     "output_type": "stream",
     "text": [
      "Machine is perlmutter\n",
      "Pes setting: grid match    is oi%tx0.1v3 \n",
      "Pes setting: compset_match is _DATM.*_CICE.*_POP2 \n",
      "Pes setting: grid          is a%TL319_l%null_oi%tx0.1v3_r%JRA025v2_g%null_w%null_z%null_m%tx0.1v3 \n",
      "Pes setting: compset       is 1850_DATM%JRA-1p4-2018_SLND_CICE%CICE4_POP2%ECO_DROF%JRA-1p4-2018_SGLC_SWAV_SIAC_SESP \n",
      "Pes setting: tasks       is {'NTASKS_ATM': 48, 'NTASKS_LND': 48, 'NTASKS_ROF': 48, 'NTASKS_ICE': 828, 'NTASKS_OCN': 2208, 'NTASKS_GLC': 48, 'NTASKS_WAV': 48, 'NTASKS_CPL': 828} \n",
      "Pes setting: threads     is {'NTHRDS_ATM': 1, 'NTHRDS_LND': 1, 'NTHRDS_ROF': 1, 'NTHRDS_ICE': 1, 'NTHRDS_OCN': 1, 'NTHRDS_GLC': 1, 'NTHRDS_WAV': 1, 'NTHRDS_CPL': 1} \n",
      "Pes setting: rootpe      is {'ROOTPE_ATM': 0, 'ROOTPE_LND': 0, 'ROOTPE_ROF': 0, 'ROOTPE_ICE': 0, 'ROOTPE_OCN': 828, 'ROOTPE_GLC': 0, 'ROOTPE_WAV': 0, 'ROOTPE_CPL': 0} \n",
      "Pes setting: pstrid      is {} \n",
      "Pes other settings: {}\n",
      "Pes comments: none\n",
      " Compset is: 1850_DATM%JRA-1p4-2018_SLND_CICE%CICE4_POP2%ECO_DROF%JRA-1p4-2018_SGLC_SWAV_SIAC_SESP \n",
      " Grid is: a%TL319_l%null_oi%tx0.1v3_r%JRA025v2_g%null_w%null_z%null_m%tx0.1v3 \n",
      " Components in compset are: ['datm', 'slnd', 'cice', 'pop', 'drof', 'sglc', 'swav', 'siac', 'sesp'] \n",
      "No charge_account info available, using value from PROJECT\n"
     ]
    },
    {
     "name": "stderr",
     "output_type": "stream",
     "text": [
      "WARNING: No cesm Model version found.\n"
     ]
    },
    {
     "name": "stdout",
     "output_type": "stream",
     "text": [
      "Batch_system_type is slurm\n",
      "job is case.run USER_REQUESTED_WALLTIME 48:00:00 USER_REQUESTED_QUEUE premium WALLTIME_FORMAT %H:%M:%S\n",
      "job is case.st_archive USER_REQUESTED_WALLTIME None USER_REQUESTED_QUEUE None WALLTIME_FORMAT %H:%M:%S\n",
      " Creating Case directory /global/cfs/projectdirs/m4746/Projects/Ocean-CDR-Atlas-v0/cases/hr_4p2z.cdr-atlas-v0.control.001\n",
      "copying /global/cfs/projectdirs/m4746/Projects/Ocean-CDR-Atlas-v0/cases/hr_4p2z.cdr-atlas-v0.control.001/env_case.xml -> /global/cfs/projectdirs/m4746/Projects/Ocean-CDR-Atlas-v0/cases/hr_4p2z.cdr-atlas-v0.control.001/LockedFiles\n",
      "Setting Environment MPICH_ENV_DISPLAY=1\n",
      "Setting Environment MPICH_VERSION_DISPLAY=1\n",
      "Setting Environment OMP_STACKSIZE=128M\n",
      "Setting Environment OMP_PROC_BIND=spread\n",
      "Setting Environment OMP_PLACES=threads\n",
      "Setting Environment HDF5_USE_FILE_LOCKING=FALSE\n",
      "Setting Environment PERL5LIB=/global/cfs/cdirs/e3sm/perl/lib/perl5-only-switch\n",
      "Setting Environment FI_CXI_RX_MATCH_MODE=software\n",
      "Setting Environment MPICH_COLL_SYNC=MPI_Bcast\n",
      "Setting Environment NETCDF_PATH=/opt/cray/pe/netcdf-hdf5parallel/4.9.0.3/intel/19.0\n",
      "Setting Environment PNETCDF_PATH=/opt/cray/pe/parallel-netcdf/1.12.3.3/intel/19.0\n",
      "Setting resource.RLIMIT_STACK to -1 from (8388608, -1)\n",
      "copying /global/cfs/cdirs/m4746/Projects/Ocean-CDR-Atlas-v0/codes/cesm2.2.0/cime/config/cesm/machines/Depends.intel -> /global/cfs/projectdirs/m4746/Projects/Ocean-CDR-Atlas-v0/cases/hr_4p2z.cdr-atlas-v0.control.001\n"
     ]
    },
    {
     "name": "stderr",
     "output_type": "stream",
     "text": [
      "/global/cfs/projectdirs/m4746/Projects/Ocean-CDR-Atlas-v0/cases/hr_4p2z.cdr-atlas-v0.control.001/env_mach_specific.xml already exists, delete to replace\n",
      "/global/cfs/projectdirs/m4746/Projects/Ocean-CDR-Atlas-v0/cases/hr_4p2z.cdr-atlas-v0.control.001/env_mach_specific.xml already exists, delete to replace\n"
     ]
    },
    {
     "name": "stdout",
     "output_type": "stream",
     "text": [
      "job is case.run USER_REQUESTED_WALLTIME 48:00:00 USER_REQUESTED_QUEUE premium WALLTIME_FORMAT %H:%M:%S\n",
      "Creating batch scripts\n",
      "Writing case.run script from input template /global/cfs/cdirs/m4746/Projects/Ocean-CDR-Atlas-v0/codes/cesm2.2.0/cime/config/cesm/machines/template.case.run\n",
      "Creating file .case.run\n",
      "Writing case.st_archive script from input template /global/cfs/cdirs/m4746/Projects/Ocean-CDR-Atlas-v0/codes/cesm2.2.0/cime/config/cesm/machines/template.st_archive\n",
      "Creating file case.st_archive\n",
      "copying /global/cfs/cdirs/m4746/Projects/Ocean-CDR-Atlas-v0/cases/hr_4p2z.cdr-atlas-v0.control.001/env_mach_pes.xml -> /global/cfs/cdirs/m4746/Projects/Ocean-CDR-Atlas-v0/cases/hr_4p2z.cdr-atlas-v0.control.001/LockedFiles\n",
      "copying /global/cfs/cdirs/m4746/Projects/Ocean-CDR-Atlas-v0/cases/hr_4p2z.cdr-atlas-v0.control.001/env_batch.xml -> /global/cfs/cdirs/m4746/Projects/Ocean-CDR-Atlas-v0/cases/hr_4p2z.cdr-atlas-v0.control.001/LockedFiles\n",
      "Creating user_nl_xxx files for components and cpl\n",
      "copying /global/cfs/cdirs/m4746/Projects/Ocean-CDR-Atlas-v0/codes/cesm2.2.0/cime/src/drivers/mct/cime_config/user_nl_cpl -> .\n",
      "copying /global/cfs/cdirs/m4746/Projects/Ocean-CDR-Atlas-v0/codes/cesm2.2.0/cime/src/components/data_comps_mct/datm/cime_config/user_nl_datm -> \n",
      "copying /global/cfs/cdirs/m4746/Projects/Ocean-CDR-Atlas-v0/codes/cesm2.2.0/components/cice//cime_config/user_nl_cice -> \n",
      "copying /global/cfs/cdirs/m4746/Projects/Ocean-CDR-Atlas-v0/codes/cesm2.2.0/components/pop//cime_config/user_nl_pop -> \n",
      "copying /global/cfs/cdirs/m4746/Projects/Ocean-CDR-Atlas-v0/codes/cesm2.2.0/cime/src/components/data_comps_mct/drof/cime_config/user_nl_drof -> \n",
      "If an old case build already exists, might want to run 'case.build --clean' before building\n",
      "You can now run './preview_run' to get more info on how your case will be run\n",
      "/global/u2/m/mattlong/codes/Ocean-CDR-Atlas-v0/workflows/input/cesm2.2.0/cases/g.e22.TL319_t13.G1850ECOIAF_JRA_HR.4p2z.001/user_nl_drof -> /global/cfs/projectdirs/m4746/Projects/Ocean-CDR-Atlas-v0/cases/hr_4p2z.cdr-atlas-v0.control.001/user_nl_drof\n",
      "/global/u2/m/mattlong/codes/Ocean-CDR-Atlas-v0/workflows/input/cesm2.2.0/cases/g.e22.TL319_t13.G1850ECOIAF_JRA_HR.4p2z.001/user_nl_pop -> /global/cfs/projectdirs/m4746/Projects/Ocean-CDR-Atlas-v0/cases/hr_4p2z.cdr-atlas-v0.control.001/user_nl_pop\n",
      "/global/u2/m/mattlong/codes/Ocean-CDR-Atlas-v0/workflows/input/cesm2.2.0/cases/g.e22.TL319_t13.G1850ECOIAF_JRA_HR.4p2z.001/user_nl_datm -> /global/cfs/projectdirs/m4746/Projects/Ocean-CDR-Atlas-v0/cases/hr_4p2z.cdr-atlas-v0.control.001/user_nl_datm\n",
      "/global/u2/m/mattlong/codes/Ocean-CDR-Atlas-v0/workflows/input/cesm2.2.0/cases/g.e22.TL319_t13.G1850ECOIAF_JRA_HR.4p2z.001/user_nl_cice -> /global/cfs/projectdirs/m4746/Projects/Ocean-CDR-Atlas-v0/cases/hr_4p2z.cdr-atlas-v0.control.001/user_nl_cice\n",
      "/global/u2/m/mattlong/codes/Ocean-CDR-Atlas-v0/workflows/input/cesm2.2.0/cases/g.e22.TL319_t13.G1850ECOIAF_JRA_HR.4p2z.001/user_nl_marbl -> /global/cfs/projectdirs/m4746/Projects/Ocean-CDR-Atlas-v0/cases/hr_4p2z.cdr-atlas-v0.control.001/user_nl_marbl\n",
      "/global/u2/m/mattlong/codes/Ocean-CDR-Atlas-v0/workflows/input/cesm2.2.0/cases/g.e22.TL319_t13.G1850ECOIAF_JRA_HR.4p2z.001/user_datm.streams.txt.CORE_IAF_JRA.GISS.LWDN -> /global/cfs/projectdirs/m4746/Projects/Ocean-CDR-Atlas-v0/cases/hr_4p2z.cdr-atlas-v0.control.001/user_datm.streams.txt.CORE_IAF_JRA.GISS.LWDN\n",
      "/global/u2/m/mattlong/codes/Ocean-CDR-Atlas-v0/workflows/input/cesm2.2.0/cases/g.e22.TL319_t13.G1850ECOIAF_JRA_HR.4p2z.001/user_datm.streams.txt.CORE_IAF_JRA.NCEP.T_10 -> /global/cfs/projectdirs/m4746/Projects/Ocean-CDR-Atlas-v0/cases/hr_4p2z.cdr-atlas-v0.control.001/user_datm.streams.txt.CORE_IAF_JRA.NCEP.T_10\n",
      "/global/u2/m/mattlong/codes/Ocean-CDR-Atlas-v0/workflows/input/cesm2.2.0/cases/g.e22.TL319_t13.G1850ECOIAF_JRA_HR.4p2z.001/user_datm.streams.txt.CORE_IAF_JRA.GCGCS.PREC -> /global/cfs/projectdirs/m4746/Projects/Ocean-CDR-Atlas-v0/cases/hr_4p2z.cdr-atlas-v0.control.001/user_datm.streams.txt.CORE_IAF_JRA.GCGCS.PREC\n",
      "/global/u2/m/mattlong/codes/Ocean-CDR-Atlas-v0/workflows/input/cesm2.2.0/cases/g.e22.TL319_t13.G1850ECOIAF_JRA_HR.4p2z.001/user_datm.streams.txt.CORE_IAF_JRA.NCEP.V_10 -> /global/cfs/projectdirs/m4746/Projects/Ocean-CDR-Atlas-v0/cases/hr_4p2z.cdr-atlas-v0.control.001/user_datm.streams.txt.CORE_IAF_JRA.NCEP.V_10\n",
      "/global/u2/m/mattlong/codes/Ocean-CDR-Atlas-v0/workflows/input/cesm2.2.0/cases/g.e22.TL319_t13.G1850ECOIAF_JRA_HR.4p2z.001/user_datm.streams.txt.co2tseries.omip -> /global/cfs/projectdirs/m4746/Projects/Ocean-CDR-Atlas-v0/cases/hr_4p2z.cdr-atlas-v0.control.001/user_datm.streams.txt.co2tseries.omip\n",
      "/global/u2/m/mattlong/codes/Ocean-CDR-Atlas-v0/workflows/input/cesm2.2.0/cases/g.e22.TL319_t13.G1850ECOIAF_JRA_HR.4p2z.001/user_datm.streams.txt.CORE_IAF_JRA.NCEP.SLP_ -> /global/cfs/projectdirs/m4746/Projects/Ocean-CDR-Atlas-v0/cases/hr_4p2z.cdr-atlas-v0.control.001/user_datm.streams.txt.CORE_IAF_JRA.NCEP.SLP_\n",
      "/global/u2/m/mattlong/codes/Ocean-CDR-Atlas-v0/workflows/input/cesm2.2.0/cases/g.e22.TL319_t13.G1850ECOIAF_JRA_HR.4p2z.001/user_datm.streams.txt.CORE_IAF_JRA.GISS.SWDN -> /global/cfs/projectdirs/m4746/Projects/Ocean-CDR-Atlas-v0/cases/hr_4p2z.cdr-atlas-v0.control.001/user_datm.streams.txt.CORE_IAF_JRA.GISS.SWDN\n",
      "/global/u2/m/mattlong/codes/Ocean-CDR-Atlas-v0/workflows/input/cesm2.2.0/cases/g.e22.TL319_t13.G1850ECOIAF_JRA_HR.4p2z.001/user_datm.streams.txt.CORE_IAF_JRA.NCEP.Q_10 -> /global/cfs/projectdirs/m4746/Projects/Ocean-CDR-Atlas-v0/cases/hr_4p2z.cdr-atlas-v0.control.001/user_datm.streams.txt.CORE_IAF_JRA.NCEP.Q_10\n",
      "/global/u2/m/mattlong/codes/Ocean-CDR-Atlas-v0/workflows/input/cesm2.2.0/cases/g.e22.TL319_t13.G1850ECOIAF_JRA_HR.4p2z.001/user_datm.streams.txt.presaero.clim_1850 -> /global/cfs/projectdirs/m4746/Projects/Ocean-CDR-Atlas-v0/cases/hr_4p2z.cdr-atlas-v0.control.001/user_datm.streams.txt.presaero.clim_1850\n",
      "/global/u2/m/mattlong/codes/Ocean-CDR-Atlas-v0/workflows/input/cesm2.2.0/cases/g.e22.TL319_t13.G1850ECOIAF_JRA_HR.4p2z.001/user_datm.streams.txt.CORE_IAF_JRA.NCEP.U_10 -> /global/cfs/projectdirs/m4746/Projects/Ocean-CDR-Atlas-v0/cases/hr_4p2z.cdr-atlas-v0.control.001/user_datm.streams.txt.CORE_IAF_JRA.NCEP.U_10\n",
      "Component csm_share build complete with 15 warnings\n",
      "         - Building atm Library \n",
      "Building atm with output to /pscratch/sd/m/mattlong/Ocean-CDR-Atlas-v0/hr_4p2z.cdr-atlas-v0.control.001/bld/atm.bldlog.241011-062055\n",
      "         - Building lnd Library \n",
      "Building lnd with output to /pscratch/sd/m/mattlong/Ocean-CDR-Atlas-v0/hr_4p2z.cdr-atlas-v0.control.001/bld/lnd.bldlog.241011-062055\n",
      "         - Building ice Library \n",
      "Building ice with output to /pscratch/sd/m/mattlong/Ocean-CDR-Atlas-v0/hr_4p2z.cdr-atlas-v0.control.001/bld/ice.bldlog.241011-062055\n",
      "         - Building ocn Library \n",
      "Building ocn with output to /pscratch/sd/m/mattlong/Ocean-CDR-Atlas-v0/hr_4p2z.cdr-atlas-v0.control.001/bld/ocn.bldlog.241011-062055\n",
      "         - Building rof Library \n",
      "Building rof with output to /pscratch/sd/m/mattlong/Ocean-CDR-Atlas-v0/hr_4p2z.cdr-atlas-v0.control.001/bld/rof.bldlog.241011-062055\n",
      "         - Building glc Library \n",
      "Building glc with output to /pscratch/sd/m/mattlong/Ocean-CDR-Atlas-v0/hr_4p2z.cdr-atlas-v0.control.001/bld/glc.bldlog.241011-062055\n",
      "         - Building wav Library \n",
      "Building wav with output to /pscratch/sd/m/mattlong/Ocean-CDR-Atlas-v0/hr_4p2z.cdr-atlas-v0.control.001/bld/wav.bldlog.241011-062055\n",
      "         - Building iac Library \n",
      "Building iac with output to /pscratch/sd/m/mattlong/Ocean-CDR-Atlas-v0/hr_4p2z.cdr-atlas-v0.control.001/bld/iac.bldlog.241011-062055\n",
      "         - Building esp Library \n",
      "Building esp with output to /pscratch/sd/m/mattlong/Ocean-CDR-Atlas-v0/hr_4p2z.cdr-atlas-v0.control.001/bld/esp.bldlog.241011-062055\n",
      "copying /pscratch/sd/m/mattlong/Ocean-CDR-Atlas-v0/hr_4p2z.cdr-atlas-v0.control.001/bld/glc/obj/glc_comp_mct.mod -> /pscratch/sd/m/mattlong/Ocean-CDR-Atlas-v0/hr_4p2z.cdr-atlas-v0.control.001/bld/lib/include\n",
      "copying /pscratch/sd/m/mattlong/Ocean-CDR-Atlas-v0/hr_4p2z.cdr-atlas-v0.control.001/bld/esp/obj/esp_comp_mct.mod -> /pscratch/sd/m/mattlong/Ocean-CDR-Atlas-v0/hr_4p2z.cdr-atlas-v0.control.001/bld/lib/include\n",
      "sglc built in 1.695110 seconds\n",
      "sesp built in 1.695068 seconds\n",
      "copying /pscratch/sd/m/mattlong/Ocean-CDR-Atlas-v0/hr_4p2z.cdr-atlas-v0.control.001/bld/lnd/obj/lnd_comp_mct.mod -> /pscratch/sd/m/mattlong/Ocean-CDR-Atlas-v0/hr_4p2z.cdr-atlas-v0.control.001/bld/lib/include\n",
      "copying /pscratch/sd/m/mattlong/Ocean-CDR-Atlas-v0/hr_4p2z.cdr-atlas-v0.control.001/bld/wav/obj/wav_comp_mct.mod -> /pscratch/sd/m/mattlong/Ocean-CDR-Atlas-v0/hr_4p2z.cdr-atlas-v0.control.001/bld/lib/include\n",
      "swav built in 1.728215 seconds\n",
      "slnd built in 1.739861 seconds\n",
      "copying /pscratch/sd/m/mattlong/Ocean-CDR-Atlas-v0/hr_4p2z.cdr-atlas-v0.control.001/bld/iac/obj/iac_comp_mct.mod -> /pscratch/sd/m/mattlong/Ocean-CDR-Atlas-v0/hr_4p2z.cdr-atlas-v0.control.001/bld/lib/include\n",
      "siac built in 1.767914 seconds\n",
      "copying /pscratch/sd/m/mattlong/Ocean-CDR-Atlas-v0/hr_4p2z.cdr-atlas-v0.control.001/bld/rof/obj/rof_comp_mct.mod -> /pscratch/sd/m/mattlong/Ocean-CDR-Atlas-v0/hr_4p2z.cdr-atlas-v0.control.001/bld/lib/include\n",
      "copying /pscratch/sd/m/mattlong/Ocean-CDR-Atlas-v0/hr_4p2z.cdr-atlas-v0.control.001/bld/rof/obj/drof_comp_mod.mod -> /pscratch/sd/m/mattlong/Ocean-CDR-Atlas-v0/hr_4p2z.cdr-atlas-v0.control.001/bld/lib/include\n",
      "drof built in 2.720724 seconds\n",
      "copying /pscratch/sd/m/mattlong/Ocean-CDR-Atlas-v0/hr_4p2z.cdr-atlas-v0.control.001/bld/atm/obj/atm_comp_mct.mod -> /pscratch/sd/m/mattlong/Ocean-CDR-Atlas-v0/hr_4p2z.cdr-atlas-v0.control.001/bld/lib/include\n",
      "copying /pscratch/sd/m/mattlong/Ocean-CDR-Atlas-v0/hr_4p2z.cdr-atlas-v0.control.001/bld/atm/obj/datm_comp_mod.mod -> /pscratch/sd/m/mattlong/Ocean-CDR-Atlas-v0/hr_4p2z.cdr-atlas-v0.control.001/bld/lib/include\n",
      "datm built in 3.855307 seconds\n",
      "Component ice build complete with 1 warnings\n",
      "copying /pscratch/sd/m/mattlong/Ocean-CDR-Atlas-v0/hr_4p2z.cdr-atlas-v0.control.001/bld/ice/obj/ice_comp_mct.mod -> /pscratch/sd/m/mattlong/Ocean-CDR-Atlas-v0/hr_4p2z.cdr-atlas-v0.control.001/bld/lib/include\n",
      "cice built in 39.990656 seconds\n",
      "Component ocn build complete with 26 warnings\n",
      "copying /pscratch/sd/m/mattlong/Ocean-CDR-Atlas-v0/hr_4p2z.cdr-atlas-v0.control.001/bld/ocn/obj/ocn_comp_mct.mod -> /pscratch/sd/m/mattlong/Ocean-CDR-Atlas-v0/hr_4p2z.cdr-atlas-v0.control.001/bld/lib/include\n",
      "pop built in 82.278745 seconds\n",
      "Building cesm from /global/cfs/cdirs/m4746/Projects/Ocean-CDR-Atlas-v0/codes/cesm2.2.0/cime/src/drivers/mct/cime_config/buildexe with output to /pscratch/sd/m/mattlong/Ocean-CDR-Atlas-v0/hr_4p2z.cdr-atlas-v0.control.001/bld/cesm.bldlog.241011-062055 \n",
      "copying /pscratch/sd/m/mattlong/Ocean-CDR-Atlas-v0/hr_4p2z.cdr-atlas-v0.control.001/bld/cesm.exe -> /pscratch/sd/m/mattlong/Ocean-CDR-Atlas-v0/hr_4p2z.cdr-atlas-v0.control.001/bld/cesm.exe.241011-062055\n",
      "copying /global/cfs/projectdirs/m4746/Projects/Ocean-CDR-Atlas-v0/cases/hr_4p2z.cdr-atlas-v0.control.001/env_build.xml -> /global/cfs/projectdirs/m4746/Projects/Ocean-CDR-Atlas-v0/cases/hr_4p2z.cdr-atlas-v0.control.001/LockedFiles\n",
      "Time spent not building: 7.333835 sec\n",
      "Time spent building: 187.649500 sec\n",
      "MODEL BUILD HAS FINISHED SUCCESSFULLY\n"
     ]
    }
   ],
   "source": [
    "cesm.create_hr_4p2z_clone(\n",
    "    case,\n",
    "    cdr_forcing=None,\n",
    "    refdate=\"1999-01-01\",\n",
    "    stop_n=1,\n",
    "    stop_option=\"nyear\",    \n",
    "    queue=\"premium\",\n",
    "    clobber=True,\n",
    ")"
   ]
  },
  {
   "cell_type": "code",
   "execution_count": 5,
   "id": "8335b578-62b6-4c1e-a13e-873d1c8f64a4",
   "metadata": {
    "tags": []
   },
   "outputs": [],
   "source": [
    "cesm.submit_cases([case])"
   ]
  },
  {
   "cell_type": "code",
   "execution_count": null,
   "id": "c8038471-6bfb-480b-a8c6-df6480be4a6b",
   "metadata": {},
   "outputs": [],
   "source": []
  }
 ],
 "metadata": {
  "kernelspec": {
   "display_name": "cworthy",
   "language": "python",
   "name": "env"
  },
  "language_info": {
   "codemirror_mode": {
    "name": "ipython",
    "version": 3
   },
   "file_extension": ".py",
   "mimetype": "text/x-python",
   "name": "python",
   "nbconvert_exporter": "python",
   "pygments_lexer": "ipython3",
   "version": "3.12.5"
  }
 },
 "nbformat": 4,
 "nbformat_minor": 5
}
