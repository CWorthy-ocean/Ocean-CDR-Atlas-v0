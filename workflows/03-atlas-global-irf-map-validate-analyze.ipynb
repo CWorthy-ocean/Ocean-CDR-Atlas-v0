{
 "cells": [
  {
   "cell_type": "markdown",
   "id": "c109ad0d-4cab-422e-8e68-7e2c924ae156",
   "metadata": {},
   "source": [
    "# Global IRF Efficiency Map\n",
    "\n",
    "Generate global map of CDR efficiency using IRF forcing."
   ]
  },
  {
   "cell_type": "code",
   "execution_count": null,
   "id": "6496a28d-c37b-4764-ac76-2d3feb1164da",
   "metadata": {
    "tags": []
   },
   "outputs": [],
   "source": [
    "%load_ext autoreload\n",
    "%autoreload 2"
   ]
  },
  {
   "cell_type": "code",
   "execution_count": null,
   "id": "0d784c2f-87bb-4e4c-9465-535c267b07ed",
   "metadata": {
    "tags": []
   },
   "outputs": [],
   "source": [
    "import xarray as xr\n",
    "import matplotlib.pyplot as plt\n",
    "\n",
    "import atlas"
   ]
  },
  {
   "cell_type": "markdown",
   "id": "b629571f-dee0-47d1-82fd-91aade101e2b",
   "metadata": {},
   "source": [
    "## Define experiment and phase\n",
    "\n"
   ]
  },
  {
   "cell_type": "code",
   "execution_count": null,
   "id": "93e67af1-9485-4ac9-b6fd-3851b82af757",
   "metadata": {
    "tags": [
     "parameters"
    ]
   },
   "outputs": [],
   "source": [
    "cdr_forcing = \"DOR\"\n",
    "vintage = \"001\"\n",
    "phase = \"deploy\"\n",
    "clobber = False"
   ]
  },
  {
   "cell_type": "code",
   "execution_count": null,
   "id": "a37826ce-7b72-467a-a4c6-d4f88968fada",
   "metadata": {
    "tags": []
   },
   "outputs": [],
   "source": [
    "calc = atlas.global_irf_map(cdr_forcing, vintage)"
   ]
  },
  {
   "cell_type": "markdown",
   "id": "853ae906-9dec-4b25-82ea-bf0be14f7a1f",
   "metadata": {},
   "source": [
    "## Table of experiments"
   ]
  },
  {
   "cell_type": "code",
   "execution_count": null,
   "id": "aa518170-6b87-4f0d-a783-5278495aed4a",
   "metadata": {
    "tags": []
   },
   "outputs": [],
   "source": [
    "calc.df"
   ]
  },
  {
   "cell_type": "markdown",
   "id": "7cc46060-26e6-4a6a-97c0-c1ae02bb3693",
   "metadata": {},
   "source": [
    "## Validate the integrations"
   ]
  },
  {
   "cell_type": "code",
   "execution_count": null,
   "id": "5e814839-f49c-4666-a08f-cac9be974813",
   "metadata": {
    "tags": []
   },
   "outputs": [],
   "source": [
    "%%time\n",
    "calc.validate(clobber=clobber)"
   ]
  },
  {
   "cell_type": "code",
   "execution_count": null,
   "id": "00107fbc-414d-4b5b-bd44-4de16d9fe07e",
   "metadata": {
    "tags": []
   },
   "outputs": [],
   "source": [
    "df = calc.df_validation\n",
    "df"
   ]
  },
  {
   "cell_type": "code",
   "execution_count": null,
   "id": "3e57dbb8-5051-486f-acb2-80d3543ab768",
   "metadata": {
    "tags": []
   },
   "outputs": [],
   "source": [
    "df.ALK_ALT_CO2_rmse.plot.hist(bins=20)"
   ]
  },
  {
   "cell_type": "code",
   "execution_count": null,
   "id": "51d7d9e8-924c-4fd1-9f9e-6180b7ae5adc",
   "metadata": {
    "tags": []
   },
   "outputs": [],
   "source": [
    "df.DIC_ALT_CO2_rmse.plot.hist(bins=20)"
   ]
  },
  {
   "cell_type": "code",
   "execution_count": null,
   "id": "63b76673-bed4-44cd-be5b-16a4b3d30e1c",
   "metadata": {
    "tags": []
   },
   "outputs": [],
   "source": [
    "df.FG_ALT_CO2_rmse.plot.hist(bins=20)"
   ]
  },
  {
   "cell_type": "markdown",
   "id": "8a845ca3-350d-44f5-857e-897a32c797b7",
   "metadata": {
    "tags": []
   },
   "source": [
    "## Analysis"
   ]
  },
  {
   "cell_type": "code",
   "execution_count": null,
   "id": "054ed425-2eb1-4bec-930c-0e3fcc9c6151",
   "metadata": {},
   "outputs": [],
   "source": [
    "paths = calc.analyze(clobber=clobber)\n",
    "paths"
   ]
  },
  {
   "cell_type": "code",
   "execution_count": null,
   "id": "6a64bd05-f72e-4422-beb6-effcc19445c8",
   "metadata": {
    "tags": []
   },
   "outputs": [],
   "source": [
    "fig, ax = plt.subplots(1, 1, figsize=(6, 4))\n",
    "for p in paths:\n",
    "    da = xr.open_zarr(p)[\"DIC_ADD_TOTAL\"]\n",
    "    da.plot(ax=ax)"
   ]
  },
  {
   "cell_type": "markdown",
   "id": "4878faa5-0a6f-4205-a384-121fff76d3ed",
   "metadata": {},
   "source": [
    "## Visualization"
   ]
  },
  {
   "cell_type": "code",
   "execution_count": null,
   "id": "459c0c95-4d87-45d2-a379-16b3525ba6d4",
   "metadata": {},
   "outputs": [],
   "source": [
    "calc.visualize(clobber=True)"
   ]
  },
  {
   "cell_type": "code",
   "execution_count": null,
   "id": "f1e2634e-9a3f-4816-8839-7cafca1421a4",
   "metadata": {},
   "outputs": [],
   "source": []
  }
 ],
 "metadata": {
  "kernelspec": {
   "display_name": "cworthy",
   "language": "python",
   "name": "env"
  },
  "language_info": {
   "codemirror_mode": {
    "name": "ipython",
    "version": 3
   },
   "file_extension": ".py",
   "mimetype": "text/x-python",
   "name": "python",
   "nbconvert_exporter": "python",
   "pygments_lexer": "ipython3",
   "version": "3.12.5"
  }
 },
 "nbformat": 4,
 "nbformat_minor": 5
}
