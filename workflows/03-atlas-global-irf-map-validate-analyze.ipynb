{
 "cells": [
  {
   "cell_type": "markdown",
   "id": "c109ad0d-4cab-422e-8e68-7e2c924ae156",
   "metadata": {},
   "source": [
    "# Global IRF Efficiency Map\n",
    "\n",
    "Generate global map of CDR efficiency using IRF forcing."
   ]
  },
  {
   "cell_type": "code",
   "execution_count": 1,
   "id": "6496a28d-c37b-4764-ac76-2d3feb1164da",
   "metadata": {
    "tags": []
   },
   "outputs": [],
   "source": [
    "%load_ext autoreload\n",
    "%autoreload 2"
   ]
  },
  {
   "cell_type": "code",
   "execution_count": 2,
   "id": "0d784c2f-87bb-4e4c-9465-535c267b07ed",
   "metadata": {
    "tags": []
   },
   "outputs": [],
   "source": [
    "import xarray as xr\n",
    "import matplotlib.pyplot as plt\n",
    "\n",
    "import atlas"
   ]
  },
  {
   "cell_type": "markdown",
   "id": "b629571f-dee0-47d1-82fd-91aade101e2b",
   "metadata": {},
   "source": [
    "## Define experiment and phase\n",
    "\n"
   ]
  },
  {
   "cell_type": "code",
   "execution_count": 3,
   "id": "93e67af1-9485-4ac9-b6fd-3851b82af757",
   "metadata": {
    "tags": [
     "parameters"
    ]
   },
   "outputs": [],
   "source": [
    "cdr_forcing = \"DOR\"\n",
    "vintage = \"bundle\"\n",
    "phase = \"deploy\"\n",
    "clobber = False"
   ]
  },
  {
   "cell_type": "code",
   "execution_count": 4,
   "id": "a37826ce-7b72-467a-a4c6-d4f88968fada",
   "metadata": {
    "tags": []
   },
   "outputs": [],
   "source": [
    "calc = atlas.global_irf_map(cdr_forcing, vintage)"
   ]
  },
  {
   "cell_type": "markdown",
   "id": "853ae906-9dec-4b25-82ea-bf0be14f7a1f",
   "metadata": {},
   "source": [
    "## Table of experiments"
   ]
  },
  {
   "cell_type": "code",
   "execution_count": 5,
   "id": "aa518170-6b87-4f0d-a783-5278495aed4a",
   "metadata": {
    "tags": []
   },
   "outputs": [
    {
     "data": {
      "text/html": [
       "<div>\n",
       "<style scoped>\n",
       "    .dataframe tbody tr th:only-of-type {\n",
       "        vertical-align: middle;\n",
       "    }\n",
       "\n",
       "    .dataframe tbody tr th {\n",
       "        vertical-align: top;\n",
       "    }\n",
       "\n",
       "    .dataframe thead th {\n",
       "        text-align: right;\n",
       "    }\n",
       "</style>\n",
       "<table border=\"1\" class=\"dataframe\">\n",
       "  <thead>\n",
       "    <tr style=\"text-align: right;\">\n",
       "      <th></th>\n",
       "      <th>blueprint</th>\n",
       "      <th>polygon</th>\n",
       "      <th>polygon_master</th>\n",
       "      <th>basin</th>\n",
       "      <th>start_date</th>\n",
       "      <th>cdr_forcing</th>\n",
       "      <th>cdr_forcing_file</th>\n",
       "      <th>simulation_key</th>\n",
       "      <th>refdate</th>\n",
       "      <th>stop_n</th>\n",
       "      <th>wallclock</th>\n",
       "      <th>curtail_output</th>\n",
       "    </tr>\n",
       "    <tr>\n",
       "      <th>case</th>\n",
       "      <th></th>\n",
       "      <th></th>\n",
       "      <th></th>\n",
       "      <th></th>\n",
       "      <th></th>\n",
       "      <th></th>\n",
       "      <th></th>\n",
       "      <th></th>\n",
       "      <th></th>\n",
       "      <th></th>\n",
       "      <th></th>\n",
       "      <th></th>\n",
       "    </tr>\n",
       "  </thead>\n",
       "  <tbody>\n",
       "    <tr>\n",
       "      <th>smyle.cdr-atlas-v0.control.bundle</th>\n",
       "      <td>smyle</td>\n",
       "      <td>NaN</td>\n",
       "      <td>NaN</td>\n",
       "      <td>None</td>\n",
       "      <td>1999-01</td>\n",
       "      <td>None</td>\n",
       "      <td>None</td>\n",
       "      <td>baseline</td>\n",
       "      <td>0347-01-01</td>\n",
       "      <td>16</td>\n",
       "      <td>12:00:00</td>\n",
       "      <td>False</td>\n",
       "    </tr>\n",
       "    <tr>\n",
       "      <th>smyle.cdr-atlas-v0.glb-dor_North_Atlantic_basin_000_1999-01-01_00000.bundle</th>\n",
       "      <td>smyle</td>\n",
       "      <td>0.0</td>\n",
       "      <td>0.0</td>\n",
       "      <td>North_Atlantic_basin</td>\n",
       "      <td>1999-01</td>\n",
       "      <td>DOR</td>\n",
       "      <td>/global/cfs/projectdirs/m4746/Projects/OAE-Eff...</td>\n",
       "      <td>glb-dor_North_Atlantic_basin_000_1999-01-01_00000</td>\n",
       "      <td>0347-01-01</td>\n",
       "      <td>15</td>\n",
       "      <td>10:00:00</td>\n",
       "      <td>True</td>\n",
       "    </tr>\n",
       "    <tr>\n",
       "      <th>smyle.cdr-atlas-v0.glb-dor_North_Atlantic_basin_000_1999-04-01_00001.bundle</th>\n",
       "      <td>smyle</td>\n",
       "      <td>0.0</td>\n",
       "      <td>0.0</td>\n",
       "      <td>North_Atlantic_basin</td>\n",
       "      <td>1999-04</td>\n",
       "      <td>DOR</td>\n",
       "      <td>/global/cfs/projectdirs/m4746/Projects/OAE-Eff...</td>\n",
       "      <td>glb-dor_North_Atlantic_basin_000_1999-04-01_00001</td>\n",
       "      <td>0347-04-01</td>\n",
       "      <td>15</td>\n",
       "      <td>10:00:00</td>\n",
       "      <td>True</td>\n",
       "    </tr>\n",
       "    <tr>\n",
       "      <th>smyle.cdr-atlas-v0.glb-dor_North_Atlantic_basin_000_1999-07-01_00002.bundle</th>\n",
       "      <td>smyle</td>\n",
       "      <td>0.0</td>\n",
       "      <td>0.0</td>\n",
       "      <td>North_Atlantic_basin</td>\n",
       "      <td>1999-07</td>\n",
       "      <td>DOR</td>\n",
       "      <td>/global/cfs/projectdirs/m4746/Projects/OAE-Eff...</td>\n",
       "      <td>glb-dor_North_Atlantic_basin_000_1999-07-01_00002</td>\n",
       "      <td>0347-07-01</td>\n",
       "      <td>15</td>\n",
       "      <td>10:00:00</td>\n",
       "      <td>True</td>\n",
       "    </tr>\n",
       "    <tr>\n",
       "      <th>smyle.cdr-atlas-v0.glb-dor_North_Atlantic_basin_000_1999-10-01_00003.bundle</th>\n",
       "      <td>smyle</td>\n",
       "      <td>0.0</td>\n",
       "      <td>0.0</td>\n",
       "      <td>North_Atlantic_basin</td>\n",
       "      <td>1999-10</td>\n",
       "      <td>DOR</td>\n",
       "      <td>/global/cfs/projectdirs/m4746/Projects/OAE-Eff...</td>\n",
       "      <td>glb-dor_North_Atlantic_basin_000_1999-10-01_00003</td>\n",
       "      <td>0347-10-01</td>\n",
       "      <td>15</td>\n",
       "      <td>10:00:00</td>\n",
       "      <td>True</td>\n",
       "    </tr>\n",
       "    <tr>\n",
       "      <th>...</th>\n",
       "      <td>...</td>\n",
       "      <td>...</td>\n",
       "      <td>...</td>\n",
       "      <td>...</td>\n",
       "      <td>...</td>\n",
       "      <td>...</td>\n",
       "      <td>...</td>\n",
       "      <td>...</td>\n",
       "      <td>...</td>\n",
       "      <td>...</td>\n",
       "      <td>...</td>\n",
       "      <td>...</td>\n",
       "    </tr>\n",
       "    <tr>\n",
       "      <th>smyle.cdr-atlas-v0.glb-dor_Southern_Ocean_038_1999-10-01_02755.bundle</th>\n",
       "      <td>smyle</td>\n",
       "      <td>38.0</td>\n",
       "      <td>688.0</td>\n",
       "      <td>Southern_Ocean</td>\n",
       "      <td>1999-10</td>\n",
       "      <td>DOR</td>\n",
       "      <td>/global/cfs/projectdirs/m4746/Projects/OAE-Eff...</td>\n",
       "      <td>glb-dor_Southern_Ocean_038_1999-10-01_02755</td>\n",
       "      <td>0347-10-01</td>\n",
       "      <td>15</td>\n",
       "      <td>10:00:00</td>\n",
       "      <td>True</td>\n",
       "    </tr>\n",
       "    <tr>\n",
       "      <th>smyle.cdr-atlas-v0.glb-dor_Southern_Ocean_039_1999-01-01_02756.bundle</th>\n",
       "      <td>smyle</td>\n",
       "      <td>39.0</td>\n",
       "      <td>689.0</td>\n",
       "      <td>Southern_Ocean</td>\n",
       "      <td>1999-01</td>\n",
       "      <td>DOR</td>\n",
       "      <td>/global/cfs/projectdirs/m4746/Projects/OAE-Eff...</td>\n",
       "      <td>glb-dor_Southern_Ocean_039_1999-01-01_02756</td>\n",
       "      <td>0347-01-01</td>\n",
       "      <td>15</td>\n",
       "      <td>10:00:00</td>\n",
       "      <td>True</td>\n",
       "    </tr>\n",
       "    <tr>\n",
       "      <th>smyle.cdr-atlas-v0.glb-dor_Southern_Ocean_039_1999-04-01_02757.bundle</th>\n",
       "      <td>smyle</td>\n",
       "      <td>39.0</td>\n",
       "      <td>689.0</td>\n",
       "      <td>Southern_Ocean</td>\n",
       "      <td>1999-04</td>\n",
       "      <td>DOR</td>\n",
       "      <td>/global/cfs/projectdirs/m4746/Projects/OAE-Eff...</td>\n",
       "      <td>glb-dor_Southern_Ocean_039_1999-04-01_02757</td>\n",
       "      <td>0347-04-01</td>\n",
       "      <td>15</td>\n",
       "      <td>10:00:00</td>\n",
       "      <td>True</td>\n",
       "    </tr>\n",
       "    <tr>\n",
       "      <th>smyle.cdr-atlas-v0.glb-dor_Southern_Ocean_039_1999-07-01_02758.bundle</th>\n",
       "      <td>smyle</td>\n",
       "      <td>39.0</td>\n",
       "      <td>689.0</td>\n",
       "      <td>Southern_Ocean</td>\n",
       "      <td>1999-07</td>\n",
       "      <td>DOR</td>\n",
       "      <td>/global/cfs/projectdirs/m4746/Projects/OAE-Eff...</td>\n",
       "      <td>glb-dor_Southern_Ocean_039_1999-07-01_02758</td>\n",
       "      <td>0347-07-01</td>\n",
       "      <td>15</td>\n",
       "      <td>10:00:00</td>\n",
       "      <td>True</td>\n",
       "    </tr>\n",
       "    <tr>\n",
       "      <th>smyle.cdr-atlas-v0.glb-dor_Southern_Ocean_039_1999-10-01_02759.bundle</th>\n",
       "      <td>smyle</td>\n",
       "      <td>39.0</td>\n",
       "      <td>689.0</td>\n",
       "      <td>Southern_Ocean</td>\n",
       "      <td>1999-10</td>\n",
       "      <td>DOR</td>\n",
       "      <td>/global/cfs/projectdirs/m4746/Projects/OAE-Eff...</td>\n",
       "      <td>glb-dor_Southern_Ocean_039_1999-10-01_02759</td>\n",
       "      <td>0347-10-01</td>\n",
       "      <td>15</td>\n",
       "      <td>10:00:00</td>\n",
       "      <td>True</td>\n",
       "    </tr>\n",
       "  </tbody>\n",
       "</table>\n",
       "<p>2761 rows × 12 columns</p>\n",
       "</div>"
      ],
      "text/plain": [
       "                                                   blueprint  polygon  \\\n",
       "case                                                                    \n",
       "smyle.cdr-atlas-v0.control.bundle                      smyle      NaN   \n",
       "smyle.cdr-atlas-v0.glb-dor_North_Atlantic_basin...     smyle      0.0   \n",
       "smyle.cdr-atlas-v0.glb-dor_North_Atlantic_basin...     smyle      0.0   \n",
       "smyle.cdr-atlas-v0.glb-dor_North_Atlantic_basin...     smyle      0.0   \n",
       "smyle.cdr-atlas-v0.glb-dor_North_Atlantic_basin...     smyle      0.0   \n",
       "...                                                      ...      ...   \n",
       "smyle.cdr-atlas-v0.glb-dor_Southern_Ocean_038_1...     smyle     38.0   \n",
       "smyle.cdr-atlas-v0.glb-dor_Southern_Ocean_039_1...     smyle     39.0   \n",
       "smyle.cdr-atlas-v0.glb-dor_Southern_Ocean_039_1...     smyle     39.0   \n",
       "smyle.cdr-atlas-v0.glb-dor_Southern_Ocean_039_1...     smyle     39.0   \n",
       "smyle.cdr-atlas-v0.glb-dor_Southern_Ocean_039_1...     smyle     39.0   \n",
       "\n",
       "                                                    polygon_master  \\\n",
       "case                                                                 \n",
       "smyle.cdr-atlas-v0.control.bundle                              NaN   \n",
       "smyle.cdr-atlas-v0.glb-dor_North_Atlantic_basin...             0.0   \n",
       "smyle.cdr-atlas-v0.glb-dor_North_Atlantic_basin...             0.0   \n",
       "smyle.cdr-atlas-v0.glb-dor_North_Atlantic_basin...             0.0   \n",
       "smyle.cdr-atlas-v0.glb-dor_North_Atlantic_basin...             0.0   \n",
       "...                                                            ...   \n",
       "smyle.cdr-atlas-v0.glb-dor_Southern_Ocean_038_1...           688.0   \n",
       "smyle.cdr-atlas-v0.glb-dor_Southern_Ocean_039_1...           689.0   \n",
       "smyle.cdr-atlas-v0.glb-dor_Southern_Ocean_039_1...           689.0   \n",
       "smyle.cdr-atlas-v0.glb-dor_Southern_Ocean_039_1...           689.0   \n",
       "smyle.cdr-atlas-v0.glb-dor_Southern_Ocean_039_1...           689.0   \n",
       "\n",
       "                                                                   basin  \\\n",
       "case                                                                       \n",
       "smyle.cdr-atlas-v0.control.bundle                                   None   \n",
       "smyle.cdr-atlas-v0.glb-dor_North_Atlantic_basin...  North_Atlantic_basin   \n",
       "smyle.cdr-atlas-v0.glb-dor_North_Atlantic_basin...  North_Atlantic_basin   \n",
       "smyle.cdr-atlas-v0.glb-dor_North_Atlantic_basin...  North_Atlantic_basin   \n",
       "smyle.cdr-atlas-v0.glb-dor_North_Atlantic_basin...  North_Atlantic_basin   \n",
       "...                                                                  ...   \n",
       "smyle.cdr-atlas-v0.glb-dor_Southern_Ocean_038_1...        Southern_Ocean   \n",
       "smyle.cdr-atlas-v0.glb-dor_Southern_Ocean_039_1...        Southern_Ocean   \n",
       "smyle.cdr-atlas-v0.glb-dor_Southern_Ocean_039_1...        Southern_Ocean   \n",
       "smyle.cdr-atlas-v0.glb-dor_Southern_Ocean_039_1...        Southern_Ocean   \n",
       "smyle.cdr-atlas-v0.glb-dor_Southern_Ocean_039_1...        Southern_Ocean   \n",
       "\n",
       "                                                   start_date cdr_forcing  \\\n",
       "case                                                                        \n",
       "smyle.cdr-atlas-v0.control.bundle                     1999-01        None   \n",
       "smyle.cdr-atlas-v0.glb-dor_North_Atlantic_basin...    1999-01         DOR   \n",
       "smyle.cdr-atlas-v0.glb-dor_North_Atlantic_basin...    1999-04         DOR   \n",
       "smyle.cdr-atlas-v0.glb-dor_North_Atlantic_basin...    1999-07         DOR   \n",
       "smyle.cdr-atlas-v0.glb-dor_North_Atlantic_basin...    1999-10         DOR   \n",
       "...                                                       ...         ...   \n",
       "smyle.cdr-atlas-v0.glb-dor_Southern_Ocean_038_1...    1999-10         DOR   \n",
       "smyle.cdr-atlas-v0.glb-dor_Southern_Ocean_039_1...    1999-01         DOR   \n",
       "smyle.cdr-atlas-v0.glb-dor_Southern_Ocean_039_1...    1999-04         DOR   \n",
       "smyle.cdr-atlas-v0.glb-dor_Southern_Ocean_039_1...    1999-07         DOR   \n",
       "smyle.cdr-atlas-v0.glb-dor_Southern_Ocean_039_1...    1999-10         DOR   \n",
       "\n",
       "                                                                                     cdr_forcing_file  \\\n",
       "case                                                                                                    \n",
       "smyle.cdr-atlas-v0.control.bundle                                                                None   \n",
       "smyle.cdr-atlas-v0.glb-dor_North_Atlantic_basin...  /global/cfs/projectdirs/m4746/Projects/OAE-Eff...   \n",
       "smyle.cdr-atlas-v0.glb-dor_North_Atlantic_basin...  /global/cfs/projectdirs/m4746/Projects/OAE-Eff...   \n",
       "smyle.cdr-atlas-v0.glb-dor_North_Atlantic_basin...  /global/cfs/projectdirs/m4746/Projects/OAE-Eff...   \n",
       "smyle.cdr-atlas-v0.glb-dor_North_Atlantic_basin...  /global/cfs/projectdirs/m4746/Projects/OAE-Eff...   \n",
       "...                                                                                               ...   \n",
       "smyle.cdr-atlas-v0.glb-dor_Southern_Ocean_038_1...  /global/cfs/projectdirs/m4746/Projects/OAE-Eff...   \n",
       "smyle.cdr-atlas-v0.glb-dor_Southern_Ocean_039_1...  /global/cfs/projectdirs/m4746/Projects/OAE-Eff...   \n",
       "smyle.cdr-atlas-v0.glb-dor_Southern_Ocean_039_1...  /global/cfs/projectdirs/m4746/Projects/OAE-Eff...   \n",
       "smyle.cdr-atlas-v0.glb-dor_Southern_Ocean_039_1...  /global/cfs/projectdirs/m4746/Projects/OAE-Eff...   \n",
       "smyle.cdr-atlas-v0.glb-dor_Southern_Ocean_039_1...  /global/cfs/projectdirs/m4746/Projects/OAE-Eff...   \n",
       "\n",
       "                                                                                       simulation_key  \\\n",
       "case                                                                                                    \n",
       "smyle.cdr-atlas-v0.control.bundle                                                            baseline   \n",
       "smyle.cdr-atlas-v0.glb-dor_North_Atlantic_basin...  glb-dor_North_Atlantic_basin_000_1999-01-01_00000   \n",
       "smyle.cdr-atlas-v0.glb-dor_North_Atlantic_basin...  glb-dor_North_Atlantic_basin_000_1999-04-01_00001   \n",
       "smyle.cdr-atlas-v0.glb-dor_North_Atlantic_basin...  glb-dor_North_Atlantic_basin_000_1999-07-01_00002   \n",
       "smyle.cdr-atlas-v0.glb-dor_North_Atlantic_basin...  glb-dor_North_Atlantic_basin_000_1999-10-01_00003   \n",
       "...                                                                                               ...   \n",
       "smyle.cdr-atlas-v0.glb-dor_Southern_Ocean_038_1...        glb-dor_Southern_Ocean_038_1999-10-01_02755   \n",
       "smyle.cdr-atlas-v0.glb-dor_Southern_Ocean_039_1...        glb-dor_Southern_Ocean_039_1999-01-01_02756   \n",
       "smyle.cdr-atlas-v0.glb-dor_Southern_Ocean_039_1...        glb-dor_Southern_Ocean_039_1999-04-01_02757   \n",
       "smyle.cdr-atlas-v0.glb-dor_Southern_Ocean_039_1...        glb-dor_Southern_Ocean_039_1999-07-01_02758   \n",
       "smyle.cdr-atlas-v0.glb-dor_Southern_Ocean_039_1...        glb-dor_Southern_Ocean_039_1999-10-01_02759   \n",
       "\n",
       "                                                       refdate  stop_n  \\\n",
       "case                                                                     \n",
       "smyle.cdr-atlas-v0.control.bundle                   0347-01-01      16   \n",
       "smyle.cdr-atlas-v0.glb-dor_North_Atlantic_basin...  0347-01-01      15   \n",
       "smyle.cdr-atlas-v0.glb-dor_North_Atlantic_basin...  0347-04-01      15   \n",
       "smyle.cdr-atlas-v0.glb-dor_North_Atlantic_basin...  0347-07-01      15   \n",
       "smyle.cdr-atlas-v0.glb-dor_North_Atlantic_basin...  0347-10-01      15   \n",
       "...                                                        ...     ...   \n",
       "smyle.cdr-atlas-v0.glb-dor_Southern_Ocean_038_1...  0347-10-01      15   \n",
       "smyle.cdr-atlas-v0.glb-dor_Southern_Ocean_039_1...  0347-01-01      15   \n",
       "smyle.cdr-atlas-v0.glb-dor_Southern_Ocean_039_1...  0347-04-01      15   \n",
       "smyle.cdr-atlas-v0.glb-dor_Southern_Ocean_039_1...  0347-07-01      15   \n",
       "smyle.cdr-atlas-v0.glb-dor_Southern_Ocean_039_1...  0347-10-01      15   \n",
       "\n",
       "                                                   wallclock  curtail_output  \n",
       "case                                                                          \n",
       "smyle.cdr-atlas-v0.control.bundle                   12:00:00           False  \n",
       "smyle.cdr-atlas-v0.glb-dor_North_Atlantic_basin...  10:00:00            True  \n",
       "smyle.cdr-atlas-v0.glb-dor_North_Atlantic_basin...  10:00:00            True  \n",
       "smyle.cdr-atlas-v0.glb-dor_North_Atlantic_basin...  10:00:00            True  \n",
       "smyle.cdr-atlas-v0.glb-dor_North_Atlantic_basin...  10:00:00            True  \n",
       "...                                                      ...             ...  \n",
       "smyle.cdr-atlas-v0.glb-dor_Southern_Ocean_038_1...  10:00:00            True  \n",
       "smyle.cdr-atlas-v0.glb-dor_Southern_Ocean_039_1...  10:00:00            True  \n",
       "smyle.cdr-atlas-v0.glb-dor_Southern_Ocean_039_1...  10:00:00            True  \n",
       "smyle.cdr-atlas-v0.glb-dor_Southern_Ocean_039_1...  10:00:00            True  \n",
       "smyle.cdr-atlas-v0.glb-dor_Southern_Ocean_039_1...  10:00:00            True  \n",
       "\n",
       "[2761 rows x 12 columns]"
      ]
     },
     "execution_count": 5,
     "metadata": {},
     "output_type": "execute_result"
    }
   ],
   "source": [
    "calc.df"
   ]
  },
  {
   "cell_type": "markdown",
   "id": "7cc46060-26e6-4a6a-97c0-c1ae02bb3693",
   "metadata": {},
   "source": [
    "## Validate the integrations"
   ]
  },
  {
   "cell_type": "code",
   "execution_count": 14,
   "id": "af83004d-44dc-42b0-8854-3bf1c6034a61",
   "metadata": {},
   "outputs": [
    {
     "data": {
      "text/html": [
       "<div>\n",
       "<style scoped>\n",
       "    .dataframe tbody tr th:only-of-type {\n",
       "        vertical-align: middle;\n",
       "    }\n",
       "\n",
       "    .dataframe tbody tr th {\n",
       "        vertical-align: top;\n",
       "    }\n",
       "\n",
       "    .dataframe thead th {\n",
       "        text-align: right;\n",
       "    }\n",
       "</style>\n",
       "<table border=\"1\" class=\"dataframe\">\n",
       "  <thead>\n",
       "    <tr style=\"text-align: right;\">\n",
       "      <th></th>\n",
       "      <th>build</th>\n",
       "      <th>submitted</th>\n",
       "      <th>run_completed</th>\n",
       "      <th>archive</th>\n",
       "      <th>error</th>\n",
       "      <th>error_count</th>\n",
       "      <th>timestamp_run</th>\n",
       "      <th>JobId</th>\n",
       "      <th>JobState</th>\n",
       "      <th>Queued</th>\n",
       "      <th>yr_per_day</th>\n",
       "      <th>pe-hr_per_yr</th>\n",
       "    </tr>\n",
       "    <tr>\n",
       "      <th>case</th>\n",
       "      <th></th>\n",
       "      <th></th>\n",
       "      <th></th>\n",
       "      <th></th>\n",
       "      <th></th>\n",
       "      <th></th>\n",
       "      <th></th>\n",
       "      <th></th>\n",
       "      <th></th>\n",
       "      <th></th>\n",
       "      <th></th>\n",
       "      <th></th>\n",
       "    </tr>\n",
       "  </thead>\n",
       "  <tbody>\n",
       "    <tr>\n",
       "      <th>smyle.cdr-atlas-v0.glb-dor_North_Atlantic_basin_008_1999-07-01_00034.bundle</th>\n",
       "      <td>True</td>\n",
       "      <td>True</td>\n",
       "      <td>True</td>\n",
       "      <td>True</td>\n",
       "      <td>False</td>\n",
       "      <td>0</td>\n",
       "      <td>2025-02-13 00:19:56</td>\n",
       "      <td>None</td>\n",
       "      <td>None</td>\n",
       "      <td>False</td>\n",
       "      <td>58.96</td>\n",
       "      <td>364.74</td>\n",
       "    </tr>\n",
       "    <tr>\n",
       "      <th>smyle.cdr-atlas-v0.glb-dor_North_Pacific_basin_042_1999-04-01_00769.bundle</th>\n",
       "      <td>True</td>\n",
       "      <td>True</td>\n",
       "      <td>True</td>\n",
       "      <td>True</td>\n",
       "      <td>False</td>\n",
       "      <td>0</td>\n",
       "      <td>2025-02-13 00:19:12</td>\n",
       "      <td>None</td>\n",
       "      <td>None</td>\n",
       "      <td>False</td>\n",
       "      <td>59.07</td>\n",
       "      <td>364.07</td>\n",
       "    </tr>\n",
       "  </tbody>\n",
       "</table>\n",
       "</div>"
      ],
      "text/plain": [
       "                                                    build  submitted  \\\n",
       "case                                                                   \n",
       "smyle.cdr-atlas-v0.glb-dor_North_Atlantic_basin...   True       True   \n",
       "smyle.cdr-atlas-v0.glb-dor_North_Pacific_basin_...   True       True   \n",
       "\n",
       "                                                    run_completed  archive  \\\n",
       "case                                                                         \n",
       "smyle.cdr-atlas-v0.glb-dor_North_Atlantic_basin...           True     True   \n",
       "smyle.cdr-atlas-v0.glb-dor_North_Pacific_basin_...           True     True   \n",
       "\n",
       "                                                    error  error_count  \\\n",
       "case                                                                     \n",
       "smyle.cdr-atlas-v0.glb-dor_North_Atlantic_basin...  False            0   \n",
       "smyle.cdr-atlas-v0.glb-dor_North_Pacific_basin_...  False            0   \n",
       "\n",
       "                                                         timestamp_run JobId  \\\n",
       "case                                                                           \n",
       "smyle.cdr-atlas-v0.glb-dor_North_Atlantic_basin... 2025-02-13 00:19:56  None   \n",
       "smyle.cdr-atlas-v0.glb-dor_North_Pacific_basin_... 2025-02-13 00:19:12  None   \n",
       "\n",
       "                                                   JobState  Queued  \\\n",
       "case                                                                  \n",
       "smyle.cdr-atlas-v0.glb-dor_North_Atlantic_basin...     None   False   \n",
       "smyle.cdr-atlas-v0.glb-dor_North_Pacific_basin_...     None   False   \n",
       "\n",
       "                                                    yr_per_day  pe-hr_per_yr  \n",
       "case                                                                          \n",
       "smyle.cdr-atlas-v0.glb-dor_North_Atlantic_basin...       58.96        364.74  \n",
       "smyle.cdr-atlas-v0.glb-dor_North_Pacific_basin_...       59.07        364.07  "
      ]
     },
     "execution_count": 14,
     "metadata": {},
     "output_type": "execute_result"
    }
   ],
   "source": [
    "calc.df_case_status"
   ]
  },
  {
   "cell_type": "code",
   "execution_count": 15,
   "id": "5e814839-f49c-4666-a08f-cac9be974813",
   "metadata": {
    "tags": []
   },
   "outputs": [
    {
     "name": "stdout",
     "output_type": "stream",
     "text": [
      "spinning up dask cluster with scheduler:\n",
      "  /pscratch/sd/m/mattlong/Ocean-CDR-Atlas-v0/dask/dask_scheduler_file.obw332ft.json\n",
      "cluster running...\n",
      "Dashboard:\n",
      " https://jupyter.nersc.gov//user/mattlong/perlmutter-login-node-base/proxy/10.249.16.163:8787/status\n"
     ]
    },
    {
     "data": {
      "application/vnd.jupyter.widget-view+json": {
       "model_id": "2bca35af76c4458cbbd20dfbed0e5ed7",
       "version_major": 2,
       "version_minor": 0
      },
      "text/plain": [
       "  0%|          | 0/2 [00:00<?, ?it/s]"
      ]
     },
     "metadata": {},
     "output_type": "display_data"
    },
    {
     "name": "stdout",
     "output_type": "stream",
     "text": [
      "CPU times: user 20.3 s, sys: 1.48 s, total: 21.8 s\n",
      "Wall time: 7min 8s\n"
     ]
    }
   ],
   "source": [
    "%%time\n",
    "calc.validate(clobber=clobber)"
   ]
  },
  {
   "cell_type": "code",
   "execution_count": 16,
   "id": "00107fbc-414d-4b5b-bd44-4de16d9fe07e",
   "metadata": {
    "tags": []
   },
   "outputs": [
    {
     "data": {
      "text/html": [
       "<div>\n",
       "<style scoped>\n",
       "    .dataframe tbody tr th:only-of-type {\n",
       "        vertical-align: middle;\n",
       "    }\n",
       "\n",
       "    .dataframe tbody tr th {\n",
       "        vertical-align: top;\n",
       "    }\n",
       "\n",
       "    .dataframe thead th {\n",
       "        text-align: right;\n",
       "    }\n",
       "</style>\n",
       "<table border=\"1\" class=\"dataframe\">\n",
       "  <thead>\n",
       "    <tr style=\"text-align: right;\">\n",
       "      <th></th>\n",
       "      <th>is_cdr_run</th>\n",
       "      <th>DIC_ALT_CO2_rmse</th>\n",
       "      <th>ALK_ALT_CO2_rmse</th>\n",
       "      <th>ECOSYS_IFRAC_rmse</th>\n",
       "      <th>FG_ALT_CO2_rmse</th>\n",
       "    </tr>\n",
       "    <tr>\n",
       "      <th>case</th>\n",
       "      <th></th>\n",
       "      <th></th>\n",
       "      <th></th>\n",
       "      <th></th>\n",
       "      <th></th>\n",
       "    </tr>\n",
       "  </thead>\n",
       "  <tbody>\n",
       "    <tr>\n",
       "      <th>smyle.cdr-atlas-v0.glb-dor_North_Atlantic_basin_008_1999-07-01_00034.bundle</th>\n",
       "      <td>True</td>\n",
       "      <td>0.332776</td>\n",
       "      <td>0.307738</td>\n",
       "      <td>0.002726</td>\n",
       "      <td>0.000099</td>\n",
       "    </tr>\n",
       "    <tr>\n",
       "      <th>smyle.cdr-atlas-v0.glb-dor_North_Pacific_basin_042_1999-04-01_00769.bundle</th>\n",
       "      <td>True</td>\n",
       "      <td>0.344581</td>\n",
       "      <td>0.255371</td>\n",
       "      <td>0.002533</td>\n",
       "      <td>0.000108</td>\n",
       "    </tr>\n",
       "  </tbody>\n",
       "</table>\n",
       "</div>"
      ],
      "text/plain": [
       "                                                    is_cdr_run  \\\n",
       "case                                                             \n",
       "smyle.cdr-atlas-v0.glb-dor_North_Atlantic_basin...        True   \n",
       "smyle.cdr-atlas-v0.glb-dor_North_Pacific_basin_...        True   \n",
       "\n",
       "                                                    DIC_ALT_CO2_rmse  \\\n",
       "case                                                                   \n",
       "smyle.cdr-atlas-v0.glb-dor_North_Atlantic_basin...          0.332776   \n",
       "smyle.cdr-atlas-v0.glb-dor_North_Pacific_basin_...          0.344581   \n",
       "\n",
       "                                                    ALK_ALT_CO2_rmse  \\\n",
       "case                                                                   \n",
       "smyle.cdr-atlas-v0.glb-dor_North_Atlantic_basin...          0.307738   \n",
       "smyle.cdr-atlas-v0.glb-dor_North_Pacific_basin_...          0.255371   \n",
       "\n",
       "                                                    ECOSYS_IFRAC_rmse  \\\n",
       "case                                                                    \n",
       "smyle.cdr-atlas-v0.glb-dor_North_Atlantic_basin...           0.002726   \n",
       "smyle.cdr-atlas-v0.glb-dor_North_Pacific_basin_...           0.002533   \n",
       "\n",
       "                                                    FG_ALT_CO2_rmse  \n",
       "case                                                                 \n",
       "smyle.cdr-atlas-v0.glb-dor_North_Atlantic_basin...         0.000099  \n",
       "smyle.cdr-atlas-v0.glb-dor_North_Pacific_basin_...         0.000108  "
      ]
     },
     "execution_count": 16,
     "metadata": {},
     "output_type": "execute_result"
    }
   ],
   "source": [
    "df = calc.df_validation\n",
    "df"
   ]
  },
  {
   "cell_type": "code",
   "execution_count": 17,
   "id": "3e57dbb8-5051-486f-acb2-80d3543ab768",
   "metadata": {
    "tags": []
   },
   "outputs": [
    {
     "data": {
      "text/plain": [
       "<Axes: ylabel='Frequency'>"
      ]
     },
     "execution_count": 17,
     "metadata": {},
     "output_type": "execute_result"
    },
    {
     "data": {
      "image/png": "[encoded data removed]",
      "text/plain": [
       "<Figure size 640x480 with 1 Axes>"
      ]
     },
     "metadata": {},
     "output_type": "display_data"
    }
   ],
   "source": [
    "df.ALK_ALT_CO2_rmse.plot.hist(bins=20)"
   ]
  },
  {
   "cell_type": "code",
   "execution_count": 18,
   "id": "51d7d9e8-924c-4fd1-9f9e-6180b7ae5adc",
   "metadata": {
    "tags": []
   },
   "outputs": [
    {
     "data": {
      "text/plain": [
       "<Axes: ylabel='Frequency'>"
      ]
     },
     "execution_count": 18,
     "metadata": {},
     "output_type": "execute_result"
    },
    {
     "data": {
      "image/png": "[encoded data removed]",
      "text/plain": [
       "<Figure size 640x480 with 1 Axes>"
      ]
     },
     "metadata": {},
     "output_type": "display_data"
    }
   ],
   "source": [
    "df.DIC_ALT_CO2_rmse.plot.hist(bins=20)"
   ]
  },
  {
   "cell_type": "code",
   "execution_count": 19,
   "id": "63b76673-bed4-44cd-be5b-16a4b3d30e1c",
   "metadata": {
    "tags": []
   },
   "outputs": [
    {
     "data": {
      "text/plain": [
       "<Axes: ylabel='Frequency'>"
      ]
     },
     "execution_count": 19,
     "metadata": {},
     "output_type": "execute_result"
    },
    {
     "data": {
      "image/png": "[encoded data removed]",
      "text/plain": [
       "<Figure size 640x480 with 1 Axes>"
      ]
     },
     "metadata": {},
     "output_type": "display_data"
    }
   ],
   "source": [
    "df.FG_ALT_CO2_rmse.plot.hist(bins=20)"
   ]
  },
  {
   "cell_type": "code",
   "execution_count": 20,
   "id": "976dc42d-e97b-433f-9f59-1e0b8b222b82",
   "metadata": {},
   "outputs": [
    {
     "ename": "AttributeError",
     "evalue": "'DataFrame' object has no attribute 'DIC_rmse'",
     "output_type": "error",
     "traceback": [
      "\u001b[0;31m---------------------------------------------------------------------------\u001b[0m",
      "\u001b[0;31mAttributeError\u001b[0m                            Traceback (most recent call last)",
      "\u001b[0;32m/tmp/ipykernel_2093774/2713670039.py\u001b[0m in \u001b[0;36m?\u001b[0;34m()\u001b[0m\n\u001b[0;32m----> 1\u001b[0;31m \u001b[0mdf\u001b[0m\u001b[0;34m.\u001b[0m\u001b[0mDIC_rmse\u001b[0m\u001b[0;34m.\u001b[0m\u001b[0mplot\u001b[0m\u001b[0;34m.\u001b[0m\u001b[0mhist\u001b[0m\u001b[0;34m(\u001b[0m\u001b[0mbins\u001b[0m\u001b[0;34m=\u001b[0m\u001b[0;36m10\u001b[0m\u001b[0;34m)\u001b[0m\u001b[0;34m\u001b[0m\u001b[0;34m\u001b[0m\u001b[0m\n\u001b[0m",
      "\u001b[0;32m~/.conda/envs/cworthy/lib/python3.12/site-packages/pandas/core/generic.py\u001b[0m in \u001b[0;36m?\u001b[0;34m(self, name)\u001b[0m\n\u001b[1;32m   6295\u001b[0m             \u001b[0;32mand\u001b[0m \u001b[0mname\u001b[0m \u001b[0;32mnot\u001b[0m \u001b[0;32min\u001b[0m \u001b[0mself\u001b[0m\u001b[0;34m.\u001b[0m\u001b[0m_accessors\u001b[0m\u001b[0;34m\u001b[0m\u001b[0;34m\u001b[0m\u001b[0m\n\u001b[1;32m   6296\u001b[0m             \u001b[0;32mand\u001b[0m \u001b[0mself\u001b[0m\u001b[0;34m.\u001b[0m\u001b[0m_info_axis\u001b[0m\u001b[0;34m.\u001b[0m\u001b[0m_can_hold_identifiers_and_holds_name\u001b[0m\u001b[0;34m(\u001b[0m\u001b[0mname\u001b[0m\u001b[0;34m)\u001b[0m\u001b[0;34m\u001b[0m\u001b[0;34m\u001b[0m\u001b[0m\n\u001b[1;32m   6297\u001b[0m         \u001b[0;34m)\u001b[0m\u001b[0;34m:\u001b[0m\u001b[0;34m\u001b[0m\u001b[0;34m\u001b[0m\u001b[0m\n\u001b[1;32m   6298\u001b[0m             \u001b[0;32mreturn\u001b[0m \u001b[0mself\u001b[0m\u001b[0;34m[\u001b[0m\u001b[0mname\u001b[0m\u001b[0;34m]\u001b[0m\u001b[0;34m\u001b[0m\u001b[0;34m\u001b[0m\u001b[0m\n\u001b[0;32m-> 6299\u001b[0;31m         \u001b[0;32mreturn\u001b[0m \u001b[0mobject\u001b[0m\u001b[0;34m.\u001b[0m\u001b[0m__getattribute__\u001b[0m\u001b[0;34m(\u001b[0m\u001b[0mself\u001b[0m\u001b[0;34m,\u001b[0m \u001b[0mname\u001b[0m\u001b[0;34m)\u001b[0m\u001b[0;34m\u001b[0m\u001b[0;34m\u001b[0m\u001b[0m\n\u001b[0m",
      "\u001b[0;31mAttributeError\u001b[0m: 'DataFrame' object has no attribute 'DIC_rmse'"
     ]
    }
   ],
   "source": [
    "df.DIC_rmse.plot.hist(bins=10)"
   ]
  },
  {
   "cell_type": "markdown",
   "id": "8a845ca3-350d-44f5-857e-897a32c797b7",
   "metadata": {
    "tags": []
   },
   "source": [
    "## Analysis"
   ]
  },
  {
   "cell_type": "code",
   "execution_count": null,
   "id": "054ed425-2eb1-4bec-930c-0e3fcc9c6151",
   "metadata": {
    "scrolled": true
   },
   "outputs": [],
   "source": [
    "calc.analyze(clobber=False, n=1430)"
   ]
  },
  {
   "cell_type": "code",
   "execution_count": null,
   "id": "30cceb86-07cf-4dad-a283-07a18ae01cb9",
   "metadata": {},
   "outputs": [],
   "source": [
    "calc.df_analysis"
   ]
  },
  {
   "cell_type": "code",
   "execution_count": null,
   "id": "6a64bd05-f72e-4422-beb6-effcc19445c8",
   "metadata": {
    "tags": []
   },
   "outputs": [],
   "source": [
    "fig, ax = plt.subplots(1, 1, figsize=(6, 4))\n",
    "\n",
    "for row_data in calc.df_analysis.iterrows():\n",
    "    case = row_data[0]\n",
    "    path_zarr = row_data[1].iloc[0]   \n",
    "    da = xr.open_zarr(path_zarr)[\"DIC_ADD_TOTAL\"]\n",
    "    da.plot(ax=ax, label=case)"
   ]
  },
  {
   "cell_type": "markdown",
   "id": "4878faa5-0a6f-4205-a384-121fff76d3ed",
   "metadata": {},
   "source": [
    "## Visualization"
   ]
  },
  {
   "cell_type": "code",
   "execution_count": null,
   "id": "459c0c95-4d87-45d2-a379-16b3525ba6d4",
   "metadata": {
    "tags": []
   },
   "outputs": [],
   "source": [
    "calc.visualize(clobber=True)"
   ]
  },
  {
   "cell_type": "code",
   "execution_count": null,
   "id": "f1e2634e-9a3f-4816-8839-7cafca1421a4",
   "metadata": {},
   "outputs": [],
   "source": []
  }
 ],
 "metadata": {
  "kernelspec": {
   "display_name": "cworthy",
   "language": "python",
   "name": "env"
  },
  "language_info": {
   "codemirror_mode": {
    "name": "ipython",
    "version": 3
   },
   "file_extension": ".py",
   "mimetype": "text/x-python",
   "name": "python",
   "nbconvert_exporter": "python",
   "pygments_lexer": "ipython3",
   "version": "3.12.5"
  }
 },
 "nbformat": 4,
 "nbformat_minor": 5
}
