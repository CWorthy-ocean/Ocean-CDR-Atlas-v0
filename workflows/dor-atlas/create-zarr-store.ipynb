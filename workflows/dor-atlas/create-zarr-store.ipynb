{
 "cells": [
  {
   "cell_type": "code",
   "execution_count": 1,
   "id": "817c978e-6c96-4674-8ba4-7446a0ae7c8d",
   "metadata": {},
   "outputs": [],
   "source": [
    "import xarray as xr\n",
    "from data_config import get_compressed_data_dir, get_scratch_dir"
   ]
  },
  {
   "cell_type": "code",
   "execution_count": 2,
   "id": "8bcd9e23-82b6-4c6e-aeae-b691b02f3385",
   "metadata": {},
   "outputs": [
    {
     "data": {
      "text/plain": [
       "PosixPath('/pscratch/sd/a/abanihi/dor/compressed')"
      ]
     },
     "execution_count": 2,
     "metadata": {},
     "output_type": "execute_result"
    }
   ],
   "source": [
    "scratch = get_scratch_dir()\n",
    "data_dir = get_compressed_data_dir(scratch)\n",
    "data_dir"
   ]
  },
  {
   "cell_type": "code",
   "execution_count": 3,
   "id": "938c4437-f333-40bf-982f-a8a17c7cfc4f",
   "metadata": {},
   "outputs": [],
   "source": [
    "def get_single_simulation_glob(\n",
    "    data_dir: str, *, polygon_id: int, injection_month: int, injection_year: int\n",
    "):\n",
    "    # Pad the values with zeros\n",
    "    padded_polygon_id = f\"{polygon_id:03d}\"\n",
    "    padded_injection_month = f\"{injection_month:02d}\"\n",
    "    padded_injection_year = f\"{injection_year:04d}\"\n",
    "\n",
    "    out_filepath = (\n",
    "        data_dir\n",
    "        / f\"{padded_polygon_id}/{padded_injection_month}\"\n",
    "        / f\"smyle.cdr-atlas-v0.glb-dor.{padded_polygon_id}-{padded_injection_year}-{padded_injection_month}.pop.h.*.nc\"\n",
    "    )\n",
    "\n",
    "    return str(out_filepath)"
   ]
  },
  {
   "cell_type": "code",
   "execution_count": 4,
   "id": "d99f2a26-97e0-4750-affa-2b1120fa62d6",
   "metadata": {},
   "outputs": [
    {
     "data": {
      "text/plain": [
       "'/pscratch/sd/a/abanihi/dor/compressed/676/04/smyle.cdr-atlas-v0.glb-dor.676-1999-04.pop.h.*.nc'"
      ]
     },
     "execution_count": 4,
     "metadata": {},
     "output_type": "execute_result"
    }
   ],
   "source": [
    "single_simulation_glob = get_single_simulation_glob(\n",
    "    data_dir=data_dir, polygon_id=676, injection_month=4, injection_year=1999\n",
    ")\n",
    "single_simulation_glob"
   ]
  },
  {
   "cell_type": "code",
   "execution_count": 5,
   "id": "391b531a-fbb0-4864-9110-a4bdbdd8af9c",
   "metadata": {},
   "outputs": [
    {
     "ename": "OSError",
     "evalue": "no files to open",
     "output_type": "error",
     "traceback": [
      "\u001b[0;31m---------------------------------------------------------------------------\u001b[0m",
      "\u001b[0;31mOSError\u001b[0m                                   Traceback (most recent call last)",
      "File \u001b[0;32m<timed exec>:1\u001b[0m\n",
      "File \u001b[0;32m~/.conda/envs/dor/lib/python3.12/site-packages/xarray/backends/api.py:1596\u001b[0m, in \u001b[0;36mopen_mfdataset\u001b[0;34m(paths, chunks, concat_dim, compat, preprocess, engine, data_vars, coords, combine, parallel, join, attrs_file, combine_attrs, **kwargs)\u001b[0m\n\u001b[1;32m   1593\u001b[0m paths \u001b[38;5;241m=\u001b[39m _find_absolute_paths(paths, engine\u001b[38;5;241m=\u001b[39mengine, \u001b[38;5;241m*\u001b[39m\u001b[38;5;241m*\u001b[39mkwargs)\n\u001b[1;32m   1595\u001b[0m \u001b[38;5;28;01mif\u001b[39;00m \u001b[38;5;129;01mnot\u001b[39;00m paths:\n\u001b[0;32m-> 1596\u001b[0m     \u001b[38;5;28;01mraise\u001b[39;00m \u001b[38;5;167;01mOSError\u001b[39;00m(\u001b[38;5;124m\"\u001b[39m\u001b[38;5;124mno files to open\u001b[39m\u001b[38;5;124m\"\u001b[39m)\n\u001b[1;32m   1598\u001b[0m paths1d: \u001b[38;5;28mlist\u001b[39m[\u001b[38;5;28mstr\u001b[39m \u001b[38;5;241m|\u001b[39m ReadBuffer]\n\u001b[1;32m   1599\u001b[0m \u001b[38;5;28;01mif\u001b[39;00m combine \u001b[38;5;241m==\u001b[39m \u001b[38;5;124m\"\u001b[39m\u001b[38;5;124mnested\u001b[39m\u001b[38;5;124m\"\u001b[39m:\n",
      "\u001b[0;31mOSError\u001b[0m: no files to open"
     ]
    }
   ],
   "source": [
    "%%time\n",
    "single_simulation = xr.open_mfdataset(\n",
    "    single_simulation_glob,\n",
    "    combine=\"by_coords\",  # can we do this with combine='nested'?\n",
    "    data_vars=\"minimal\",\n",
    "    coords=\"minimal\",\n",
    "    compat=\"override\",\n",
    "    chunks={\n",
    "        \"time\": 12,\n",
    "        \"z_t\": 60,\n",
    "        \"nlat\": 384,\n",
    "        \"nlon\": 320,\n",
    "    },  # open same way files are split (why does this not happen automatically??),\n",
    "    engine=\"netcdf4\",\n",
    ")\n",
    "single_simulation"
   ]
  },
  {
   "cell_type": "code",
   "execution_count": null,
   "id": "66e281f4-e2f2-4de4-9f3d-34be0a01c1e6",
   "metadata": {},
   "outputs": [],
   "source": [
    "single_simulation[\"ALK_ANOM\"].isel(z_t=0, elapsed_time=range(0, 180, 15)).plot(\n",
    "    col_wrap=4, col=\"elapsed_time\"\n",
    ");"
   ]
  },
  {
   "cell_type": "code",
   "execution_count": null,
   "id": "45c7d8b9-5d21-4dfa-ac54-9fdf427b939a",
   "metadata": {},
   "outputs": [],
   "source": [
    "# these are the only variables we actually need to calculate OAE efficiency\n",
    "REQUIRED_DATA_VARIABLES = [\n",
    "    \"DIC_ANOM\",\n",
    "    \"DIC_ALT_CO2\",\n",
    "    \"ALK\",\n",
    "    \"ALK_ALT_CO2\",\n",
    "    # For vertical integration\n",
    "    \"dz\",\n",
    "    \"TAREA\",\n",
    "    # dimension coords\n",
    "    \"polygon_id\",\n",
    "    \"elapsed_time\",\n",
    "    \"injection_month\",\n",
    "    \"ULONG\",\n",
    "    \"ULAT\",\n",
    "]\n",
    "\n",
    "VARS_TO_DROP = [\n",
    "    var_name\n",
    "    for var_name in list(single_simulation.variables)\n",
    "    if var_name not in REQUIRED_DATA_VARIABLES\n",
    "]"
   ]
  },
  {
   "cell_type": "code",
   "execution_count": null,
   "id": "37e3f16c-102f-413a-911c-06a02025621d",
   "metadata": {},
   "outputs": [],
   "source": [
    "single_simulation[REQUIRED_DATA_VARIABLES]"
   ]
  },
  {
   "cell_type": "code",
   "execution_count": null,
   "id": "55ecb18b-528c-4aba-8198-a537dbf7ed2d",
   "metadata": {},
   "outputs": [],
   "source": [
    "ds = xr.open_dataset(\n",
    "    \"/pscratch/sd/a/abanihi/dor/compressed/anomalies/676/04/smyle.cdr-atlas-v0.glb-dor.676-1999-04.pop.h.0347-04.nc\"\n",
    ")\n",
    "ds"
   ]
  },
  {
   "cell_type": "code",
   "execution_count": null,
   "id": "dceb11f5-06a9-42ba-93cf-f87cdd49ad49",
   "metadata": {},
   "outputs": [],
   "source": [
    "ds = xr.open_dataset(\n",
    "    \"/global/cfs/projectdirs/m4746/Projects/Ocean-CDR-Atlas-v0/data/archive/smyle.cdr-atlas-v0.glb-dor_Southern_Ocean_039_1999-10-01_02759.001/ocn/hist/smyle.cdr-atlas-v0.glb-dor_Southern_Ocean_039_1999-10-01_02759.001.pop.h.0347-10.nc\"\n",
    ")\n",
    "ds"
   ]
  },
  {
   "cell_type": "code",
   "execution_count": null,
   "id": "371f673e-17db-4b77-b6bf-12b7b992cd42",
   "metadata": {},
   "outputs": [],
   "source": []
  }
 ],
 "metadata": {
  "kernelspec": {
   "display_name": "dor",
   "language": "python",
   "name": "dor"
  },
  "language_info": {
   "codemirror_mode": {
    "name": "ipython",
    "version": 3
   },
   "file_extension": ".py",
   "mimetype": "text/x-python",
   "name": "python",
   "nbconvert_exporter": "python",
   "pygments_lexer": "ipython3",
   "version": "3.12.8"
  }
 },
 "nbformat": 4,
 "nbformat_minor": 5
}
