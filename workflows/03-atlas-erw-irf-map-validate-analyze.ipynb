{
 "cells": [
  {
   "cell_type": "markdown",
   "id": "c109ad0d-4cab-422e-8e68-7e2c924ae156",
   "metadata": {},
   "source": [
    "# Global IRF Efficiency Map\n",
    "\n",
    "Generate global map of CDR efficiency using IRF forcing."
   ]
  },
  {
   "cell_type": "code",
   "execution_count": 1,
   "id": "6496a28d-c37b-4764-ac76-2d3feb1164da",
   "metadata": {
    "tags": []
   },
   "outputs": [],
   "source": [
    "%load_ext autoreload\n",
    "%autoreload 2"
   ]
  },
  {
   "cell_type": "code",
   "execution_count": 2,
   "id": "0d784c2f-87bb-4e4c-9465-535c267b07ed",
   "metadata": {
    "tags": []
   },
   "outputs": [],
   "source": [
    "import xarray as xr\n",
    "import matplotlib.pyplot as plt\n",
    "\n",
    "from tqdm.notebook import tqdm\n",
    "\n",
    "import atlas"
   ]
  },
  {
   "cell_type": "markdown",
   "id": "b629571f-dee0-47d1-82fd-91aade101e2b",
   "metadata": {},
   "source": [
    "## Define experiment and phase\n",
    "\n"
   ]
  },
  {
   "cell_type": "code",
   "execution_count": 3,
   "id": "93e67af1-9485-4ac9-b6fd-3851b82af757",
   "metadata": {
    "tags": [
     "parameters"
    ]
   },
   "outputs": [],
   "source": [
    "cdr_forcing = \"ERW\"\n",
    "vintage = \"001\"\n",
    "clobber = False"
   ]
  },
  {
   "cell_type": "code",
   "execution_count": 4,
   "id": "a37826ce-7b72-467a-a4c6-d4f88968fada",
   "metadata": {
    "tags": []
   },
   "outputs": [],
   "source": [
    "calc = atlas.global_irf_map(cdr_forcing, vintage)"
   ]
  },
  {
   "cell_type": "markdown",
   "id": "853ae906-9dec-4b25-82ea-bf0be14f7a1f",
   "metadata": {},
   "source": [
    "## Table of experiments"
   ]
  },
  {
   "cell_type": "code",
   "execution_count": 5,
   "id": "aa518170-6b87-4f0d-a783-5278495aed4a",
   "metadata": {
    "tags": []
   },
   "outputs": [
    {
     "data": {
      "text/html": [
       "<div>\n",
       "<style scoped>\n",
       "    .dataframe tbody tr th:only-of-type {\n",
       "        vertical-align: middle;\n",
       "    }\n",
       "\n",
       "    .dataframe tbody tr th {\n",
       "        vertical-align: top;\n",
       "    }\n",
       "\n",
       "    .dataframe thead th {\n",
       "        text-align: right;\n",
       "    }\n",
       "</style>\n",
       "<table border=\"1\" class=\"dataframe\">\n",
       "  <thead>\n",
       "    <tr style=\"text-align: right;\">\n",
       "      <th></th>\n",
       "      <th>blueprint</th>\n",
       "      <th>polygon</th>\n",
       "      <th>polygon_master</th>\n",
       "      <th>basin</th>\n",
       "      <th>start_date</th>\n",
       "      <th>cdr_forcing</th>\n",
       "      <th>cdr_forcing_file</th>\n",
       "      <th>simulation_key</th>\n",
       "      <th>refdate</th>\n",
       "      <th>stop_n</th>\n",
       "      <th>wallclock</th>\n",
       "      <th>curtail_output</th>\n",
       "    </tr>\n",
       "    <tr>\n",
       "      <th>case</th>\n",
       "      <th></th>\n",
       "      <th></th>\n",
       "      <th></th>\n",
       "      <th></th>\n",
       "      <th></th>\n",
       "      <th></th>\n",
       "      <th></th>\n",
       "      <th></th>\n",
       "      <th></th>\n",
       "      <th></th>\n",
       "      <th></th>\n",
       "      <th></th>\n",
       "    </tr>\n",
       "  </thead>\n",
       "  <tbody>\n",
       "    <tr>\n",
       "      <th>smyle.cdr-atlas-v0.control.001</th>\n",
       "      <td>smyle</td>\n",
       "      <td>NaN</td>\n",
       "      <td>NaN</td>\n",
       "      <td>None</td>\n",
       "      <td>1999-01</td>\n",
       "      <td>None</td>\n",
       "      <td>None</td>\n",
       "      <td>baseline</td>\n",
       "      <td>0347-01-01</td>\n",
       "      <td>16</td>\n",
       "      <td>12:00:00</td>\n",
       "      <td>False</td>\n",
       "    </tr>\n",
       "    <tr>\n",
       "      <th>smyle.cdr-atlas-v0.glb-erw_North_Atlantic_basin_000_1999-01-01_00000.001</th>\n",
       "      <td>smyle</td>\n",
       "      <td>0.0</td>\n",
       "      <td>0.0</td>\n",
       "      <td>North_Atlantic_basin</td>\n",
       "      <td>1999-01</td>\n",
       "      <td>ERW</td>\n",
       "      <td>/global/cfs/projectdirs/m4746/Projects/OAE-Eff...</td>\n",
       "      <td>glb-erw_North_Atlantic_basin_000_1999-01-01_00000</td>\n",
       "      <td>0347-01-01</td>\n",
       "      <td>15</td>\n",
       "      <td>10:00:00</td>\n",
       "      <td>True</td>\n",
       "    </tr>\n",
       "    <tr>\n",
       "      <th>smyle.cdr-atlas-v0.glb-erw_North_Atlantic_basin_000_1999-04-01_00001.001</th>\n",
       "      <td>smyle</td>\n",
       "      <td>0.0</td>\n",
       "      <td>0.0</td>\n",
       "      <td>North_Atlantic_basin</td>\n",
       "      <td>1999-04</td>\n",
       "      <td>ERW</td>\n",
       "      <td>/global/cfs/projectdirs/m4746/Projects/OAE-Eff...</td>\n",
       "      <td>glb-erw_North_Atlantic_basin_000_1999-04-01_00001</td>\n",
       "      <td>0347-04-01</td>\n",
       "      <td>15</td>\n",
       "      <td>10:00:00</td>\n",
       "      <td>True</td>\n",
       "    </tr>\n",
       "    <tr>\n",
       "      <th>smyle.cdr-atlas-v0.glb-erw_North_Atlantic_basin_000_1999-07-01_00002.001</th>\n",
       "      <td>smyle</td>\n",
       "      <td>0.0</td>\n",
       "      <td>0.0</td>\n",
       "      <td>North_Atlantic_basin</td>\n",
       "      <td>1999-07</td>\n",
       "      <td>ERW</td>\n",
       "      <td>/global/cfs/projectdirs/m4746/Projects/OAE-Eff...</td>\n",
       "      <td>glb-erw_North_Atlantic_basin_000_1999-07-01_00002</td>\n",
       "      <td>0347-07-01</td>\n",
       "      <td>15</td>\n",
       "      <td>10:00:00</td>\n",
       "      <td>True</td>\n",
       "    </tr>\n",
       "    <tr>\n",
       "      <th>smyle.cdr-atlas-v0.glb-erw_North_Atlantic_basin_000_1999-10-01_00003.001</th>\n",
       "      <td>smyle</td>\n",
       "      <td>0.0</td>\n",
       "      <td>0.0</td>\n",
       "      <td>North_Atlantic_basin</td>\n",
       "      <td>1999-10</td>\n",
       "      <td>ERW</td>\n",
       "      <td>/global/cfs/projectdirs/m4746/Projects/OAE-Eff...</td>\n",
       "      <td>glb-erw_North_Atlantic_basin_000_1999-10-01_00003</td>\n",
       "      <td>0347-10-01</td>\n",
       "      <td>15</td>\n",
       "      <td>10:00:00</td>\n",
       "      <td>True</td>\n",
       "    </tr>\n",
       "    <tr>\n",
       "      <th>...</th>\n",
       "      <td>...</td>\n",
       "      <td>...</td>\n",
       "      <td>...</td>\n",
       "      <td>...</td>\n",
       "      <td>...</td>\n",
       "      <td>...</td>\n",
       "      <td>...</td>\n",
       "      <td>...</td>\n",
       "      <td>...</td>\n",
       "      <td>...</td>\n",
       "      <td>...</td>\n",
       "      <td>...</td>\n",
       "    </tr>\n",
       "    <tr>\n",
       "      <th>smyle.cdr-atlas-v0.glb-erw_South_118_1999-10-01_01235.001</th>\n",
       "      <td>smyle</td>\n",
       "      <td>118.0</td>\n",
       "      <td>468.0</td>\n",
       "      <td>South</td>\n",
       "      <td>1999-10</td>\n",
       "      <td>ERW</td>\n",
       "      <td>/global/cfs/projectdirs/m4746/Projects/OAE-Eff...</td>\n",
       "      <td>glb-erw_South_118_1999-10-01_01235</td>\n",
       "      <td>0347-10-01</td>\n",
       "      <td>15</td>\n",
       "      <td>10:00:00</td>\n",
       "      <td>True</td>\n",
       "    </tr>\n",
       "    <tr>\n",
       "      <th>smyle.cdr-atlas-v0.glb-erw_South_119_1999-01-01_01236.001</th>\n",
       "      <td>smyle</td>\n",
       "      <td>119.0</td>\n",
       "      <td>469.0</td>\n",
       "      <td>South</td>\n",
       "      <td>1999-01</td>\n",
       "      <td>ERW</td>\n",
       "      <td>/global/cfs/projectdirs/m4746/Projects/OAE-Eff...</td>\n",
       "      <td>glb-erw_South_119_1999-01-01_01236</td>\n",
       "      <td>0347-01-01</td>\n",
       "      <td>15</td>\n",
       "      <td>10:00:00</td>\n",
       "      <td>True</td>\n",
       "    </tr>\n",
       "    <tr>\n",
       "      <th>smyle.cdr-atlas-v0.glb-erw_South_119_1999-04-01_01237.001</th>\n",
       "      <td>smyle</td>\n",
       "      <td>119.0</td>\n",
       "      <td>469.0</td>\n",
       "      <td>South</td>\n",
       "      <td>1999-04</td>\n",
       "      <td>ERW</td>\n",
       "      <td>/global/cfs/projectdirs/m4746/Projects/OAE-Eff...</td>\n",
       "      <td>glb-erw_South_119_1999-04-01_01237</td>\n",
       "      <td>0347-04-01</td>\n",
       "      <td>15</td>\n",
       "      <td>10:00:00</td>\n",
       "      <td>True</td>\n",
       "    </tr>\n",
       "    <tr>\n",
       "      <th>smyle.cdr-atlas-v0.glb-erw_South_119_1999-07-01_01238.001</th>\n",
       "      <td>smyle</td>\n",
       "      <td>119.0</td>\n",
       "      <td>469.0</td>\n",
       "      <td>South</td>\n",
       "      <td>1999-07</td>\n",
       "      <td>ERW</td>\n",
       "      <td>/global/cfs/projectdirs/m4746/Projects/OAE-Eff...</td>\n",
       "      <td>glb-erw_South_119_1999-07-01_01238</td>\n",
       "      <td>0347-07-01</td>\n",
       "      <td>15</td>\n",
       "      <td>10:00:00</td>\n",
       "      <td>True</td>\n",
       "    </tr>\n",
       "    <tr>\n",
       "      <th>smyle.cdr-atlas-v0.glb-erw_South_119_1999-10-01_01239.001</th>\n",
       "      <td>smyle</td>\n",
       "      <td>119.0</td>\n",
       "      <td>469.0</td>\n",
       "      <td>South</td>\n",
       "      <td>1999-10</td>\n",
       "      <td>ERW</td>\n",
       "      <td>/global/cfs/projectdirs/m4746/Projects/OAE-Eff...</td>\n",
       "      <td>glb-erw_South_119_1999-10-01_01239</td>\n",
       "      <td>0347-10-01</td>\n",
       "      <td>15</td>\n",
       "      <td>10:00:00</td>\n",
       "      <td>True</td>\n",
       "    </tr>\n",
       "  </tbody>\n",
       "</table>\n",
       "<p>1241 rows × 12 columns</p>\n",
       "</div>"
      ],
      "text/plain": [
       "                                                   blueprint  polygon  \\\n",
       "case                                                                    \n",
       "smyle.cdr-atlas-v0.control.001                         smyle      NaN   \n",
       "smyle.cdr-atlas-v0.glb-erw_North_Atlantic_basin...     smyle      0.0   \n",
       "smyle.cdr-atlas-v0.glb-erw_North_Atlantic_basin...     smyle      0.0   \n",
       "smyle.cdr-atlas-v0.glb-erw_North_Atlantic_basin...     smyle      0.0   \n",
       "smyle.cdr-atlas-v0.glb-erw_North_Atlantic_basin...     smyle      0.0   \n",
       "...                                                      ...      ...   \n",
       "smyle.cdr-atlas-v0.glb-erw_South_118_1999-10-01...     smyle    118.0   \n",
       "smyle.cdr-atlas-v0.glb-erw_South_119_1999-01-01...     smyle    119.0   \n",
       "smyle.cdr-atlas-v0.glb-erw_South_119_1999-04-01...     smyle    119.0   \n",
       "smyle.cdr-atlas-v0.glb-erw_South_119_1999-07-01...     smyle    119.0   \n",
       "smyle.cdr-atlas-v0.glb-erw_South_119_1999-10-01...     smyle    119.0   \n",
       "\n",
       "                                                    polygon_master  \\\n",
       "case                                                                 \n",
       "smyle.cdr-atlas-v0.control.001                                 NaN   \n",
       "smyle.cdr-atlas-v0.glb-erw_North_Atlantic_basin...             0.0   \n",
       "smyle.cdr-atlas-v0.glb-erw_North_Atlantic_basin...             0.0   \n",
       "smyle.cdr-atlas-v0.glb-erw_North_Atlantic_basin...             0.0   \n",
       "smyle.cdr-atlas-v0.glb-erw_North_Atlantic_basin...             0.0   \n",
       "...                                                            ...   \n",
       "smyle.cdr-atlas-v0.glb-erw_South_118_1999-10-01...           468.0   \n",
       "smyle.cdr-atlas-v0.glb-erw_South_119_1999-01-01...           469.0   \n",
       "smyle.cdr-atlas-v0.glb-erw_South_119_1999-04-01...           469.0   \n",
       "smyle.cdr-atlas-v0.glb-erw_South_119_1999-07-01...           469.0   \n",
       "smyle.cdr-atlas-v0.glb-erw_South_119_1999-10-01...           469.0   \n",
       "\n",
       "                                                                   basin  \\\n",
       "case                                                                       \n",
       "smyle.cdr-atlas-v0.control.001                                      None   \n",
       "smyle.cdr-atlas-v0.glb-erw_North_Atlantic_basin...  North_Atlantic_basin   \n",
       "smyle.cdr-atlas-v0.glb-erw_North_Atlantic_basin...  North_Atlantic_basin   \n",
       "smyle.cdr-atlas-v0.glb-erw_North_Atlantic_basin...  North_Atlantic_basin   \n",
       "smyle.cdr-atlas-v0.glb-erw_North_Atlantic_basin...  North_Atlantic_basin   \n",
       "...                                                                  ...   \n",
       "smyle.cdr-atlas-v0.glb-erw_South_118_1999-10-01...                 South   \n",
       "smyle.cdr-atlas-v0.glb-erw_South_119_1999-01-01...                 South   \n",
       "smyle.cdr-atlas-v0.glb-erw_South_119_1999-04-01...                 South   \n",
       "smyle.cdr-atlas-v0.glb-erw_South_119_1999-07-01...                 South   \n",
       "smyle.cdr-atlas-v0.glb-erw_South_119_1999-10-01...                 South   \n",
       "\n",
       "                                                   start_date cdr_forcing  \\\n",
       "case                                                                        \n",
       "smyle.cdr-atlas-v0.control.001                        1999-01        None   \n",
       "smyle.cdr-atlas-v0.glb-erw_North_Atlantic_basin...    1999-01         ERW   \n",
       "smyle.cdr-atlas-v0.glb-erw_North_Atlantic_basin...    1999-04         ERW   \n",
       "smyle.cdr-atlas-v0.glb-erw_North_Atlantic_basin...    1999-07         ERW   \n",
       "smyle.cdr-atlas-v0.glb-erw_North_Atlantic_basin...    1999-10         ERW   \n",
       "...                                                       ...         ...   \n",
       "smyle.cdr-atlas-v0.glb-erw_South_118_1999-10-01...    1999-10         ERW   \n",
       "smyle.cdr-atlas-v0.glb-erw_South_119_1999-01-01...    1999-01         ERW   \n",
       "smyle.cdr-atlas-v0.glb-erw_South_119_1999-04-01...    1999-04         ERW   \n",
       "smyle.cdr-atlas-v0.glb-erw_South_119_1999-07-01...    1999-07         ERW   \n",
       "smyle.cdr-atlas-v0.glb-erw_South_119_1999-10-01...    1999-10         ERW   \n",
       "\n",
       "                                                                                     cdr_forcing_file  \\\n",
       "case                                                                                                    \n",
       "smyle.cdr-atlas-v0.control.001                                                                   None   \n",
       "smyle.cdr-atlas-v0.glb-erw_North_Atlantic_basin...  /global/cfs/projectdirs/m4746/Projects/OAE-Eff...   \n",
       "smyle.cdr-atlas-v0.glb-erw_North_Atlantic_basin...  /global/cfs/projectdirs/m4746/Projects/OAE-Eff...   \n",
       "smyle.cdr-atlas-v0.glb-erw_North_Atlantic_basin...  /global/cfs/projectdirs/m4746/Projects/OAE-Eff...   \n",
       "smyle.cdr-atlas-v0.glb-erw_North_Atlantic_basin...  /global/cfs/projectdirs/m4746/Projects/OAE-Eff...   \n",
       "...                                                                                               ...   \n",
       "smyle.cdr-atlas-v0.glb-erw_South_118_1999-10-01...  /global/cfs/projectdirs/m4746/Projects/OAE-Eff...   \n",
       "smyle.cdr-atlas-v0.glb-erw_South_119_1999-01-01...  /global/cfs/projectdirs/m4746/Projects/OAE-Eff...   \n",
       "smyle.cdr-atlas-v0.glb-erw_South_119_1999-04-01...  /global/cfs/projectdirs/m4746/Projects/OAE-Eff...   \n",
       "smyle.cdr-atlas-v0.glb-erw_South_119_1999-07-01...  /global/cfs/projectdirs/m4746/Projects/OAE-Eff...   \n",
       "smyle.cdr-atlas-v0.glb-erw_South_119_1999-10-01...  /global/cfs/projectdirs/m4746/Projects/OAE-Eff...   \n",
       "\n",
       "                                                                                       simulation_key  \\\n",
       "case                                                                                                    \n",
       "smyle.cdr-atlas-v0.control.001                                                               baseline   \n",
       "smyle.cdr-atlas-v0.glb-erw_North_Atlantic_basin...  glb-erw_North_Atlantic_basin_000_1999-01-01_00000   \n",
       "smyle.cdr-atlas-v0.glb-erw_North_Atlantic_basin...  glb-erw_North_Atlantic_basin_000_1999-04-01_00001   \n",
       "smyle.cdr-atlas-v0.glb-erw_North_Atlantic_basin...  glb-erw_North_Atlantic_basin_000_1999-07-01_00002   \n",
       "smyle.cdr-atlas-v0.glb-erw_North_Atlantic_basin...  glb-erw_North_Atlantic_basin_000_1999-10-01_00003   \n",
       "...                                                                                               ...   \n",
       "smyle.cdr-atlas-v0.glb-erw_South_118_1999-10-01...                 glb-erw_South_118_1999-10-01_01235   \n",
       "smyle.cdr-atlas-v0.glb-erw_South_119_1999-01-01...                 glb-erw_South_119_1999-01-01_01236   \n",
       "smyle.cdr-atlas-v0.glb-erw_South_119_1999-04-01...                 glb-erw_South_119_1999-04-01_01237   \n",
       "smyle.cdr-atlas-v0.glb-erw_South_119_1999-07-01...                 glb-erw_South_119_1999-07-01_01238   \n",
       "smyle.cdr-atlas-v0.glb-erw_South_119_1999-10-01...                 glb-erw_South_119_1999-10-01_01239   \n",
       "\n",
       "                                                       refdate  stop_n  \\\n",
       "case                                                                     \n",
       "smyle.cdr-atlas-v0.control.001                      0347-01-01      16   \n",
       "smyle.cdr-atlas-v0.glb-erw_North_Atlantic_basin...  0347-01-01      15   \n",
       "smyle.cdr-atlas-v0.glb-erw_North_Atlantic_basin...  0347-04-01      15   \n",
       "smyle.cdr-atlas-v0.glb-erw_North_Atlantic_basin...  0347-07-01      15   \n",
       "smyle.cdr-atlas-v0.glb-erw_North_Atlantic_basin...  0347-10-01      15   \n",
       "...                                                        ...     ...   \n",
       "smyle.cdr-atlas-v0.glb-erw_South_118_1999-10-01...  0347-10-01      15   \n",
       "smyle.cdr-atlas-v0.glb-erw_South_119_1999-01-01...  0347-01-01      15   \n",
       "smyle.cdr-atlas-v0.glb-erw_South_119_1999-04-01...  0347-04-01      15   \n",
       "smyle.cdr-atlas-v0.glb-erw_South_119_1999-07-01...  0347-07-01      15   \n",
       "smyle.cdr-atlas-v0.glb-erw_South_119_1999-10-01...  0347-10-01      15   \n",
       "\n",
       "                                                   wallclock  curtail_output  \n",
       "case                                                                          \n",
       "smyle.cdr-atlas-v0.control.001                      12:00:00           False  \n",
       "smyle.cdr-atlas-v0.glb-erw_North_Atlantic_basin...  10:00:00            True  \n",
       "smyle.cdr-atlas-v0.glb-erw_North_Atlantic_basin...  10:00:00            True  \n",
       "smyle.cdr-atlas-v0.glb-erw_North_Atlantic_basin...  10:00:00            True  \n",
       "smyle.cdr-atlas-v0.glb-erw_North_Atlantic_basin...  10:00:00            True  \n",
       "...                                                      ...             ...  \n",
       "smyle.cdr-atlas-v0.glb-erw_South_118_1999-10-01...  10:00:00            True  \n",
       "smyle.cdr-atlas-v0.glb-erw_South_119_1999-01-01...  10:00:00            True  \n",
       "smyle.cdr-atlas-v0.glb-erw_South_119_1999-04-01...  10:00:00            True  \n",
       "smyle.cdr-atlas-v0.glb-erw_South_119_1999-07-01...  10:00:00            True  \n",
       "smyle.cdr-atlas-v0.glb-erw_South_119_1999-10-01...  10:00:00            True  \n",
       "\n",
       "[1241 rows x 12 columns]"
      ]
     },
     "execution_count": 5,
     "metadata": {},
     "output_type": "execute_result"
    }
   ],
   "source": [
    "calc.df"
   ]
  },
  {
   "cell_type": "markdown",
   "id": "7cc46060-26e6-4a6a-97c0-c1ae02bb3693",
   "metadata": {},
   "source": [
    "## Validate the integrations"
   ]
  },
  {
   "cell_type": "code",
   "execution_count": null,
   "id": "af83004d-44dc-42b0-8854-3bf1c6034a61",
   "metadata": {},
   "outputs": [],
   "source": [
    "calc.df_case_status"
   ]
  },
  {
   "cell_type": "code",
   "execution_count": null,
   "id": "fa4016cf-a50d-4c20-84b0-b2d0aaa123a1",
   "metadata": {},
   "outputs": [],
   "source": [
    "calc.clobber_case(\"smyle.cdr-atlas-v0.glb-erw_North_Atlantic_basin_087_1999-07-01_00350.001\")"
   ]
  },
  {
   "cell_type": "code",
   "execution_count": null,
   "id": "5e814839-f49c-4666-a08f-cac9be974813",
   "metadata": {
    "tags": []
   },
   "outputs": [],
   "source": [
    "%%time\n",
    "calc.validate(clobber=clobber)"
   ]
  },
  {
   "cell_type": "code",
   "execution_count": null,
   "id": "00107fbc-414d-4b5b-bd44-4de16d9fe07e",
   "metadata": {
    "tags": []
   },
   "outputs": [],
   "source": [
    "df = calc.df_validation\n",
    "df"
   ]
  },
  {
   "cell_type": "code",
   "execution_count": null,
   "id": "3e57dbb8-5051-486f-acb2-80d3543ab768",
   "metadata": {
    "tags": []
   },
   "outputs": [],
   "source": [
    "df.ALK_ALT_CO2_rmse.plot.hist(bins=20)"
   ]
  },
  {
   "cell_type": "code",
   "execution_count": null,
   "id": "51d7d9e8-924c-4fd1-9f9e-6180b7ae5adc",
   "metadata": {
    "tags": []
   },
   "outputs": [],
   "source": [
    "df.DIC_ALT_CO2_rmse.plot.hist(bins=20)"
   ]
  },
  {
   "cell_type": "code",
   "execution_count": null,
   "id": "63b76673-bed4-44cd-be5b-16a4b3d30e1c",
   "metadata": {
    "tags": []
   },
   "outputs": [],
   "source": [
    "df.FG_ALT_CO2_rmse.plot.hist(bins=20)"
   ]
  },
  {
   "cell_type": "markdown",
   "id": "8a845ca3-350d-44f5-857e-897a32c797b7",
   "metadata": {
    "tags": []
   },
   "source": [
    "## Analysis"
   ]
  },
  {
   "cell_type": "code",
   "execution_count": null,
   "id": "054ed425-2eb1-4bec-930c-0e3fcc9c6151",
   "metadata": {
    "scrolled": true
   },
   "outputs": [],
   "source": [
    "calc.analyze(clobber=False)"
   ]
  },
  {
   "cell_type": "code",
   "execution_count": null,
   "id": "30cceb86-07cf-4dad-a283-07a18ae01cb9",
   "metadata": {},
   "outputs": [],
   "source": [
    "calc.df_analysis"
   ]
  },
  {
   "cell_type": "code",
   "execution_count": null,
   "id": "6a64bd05-f72e-4422-beb6-effcc19445c8",
   "metadata": {
    "tags": []
   },
   "outputs": [],
   "source": [
    "import warnings\n",
    "warnings.filterwarnings(\"error\")\n",
    "\n",
    "fig, ax = plt.subplots(1, 1, figsize=(6, 4))\n",
    "\n",
    "for row_data in tqdm(calc.df_analysis.iterrows()):\n",
    "    case = row_data[0]\n",
    "    path_zarr = row_data[1].iloc[0]   \n",
    "    try:\n",
    "        ds = xr.open_zarr(path_zarr, decode_timedelta=False)\n",
    "        da = ds[\"DIC_ADD_TOTAL\"]\n",
    "        if ds.time.values[0].year > 500:\n",
    "            print(f\"bad time:\\n\\t{case}\\n\\t{path_zarr}\")        \n",
    "    except:\n",
    "        print(f\"FAILED\\n\\t{case}\\n\\t{path_zarr}\")\n",
    "        raise\n",
    "    da.plot(ax=ax, label=case)"
   ]
  },
  {
   "cell_type": "markdown",
   "id": "4878faa5-0a6f-4205-a384-121fff76d3ed",
   "metadata": {},
   "source": [
    "## Visualization"
   ]
  },
  {
   "cell_type": "code",
   "execution_count": null,
   "id": "459c0c95-4d87-45d2-a379-16b3525ba6d4",
   "metadata": {
    "tags": []
   },
   "outputs": [],
   "source": [
    "#calc.visualize(clobber=True)"
   ]
  },
  {
   "cell_type": "code",
   "execution_count": null,
   "id": "f1e2634e-9a3f-4816-8839-7cafca1421a4",
   "metadata": {},
   "outputs": [],
   "source": [
    "df = calc.df_case_status\n",
    "df"
   ]
  },
  {
   "cell_type": "code",
   "execution_count": null,
   "id": "95ce4f03-137a-4adc-9ac9-021018ec436a",
   "metadata": {},
   "outputs": [],
   "source": []
  }
 ],
 "metadata": {
  "kernelspec": {
   "display_name": "cworthy",
   "language": "python",
   "name": "env"
  },
  "language_info": {
   "codemirror_mode": {
    "name": "ipython",
    "version": 3
   },
   "file_extension": ".py",
   "mimetype": "text/x-python",
   "name": "python",
   "nbconvert_exporter": "python",
   "pygments_lexer": "ipython3",
   "version": "3.12.5"
  }
 },
 "nbformat": 4,
 "nbformat_minor": 5
}
