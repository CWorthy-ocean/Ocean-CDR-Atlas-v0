{
 "cells": [
  {
   "cell_type": "code",
   "execution_count": 7,
   "id": "37844195-dfa1-4107-aa62-003e707f5e52",
   "metadata": {
    "tags": []
   },
   "outputs": [],
   "source": [
    "from subprocess import check_output, check_call\n",
    "import machine"
   ]
  },
  {
   "cell_type": "code",
   "execution_count": 33,
   "id": "2f61cadf-cf58-4a47-b340-31b04acc26ac",
   "metadata": {
    "tags": []
   },
   "outputs": [
    {
     "name": "stdout",
     "output_type": "stream",
     "text": [
      "reservation N nodes: 2100\n",
      "reservation hours: 46.66666666666667\n"
     ]
    }
   ],
   "source": [
    "njobs = 1400 # jobs\n",
    "\n",
    "nodes_per_job = 7\n",
    "hours_per_job = 10\n",
    "\n",
    "concurrent_jobs = 300\n",
    "nodes_reserved = nodes_per_job * concurrent_jobs\n",
    "\n",
    "\n",
    "print(f\"reservation N nodes: {nodes_reserved}\")\n",
    "print(f\"reservation hours: {njobs / concurrent_jobs * hours_per_job}\")"
   ]
  },
  {
   "cell_type": "code",
   "execution_count": null,
   "id": "f4b8da33-b774-4acc-aed6-bd41116ee2a1",
   "metadata": {},
   "outputs": [],
   "source": []
  }
 ],
 "metadata": {
  "kernelspec": {
   "display_name": "cworthy",
   "language": "python",
   "name": "env"
  },
  "language_info": {
   "codemirror_mode": {
    "name": "ipython",
    "version": 3
   },
   "file_extension": ".py",
   "mimetype": "text/x-python",
   "name": "python",
   "nbconvert_exporter": "python",
   "pygments_lexer": "ipython3",
   "version": "3.12.5"
  }
 },
 "nbformat": 4,
 "nbformat_minor": 5
}
