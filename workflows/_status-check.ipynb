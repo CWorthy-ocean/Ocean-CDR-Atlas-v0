{
 "cells": [
  {
   "cell_type": "code",
   "execution_count": 22,
   "id": "48330559-0469-4f69-993b-f2133d7681f8",
   "metadata": {},
   "outputs": [
    {
     "name": "stdout",
     "output_type": "stream",
     "text": [
      "The autoreload extension is already loaded. To reload it, use:\n",
      "  %reload_ext autoreload\n"
     ]
    }
   ],
   "source": [
    "%load_ext autoreload\n",
    "%autoreload 2"
   ]
  },
  {
   "cell_type": "code",
   "execution_count": 23,
   "id": "37844195-dfa1-4107-aa62-003e707f5e52",
   "metadata": {
    "tags": []
   },
   "outputs": [],
   "source": [
    "from subprocess import check_output, check_call\n",
    "from glob import glob\n",
    "\n",
    "import machine\n",
    "import atlas\n",
    "\n",
    "from config import paths"
   ]
  },
  {
   "cell_type": "code",
   "execution_count": 25,
   "id": "f4b8da33-b774-4acc-aed6-bd41116ee2a1",
   "metadata": {
    "tags": []
   },
   "outputs": [
    {
     "data": {
      "text/plain": [
       "0"
      ]
     },
     "execution_count": 25,
     "metadata": {},
     "output_type": "execute_result"
    }
   ],
   "source": [
    "building_cases = machine.building_jobids()\n",
    "len(building_cases)"
   ]
  },
  {
   "cell_type": "code",
   "execution_count": 26,
   "id": "8c8b4658-753d-49ba-8d07-d32e77d5e368",
   "metadata": {
    "tags": []
   },
   "outputs": [],
   "source": [
    "cdr_forcing = \"DOR\"\n",
    "vintage = \"001\"\n",
    "phase = \"deploy\"\n",
    "clobber = False\n",
    "\n",
    "calc = atlas.global_irf_map(cdr_forcing, vintage)"
   ]
  },
  {
   "cell_type": "code",
   "execution_count": 27,
   "id": "09b851c2-d5b7-40b6-8fc7-8469da1514f0",
   "metadata": {
    "tags": []
   },
   "outputs": [
    {
     "name": "stdout",
     "output_type": "stream",
     "text": [
      "CPU times: user 501 ms, sys: 643 ms, total: 1.14 s\n",
      "Wall time: 1min 40s\n"
     ]
    },
    {
     "data": {
      "text/html": [
       "<div>\n",
       "<style scoped>\n",
       "    .dataframe tbody tr th:only-of-type {\n",
       "        vertical-align: middle;\n",
       "    }\n",
       "\n",
       "    .dataframe tbody tr th {\n",
       "        vertical-align: top;\n",
       "    }\n",
       "\n",
       "    .dataframe thead th {\n",
       "        text-align: right;\n",
       "    }\n",
       "</style>\n",
       "<table border=\"1\" class=\"dataframe\">\n",
       "  <thead>\n",
       "    <tr style=\"text-align: right;\">\n",
       "      <th></th>\n",
       "      <th>build</th>\n",
       "      <th>submitted</th>\n",
       "      <th>run_completed</th>\n",
       "      <th>archive</th>\n",
       "      <th>error</th>\n",
       "      <th>error_count</th>\n",
       "      <th>timestamp_run</th>\n",
       "      <th>JobId</th>\n",
       "      <th>JobState</th>\n",
       "      <th>Queued</th>\n",
       "      <th>yr_per_day</th>\n",
       "      <th>pe-hr_per_yr</th>\n",
       "    </tr>\n",
       "    <tr>\n",
       "      <th>case</th>\n",
       "      <th></th>\n",
       "      <th></th>\n",
       "      <th></th>\n",
       "      <th></th>\n",
       "      <th></th>\n",
       "      <th></th>\n",
       "      <th></th>\n",
       "      <th></th>\n",
       "      <th></th>\n",
       "      <th></th>\n",
       "      <th></th>\n",
       "      <th></th>\n",
       "    </tr>\n",
       "  </thead>\n",
       "  <tbody>\n",
       "    <tr>\n",
       "      <th>smyle.cdr-atlas-v0.control.001</th>\n",
       "      <td>True</td>\n",
       "      <td>True</td>\n",
       "      <td>True</td>\n",
       "      <td>True</td>\n",
       "      <td>False</td>\n",
       "      <td>0</td>\n",
       "      <td>2024-11-04 23:44:49</td>\n",
       "      <td>None</td>\n",
       "      <td>None</td>\n",
       "      <td>False</td>\n",
       "      <td>45.61</td>\n",
       "      <td>471.47</td>\n",
       "    </tr>\n",
       "    <tr>\n",
       "      <th>smyle.cdr-atlas-v0.glb-dor_North_Atlantic_basin_000_1999-01-01_00000.001</th>\n",
       "      <td>True</td>\n",
       "      <td>True</td>\n",
       "      <td>True</td>\n",
       "      <td>True</td>\n",
       "      <td>False</td>\n",
       "      <td>0</td>\n",
       "      <td>2024-11-05 03:13:08</td>\n",
       "      <td>None</td>\n",
       "      <td>None</td>\n",
       "      <td>False</td>\n",
       "      <td>58.82</td>\n",
       "      <td>365.62</td>\n",
       "    </tr>\n",
       "    <tr>\n",
       "      <th>smyle.cdr-atlas-v0.glb-dor_North_Atlantic_basin_000_1999-04-01_00001.001</th>\n",
       "      <td>True</td>\n",
       "      <td>True</td>\n",
       "      <td>True</td>\n",
       "      <td>True</td>\n",
       "      <td>False</td>\n",
       "      <td>0</td>\n",
       "      <td>2024-11-05 03:12:00</td>\n",
       "      <td>None</td>\n",
       "      <td>None</td>\n",
       "      <td>False</td>\n",
       "      <td>59.00</td>\n",
       "      <td>364.49</td>\n",
       "    </tr>\n",
       "    <tr>\n",
       "      <th>smyle.cdr-atlas-v0.glb-dor_North_Atlantic_basin_000_1999-07-01_00002.001</th>\n",
       "      <td>True</td>\n",
       "      <td>True</td>\n",
       "      <td>True</td>\n",
       "      <td>True</td>\n",
       "      <td>False</td>\n",
       "      <td>0</td>\n",
       "      <td>2024-11-04 20:27:38</td>\n",
       "      <td>None</td>\n",
       "      <td>None</td>\n",
       "      <td>False</td>\n",
       "      <td>58.89</td>\n",
       "      <td>365.17</td>\n",
       "    </tr>\n",
       "    <tr>\n",
       "      <th>smyle.cdr-atlas-v0.glb-dor_North_Atlantic_basin_000_1999-10-01_00003.001</th>\n",
       "      <td>True</td>\n",
       "      <td>True</td>\n",
       "      <td>True</td>\n",
       "      <td>True</td>\n",
       "      <td>False</td>\n",
       "      <td>0</td>\n",
       "      <td>2024-11-04 21:37:34</td>\n",
       "      <td>None</td>\n",
       "      <td>None</td>\n",
       "      <td>False</td>\n",
       "      <td>58.94</td>\n",
       "      <td>364.83</td>\n",
       "    </tr>\n",
       "    <tr>\n",
       "      <th>...</th>\n",
       "      <td>...</td>\n",
       "      <td>...</td>\n",
       "      <td>...</td>\n",
       "      <td>...</td>\n",
       "      <td>...</td>\n",
       "      <td>...</td>\n",
       "      <td>...</td>\n",
       "      <td>...</td>\n",
       "      <td>...</td>\n",
       "      <td>...</td>\n",
       "      <td>...</td>\n",
       "      <td>...</td>\n",
       "    </tr>\n",
       "    <tr>\n",
       "      <th>smyle.cdr-atlas-v0.glb-dor_Southern_Ocean_012_1999-07-01_02650.001</th>\n",
       "      <td>True</td>\n",
       "      <td>False</td>\n",
       "      <td>False</td>\n",
       "      <td>False</td>\n",
       "      <td>False</td>\n",
       "      <td>0</td>\n",
       "      <td>NaT</td>\n",
       "      <td>None</td>\n",
       "      <td>None</td>\n",
       "      <td>False</td>\n",
       "      <td>NaN</td>\n",
       "      <td>NaN</td>\n",
       "    </tr>\n",
       "    <tr>\n",
       "      <th>smyle.cdr-atlas-v0.glb-dor_Southern_Ocean_016_1999-10-01_02667.001</th>\n",
       "      <td>True</td>\n",
       "      <td>False</td>\n",
       "      <td>False</td>\n",
       "      <td>False</td>\n",
       "      <td>False</td>\n",
       "      <td>0</td>\n",
       "      <td>NaT</td>\n",
       "      <td>None</td>\n",
       "      <td>None</td>\n",
       "      <td>False</td>\n",
       "      <td>NaN</td>\n",
       "      <td>NaN</td>\n",
       "    </tr>\n",
       "    <tr>\n",
       "      <th>smyle.cdr-atlas-v0.glb-dor_Southern_Ocean_019_1999-07-01_02678.001</th>\n",
       "      <td>True</td>\n",
       "      <td>False</td>\n",
       "      <td>False</td>\n",
       "      <td>False</td>\n",
       "      <td>False</td>\n",
       "      <td>0</td>\n",
       "      <td>NaT</td>\n",
       "      <td>None</td>\n",
       "      <td>None</td>\n",
       "      <td>False</td>\n",
       "      <td>NaN</td>\n",
       "      <td>NaN</td>\n",
       "    </tr>\n",
       "    <tr>\n",
       "      <th>smyle.cdr-atlas-v0.glb-dor_Southern_Ocean_030_1999-10-01_02723.001</th>\n",
       "      <td>True</td>\n",
       "      <td>False</td>\n",
       "      <td>False</td>\n",
       "      <td>False</td>\n",
       "      <td>False</td>\n",
       "      <td>0</td>\n",
       "      <td>NaT</td>\n",
       "      <td>None</td>\n",
       "      <td>None</td>\n",
       "      <td>False</td>\n",
       "      <td>NaN</td>\n",
       "      <td>NaN</td>\n",
       "    </tr>\n",
       "    <tr>\n",
       "      <th>smyle.cdr-atlas-v0.glb-dor_Southern_Ocean_035_1999-10-01_02743.001</th>\n",
       "      <td>True</td>\n",
       "      <td>False</td>\n",
       "      <td>False</td>\n",
       "      <td>False</td>\n",
       "      <td>False</td>\n",
       "      <td>0</td>\n",
       "      <td>NaT</td>\n",
       "      <td>None</td>\n",
       "      <td>None</td>\n",
       "      <td>False</td>\n",
       "      <td>NaN</td>\n",
       "      <td>NaN</td>\n",
       "    </tr>\n",
       "  </tbody>\n",
       "</table>\n",
       "<p>1162 rows × 12 columns</p>\n",
       "</div>"
      ],
      "text/plain": [
       "                                                    build  submitted  \\\n",
       "case                                                                   \n",
       "smyle.cdr-atlas-v0.control.001                       True       True   \n",
       "smyle.cdr-atlas-v0.glb-dor_North_Atlantic_basin...   True       True   \n",
       "smyle.cdr-atlas-v0.glb-dor_North_Atlantic_basin...   True       True   \n",
       "smyle.cdr-atlas-v0.glb-dor_North_Atlantic_basin...   True       True   \n",
       "smyle.cdr-atlas-v0.glb-dor_North_Atlantic_basin...   True       True   \n",
       "...                                                   ...        ...   \n",
       "smyle.cdr-atlas-v0.glb-dor_Southern_Ocean_012_1...   True      False   \n",
       "smyle.cdr-atlas-v0.glb-dor_Southern_Ocean_016_1...   True      False   \n",
       "smyle.cdr-atlas-v0.glb-dor_Southern_Ocean_019_1...   True      False   \n",
       "smyle.cdr-atlas-v0.glb-dor_Southern_Ocean_030_1...   True      False   \n",
       "smyle.cdr-atlas-v0.glb-dor_Southern_Ocean_035_1...   True      False   \n",
       "\n",
       "                                                    run_completed  archive  \\\n",
       "case                                                                         \n",
       "smyle.cdr-atlas-v0.control.001                               True     True   \n",
       "smyle.cdr-atlas-v0.glb-dor_North_Atlantic_basin...           True     True   \n",
       "smyle.cdr-atlas-v0.glb-dor_North_Atlantic_basin...           True     True   \n",
       "smyle.cdr-atlas-v0.glb-dor_North_Atlantic_basin...           True     True   \n",
       "smyle.cdr-atlas-v0.glb-dor_North_Atlantic_basin...           True     True   \n",
       "...                                                           ...      ...   \n",
       "smyle.cdr-atlas-v0.glb-dor_Southern_Ocean_012_1...          False    False   \n",
       "smyle.cdr-atlas-v0.glb-dor_Southern_Ocean_016_1...          False    False   \n",
       "smyle.cdr-atlas-v0.glb-dor_Southern_Ocean_019_1...          False    False   \n",
       "smyle.cdr-atlas-v0.glb-dor_Southern_Ocean_030_1...          False    False   \n",
       "smyle.cdr-atlas-v0.glb-dor_Southern_Ocean_035_1...          False    False   \n",
       "\n",
       "                                                    error  error_count  \\\n",
       "case                                                                     \n",
       "smyle.cdr-atlas-v0.control.001                      False            0   \n",
       "smyle.cdr-atlas-v0.glb-dor_North_Atlantic_basin...  False            0   \n",
       "smyle.cdr-atlas-v0.glb-dor_North_Atlantic_basin...  False            0   \n",
       "smyle.cdr-atlas-v0.glb-dor_North_Atlantic_basin...  False            0   \n",
       "smyle.cdr-atlas-v0.glb-dor_North_Atlantic_basin...  False            0   \n",
       "...                                                   ...          ...   \n",
       "smyle.cdr-atlas-v0.glb-dor_Southern_Ocean_012_1...  False            0   \n",
       "smyle.cdr-atlas-v0.glb-dor_Southern_Ocean_016_1...  False            0   \n",
       "smyle.cdr-atlas-v0.glb-dor_Southern_Ocean_019_1...  False            0   \n",
       "smyle.cdr-atlas-v0.glb-dor_Southern_Ocean_030_1...  False            0   \n",
       "smyle.cdr-atlas-v0.glb-dor_Southern_Ocean_035_1...  False            0   \n",
       "\n",
       "                                                         timestamp_run JobId  \\\n",
       "case                                                                           \n",
       "smyle.cdr-atlas-v0.control.001                     2024-11-04 23:44:49  None   \n",
       "smyle.cdr-atlas-v0.glb-dor_North_Atlantic_basin... 2024-11-05 03:13:08  None   \n",
       "smyle.cdr-atlas-v0.glb-dor_North_Atlantic_basin... 2024-11-05 03:12:00  None   \n",
       "smyle.cdr-atlas-v0.glb-dor_North_Atlantic_basin... 2024-11-04 20:27:38  None   \n",
       "smyle.cdr-atlas-v0.glb-dor_North_Atlantic_basin... 2024-11-04 21:37:34  None   \n",
       "...                                                                ...   ...   \n",
       "smyle.cdr-atlas-v0.glb-dor_Southern_Ocean_012_1...                 NaT  None   \n",
       "smyle.cdr-atlas-v0.glb-dor_Southern_Ocean_016_1...                 NaT  None   \n",
       "smyle.cdr-atlas-v0.glb-dor_Southern_Ocean_019_1...                 NaT  None   \n",
       "smyle.cdr-atlas-v0.glb-dor_Southern_Ocean_030_1...                 NaT  None   \n",
       "smyle.cdr-atlas-v0.glb-dor_Southern_Ocean_035_1...                 NaT  None   \n",
       "\n",
       "                                                   JobState  Queued  \\\n",
       "case                                                                  \n",
       "smyle.cdr-atlas-v0.control.001                         None   False   \n",
       "smyle.cdr-atlas-v0.glb-dor_North_Atlantic_basin...     None   False   \n",
       "smyle.cdr-atlas-v0.glb-dor_North_Atlantic_basin...     None   False   \n",
       "smyle.cdr-atlas-v0.glb-dor_North_Atlantic_basin...     None   False   \n",
       "smyle.cdr-atlas-v0.glb-dor_North_Atlantic_basin...     None   False   \n",
       "...                                                     ...     ...   \n",
       "smyle.cdr-atlas-v0.glb-dor_Southern_Ocean_012_1...     None   False   \n",
       "smyle.cdr-atlas-v0.glb-dor_Southern_Ocean_016_1...     None   False   \n",
       "smyle.cdr-atlas-v0.glb-dor_Southern_Ocean_019_1...     None   False   \n",
       "smyle.cdr-atlas-v0.glb-dor_Southern_Ocean_030_1...     None   False   \n",
       "smyle.cdr-atlas-v0.glb-dor_Southern_Ocean_035_1...     None   False   \n",
       "\n",
       "                                                    yr_per_day  pe-hr_per_yr  \n",
       "case                                                                          \n",
       "smyle.cdr-atlas-v0.control.001                           45.61        471.47  \n",
       "smyle.cdr-atlas-v0.glb-dor_North_Atlantic_basin...       58.82        365.62  \n",
       "smyle.cdr-atlas-v0.glb-dor_North_Atlantic_basin...       59.00        364.49  \n",
       "smyle.cdr-atlas-v0.glb-dor_North_Atlantic_basin...       58.89        365.17  \n",
       "smyle.cdr-atlas-v0.glb-dor_North_Atlantic_basin...       58.94        364.83  \n",
       "...                                                        ...           ...  \n",
       "smyle.cdr-atlas-v0.glb-dor_Southern_Ocean_012_1...         NaN           NaN  \n",
       "smyle.cdr-atlas-v0.glb-dor_Southern_Ocean_016_1...         NaN           NaN  \n",
       "smyle.cdr-atlas-v0.glb-dor_Southern_Ocean_019_1...         NaN           NaN  \n",
       "smyle.cdr-atlas-v0.glb-dor_Southern_Ocean_030_1...         NaN           NaN  \n",
       "smyle.cdr-atlas-v0.glb-dor_Southern_Ocean_035_1...         NaN           NaN  \n",
       "\n",
       "[1162 rows x 12 columns]"
      ]
     },
     "execution_count": 27,
     "metadata": {},
     "output_type": "execute_result"
    }
   ],
   "source": [
    "%%time\n",
    "calc._refresh_case_status()        \n",
    "df = calc.df_case_status\n",
    "df"
   ]
  },
  {
   "cell_type": "code",
   "execution_count": 28,
   "id": "26ee19cb-e487-4175-911f-de2b62a7b4eb",
   "metadata": {
    "tags": []
   },
   "outputs": [
    {
     "data": {
      "text/plain": [
       "1162"
      ]
     },
     "execution_count": 28,
     "metadata": {},
     "output_type": "execute_result"
    }
   ],
   "source": [
    "sum(df.build.to_list())"
   ]
  },
  {
   "cell_type": "code",
   "execution_count": 29,
   "id": "e0d4492b-f65a-4697-a155-d622806bea82",
   "metadata": {},
   "outputs": [
    {
     "data": {
      "text/plain": [
       "715"
      ]
     },
     "execution_count": 29,
     "metadata": {},
     "output_type": "execute_result"
    }
   ],
   "source": [
    "sum(df.archive.to_list()) # 715"
   ]
  },
  {
   "cell_type": "code",
   "execution_count": 30,
   "id": "926209c3-ae7c-4f01-b53e-e6d162576e5a",
   "metadata": {},
   "outputs": [
    {
     "data": {
      "text/plain": [
       "0"
      ]
     },
     "execution_count": 30,
     "metadata": {},
     "output_type": "execute_result"
    }
   ],
   "source": [
    "sum(df.Queued.to_list())"
   ]
  },
  {
   "cell_type": "code",
   "execution_count": 31,
   "id": "f4542281-3c36-460b-9909-e93e2325a1ca",
   "metadata": {
    "scrolled": true
   },
   "outputs": [
    {
     "data": {
      "text/plain": [
       "0"
      ]
     },
     "execution_count": 31,
     "metadata": {},
     "output_type": "execute_result"
    }
   ],
   "source": [
    "clobber_list = calc.check_cases()\n",
    "len(clobber_list)"
   ]
  },
  {
   "cell_type": "code",
   "execution_count": 32,
   "id": "7d226101-0989-441c-84bf-dd27e61a8a33",
   "metadata": {
    "tags": []
   },
   "outputs": [],
   "source": [
    "n = 0\n",
    "for case in clobber_list:\n",
    "    log_files = sorted(glob(f\"{paths['scratch']}/{case}/run/cesm.log.????????.??????-??????\"))\n",
    "    if not log_files: \n",
    "        print(f\"{case}: no log\")\n",
    "        continue\n",
    "\n",
    "    log_file = log_files[-1]\n",
    "    n += 1\n",
    "        \n",
    "    with open(log_file, \"r\") as fid:\n",
    "        lines = fid.readlines()\n",
    "    CANCELLED = any([\"CANCELLED\" in l for l in lines])\n",
    "    print(f\"{case}: CANCELLED: {CANCELLED}\")\n",
    "    "
   ]
  },
  {
   "cell_type": "code",
   "execution_count": 33,
   "id": "a008f512-8675-4ccf-8e1b-911700987f4e",
   "metadata": {},
   "outputs": [
    {
     "data": {
      "text/plain": [
       "184"
      ]
     },
     "execution_count": 33,
     "metadata": {},
     "output_type": "execute_result"
    }
   ],
   "source": [
    "len(df.loc[~df.archive & ~df.submitted])"
   ]
  },
  {
   "cell_type": "code",
   "execution_count": null,
   "id": "02790ae6-1f05-4797-8557-d4d3c08b6ed6",
   "metadata": {},
   "outputs": [],
   "source": []
  }
 ],
 "metadata": {
  "kernelspec": {
   "display_name": "cworthy",
   "language": "python",
   "name": "env"
  },
  "language_info": {
   "codemirror_mode": {
    "name": "ipython",
    "version": 3
   },
   "file_extension": ".py",
   "mimetype": "text/x-python",
   "name": "python",
   "nbconvert_exporter": "python",
   "pygments_lexer": "ipython3",
   "version": "3.12.5"
  }
 },
 "nbformat": 4,
 "nbformat_minor": 5
}
